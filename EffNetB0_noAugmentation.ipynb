{
  "cells": [
    {
      "cell_type": "code",
      "execution_count": null,
      "metadata": {
        "colab": {
          "base_uri": "https://localhost:8080/"
        },
        "id": "AkJeceu_zZ6S",
        "outputId": "39c44965-eab2-44ba-dd98-479560bfb98b"
      },
      "outputs": [
        {
          "name": "stdout",
          "output_type": "stream",
          "text": [
            "\u001b[1;30;43mStreaming output truncated to the last 5000 lines.\u001b[0m\n",
            "  inflating: /content/content/Licenta/Processed_RSNA2/NEGATIVE/29087_951624387.png  \n",
            "  inflating: /content/content/Licenta/Processed_RSNA2/NEGATIVE/28959_407797154.png  \n",
            "  inflating: /content/content/Licenta/Processed_RSNA2/NEGATIVE/46144_112792357.png  \n",
            "  inflating: /content/content/Licenta/Processed_RSNA2/NEGATIVE/21304_1273578482.png  \n",
            "  inflating: /content/content/Licenta/Processed_RSNA2/NEGATIVE/2516_992751859.png  \n",
            "  inflating: /content/content/Licenta/Processed_RSNA2/NEGATIVE/2182_2067189673.png  \n",
            "  inflating: /content/content/Licenta/Processed_RSNA2/NEGATIVE/6685_2127534398.png  \n",
            "  inflating: /content/content/Licenta/Processed_RSNA2/NEGATIVE/28914_1080307280.png  \n",
            "  inflating: /content/content/Licenta/Processed_RSNA2/NEGATIVE/43539_765637762.png  \n",
            "  inflating: /content/content/Licenta/Processed_RSNA2/NEGATIVE/44626_1988104905.png  \n",
            "  inflating: /content/content/Licenta/Processed_RSNA2/NEGATIVE/11107_1843457717.png  \n",
            "  inflating: /content/content/Licenta/Processed_RSNA2/NEGATIVE/58381_582277868.png  \n",
            "  inflating: /content/content/Licenta/Processed_RSNA2/NEGATIVE/6837_603079919.png  \n",
            "  inflating: /content/content/Licenta/Processed_RSNA2/NEGATIVE/27089_2005117804.png  \n",
            "  inflating: /content/content/Licenta/Processed_RSNA2/NEGATIVE/11503_332534551.png  \n",
            "  inflating: /content/content/Licenta/Processed_RSNA2/NEGATIVE/7572_571582504.png  \n",
            "  inflating: /content/content/Licenta/Processed_RSNA2/NEGATIVE/1983_1337888806.png  \n",
            "  inflating: /content/content/Licenta/Processed_RSNA2/NEGATIVE/16111_1972212152.png  \n",
            "  inflating: /content/content/Licenta/Processed_RSNA2/NEGATIVE/41219_138200393.png  \n",
            "  inflating: /content/content/Licenta/Processed_RSNA2/NEGATIVE/35951_1110366222.png  \n",
            "  inflating: /content/content/Licenta/Processed_RSNA2/NEGATIVE/4835_1360457292.png  \n",
            "  inflating: /content/content/Licenta/Processed_RSNA2/NEGATIVE/47278_1320597299.png  \n",
            "  inflating: /content/content/Licenta/Processed_RSNA2/NEGATIVE/47184_1973731122.png  \n",
            "  inflating: /content/content/Licenta/Processed_RSNA2/NEGATIVE/48181_567359773.png  \n",
            "  inflating: /content/content/Licenta/Processed_RSNA2/NEGATIVE/57357_480455660.png  \n",
            "  inflating: /content/content/Licenta/Processed_RSNA2/NEGATIVE/12816_1779682453.png  \n",
            "  inflating: /content/content/Licenta/Processed_RSNA2/NEGATIVE/22150_626089430.png  \n",
            "  inflating: /content/content/Licenta/Processed_RSNA2/NEGATIVE/14822_699898858.png  \n",
            "  inflating: /content/content/Licenta/Processed_RSNA2/NEGATIVE/52243_1930998441.png  \n",
            "  inflating: /content/content/Licenta/Processed_RSNA2/NEGATIVE/54688_1906991500.png  \n",
            "  inflating: /content/content/Licenta/Processed_RSNA2/NEGATIVE/61733_1568489816.png  \n",
            "  inflating: /content/content/Licenta/Processed_RSNA2/NEGATIVE/33959_958966721.png  \n",
            "  inflating: /content/content/Licenta/Processed_RSNA2/NEGATIVE/17682_1188922527.png  \n",
            "  inflating: /content/content/Licenta/Processed_RSNA2/NEGATIVE/26371_2067476892.png  \n",
            "  inflating: /content/content/Licenta/Processed_RSNA2/NEGATIVE/26530_166085523.png  \n",
            "  inflating: /content/content/Licenta/Processed_RSNA2/NEGATIVE/8981_560946398.png  \n",
            "  inflating: /content/content/Licenta/Processed_RSNA2/NEGATIVE/40365_992026311.png  \n",
            "  inflating: /content/content/Licenta/Processed_RSNA2/NEGATIVE/43291_1091561267.png  \n",
            "  inflating: /content/content/Licenta/Processed_RSNA2/NEGATIVE/4078_1109665039.png  \n",
            "  inflating: /content/content/Licenta/Processed_RSNA2/NEGATIVE/13151_1273553741.png  \n",
            "  inflating: /content/content/Licenta/Processed_RSNA2/NEGATIVE/53353_294205940.png  \n",
            "  inflating: /content/content/Licenta/Processed_RSNA2/NEGATIVE/49229_2045981778.png  \n",
            "  inflating: /content/content/Licenta/Processed_RSNA2/NEGATIVE/36811_2136599020.png  \n",
            "  inflating: /content/content/Licenta/Processed_RSNA2/NEGATIVE/57989_1735751215.png  \n",
            "  inflating: /content/content/Licenta/Processed_RSNA2/NEGATIVE/59191_1559238444.png  \n",
            "  inflating: /content/content/Licenta/Processed_RSNA2/NEGATIVE/15937_1704660444.png  \n",
            "  inflating: /content/content/Licenta/Processed_RSNA2/NEGATIVE/38829_1076287053.png  \n",
            "  inflating: /content/content/Licenta/Processed_RSNA2/NEGATIVE/38077_575442337.png  \n",
            "  inflating: /content/content/Licenta/Processed_RSNA2/NEGATIVE/56883_1820893959.png  \n",
            "  inflating: /content/content/Licenta/Processed_RSNA2/NEGATIVE/55836_269909672.png  \n",
            "  inflating: /content/content/Licenta/Processed_RSNA2/NEGATIVE/41226_864636493.png  \n",
            "  inflating: /content/content/Licenta/Processed_RSNA2/NEGATIVE/60229_360281334.png  \n",
            "  inflating: /content/content/Licenta/Processed_RSNA2/NEGATIVE/21391_866818345.png  \n",
            "  inflating: /content/content/Licenta/Processed_RSNA2/NEGATIVE/58704_925525391.png  \n",
            "  inflating: /content/content/Licenta/Processed_RSNA2/NEGATIVE/26879_1052642047.png  \n",
            "  inflating: /content/content/Licenta/Processed_RSNA2/NEGATIVE/16420_126201979.png  \n",
            "  inflating: /content/content/Licenta/Processed_RSNA2/NEGATIVE/28680_522717203.png  \n",
            "  inflating: /content/content/Licenta/Processed_RSNA2/NEGATIVE/20151_1068920558.png  \n",
            "  inflating: /content/content/Licenta/Processed_RSNA2/NEGATIVE/50535_1899460564.png  \n",
            "  inflating: /content/content/Licenta/Processed_RSNA2/NEGATIVE/25356_1659721042.png  \n",
            "  inflating: /content/content/Licenta/Processed_RSNA2/NEGATIVE/10672_1824100608.png  \n",
            "  inflating: /content/content/Licenta/Processed_RSNA2/NEGATIVE/9227_1399797540.png  \n",
            "  inflating: /content/content/Licenta/Processed_RSNA2/NEGATIVE/26937_217693305.png  \n",
            "  inflating: /content/content/Licenta/Processed_RSNA2/NEGATIVE/3878_1028220515.png  \n",
            "  inflating: /content/content/Licenta/Processed_RSNA2/NEGATIVE/29791_964104142.png  \n",
            "  inflating: /content/content/Licenta/Processed_RSNA2/NEGATIVE/10937_407153086.png  \n",
            "  inflating: /content/content/Licenta/Processed_RSNA2/NEGATIVE/62889_584051752.png  \n",
            "  inflating: /content/content/Licenta/Processed_RSNA2/NEGATIVE/63274_717978225.png  \n",
            "  inflating: /content/content/Licenta/Processed_RSNA2/NEGATIVE/26178_1617112699.png  \n",
            "  inflating: /content/content/Licenta/Processed_RSNA2/NEGATIVE/58620_1282726735.png  \n",
            "  inflating: /content/content/Licenta/Processed_RSNA2/NEGATIVE/14155_753636873.png  \n",
            "  inflating: /content/content/Licenta/Processed_RSNA2/NEGATIVE/55201_601068708.png  \n",
            "  inflating: /content/content/Licenta/Processed_RSNA2/NEGATIVE/13537_614330430.png  \n",
            "  inflating: /content/content/Licenta/Processed_RSNA2/NEGATIVE/5630_528001627.png  \n",
            "  inflating: /content/content/Licenta/Processed_RSNA2/NEGATIVE/50810_1861803750.png  \n",
            "  inflating: /content/content/Licenta/Processed_RSNA2/NEGATIVE/20126_1448250006.png  \n",
            "  inflating: /content/content/Licenta/Processed_RSNA2/NEGATIVE/17183_357986204.png  \n",
            "  inflating: /content/content/Licenta/Processed_RSNA2/NEGATIVE/48154_1694363809.png  \n",
            "  inflating: /content/content/Licenta/Processed_RSNA2/NEGATIVE/61292_1365202456.png  \n",
            "  inflating: /content/content/Licenta/Processed_RSNA2/NEGATIVE/33107_2102550314.png  \n",
            "  inflating: /content/content/Licenta/Processed_RSNA2/NEGATIVE/31280_720197535.png  \n",
            "  inflating: /content/content/Licenta/Processed_RSNA2/NEGATIVE/41577_186078501.png  \n",
            "  inflating: /content/content/Licenta/Processed_RSNA2/NEGATIVE/7092_2141309281.png  \n",
            "  inflating: /content/content/Licenta/Processed_RSNA2/NEGATIVE/63813_1986649739.png  \n",
            "  inflating: /content/content/Licenta/Processed_RSNA2/NEGATIVE/10541_1172474710.png  \n",
            "  inflating: /content/content/Licenta/Processed_RSNA2/NEGATIVE/20095_328338903.png  \n",
            "  inflating: /content/content/Licenta/Processed_RSNA2/NEGATIVE/41397_1452644344.png  \n",
            "  inflating: /content/content/Licenta/Processed_RSNA2/NEGATIVE/42982_1348477164.png  \n",
            "  inflating: /content/content/Licenta/Processed_RSNA2/NEGATIVE/48320_1829080076.png  \n",
            "  inflating: /content/content/Licenta/Processed_RSNA2/NEGATIVE/37799_856116045.png  \n",
            "  inflating: /content/content/Licenta/Processed_RSNA2/NEGATIVE/34907_1196349112.png  \n",
            "  inflating: /content/content/Licenta/Processed_RSNA2/NEGATIVE/49238_1043092471.png  \n",
            "  inflating: /content/content/Licenta/Processed_RSNA2/NEGATIVE/49493_1084422826.png  \n",
            "  inflating: /content/content/Licenta/Processed_RSNA2/NEGATIVE/40062_506677615.png  \n",
            "  inflating: /content/content/Licenta/Processed_RSNA2/NEGATIVE/7602_1520122290.png  \n",
            "  inflating: /content/content/Licenta/Processed_RSNA2/NEGATIVE/19973_1988483951.png  \n",
            "  inflating: /content/content/Licenta/Processed_RSNA2/NEGATIVE/33932_34548174.png  \n",
            "  inflating: /content/content/Licenta/Processed_RSNA2/NEGATIVE/38515_669019917.png  \n",
            "  inflating: /content/content/Licenta/Processed_RSNA2/NEGATIVE/53715_1030045768.png  \n",
            "  inflating: /content/content/Licenta/Processed_RSNA2/NEGATIVE/3921_1167443584.png  \n",
            "  inflating: /content/content/Licenta/Processed_RSNA2/NEGATIVE/48838_469474406.png  \n",
            "  inflating: /content/content/Licenta/Processed_RSNA2/NEGATIVE/12393_1461202655.png  \n",
            "  inflating: /content/content/Licenta/Processed_RSNA2/NEGATIVE/15454_1632055754.png  \n",
            "  inflating: /content/content/Licenta/Processed_RSNA2/NEGATIVE/32445_1698741285.png  \n",
            "  inflating: /content/content/Licenta/Processed_RSNA2/NEGATIVE/14045_977414084.png  \n",
            "  inflating: /content/content/Licenta/Processed_RSNA2/NEGATIVE/8376_1472487037.png  \n",
            "  inflating: /content/content/Licenta/Processed_RSNA2/NEGATIVE/17922_1283960739.png  \n",
            "  inflating: /content/content/Licenta/Processed_RSNA2/NEGATIVE/33382_1969805903.png  \n",
            "  inflating: /content/content/Licenta/Processed_RSNA2/NEGATIVE/36077_1671279107.png  \n",
            "  inflating: /content/content/Licenta/Processed_RSNA2/NEGATIVE/23951_78937501.png  \n",
            "  inflating: /content/content/Licenta/Processed_RSNA2/NEGATIVE/42028_1977575852.png  \n",
            "  inflating: /content/content/Licenta/Processed_RSNA2/NEGATIVE/48430_1798613689.png  \n",
            "  inflating: /content/content/Licenta/Processed_RSNA2/NEGATIVE/38958_769850259.png  \n",
            "  inflating: /content/content/Licenta/Processed_RSNA2/NEGATIVE/19023_1441116589.png  \n",
            "  inflating: /content/content/Licenta/Processed_RSNA2/NEGATIVE/35471_955705960.png  \n",
            "  inflating: /content/content/Licenta/Processed_RSNA2/NEGATIVE/26924_1104374505.png  \n",
            "  inflating: /content/content/Licenta/Processed_RSNA2/NEGATIVE/52717_244234758.png  \n",
            "  inflating: /content/content/Licenta/Processed_RSNA2/NEGATIVE/12816_1417640914.png  \n",
            "  inflating: /content/content/Licenta/Processed_RSNA2/NEGATIVE/16832_367421265.png  \n",
            "  inflating: /content/content/Licenta/Processed_RSNA2/NEGATIVE/6254_1005966380.png  \n",
            "  inflating: /content/content/Licenta/Processed_RSNA2/NEGATIVE/14880_199513912.png  \n",
            "  inflating: /content/content/Licenta/Processed_RSNA2/NEGATIVE/28563_328043237.png  \n",
            "  inflating: /content/content/Licenta/Processed_RSNA2/NEGATIVE/27691_493685627.png  \n",
            "  inflating: /content/content/Licenta/Processed_RSNA2/NEGATIVE/63006_1393180320.png  \n",
            "  inflating: /content/content/Licenta/Processed_RSNA2/NEGATIVE/49419_450419224.png  \n",
            "  inflating: /content/content/Licenta/Processed_RSNA2/NEGATIVE/45013_834149202.png  \n",
            "  inflating: /content/content/Licenta/Processed_RSNA2/NEGATIVE/27874_51195587.png  \n",
            "  inflating: /content/content/Licenta/Processed_RSNA2/NEGATIVE/58994_1158115843.png  \n",
            "  inflating: /content/content/Licenta/Processed_RSNA2/NEGATIVE/59248_1107579235.png  \n",
            "  inflating: /content/content/Licenta/Processed_RSNA2/NEGATIVE/6953_1335567114.png  \n",
            "  inflating: /content/content/Licenta/Processed_RSNA2/NEGATIVE/26071_1977854978.png  \n",
            "  inflating: /content/content/Licenta/Processed_RSNA2/NEGATIVE/334_1516348274.png  \n",
            "  inflating: /content/content/Licenta/Processed_RSNA2/NEGATIVE/63352_598619158.png  \n",
            "  inflating: /content/content/Licenta/Processed_RSNA2/NEGATIVE/46400_2090083348.png  \n",
            "  inflating: /content/content/Licenta/Processed_RSNA2/NEGATIVE/27737_1814726029.png  \n",
            "  inflating: /content/content/Licenta/Processed_RSNA2/NEGATIVE/39319_549676762.png  \n",
            "  inflating: /content/content/Licenta/Processed_RSNA2/NEGATIVE/39098_1145934545.png  \n",
            "  inflating: /content/content/Licenta/Processed_RSNA2/NEGATIVE/44982_1051398845.png  \n",
            "  inflating: /content/content/Licenta/Processed_RSNA2/NEGATIVE/15899_1323273524.png  \n",
            "  inflating: /content/content/Licenta/Processed_RSNA2/NEGATIVE/1320_330079921.png  \n",
            "  inflating: /content/content/Licenta/Processed_RSNA2/NEGATIVE/54717_1067213668.png  \n",
            "  inflating: /content/content/Licenta/Processed_RSNA2/NEGATIVE/48309_1819449707.png  \n",
            "  inflating: /content/content/Licenta/Processed_RSNA2/NEGATIVE/30540_545493619.png  \n",
            "  inflating: /content/content/Licenta/Processed_RSNA2/NEGATIVE/28787_2113253012.png  \n",
            "  inflating: /content/content/Licenta/Processed_RSNA2/NEGATIVE/52143_935597108.png  \n",
            "  inflating: /content/content/Licenta/Processed_RSNA2/NEGATIVE/53872_694353844.png  \n",
            "  inflating: /content/content/Licenta/Processed_RSNA2/NEGATIVE/6445_642106215.png  \n",
            "  inflating: /content/content/Licenta/Processed_RSNA2/NEGATIVE/4087_698081908.png  \n",
            "  inflating: /content/content/Licenta/Processed_RSNA2/NEGATIVE/53512_1806220990.png  \n",
            "  inflating: /content/content/Licenta/Processed_RSNA2/NEGATIVE/50002_1696130168.png  \n",
            "  inflating: /content/content/Licenta/Processed_RSNA2/NEGATIVE/40253_292483739.png  \n",
            "  inflating: /content/content/Licenta/Processed_RSNA2/NEGATIVE/53937_1992415476.png  \n",
            "  inflating: /content/content/Licenta/Processed_RSNA2/NEGATIVE/4873_1471917007.png  \n",
            "  inflating: /content/content/Licenta/Processed_RSNA2/NEGATIVE/62385_1792792599.png  \n",
            "  inflating: /content/content/Licenta/Processed_RSNA2/NEGATIVE/45269_1008065279.png  \n",
            "  inflating: /content/content/Licenta/Processed_RSNA2/NEGATIVE/15433_2024508397.png  \n",
            "  inflating: /content/content/Licenta/Processed_RSNA2/NEGATIVE/3022_824693726.png  \n",
            "  inflating: /content/content/Licenta/Processed_RSNA2/NEGATIVE/46106_1180358825.png  \n",
            "  inflating: /content/content/Licenta/Processed_RSNA2/NEGATIVE/36222_24909134.png  \n",
            "  inflating: /content/content/Licenta/Processed_RSNA2/NEGATIVE/57364_1834246883.png  \n",
            "  inflating: /content/content/Licenta/Processed_RSNA2/NEGATIVE/56391_1592897099.png  \n",
            "  inflating: /content/content/Licenta/Processed_RSNA2/NEGATIVE/18026_840102831.png  \n",
            "  inflating: /content/content/Licenta/Processed_RSNA2/NEGATIVE/64309_1721930898.png  \n",
            "  inflating: /content/content/Licenta/Processed_RSNA2/NEGATIVE/10273_424132168.png  \n",
            "  inflating: /content/content/Licenta/Processed_RSNA2/NEGATIVE/51420_477721020.png  \n",
            "  inflating: /content/content/Licenta/Processed_RSNA2/NEGATIVE/27552_1377520958.png  \n",
            "  inflating: /content/content/Licenta/Processed_RSNA2/NEGATIVE/48919_1423242694.png  \n",
            "  inflating: /content/content/Licenta/Processed_RSNA2/NEGATIVE/7307_737655754.png  \n",
            "  inflating: /content/content/Licenta/Processed_RSNA2/NEGATIVE/29597_427117589.png  \n",
            "  inflating: /content/content/Licenta/Processed_RSNA2/NEGATIVE/62706_1184647867.png  \n",
            "  inflating: /content/content/Licenta/Processed_RSNA2/NEGATIVE/62759_257867820.png  \n",
            "  inflating: /content/content/Licenta/Processed_RSNA2/NEGATIVE/924_2075555904.png  \n",
            "  inflating: /content/content/Licenta/Processed_RSNA2/NEGATIVE/53368_1545546087.png  \n",
            "  inflating: /content/content/Licenta/Processed_RSNA2/NEGATIVE/61588_1208988636.png  \n",
            "  inflating: /content/content/Licenta/Processed_RSNA2/NEGATIVE/58297_1265544170.png  \n",
            "  inflating: /content/content/Licenta/Processed_RSNA2/NEGATIVE/36625_321367877.png  \n",
            "  inflating: /content/content/Licenta/Processed_RSNA2/NEGATIVE/46983_1111607585.png  \n",
            "  inflating: /content/content/Licenta/Processed_RSNA2/NEGATIVE/59609_1291145876.png  \n",
            "  inflating: /content/content/Licenta/Processed_RSNA2/NEGATIVE/15696_1216427802.png  \n",
            "  inflating: /content/content/Licenta/Processed_RSNA2/NEGATIVE/20053_377279892.png  \n",
            "  inflating: /content/content/Licenta/Processed_RSNA2/NEGATIVE/13532_287720106.png  \n",
            "  inflating: /content/content/Licenta/Processed_RSNA2/NEGATIVE/40073_1114321348.png  \n",
            "  inflating: /content/content/Licenta/Processed_RSNA2/NEGATIVE/36787_1037016691.png  \n",
            "  inflating: /content/content/Licenta/Processed_RSNA2/NEGATIVE/1878_617525091.png  \n",
            "  inflating: /content/content/Licenta/Processed_RSNA2/NEGATIVE/45583_377773833.png  \n",
            "  inflating: /content/content/Licenta/Processed_RSNA2/NEGATIVE/38294_360976825.png  \n",
            "  inflating: /content/content/Licenta/Processed_RSNA2/NEGATIVE/18533_1616048509.png  \n",
            "  inflating: /content/content/Licenta/Processed_RSNA2/NEGATIVE/36217_950372076.png  \n",
            "  inflating: /content/content/Licenta/Processed_RSNA2/NEGATIVE/12584_476642884.png  \n",
            "  inflating: /content/content/Licenta/Processed_RSNA2/NEGATIVE/43578_616079448.png  \n",
            "  inflating: /content/content/Licenta/Processed_RSNA2/NEGATIVE/11329_1902834102.png  \n",
            "  inflating: /content/content/Licenta/Processed_RSNA2/NEGATIVE/40410_1301430781.png  \n",
            "  inflating: /content/content/Licenta/Processed_RSNA2/NEGATIVE/6077_1916839643.png  \n",
            "  inflating: /content/content/Licenta/Processed_RSNA2/NEGATIVE/6849_1486993970.png  \n",
            "  inflating: /content/content/Licenta/Processed_RSNA2/NEGATIVE/37295_1442269220.png  \n",
            "  inflating: /content/content/Licenta/Processed_RSNA2/NEGATIVE/4098_1666084738.png  \n",
            "  inflating: /content/content/Licenta/Processed_RSNA2/NEGATIVE/29297_511195816.png  \n",
            "  inflating: /content/content/Licenta/Processed_RSNA2/NEGATIVE/452_1042493536.png  \n",
            "  inflating: /content/content/Licenta/Processed_RSNA2/NEGATIVE/6644_1605323314.png  \n",
            "  inflating: /content/content/Licenta/Processed_RSNA2/NEGATIVE/5302_122097348.png  \n",
            "  inflating: /content/content/Licenta/Processed_RSNA2/NEGATIVE/15136_1272288063.png  \n",
            "  inflating: /content/content/Licenta/Processed_RSNA2/NEGATIVE/45301_2141628089.png  \n",
            "  inflating: /content/content/Licenta/Processed_RSNA2/NEGATIVE/28416_2004222452.png  \n",
            "  inflating: /content/content/Licenta/Processed_RSNA2/NEGATIVE/4159_654813094.png  \n",
            "  inflating: /content/content/Licenta/Processed_RSNA2/NEGATIVE/17267_1789955261.png  \n",
            "  inflating: /content/content/Licenta/Processed_RSNA2/NEGATIVE/64770_244735919.png  \n",
            "  inflating: /content/content/Licenta/Processed_RSNA2/NEGATIVE/61287_1862035263.png  \n",
            "  inflating: /content/content/Licenta/Processed_RSNA2/NEGATIVE/37213_1301907141.png  \n",
            "  inflating: /content/content/Licenta/Processed_RSNA2/NEGATIVE/38494_75212487.png  \n",
            "  inflating: /content/content/Licenta/Processed_RSNA2/NEGATIVE/14337_1133274467.png  \n",
            "  inflating: /content/content/Licenta/Processed_RSNA2/NEGATIVE/32668_2120084004.png  \n",
            "  inflating: /content/content/Licenta/Processed_RSNA2/NEGATIVE/58408_1294871623.png  \n",
            "  inflating: /content/content/Licenta/Processed_RSNA2/NEGATIVE/45320_74376073.png  \n",
            "  inflating: /content/content/Licenta/Processed_RSNA2/NEGATIVE/61874_1339342394.png  \n",
            "  inflating: /content/content/Licenta/Processed_RSNA2/NEGATIVE/51939_1351259990.png  \n",
            "  inflating: /content/content/Licenta/Processed_RSNA2/NEGATIVE/32879_286721132.png  \n",
            "  inflating: /content/content/Licenta/Processed_RSNA2/NEGATIVE/28775_833640204.png  \n",
            "  inflating: /content/content/Licenta/Processed_RSNA2/NEGATIVE/40411_1704037400.png  \n",
            "  inflating: /content/content/Licenta/Processed_RSNA2/NEGATIVE/40673_1841160105.png  \n",
            "  inflating: /content/content/Licenta/Processed_RSNA2/NEGATIVE/54505_801034742.png  \n",
            "  inflating: /content/content/Licenta/Processed_RSNA2/NEGATIVE/7033_1961292782.png  \n",
            "  inflating: /content/content/Licenta/Processed_RSNA2/NEGATIVE/7036_1085643986.png  \n",
            "  inflating: /content/content/Licenta/Processed_RSNA2/NEGATIVE/51897_1015796131.png  \n",
            "  inflating: /content/content/Licenta/Processed_RSNA2/NEGATIVE/53879_1926967621.png  \n",
            "  inflating: /content/content/Licenta/Processed_RSNA2/NEGATIVE/50740_767338058.png  \n",
            "  inflating: /content/content/Licenta/Processed_RSNA2/NEGATIVE/1853_870728999.png  \n",
            "  inflating: /content/content/Licenta/Processed_RSNA2/NEGATIVE/3416_1140777617.png  \n",
            "  inflating: /content/content/Licenta/Processed_RSNA2/NEGATIVE/59933_1777511278.png  \n",
            "  inflating: /content/content/Licenta/Processed_RSNA2/NEGATIVE/27770_176859678.png  \n",
            "  inflating: /content/content/Licenta/Processed_RSNA2/NEGATIVE/49065_963700463.png  \n",
            "  inflating: /content/content/Licenta/Processed_RSNA2/NEGATIVE/58169_1112250455.png  \n",
            "  inflating: /content/content/Licenta/Processed_RSNA2/NEGATIVE/27046_866798262.png  \n",
            "  inflating: /content/content/Licenta/Processed_RSNA2/NEGATIVE/294_2073201946.png  \n",
            "  inflating: /content/content/Licenta/Processed_RSNA2/NEGATIVE/22065_1066954801.png  \n",
            "  inflating: /content/content/Licenta/Processed_RSNA2/NEGATIVE/11232_535320954.png  \n",
            "  inflating: /content/content/Licenta/Processed_RSNA2/NEGATIVE/37877_46329306.png  \n",
            "  inflating: /content/content/Licenta/Processed_RSNA2/NEGATIVE/23266_1029455238.png  \n",
            "  inflating: /content/content/Licenta/Processed_RSNA2/NEGATIVE/54749_547985215.png  \n",
            "  inflating: /content/content/Licenta/Processed_RSNA2/NEGATIVE/41504_1741004156.png  \n",
            "  inflating: /content/content/Licenta/Processed_RSNA2/NEGATIVE/4945_1545168107.png  \n",
            "  inflating: /content/content/Licenta/Processed_RSNA2/NEGATIVE/21720_550166803.png  \n",
            "  inflating: /content/content/Licenta/Processed_RSNA2/NEGATIVE/15511_891687898.png  \n",
            "  inflating: /content/content/Licenta/Processed_RSNA2/NEGATIVE/27730_1885091763.png  \n",
            "  inflating: /content/content/Licenta/Processed_RSNA2/NEGATIVE/37298_1263628911.png  \n",
            "  inflating: /content/content/Licenta/Processed_RSNA2/NEGATIVE/24472_1401038279.png  \n",
            "  inflating: /content/content/Licenta/Processed_RSNA2/NEGATIVE/41285_835528198.png  \n",
            "  inflating: /content/content/Licenta/Processed_RSNA2/NEGATIVE/16919_1954617969.png  \n",
            "  inflating: /content/content/Licenta/Processed_RSNA2/NEGATIVE/10257_881381894.png  \n",
            "  inflating: /content/content/Licenta/Processed_RSNA2/NEGATIVE/17209_443076428.png  \n",
            "  inflating: /content/content/Licenta/Processed_RSNA2/NEGATIVE/25369_1134675907.png  \n",
            "  inflating: /content/content/Licenta/Processed_RSNA2/NEGATIVE/2543_1745358450.png  \n",
            "  inflating: /content/content/Licenta/Processed_RSNA2/NEGATIVE/6003_1064041640.png  \n",
            "  inflating: /content/content/Licenta/Processed_RSNA2/NEGATIVE/55979_1378494206.png  \n",
            "  inflating: /content/content/Licenta/Processed_RSNA2/NEGATIVE/61827_505570100.png  \n",
            "  inflating: /content/content/Licenta/Processed_RSNA2/NEGATIVE/57755_172525719.png  \n",
            "  inflating: /content/content/Licenta/Processed_RSNA2/NEGATIVE/42705_2091801093.png  \n",
            "  inflating: /content/content/Licenta/Processed_RSNA2/NEGATIVE/16485_1173033179.png  \n",
            "  inflating: /content/content/Licenta/Processed_RSNA2/NEGATIVE/3246_544973833.png  \n",
            "  inflating: /content/content/Licenta/Processed_RSNA2/NEGATIVE/32908_1660791584.png  \n",
            "  inflating: /content/content/Licenta/Processed_RSNA2/NEGATIVE/60442_827801610.png  \n",
            "  inflating: /content/content/Licenta/Processed_RSNA2/NEGATIVE/28174_1738462332.png  \n",
            "  inflating: /content/content/Licenta/Processed_RSNA2/NEGATIVE/29273_916288197.png  \n",
            "  inflating: /content/content/Licenta/Processed_RSNA2/NEGATIVE/14754_774089516.png  \n",
            "  inflating: /content/content/Licenta/Processed_RSNA2/NEGATIVE/28997_1188808049.png  \n",
            "  inflating: /content/content/Licenta/Processed_RSNA2/NEGATIVE/48396_1123284567.png  \n",
            "  inflating: /content/content/Licenta/Processed_RSNA2/NEGATIVE/39036_2055587637.png  \n",
            "  inflating: /content/content/Licenta/Processed_RSNA2/NEGATIVE/9750_1208494128.png  \n",
            "  inflating: /content/content/Licenta/Processed_RSNA2/NEGATIVE/3584_120923315.png  \n",
            "  inflating: /content/content/Licenta/Processed_RSNA2/NEGATIVE/3872_909567878.png  \n",
            "  inflating: /content/content/Licenta/Processed_RSNA2/NEGATIVE/14326_1620398057.png  \n",
            "  inflating: /content/content/Licenta/Processed_RSNA2/NEGATIVE/20005_363413530.png  \n",
            "  inflating: /content/content/Licenta/Processed_RSNA2/NEGATIVE/21789_599842250.png  \n",
            "  inflating: /content/content/Licenta/Processed_RSNA2/NEGATIVE/26694_83720539.png  \n",
            "  inflating: /content/content/Licenta/Processed_RSNA2/NEGATIVE/20821_1820860949.png  \n",
            "  inflating: /content/content/Licenta/Processed_RSNA2/NEGATIVE/12571_489108448.png  \n",
            "  inflating: /content/content/Licenta/Processed_RSNA2/NEGATIVE/7316_884476268.png  \n",
            "  inflating: /content/content/Licenta/Processed_RSNA2/NEGATIVE/44698_1448387652.png  \n",
            "  inflating: /content/content/Licenta/Processed_RSNA2/NEGATIVE/7059_773798732.png  \n",
            "  inflating: /content/content/Licenta/Processed_RSNA2/NEGATIVE/7984_116036401.png  \n",
            "  inflating: /content/content/Licenta/Processed_RSNA2/NEGATIVE/32398_1217530068.png  \n",
            "  inflating: /content/content/Licenta/Processed_RSNA2/NEGATIVE/14954_495842298.png  \n",
            "  inflating: /content/content/Licenta/Processed_RSNA2/NEGATIVE/9091_2075807648.png  \n",
            "  inflating: /content/content/Licenta/Processed_RSNA2/NEGATIVE/52091_1825698306.png  \n",
            "  inflating: /content/content/Licenta/Processed_RSNA2/NEGATIVE/49426_40734712.png  \n",
            "  inflating: /content/content/Licenta/Processed_RSNA2/NEGATIVE/39525_331305934.png  \n",
            "  inflating: /content/content/Licenta/Processed_RSNA2/NEGATIVE/48142_273324404.png  \n",
            "  inflating: /content/content/Licenta/Processed_RSNA2/NEGATIVE/1095_1658150385.png  \n",
            "  inflating: /content/content/Licenta/Processed_RSNA2/NEGATIVE/38889_290466783.png  \n",
            "  inflating: /content/content/Licenta/Processed_RSNA2/NEGATIVE/31918_1457569465.png  \n",
            "  inflating: /content/content/Licenta/Processed_RSNA2/NEGATIVE/2112_1879009542.png  \n",
            "  inflating: /content/content/Licenta/Processed_RSNA2/NEGATIVE/16984_909898202.png  \n",
            "  inflating: /content/content/Licenta/Processed_RSNA2/NEGATIVE/15048_712058714.png  \n",
            "  inflating: /content/content/Licenta/Processed_RSNA2/NEGATIVE/21368_1406568621.png  \n",
            "  inflating: /content/content/Licenta/Processed_RSNA2/NEGATIVE/32225_1350931010.png  \n",
            "  inflating: /content/content/Licenta/Processed_RSNA2/NEGATIVE/4707_47857150.png  \n",
            "  inflating: /content/content/Licenta/Processed_RSNA2/NEGATIVE/21462_1413931228.png  \n",
            "  inflating: /content/content/Licenta/Processed_RSNA2/NEGATIVE/48334_1820755731.png  \n",
            "  inflating: /content/content/Licenta/Processed_RSNA2/NEGATIVE/51135_1559410889.png  \n",
            "  inflating: /content/content/Licenta/Processed_RSNA2/NEGATIVE/27097_59550186.png  \n",
            "  inflating: /content/content/Licenta/Processed_RSNA2/NEGATIVE/61976_457419005.png  \n",
            "  inflating: /content/content/Licenta/Processed_RSNA2/NEGATIVE/37480_1228148323.png  \n",
            "  inflating: /content/content/Licenta/Processed_RSNA2/NEGATIVE/7624_2114493794.png  \n",
            "  inflating: /content/content/Licenta/Processed_RSNA2/NEGATIVE/27134_617261350.png  \n",
            "  inflating: /content/content/Licenta/Processed_RSNA2/NEGATIVE/30462_125844377.png  \n",
            "  inflating: /content/content/Licenta/Processed_RSNA2/NEGATIVE/6915_1083363189.png  \n",
            "  inflating: /content/content/Licenta/Processed_RSNA2/NEGATIVE/21524_1486813355.png  \n",
            "  inflating: /content/content/Licenta/Processed_RSNA2/NEGATIVE/17442_338259503.png  \n",
            "  inflating: /content/content/Licenta/Processed_RSNA2/NEGATIVE/5024_1095258369.png  \n",
            "  inflating: /content/content/Licenta/Processed_RSNA2/NEGATIVE/51888_66230901.png  \n",
            "  inflating: /content/content/Licenta/Processed_RSNA2/NEGATIVE/27097_879741629.png  \n",
            "  inflating: /content/content/Licenta/Processed_RSNA2/NEGATIVE/63006_1016225434.png  \n",
            "  inflating: /content/content/Licenta/Processed_RSNA2/NEGATIVE/33634_1723648724.png  \n",
            "  inflating: /content/content/Licenta/Processed_RSNA2/NEGATIVE/5702_1588216115.png  \n",
            "  inflating: /content/content/Licenta/Processed_RSNA2/NEGATIVE/18077_702939938.png  \n",
            "  inflating: /content/content/Licenta/Processed_RSNA2/NEGATIVE/9471_2033574356.png  \n",
            "  inflating: /content/content/Licenta/Processed_RSNA2/NEGATIVE/14130_617333636.png  \n",
            "  inflating: /content/content/Licenta/Processed_RSNA2/NEGATIVE/25170_1607183564.png  \n",
            "  inflating: /content/content/Licenta/Processed_RSNA2/NEGATIVE/19305_977238439.png  \n",
            "  inflating: /content/content/Licenta/Processed_RSNA2/NEGATIVE/28914_340043727.png  \n",
            "  inflating: /content/content/Licenta/Processed_RSNA2/NEGATIVE/22272_711371159.png  \n",
            "  inflating: /content/content/Licenta/Processed_RSNA2/NEGATIVE/8606_138298988.png  \n",
            "  inflating: /content/content/Licenta/Processed_RSNA2/NEGATIVE/11909_737869206.png  \n",
            "  inflating: /content/content/Licenta/Processed_RSNA2/NEGATIVE/7178_1379308389.png  \n",
            "  inflating: /content/content/Licenta/Processed_RSNA2/NEGATIVE/40323_816807147.png  \n",
            "  inflating: /content/content/Licenta/Processed_RSNA2/NEGATIVE/14199_2075261914.png  \n",
            "  inflating: /content/content/Licenta/Processed_RSNA2/NEGATIVE/15048_56062151.png  \n",
            "  inflating: /content/content/Licenta/Processed_RSNA2/NEGATIVE/35775_1483026593.png  \n",
            "  inflating: /content/content/Licenta/Processed_RSNA2/NEGATIVE/40638_1486075129.png  \n",
            "  inflating: /content/content/Licenta/Processed_RSNA2/NEGATIVE/48999_1790214734.png  \n",
            "  inflating: /content/content/Licenta/Processed_RSNA2/NEGATIVE/63776_2066230740.png  \n",
            "  inflating: /content/content/Licenta/Processed_RSNA2/NEGATIVE/47542_1250425491.png  \n",
            "  inflating: /content/content/Licenta/Processed_RSNA2/NEGATIVE/52647_453358036.png  \n",
            "  inflating: /content/content/Licenta/Processed_RSNA2/NEGATIVE/901_557687219.png  \n",
            "  inflating: /content/content/Licenta/Processed_RSNA2/NEGATIVE/21934_1328305941.png  \n",
            "  inflating: /content/content/Licenta/Processed_RSNA2/NEGATIVE/11358_100531881.png  \n",
            "  inflating: /content/content/Licenta/Processed_RSNA2/NEGATIVE/13030_1499536377.png  \n",
            "  inflating: /content/content/Licenta/Processed_RSNA2/NEGATIVE/2882_1188962795.png  \n",
            "  inflating: /content/content/Licenta/Processed_RSNA2/NEGATIVE/60787_253411745.png  \n",
            "  inflating: /content/content/Licenta/Processed_RSNA2/NEGATIVE/58628_292953339.png  \n",
            "  inflating: /content/content/Licenta/Processed_RSNA2/NEGATIVE/59848_696408233.png  \n",
            "  inflating: /content/content/Licenta/Processed_RSNA2/NEGATIVE/62541_483827437.png  \n",
            "  inflating: /content/content/Licenta/Processed_RSNA2/NEGATIVE/20250_131055749.png  \n",
            "  inflating: /content/content/Licenta/Processed_RSNA2/NEGATIVE/46818_1569032433.png  \n",
            "  inflating: /content/content/Licenta/Processed_RSNA2/NEGATIVE/19791_474283644.png  \n",
            "  inflating: /content/content/Licenta/Processed_RSNA2/NEGATIVE/14851_1686535137.png  \n",
            "  inflating: /content/content/Licenta/Processed_RSNA2/NEGATIVE/47751_1985108471.png  \n",
            "  inflating: /content/content/Licenta/Processed_RSNA2/NEGATIVE/16272_1163686892.png  \n",
            "  inflating: /content/content/Licenta/Processed_RSNA2/NEGATIVE/61631_768372556.png  \n",
            "  inflating: /content/content/Licenta/Processed_RSNA2/NEGATIVE/49427_1139904960.png  \n",
            "  inflating: /content/content/Licenta/Processed_RSNA2/NEGATIVE/4792_675717564.png  \n",
            "  inflating: /content/content/Licenta/Processed_RSNA2/NEGATIVE/8018_1539382899.png  \n",
            "  inflating: /content/content/Licenta/Processed_RSNA2/NEGATIVE/10672_1199045232.png  \n",
            "  inflating: /content/content/Licenta/Processed_RSNA2/NEGATIVE/53293_1572138678.png  \n",
            "  inflating: /content/content/Licenta/Processed_RSNA2/NEGATIVE/28979_151528704.png  \n",
            "  inflating: /content/content/Licenta/Processed_RSNA2/NEGATIVE/37047_1567364837.png  \n",
            "  inflating: /content/content/Licenta/Processed_RSNA2/NEGATIVE/11446_252493965.png  \n",
            "  inflating: /content/content/Licenta/Processed_RSNA2/NEGATIVE/20657_462292468.png  \n",
            "  inflating: /content/content/Licenta/Processed_RSNA2/NEGATIVE/51137_2017927887.png  \n",
            "  inflating: /content/content/Licenta/Processed_RSNA2/NEGATIVE/37612_1397117561.png  \n",
            "  inflating: /content/content/Licenta/Processed_RSNA2/NEGATIVE/57790_1893007795.png  \n",
            "  inflating: /content/content/Licenta/Processed_RSNA2/NEGATIVE/18629_422540349.png  \n",
            "  inflating: /content/content/Licenta/Processed_RSNA2/NEGATIVE/448_770375689.png  \n",
            "  inflating: /content/content/Licenta/Processed_RSNA2/NEGATIVE/8018_1589086010.png  \n",
            "  inflating: /content/content/Licenta/Processed_RSNA2/NEGATIVE/6173_65546338.png  \n",
            "  inflating: /content/content/Licenta/Processed_RSNA2/NEGATIVE/30106_1668345139.png  \n",
            "  inflating: /content/content/Licenta/Processed_RSNA2/NEGATIVE/90_1756468328.png  \n",
            "  inflating: /content/content/Licenta/Processed_RSNA2/NEGATIVE/9444_932315271.png  \n",
            "  inflating: /content/content/Licenta/Processed_RSNA2/NEGATIVE/39681_1097870671.png  \n",
            "  inflating: /content/content/Licenta/Processed_RSNA2/NEGATIVE/50740_31855157.png  \n",
            "  inflating: /content/content/Licenta/Processed_RSNA2/NEGATIVE/13328_788356745.png  \n",
            "  inflating: /content/content/Licenta/Processed_RSNA2/NEGATIVE/36771_1347929056.png  \n",
            "  inflating: /content/content/Licenta/Processed_RSNA2/NEGATIVE/15136_1154800136.png  \n",
            "  inflating: /content/content/Licenta/Processed_RSNA2/NEGATIVE/45370_149023771.png  \n",
            "  inflating: /content/content/Licenta/Processed_RSNA2/NEGATIVE/15971_1378233912.png  \n",
            "  inflating: /content/content/Licenta/Processed_RSNA2/NEGATIVE/62346_1867359013.png  \n",
            "  inflating: /content/content/Licenta/Processed_RSNA2/NEGATIVE/37940_486917793.png  \n",
            "  inflating: /content/content/Licenta/Processed_RSNA2/NEGATIVE/45607_125913520.png  \n",
            "  inflating: /content/content/Licenta/Processed_RSNA2/NEGATIVE/21636_1831489158.png  \n",
            "  inflating: /content/content/Licenta/Processed_RSNA2/NEGATIVE/11596_455204256.png  \n",
            "  inflating: /content/content/Licenta/Processed_RSNA2/NEGATIVE/39601_1957878873.png  \n",
            "  inflating: /content/content/Licenta/Processed_RSNA2/NEGATIVE/31363_79457440.png  \n",
            "  inflating: /content/content/Licenta/Processed_RSNA2/NEGATIVE/53435_296617579.png  \n",
            "  inflating: /content/content/Licenta/Processed_RSNA2/NEGATIVE/53472_552249341.png  \n",
            "  inflating: /content/content/Licenta/Processed_RSNA2/NEGATIVE/20537_45928682.png  \n",
            "  inflating: /content/content/Licenta/Processed_RSNA2/NEGATIVE/49430_295993299.png  \n",
            "  inflating: /content/content/Licenta/Processed_RSNA2/NEGATIVE/48171_2064701941.png  \n",
            "  inflating: /content/content/Licenta/Processed_RSNA2/NEGATIVE/56226_1669088074.png  \n",
            "  inflating: /content/content/Licenta/Processed_RSNA2/NEGATIVE/52474_1518570540.png  \n",
            "  inflating: /content/content/Licenta/Processed_RSNA2/NEGATIVE/14197_619874943.png  \n",
            "  inflating: /content/content/Licenta/Processed_RSNA2/NEGATIVE/64389_2111199954.png  \n",
            "  inflating: /content/content/Licenta/Processed_RSNA2/NEGATIVE/19085_780301747.png  \n",
            "  inflating: /content/content/Licenta/Processed_RSNA2/NEGATIVE/28750_2084119701.png  \n",
            "  inflating: /content/content/Licenta/Processed_RSNA2/NEGATIVE/21678_351625203.png  \n",
            "  inflating: /content/content/Licenta/Processed_RSNA2/NEGATIVE/21132_1653763927.png  \n",
            "  inflating: /content/content/Licenta/Processed_RSNA2/NEGATIVE/10152_1280087654.png  \n",
            "  inflating: /content/content/Licenta/Processed_RSNA2/NEGATIVE/10924_1926557483.png  \n",
            "  inflating: /content/content/Licenta/Processed_RSNA2/NEGATIVE/53086_2092312524.png  \n",
            "  inflating: /content/content/Licenta/Processed_RSNA2/NEGATIVE/16791_292395452.png  \n",
            "  inflating: /content/content/Licenta/Processed_RSNA2/NEGATIVE/48526_1015354926.png  \n",
            "  inflating: /content/content/Licenta/Processed_RSNA2/NEGATIVE/62314_354737341.png  \n",
            "  inflating: /content/content/Licenta/Processed_RSNA2/NEGATIVE/10589_2059883725.png  \n",
            "  inflating: /content/content/Licenta/Processed_RSNA2/NEGATIVE/38784_1519260257.png  \n",
            "  inflating: /content/content/Licenta/Processed_RSNA2/NEGATIVE/6662_1946639950.png  \n",
            "  inflating: /content/content/Licenta/Processed_RSNA2/NEGATIVE/57470_923680251.png  \n",
            "  inflating: /content/content/Licenta/Processed_RSNA2/NEGATIVE/21867_1481837831.png  \n",
            "  inflating: /content/content/Licenta/Processed_RSNA2/NEGATIVE/31890_237314584.png  \n",
            "  inflating: /content/content/Licenta/Processed_RSNA2/NEGATIVE/47894_1560608164.png  \n",
            "  inflating: /content/content/Licenta/Processed_RSNA2/NEGATIVE/55415_1319799129.png  \n",
            "  inflating: /content/content/Licenta/Processed_RSNA2/NEGATIVE/21486_1554654033.png  \n",
            "  inflating: /content/content/Licenta/Processed_RSNA2/NEGATIVE/49364_219546950.png  \n",
            "  inflating: /content/content/Licenta/Processed_RSNA2/NEGATIVE/48119_496747963.png  \n",
            "  inflating: /content/content/Licenta/Processed_RSNA2/NEGATIVE/27610_2013743581.png  \n",
            "  inflating: /content/content/Licenta/Processed_RSNA2/NEGATIVE/55116_240102967.png  \n",
            "  inflating: /content/content/Licenta/Processed_RSNA2/NEGATIVE/31590_1333292884.png  \n",
            "  inflating: /content/content/Licenta/Processed_RSNA2/NEGATIVE/39800_99907869.png  \n",
            "  inflating: /content/content/Licenta/Processed_RSNA2/NEGATIVE/60880_1424550654.png  \n",
            "  inflating: /content/content/Licenta/Processed_RSNA2/NEGATIVE/27394_237429591.png  \n",
            "  inflating: /content/content/Licenta/Processed_RSNA2/NEGATIVE/6039_906633270.png  \n",
            "  inflating: /content/content/Licenta/Processed_RSNA2/NEGATIVE/48070_470244849.png  \n",
            "  inflating: /content/content/Licenta/Processed_RSNA2/NEGATIVE/25762_1312741553.png  \n",
            "  inflating: /content/content/Licenta/Processed_RSNA2/NEGATIVE/29899_310728003.png  \n",
            "  inflating: /content/content/Licenta/Processed_RSNA2/NEGATIVE/13095_1007282680.png  \n",
            "  inflating: /content/content/Licenta/Processed_RSNA2/NEGATIVE/45297_221108730.png  \n",
            "  inflating: /content/content/Licenta/Processed_RSNA2/NEGATIVE/11914_734674259.png  \n",
            "  inflating: /content/content/Licenta/Processed_RSNA2/NEGATIVE/47558_759246204.png  \n",
            "  inflating: /content/content/Licenta/Processed_RSNA2/NEGATIVE/11723_1144274527.png  \n",
            "  inflating: /content/content/Licenta/Processed_RSNA2/NEGATIVE/33843_1167406220.png  \n",
            "  inflating: /content/content/Licenta/Processed_RSNA2/NEGATIVE/64372_2060614573.png  \n",
            "  inflating: /content/content/Licenta/Processed_RSNA2/NEGATIVE/28242_349787619.png  \n",
            "  inflating: /content/content/Licenta/Processed_RSNA2/NEGATIVE/41114_103866490.png  \n",
            "  inflating: /content/content/Licenta/Processed_RSNA2/NEGATIVE/58567_1409535878.png  \n",
            "  inflating: /content/content/Licenta/Processed_RSNA2/NEGATIVE/62730_1617798738.png  \n",
            "  inflating: /content/content/Licenta/Processed_RSNA2/NEGATIVE/50232_26921443.png  \n",
            "  inflating: /content/content/Licenta/Processed_RSNA2/NEGATIVE/26478_2074054573.png  \n",
            "  inflating: /content/content/Licenta/Processed_RSNA2/NEGATIVE/5698_508015262.png  \n",
            "  inflating: /content/content/Licenta/Processed_RSNA2/NEGATIVE/13156_1148868593.png  \n",
            "  inflating: /content/content/Licenta/Processed_RSNA2/NEGATIVE/55443_1810791768.png  \n",
            "  inflating: /content/content/Licenta/Processed_RSNA2/NEGATIVE/23388_2003156477.png  \n",
            "  inflating: /content/content/Licenta/Processed_RSNA2/NEGATIVE/29714_1528767222.png  \n",
            "  inflating: /content/content/Licenta/Processed_RSNA2/NEGATIVE/53716_1843022847.png  \n",
            "  inflating: /content/content/Licenta/Processed_RSNA2/NEGATIVE/7266_344682363.png  \n",
            "  inflating: /content/content/Licenta/Processed_RSNA2/NEGATIVE/34189_1760042524.png  \n",
            "  inflating: /content/content/Licenta/Processed_RSNA2/NEGATIVE/61682_500736947.png  \n",
            "  inflating: /content/content/Licenta/Processed_RSNA2/NEGATIVE/49239_38907908.png  \n",
            "  inflating: /content/content/Licenta/Processed_RSNA2/NEGATIVE/53419_585765055.png  \n",
            "  inflating: /content/content/Licenta/Processed_RSNA2/NEGATIVE/10289_906075357.png  \n",
            "  inflating: /content/content/Licenta/Processed_RSNA2/NEGATIVE/13335_321034438.png  \n",
            "  inflating: /content/content/Licenta/Processed_RSNA2/NEGATIVE/36555_19255371.png  \n",
            "  inflating: /content/content/Licenta/Processed_RSNA2/NEGATIVE/10986_114542910.png  \n",
            "  inflating: /content/content/Licenta/Processed_RSNA2/NEGATIVE/44325_362925646.png  \n",
            "  inflating: /content/content/Licenta/Processed_RSNA2/NEGATIVE/54418_2022356961.png  \n",
            "  inflating: /content/content/Licenta/Processed_RSNA2/NEGATIVE/17811_2095653120.png  \n",
            "  inflating: /content/content/Licenta/Processed_RSNA2/NEGATIVE/5701_105092373.png  \n",
            "  inflating: /content/content/Licenta/Processed_RSNA2/NEGATIVE/26694_1023641646.png  \n",
            "  inflating: /content/content/Licenta/Processed_RSNA2/NEGATIVE/47809_1672736173.png  \n",
            "  inflating: /content/content/Licenta/Processed_RSNA2/NEGATIVE/17377_843286527.png  \n",
            "  inflating: /content/content/Licenta/Processed_RSNA2/NEGATIVE/27555_1027706607.png  \n",
            "  inflating: /content/content/Licenta/Processed_RSNA2/NEGATIVE/21484_199562107.png  \n",
            "  inflating: /content/content/Licenta/Processed_RSNA2/NEGATIVE/62583_1976394752.png  \n",
            "  inflating: /content/content/Licenta/Processed_RSNA2/NEGATIVE/7837_324916411.png  \n",
            "  inflating: /content/content/Licenta/Processed_RSNA2/NEGATIVE/52317_283978226.png  \n",
            "  inflating: /content/content/Licenta/Processed_RSNA2/NEGATIVE/5373_1120764916.png  \n",
            "  inflating: /content/content/Licenta/Processed_RSNA2/NEGATIVE/54749_798176592.png  \n",
            "  inflating: /content/content/Licenta/Processed_RSNA2/NEGATIVE/41794_899672386.png  \n",
            "  inflating: /content/content/Licenta/Processed_RSNA2/NEGATIVE/23223_884840452.png  \n",
            "  inflating: /content/content/Licenta/Processed_RSNA2/NEGATIVE/6038_948647526.png  \n",
            "  inflating: /content/content/Licenta/Processed_RSNA2/NEGATIVE/7750_871112148.png  \n",
            "  inflating: /content/content/Licenta/Processed_RSNA2/NEGATIVE/10432_1540201051.png  \n",
            "  inflating: /content/content/Licenta/Processed_RSNA2/NEGATIVE/28231_88865650.png  \n",
            "  inflating: /content/content/Licenta/Processed_RSNA2/NEGATIVE/13634_2097426971.png  \n",
            "  inflating: /content/content/Licenta/Processed_RSNA2/NEGATIVE/37361_480673988.png  \n",
            "  inflating: /content/content/Licenta/Processed_RSNA2/NEGATIVE/16751_1613053262.png  \n",
            "  inflating: /content/content/Licenta/Processed_RSNA2/NEGATIVE/12965_962879394.png  \n",
            "  inflating: /content/content/Licenta/Processed_RSNA2/NEGATIVE/37148_473797936.png  \n",
            "  inflating: /content/content/Licenta/Processed_RSNA2/NEGATIVE/15931_1385706666.png  \n",
            "  inflating: /content/content/Licenta/Processed_RSNA2/NEGATIVE/62139_692316445.png  \n",
            "  inflating: /content/content/Licenta/Processed_RSNA2/NEGATIVE/50476_80711821.png  \n",
            "  inflating: /content/content/Licenta/Processed_RSNA2/NEGATIVE/25253_627398679.png  \n",
            "  inflating: /content/content/Licenta/Processed_RSNA2/NEGATIVE/44190_1218672762.png  \n",
            "  inflating: /content/content/Licenta/Processed_RSNA2/NEGATIVE/49211_171194015.png  \n",
            "  inflating: /content/content/Licenta/Processed_RSNA2/NEGATIVE/35673_1084477933.png  \n",
            "  inflating: /content/content/Licenta/Processed_RSNA2/NEGATIVE/15504_1828104447.png  \n",
            "  inflating: /content/content/Licenta/Processed_RSNA2/NEGATIVE/44780_1919766038.png  \n",
            "  inflating: /content/content/Licenta/Processed_RSNA2/NEGATIVE/24322_2014649115.png  \n",
            "  inflating: /content/content/Licenta/Processed_RSNA2/NEGATIVE/318_938332062.png  \n",
            "  inflating: /content/content/Licenta/Processed_RSNA2/NEGATIVE/15285_1969134944.png  \n",
            "  inflating: /content/content/Licenta/Processed_RSNA2/NEGATIVE/3625_1552401225.png  \n",
            "  inflating: /content/content/Licenta/Processed_RSNA2/NEGATIVE/16751_448185688.png  \n",
            "  inflating: /content/content/Licenta/Processed_RSNA2/NEGATIVE/6972_281027821.png  \n",
            "  inflating: /content/content/Licenta/Processed_RSNA2/NEGATIVE/15373_1683580902.png  \n",
            "  inflating: /content/content/Licenta/Processed_RSNA2/NEGATIVE/44714_510155580.png  \n",
            "  inflating: /content/content/Licenta/Processed_RSNA2/NEGATIVE/4407_1259276602.png  \n",
            "  inflating: /content/content/Licenta/Processed_RSNA2/NEGATIVE/17394_1032617886.png  \n",
            "  inflating: /content/content/Licenta/Processed_RSNA2/NEGATIVE/61191_652018635.png  \n",
            "  inflating: /content/content/Licenta/Processed_RSNA2/NEGATIVE/46245_877252072.png  \n",
            "  inflating: /content/content/Licenta/Processed_RSNA2/NEGATIVE/18642_947606069.png  \n",
            "  inflating: /content/content/Licenta/Processed_RSNA2/NEGATIVE/36286_378284786.png  \n",
            "  inflating: /content/content/Licenta/Processed_RSNA2/NEGATIVE/59334_1388994121.png  \n",
            "  inflating: /content/content/Licenta/Processed_RSNA2/NEGATIVE/29495_636634539.png  \n",
            "  inflating: /content/content/Licenta/Processed_RSNA2/NEGATIVE/60317_1734831707.png  \n",
            "  inflating: /content/content/Licenta/Processed_RSNA2/NEGATIVE/45821_1953476095.png  \n",
            "  inflating: /content/content/Licenta/Processed_RSNA2/NEGATIVE/5041_315112915.png  \n",
            "  inflating: /content/content/Licenta/Processed_RSNA2/NEGATIVE/25124_651910680.png  \n",
            "  inflating: /content/content/Licenta/Processed_RSNA2/NEGATIVE/45230_352552987.png  \n",
            "  inflating: /content/content/Licenta/Processed_RSNA2/NEGATIVE/36344_543623202.png  \n",
            "  inflating: /content/content/Licenta/Processed_RSNA2/NEGATIVE/52017_654099531.png  \n",
            "  inflating: /content/content/Licenta/Processed_RSNA2/NEGATIVE/19102_1085008843.png  \n",
            "  inflating: /content/content/Licenta/Processed_RSNA2/NEGATIVE/55214_133115085.png  \n",
            "  inflating: /content/content/Licenta/Processed_RSNA2/NEGATIVE/37697_257204808.png  \n",
            "  inflating: /content/content/Licenta/Processed_RSNA2/NEGATIVE/59549_2022274082.png  \n",
            "  inflating: /content/content/Licenta/Processed_RSNA2/NEGATIVE/18422_1872926418.png  \n",
            "  inflating: /content/content/Licenta/Processed_RSNA2/NEGATIVE/22579_534802314.png  \n",
            "  inflating: /content/content/Licenta/Processed_RSNA2/NEGATIVE/39036_514949048.png  \n",
            "  inflating: /content/content/Licenta/Processed_RSNA2/NEGATIVE/38932_2009000112.png  \n",
            "  inflating: /content/content/Licenta/Processed_RSNA2/NEGATIVE/11644_1436396421.png  \n",
            "  inflating: /content/content/Licenta/Processed_RSNA2/NEGATIVE/41582_938761362.png  \n",
            "  inflating: /content/content/Licenta/Processed_RSNA2/NEGATIVE/55166_359045323.png  \n",
            "  inflating: /content/content/Licenta/Processed_RSNA2/NEGATIVE/51923_1235316917.png  \n",
            "  inflating: /content/content/Licenta/Processed_RSNA2/NEGATIVE/37758_335187975.png  \n",
            "  inflating: /content/content/Licenta/Processed_RSNA2/NEGATIVE/46996_1923159059.png  \n",
            "  inflating: /content/content/Licenta/Processed_RSNA2/NEGATIVE/34028_543110649.png  \n",
            "  inflating: /content/content/Licenta/Processed_RSNA2/NEGATIVE/52403_2063710029.png  \n",
            "  inflating: /content/content/Licenta/Processed_RSNA2/NEGATIVE/1318_1505851773.png  \n",
            "  inflating: /content/content/Licenta/Processed_RSNA2/NEGATIVE/19399_713399466.png  \n",
            "  inflating: /content/content/Licenta/Processed_RSNA2/NEGATIVE/46334_910931172.png  \n",
            "  inflating: /content/content/Licenta/Processed_RSNA2/NEGATIVE/44551_19139711.png  \n",
            "  inflating: /content/content/Licenta/Processed_RSNA2/NEGATIVE/64819_1042174816.png  \n",
            "  inflating: /content/content/Licenta/Processed_RSNA2/NEGATIVE/58169_1888729300.png  \n",
            "  inflating: /content/content/Licenta/Processed_RSNA2/NEGATIVE/23504_1492002733.png  \n",
            "  inflating: /content/content/Licenta/Processed_RSNA2/NEGATIVE/57014_1866720850.png  \n",
            "  inflating: /content/content/Licenta/Processed_RSNA2/NEGATIVE/38168_245696559.png  \n",
            "  inflating: /content/content/Licenta/Processed_RSNA2/NEGATIVE/49890_1934748629.png  \n",
            "  inflating: /content/content/Licenta/Processed_RSNA2/NEGATIVE/34205_647697559.png  \n",
            "  inflating: /content/content/Licenta/Processed_RSNA2/NEGATIVE/827_2000455278.png  \n",
            "  inflating: /content/content/Licenta/Processed_RSNA2/NEGATIVE/2756_437343084.png  \n",
            "  inflating: /content/content/Licenta/Processed_RSNA2/NEGATIVE/59485_480542419.png  \n",
            "  inflating: /content/content/Licenta/Processed_RSNA2/NEGATIVE/36943_1349416624.png  \n",
            "  inflating: /content/content/Licenta/Processed_RSNA2/NEGATIVE/7493_1950616853.png  \n",
            "  inflating: /content/content/Licenta/Processed_RSNA2/NEGATIVE/22831_1345441828.png  \n",
            "  inflating: /content/content/Licenta/Processed_RSNA2/NEGATIVE/15728_1835147932.png  \n",
            "  inflating: /content/content/Licenta/Processed_RSNA2/NEGATIVE/48042_599175404.png  \n",
            "  inflating: /content/content/Licenta/Processed_RSNA2/NEGATIVE/17942_268102386.png  \n",
            "  inflating: /content/content/Licenta/Processed_RSNA2/NEGATIVE/30807_562881862.png  \n",
            "  inflating: /content/content/Licenta/Processed_RSNA2/NEGATIVE/15552_77926474.png  \n",
            "  inflating: /content/content/Licenta/Processed_RSNA2/NEGATIVE/47056_1552845077.png  \n",
            "  inflating: /content/content/Licenta/Processed_RSNA2/NEGATIVE/29404_1403144956.png  \n",
            "  inflating: /content/content/Licenta/Processed_RSNA2/NEGATIVE/55569_1079251354.png  \n",
            "  inflating: /content/content/Licenta/Processed_RSNA2/NEGATIVE/39436_1393490539.png  \n",
            "  inflating: /content/content/Licenta/Processed_RSNA2/NEGATIVE/6391_765580236.png  \n",
            "  inflating: /content/content/Licenta/Processed_RSNA2/NEGATIVE/7086_1521310472.png  \n",
            "  inflating: /content/content/Licenta/Processed_RSNA2/NEGATIVE/34189_732889327.png  \n",
            "  inflating: /content/content/Licenta/Processed_RSNA2/NEGATIVE/24860_1009184748.png  \n",
            "  inflating: /content/content/Licenta/Processed_RSNA2/NEGATIVE/1114_2123582338.png  \n",
            "  inflating: /content/content/Licenta/Processed_RSNA2/NEGATIVE/54788_911702263.png  \n",
            "  inflating: /content/content/Licenta/Processed_RSNA2/NEGATIVE/55879_1039403084.png  \n",
            "  inflating: /content/content/Licenta/Processed_RSNA2/NEGATIVE/35980_2139693566.png  \n",
            "  inflating: /content/content/Licenta/Processed_RSNA2/NEGATIVE/31623_2060796855.png  \n",
            "  inflating: /content/content/Licenta/Processed_RSNA2/NEGATIVE/21068_1542461576.png  \n",
            "  inflating: /content/content/Licenta/Processed_RSNA2/NEGATIVE/15141_1538016339.png  \n",
            "  inflating: /content/content/Licenta/Processed_RSNA2/NEGATIVE/43144_2051241464.png  \n",
            "  inflating: /content/content/Licenta/Processed_RSNA2/NEGATIVE/43811_463525632.png  \n",
            "  inflating: /content/content/Licenta/Processed_RSNA2/NEGATIVE/54215_795206120.png  \n",
            "  inflating: /content/content/Licenta/Processed_RSNA2/NEGATIVE/51950_613174434.png  \n",
            "  inflating: /content/content/Licenta/Processed_RSNA2/NEGATIVE/32378_1514165112.png  \n",
            "  inflating: /content/content/Licenta/Processed_RSNA2/NEGATIVE/56623_1537527035.png  \n",
            "  inflating: /content/content/Licenta/Processed_RSNA2/NEGATIVE/9965_1229053771.png  \n",
            "  inflating: /content/content/Licenta/Processed_RSNA2/NEGATIVE/41911_1916918516.png  \n",
            "  inflating: /content/content/Licenta/Processed_RSNA2/NEGATIVE/53530_1061654364.png  \n",
            "  inflating: /content/content/Licenta/Processed_RSNA2/NEGATIVE/40221_356529012.png  \n",
            "  inflating: /content/content/Licenta/Processed_RSNA2/NEGATIVE/37670_1112795913.png  \n",
            "  inflating: /content/content/Licenta/Processed_RSNA2/NEGATIVE/61098_1075138101.png  \n",
            "  inflating: /content/content/Licenta/Processed_RSNA2/NEGATIVE/25108_338528441.png  \n",
            "  inflating: /content/content/Licenta/Processed_RSNA2/NEGATIVE/56311_1863704935.png  \n",
            "  inflating: /content/content/Licenta/Processed_RSNA2/NEGATIVE/29734_1279269580.png  \n",
            "  inflating: /content/content/Licenta/Processed_RSNA2/NEGATIVE/10646_2017763668.png  \n",
            "  inflating: /content/content/Licenta/Processed_RSNA2/NEGATIVE/52965_1442282120.png  \n",
            "  inflating: /content/content/Licenta/Processed_RSNA2/NEGATIVE/9088_1263577273.png  \n",
            "  inflating: /content/content/Licenta/Processed_RSNA2/NEGATIVE/34264_1440418138.png  \n",
            "  inflating: /content/content/Licenta/Processed_RSNA2/NEGATIVE/7058_373197446.png  \n",
            "  inflating: /content/content/Licenta/Processed_RSNA2/NEGATIVE/55569_518438538.png  \n",
            "  inflating: /content/content/Licenta/Processed_RSNA2/NEGATIVE/11400_1978157918.png  \n",
            "  inflating: /content/content/Licenta/Processed_RSNA2/NEGATIVE/18238_1601052416.png  \n",
            "  inflating: /content/content/Licenta/Processed_RSNA2/NEGATIVE/46517_1982913019.png  \n",
            "  inflating: /content/content/Licenta/Processed_RSNA2/NEGATIVE/16075_136886474.png  \n",
            "  inflating: /content/content/Licenta/Processed_RSNA2/NEGATIVE/32964_894270853.png  \n",
            "  inflating: /content/content/Licenta/Processed_RSNA2/NEGATIVE/60828_1609978621.png  \n",
            "  inflating: /content/content/Licenta/Processed_RSNA2/NEGATIVE/26747_1434039658.png  \n",
            "  inflating: /content/content/Licenta/Processed_RSNA2/NEGATIVE/59678_1739799643.png  \n",
            "  inflating: /content/content/Licenta/Processed_RSNA2/NEGATIVE/2625_953025289.png  \n",
            "  inflating: /content/content/Licenta/Processed_RSNA2/NEGATIVE/7812_336155728.png  \n",
            "  inflating: /content/content/Licenta/Processed_RSNA2/NEGATIVE/7769_522740993.png  \n",
            "  inflating: /content/content/Licenta/Processed_RSNA2/NEGATIVE/62650_925237977.png  \n",
            "  inflating: /content/content/Licenta/Processed_RSNA2/NEGATIVE/39920_357085928.png  \n",
            "  inflating: /content/content/Licenta/Processed_RSNA2/NEGATIVE/5024_1470198318.png  \n",
            "  inflating: /content/content/Licenta/Processed_RSNA2/NEGATIVE/29396_1313053426.png  \n",
            "  inflating: /content/content/Licenta/Processed_RSNA2/NEGATIVE/15173_671503186.png  \n",
            "  inflating: /content/content/Licenta/Processed_RSNA2/NEGATIVE/1766_136943557.png  \n",
            "  inflating: /content/content/Licenta/Processed_RSNA2/NEGATIVE/61075_751257392.png  \n",
            "  inflating: /content/content/Licenta/Processed_RSNA2/NEGATIVE/50686_640218261.png  \n",
            "  inflating: /content/content/Licenta/Processed_RSNA2/NEGATIVE/53360_2061473828.png  \n",
            "  inflating: /content/content/Licenta/Processed_RSNA2/NEGATIVE/13383_711826157.png  \n",
            "  inflating: /content/content/Licenta/Processed_RSNA2/NEGATIVE/48667_2137634608.png  \n",
            "  inflating: /content/content/Licenta/Processed_RSNA2/NEGATIVE/41293_326657010.png  \n",
            "  inflating: /content/content/Licenta/Processed_RSNA2/NEGATIVE/55989_759769807.png  \n",
            "  inflating: /content/content/Licenta/Processed_RSNA2/NEGATIVE/4138_44656875.png  \n",
            "  inflating: /content/content/Licenta/Processed_RSNA2/NEGATIVE/5817_1111777217.png  \n",
            "  inflating: /content/content/Licenta/Processed_RSNA2/NEGATIVE/10226_348710745.png  \n",
            "  inflating: /content/content/Licenta/Processed_RSNA2/NEGATIVE/38690_1610042678.png  \n",
            "  inflating: /content/content/Licenta/Processed_RSNA2/NEGATIVE/41693_81244558.png  \n",
            "  inflating: /content/content/Licenta/Processed_RSNA2/NEGATIVE/23082_175796559.png  \n",
            "  inflating: /content/content/Licenta/Processed_RSNA2/NEGATIVE/62261_1760212528.png  \n",
            "  inflating: /content/content/Licenta/Processed_RSNA2/NEGATIVE/30378_1606333582.png  \n",
            "  inflating: /content/content/Licenta/Processed_RSNA2/NEGATIVE/28321_1172209353.png  \n",
            "  inflating: /content/content/Licenta/Processed_RSNA2/NEGATIVE/30378_20867100.png  \n",
            "  inflating: /content/content/Licenta/Processed_RSNA2/NEGATIVE/28132_1067738707.png  \n",
            "  inflating: /content/content/Licenta/Processed_RSNA2/NEGATIVE/22842_1443649248.png  \n",
            "  inflating: /content/content/Licenta/Processed_RSNA2/NEGATIVE/25101_14100413.png  \n",
            "  inflating: /content/content/Licenta/Processed_RSNA2/NEGATIVE/18045_670746083.png  \n",
            "  inflating: /content/content/Licenta/Processed_RSNA2/NEGATIVE/57159_422985380.png  \n",
            "  inflating: /content/content/Licenta/Processed_RSNA2/NEGATIVE/63884_1773368765.png  \n",
            "  inflating: /content/content/Licenta/Processed_RSNA2/NEGATIVE/36161_2049806411.png  \n",
            "  inflating: /content/content/Licenta/Processed_RSNA2/NEGATIVE/10973_485832157.png  \n",
            "  inflating: /content/content/Licenta/Processed_RSNA2/NEGATIVE/5496_1883381710.png  \n",
            "  inflating: /content/content/Licenta/Processed_RSNA2/NEGATIVE/48230_1469237827.png  \n",
            "  inflating: /content/content/Licenta/Processed_RSNA2/NEGATIVE/14781_1091414701.png  \n",
            "  inflating: /content/content/Licenta/Processed_RSNA2/NEGATIVE/15032_137106149.png  \n",
            "  inflating: /content/content/Licenta/Processed_RSNA2/NEGATIVE/49102_498577197.png  \n",
            "  inflating: /content/content/Licenta/Processed_RSNA2/NEGATIVE/20164_1011734583.png  \n",
            "  inflating: /content/content/Licenta/Processed_RSNA2/NEGATIVE/7885_196486149.png  \n",
            "  inflating: /content/content/Licenta/Processed_RSNA2/NEGATIVE/24900_1838653365.png  \n",
            "  inflating: /content/content/Licenta/Processed_RSNA2/NEGATIVE/45100_1395064063.png  \n",
            "  inflating: /content/content/Licenta/Processed_RSNA2/NEGATIVE/7295_298241519.png  \n",
            "  inflating: /content/content/Licenta/Processed_RSNA2/NEGATIVE/10363_200204124.png  \n",
            "  inflating: /content/content/Licenta/Processed_RSNA2/NEGATIVE/11416_94279331.png  \n",
            "  inflating: /content/content/Licenta/Processed_RSNA2/NEGATIVE/63905_651093251.png  \n",
            "  inflating: /content/content/Licenta/Processed_RSNA2/NEGATIVE/5444_2041025701.png  \n",
            "  inflating: /content/content/Licenta/Processed_RSNA2/NEGATIVE/60724_1549427543.png  \n",
            "  inflating: /content/content/Licenta/Processed_RSNA2/NEGATIVE/31789_322203359.png  \n",
            "  inflating: /content/content/Licenta/Processed_RSNA2/NEGATIVE/48102_773031468.png  \n",
            "  inflating: /content/content/Licenta/Processed_RSNA2/NEGATIVE/28911_209780787.png  \n",
            "  inflating: /content/content/Licenta/Processed_RSNA2/NEGATIVE/12934_1194524264.png  \n",
            "  inflating: /content/content/Licenta/Processed_RSNA2/NEGATIVE/32985_1570308759.png  \n",
            "  inflating: /content/content/Licenta/Processed_RSNA2/NEGATIVE/14124_992759123.png  \n",
            "  inflating: /content/content/Licenta/Processed_RSNA2/NEGATIVE/9896_1749717710.png  \n",
            "  inflating: /content/content/Licenta/Processed_RSNA2/NEGATIVE/43332_841766181.png  \n",
            "  inflating: /content/content/Licenta/Processed_RSNA2/NEGATIVE/31023_541628105.png  \n",
            "  inflating: /content/content/Licenta/Processed_RSNA2/NEGATIVE/56391_904999384.png  \n",
            "  inflating: /content/content/Licenta/Processed_RSNA2/NEGATIVE/40177_565997535.png  \n",
            "  inflating: /content/content/Licenta/Processed_RSNA2/NEGATIVE/41596_1248256163.png  \n",
            "  inflating: /content/content/Licenta/Processed_RSNA2/NEGATIVE/45777_1278664925.png  \n",
            "  inflating: /content/content/Licenta/Processed_RSNA2/NEGATIVE/45071_342736477.png  \n",
            "  inflating: /content/content/Licenta/Processed_RSNA2/NEGATIVE/39588_1929572135.png  \n",
            "  inflating: /content/content/Licenta/Processed_RSNA2/NEGATIVE/20423_1982976438.png  \n",
            "  inflating: /content/content/Licenta/Processed_RSNA2/NEGATIVE/2541_1673157820.png  \n",
            "  inflating: /content/content/Licenta/Processed_RSNA2/NEGATIVE/9989_439796429.png  \n",
            "  inflating: /content/content/Licenta/Processed_RSNA2/NEGATIVE/23129_1862506268.png  \n",
            "  inflating: /content/content/Licenta/Processed_RSNA2/NEGATIVE/17582_415344632.png  \n",
            "  inflating: /content/content/Licenta/Processed_RSNA2/NEGATIVE/62200_1149399691.png  \n",
            "  inflating: /content/content/Licenta/Processed_RSNA2/NEGATIVE/17507_1509848268.png  \n",
            "  inflating: /content/content/Licenta/Processed_RSNA2/NEGATIVE/53201_369878405.png  \n",
            "  inflating: /content/content/Licenta/Processed_RSNA2/NEGATIVE/12526_727655405.png  \n",
            "  inflating: /content/content/Licenta/Processed_RSNA2/NEGATIVE/60786_1504952774.png  \n",
            "  inflating: /content/content/Licenta/Processed_RSNA2/NEGATIVE/20337_272702480.png  \n",
            "  inflating: /content/content/Licenta/Processed_RSNA2/NEGATIVE/25587_1200281859.png  \n",
            "  inflating: /content/content/Licenta/Processed_RSNA2/NEGATIVE/45326_1823411006.png  \n",
            "  inflating: /content/content/Licenta/Processed_RSNA2/NEGATIVE/49211_743669243.png  \n",
            "  inflating: /content/content/Licenta/Processed_RSNA2/NEGATIVE/44906_335574696.png  \n",
            "  inflating: /content/content/Licenta/Processed_RSNA2/NEGATIVE/20621_1834987980.png  \n",
            "  inflating: /content/content/Licenta/Processed_RSNA2/NEGATIVE/6590_1011630749.png  \n",
            "  inflating: /content/content/Licenta/Processed_RSNA2/NEGATIVE/37448_1948308308.png  \n",
            "  inflating: /content/content/Licenta/Processed_RSNA2/NEGATIVE/22826_1624383188.png  \n",
            "  inflating: /content/content/Licenta/Processed_RSNA2/NEGATIVE/14142_1357554505.png  \n",
            "  inflating: /content/content/Licenta/Processed_RSNA2/NEGATIVE/34200_474767569.png  \n",
            "  inflating: /content/content/Licenta/Processed_RSNA2/NEGATIVE/1765_267470974.png  \n",
            "  inflating: /content/content/Licenta/Processed_RSNA2/NEGATIVE/5110_1682117507.png  \n",
            "  inflating: /content/content/Licenta/Processed_RSNA2/NEGATIVE/34862_162291005.png  \n",
            "  inflating: /content/content/Licenta/Processed_RSNA2/NEGATIVE/15931_1674997370.png  \n",
            "  inflating: /content/content/Licenta/Processed_RSNA2/NEGATIVE/56345_449174614.png  \n",
            "  inflating: /content/content/Licenta/Processed_RSNA2/NEGATIVE/36816_485028858.png  \n",
            "  inflating: /content/content/Licenta/Processed_RSNA2/NEGATIVE/11446_1680862182.png  \n",
            "  inflating: /content/content/Licenta/Processed_RSNA2/NEGATIVE/56438_1570153494.png  \n",
            "  inflating: /content/content/Licenta/Processed_RSNA2/NEGATIVE/57672_622309546.png  \n",
            "  inflating: /content/content/Licenta/Processed_RSNA2/NEGATIVE/53678_480466941.png  \n",
            "  inflating: /content/content/Licenta/Processed_RSNA2/NEGATIVE/16719_462391783.png  \n",
            "  inflating: /content/content/Licenta/Processed_RSNA2/NEGATIVE/17468_1761920973.png  \n",
            "  inflating: /content/content/Licenta/Processed_RSNA2/NEGATIVE/30595_1900775426.png  \n",
            "  inflating: /content/content/Licenta/Processed_RSNA2/NEGATIVE/45150_1767584214.png  \n",
            "  inflating: /content/content/Licenta/Processed_RSNA2/NEGATIVE/64397_321907071.png  \n",
            "  inflating: /content/content/Licenta/Processed_RSNA2/NEGATIVE/17220_789692032.png  \n",
            "  inflating: /content/content/Licenta/Processed_RSNA2/NEGATIVE/29706_851402678.png  \n",
            "  inflating: /content/content/Licenta/Processed_RSNA2/NEGATIVE/13487_1092753005.png  \n",
            "  inflating: /content/content/Licenta/Processed_RSNA2/NEGATIVE/58628_1769695051.png  \n",
            "  inflating: /content/content/Licenta/Processed_RSNA2/NEGATIVE/51702_1853830477.png  \n",
            "  inflating: /content/content/Licenta/Processed_RSNA2/NEGATIVE/5276_1587473083.png  \n",
            "  inflating: /content/content/Licenta/Processed_RSNA2/NEGATIVE/40278_923445040.png  \n",
            "  inflating: /content/content/Licenta/Processed_RSNA2/NEGATIVE/5022_875873651.png  \n",
            "  inflating: /content/content/Licenta/Processed_RSNA2/NEGATIVE/45207_1571137193.png  \n",
            "  inflating: /content/content/Licenta/Processed_RSNA2/NEGATIVE/59425_932174049.png  \n",
            "  inflating: /content/content/Licenta/Processed_RSNA2/NEGATIVE/28624_867622313.png  \n",
            "  inflating: /content/content/Licenta/Processed_RSNA2/NEGATIVE/9289_1005386457.png  \n",
            "  inflating: /content/content/Licenta/Processed_RSNA2/NEGATIVE/10851_1797968584.png  \n",
            "  inflating: /content/content/Licenta/Processed_RSNA2/NEGATIVE/34953_1437311145.png  \n",
            "  inflating: /content/content/Licenta/Processed_RSNA2/NEGATIVE/16502_585352104.png  \n",
            "  inflating: /content/content/Licenta/Processed_RSNA2/NEGATIVE/412_1256105162.png  \n",
            "  inflating: /content/content/Licenta/Processed_RSNA2/NEGATIVE/28408_605336672.png  \n",
            "  inflating: /content/content/Licenta/Processed_RSNA2/NEGATIVE/65044_456107837.png  \n",
            "  inflating: /content/content/Licenta/Processed_RSNA2/NEGATIVE/50812_1629500504.png  \n",
            "  inflating: /content/content/Licenta/Processed_RSNA2/NEGATIVE/25909_1833901306.png  \n",
            "  inflating: /content/content/Licenta/Processed_RSNA2/NEGATIVE/56737_2104149380.png  \n",
            "  inflating: /content/content/Licenta/Processed_RSNA2/NEGATIVE/12893_579135021.png  \n",
            "  inflating: /content/content/Licenta/Processed_RSNA2/NEGATIVE/49151_207494331.png  \n",
            "  inflating: /content/content/Licenta/Processed_RSNA2/NEGATIVE/3476_79173419.png  \n",
            "  inflating: /content/content/Licenta/Processed_RSNA2/NEGATIVE/3681_1453541308.png  \n",
            "  inflating: /content/content/Licenta/Processed_RSNA2/NEGATIVE/24219_1031247468.png  \n",
            "  inflating: /content/content/Licenta/Processed_RSNA2/NEGATIVE/19722_342924419.png  \n",
            "  inflating: /content/content/Licenta/Processed_RSNA2/NEGATIVE/8728_1806447841.png  \n",
            "  inflating: /content/content/Licenta/Processed_RSNA2/NEGATIVE/27386_163952238.png  \n",
            "  inflating: /content/content/Licenta/Processed_RSNA2/NEGATIVE/47789_1012385036.png  \n",
            "  inflating: /content/content/Licenta/Processed_RSNA2/NEGATIVE/8698_2026509258.png  \n",
            "  inflating: /content/content/Licenta/Processed_RSNA2/NEGATIVE/27365_1429499920.png  \n",
            "  inflating: /content/content/Licenta/Processed_RSNA2/NEGATIVE/58616_426151939.png  \n",
            "  inflating: /content/content/Licenta/Processed_RSNA2/NEGATIVE/37416_1295162032.png  \n",
            "  inflating: /content/content/Licenta/Processed_RSNA2/NEGATIVE/55712_2109022413.png  \n",
            "  inflating: /content/content/Licenta/Processed_RSNA2/NEGATIVE/54014_931212793.png  \n",
            "  inflating: /content/content/Licenta/Processed_RSNA2/NEGATIVE/53024_1106633169.png  \n",
            "  inflating: /content/content/Licenta/Processed_RSNA2/NEGATIVE/23006_684548968.png  \n",
            "  inflating: /content/content/Licenta/Processed_RSNA2/NEGATIVE/39826_329861597.png  \n",
            "  inflating: /content/content/Licenta/Processed_RSNA2/NEGATIVE/45594_1110085319.png  \n",
            "  inflating: /content/content/Licenta/Processed_RSNA2/NEGATIVE/23735_44757094.png  \n",
            "  inflating: /content/content/Licenta/Processed_RSNA2/NEGATIVE/33041_1074482491.png  \n",
            "  inflating: /content/content/Licenta/Processed_RSNA2/NEGATIVE/28707_194282382.png  \n",
            "  inflating: /content/content/Licenta/Processed_RSNA2/NEGATIVE/36866_1154453478.png  \n",
            "  inflating: /content/content/Licenta/Processed_RSNA2/NEGATIVE/16977_375699083.png  \n",
            "  inflating: /content/content/Licenta/Processed_RSNA2/NEGATIVE/31698_1043252255.png  \n",
            "  inflating: /content/content/Licenta/Processed_RSNA2/NEGATIVE/16785_1987431205.png  \n",
            "  inflating: /content/content/Licenta/Processed_RSNA2/NEGATIVE/22860_768375237.png  \n",
            "  inflating: /content/content/Licenta/Processed_RSNA2/NEGATIVE/64111_1788505441.png  \n",
            "  inflating: /content/content/Licenta/Processed_RSNA2/NEGATIVE/62875_242096680.png  \n",
            "  inflating: /content/content/Licenta/Processed_RSNA2/NEGATIVE/55195_292458849.png  \n",
            "  inflating: /content/content/Licenta/Processed_RSNA2/NEGATIVE/42642_1547768078.png  \n",
            "  inflating: /content/content/Licenta/Processed_RSNA2/NEGATIVE/26536_899723978.png  \n",
            "  inflating: /content/content/Licenta/Processed_RSNA2/NEGATIVE/45827_339192897.png  \n",
            "  inflating: /content/content/Licenta/Processed_RSNA2/NEGATIVE/63686_1038932115.png  \n",
            "  inflating: /content/content/Licenta/Processed_RSNA2/NEGATIVE/14157_1917286922.png  \n",
            "  inflating: /content/content/Licenta/Processed_RSNA2/NEGATIVE/3491_1287209188.png  \n",
            "  inflating: /content/content/Licenta/Processed_RSNA2/NEGATIVE/4045_1014347548.png  \n",
            "  inflating: /content/content/Licenta/Processed_RSNA2/NEGATIVE/61662_827808962.png  \n",
            "  inflating: /content/content/Licenta/Processed_RSNA2/NEGATIVE/47866_1736445998.png  \n",
            "  inflating: /content/content/Licenta/Processed_RSNA2/NEGATIVE/29996_396315996.png  \n",
            "  inflating: /content/content/Licenta/Processed_RSNA2/NEGATIVE/31511_1246196873.png  \n",
            "  inflating: /content/content/Licenta/Processed_RSNA2/NEGATIVE/56377_1951181917.png  \n",
            "  inflating: /content/content/Licenta/Processed_RSNA2/NEGATIVE/18274_1277919451.png  \n",
            "  inflating: /content/content/Licenta/Processed_RSNA2/NEGATIVE/17620_1744629858.png  \n",
            "  inflating: /content/content/Licenta/Processed_RSNA2/NEGATIVE/32031_1139365145.png  \n",
            "  inflating: /content/content/Licenta/Processed_RSNA2/NEGATIVE/10810_125143286.png  \n",
            "  inflating: /content/content/Licenta/Processed_RSNA2/NEGATIVE/64726_1840839155.png  \n",
            "  inflating: /content/content/Licenta/Processed_RSNA2/NEGATIVE/48148_1156390411.png  \n",
            "  inflating: /content/content/Licenta/Processed_RSNA2/NEGATIVE/30262_1266490908.png  \n",
            "  inflating: /content/content/Licenta/Processed_RSNA2/NEGATIVE/28996_1866707330.png  \n",
            "  inflating: /content/content/Licenta/Processed_RSNA2/NEGATIVE/19807_101260102.png  \n",
            "  inflating: /content/content/Licenta/Processed_RSNA2/NEGATIVE/16905_1052497622.png  \n",
            "  inflating: /content/content/Licenta/Processed_RSNA2/NEGATIVE/37852_1127783615.png  \n",
            "  inflating: /content/content/Licenta/Processed_RSNA2/NEGATIVE/37132_1976224551.png  \n",
            "  inflating: /content/content/Licenta/Processed_RSNA2/NEGATIVE/46818_1096931215.png  \n",
            "  inflating: /content/content/Licenta/Processed_RSNA2/NEGATIVE/22403_1378510365.png  \n",
            "  inflating: /content/content/Licenta/Processed_RSNA2/NEGATIVE/51029_2143433782.png  \n",
            "  inflating: /content/content/Licenta/Processed_RSNA2/NEGATIVE/32192_2029002502.png  \n",
            "  inflating: /content/content/Licenta/Processed_RSNA2/NEGATIVE/62520_985703112.png  \n",
            "  inflating: /content/content/Licenta/Processed_RSNA2/NEGATIVE/44966_1763749613.png  \n",
            "  inflating: /content/content/Licenta/Processed_RSNA2/NEGATIVE/39916_1773624517.png  \n",
            "  inflating: /content/content/Licenta/Processed_RSNA2/NEGATIVE/51967_1988492111.png  \n",
            "  inflating: /content/content/Licenta/Processed_RSNA2/NEGATIVE/10486_187863936.png  \n",
            "  inflating: /content/content/Licenta/Processed_RSNA2/NEGATIVE/25798_925719938.png  \n",
            "  inflating: /content/content/Licenta/Processed_RSNA2/NEGATIVE/2721_1169992809.png  \n",
            "  inflating: /content/content/Licenta/Processed_RSNA2/NEGATIVE/31811_2116276784.png  \n",
            "  inflating: /content/content/Licenta/Processed_RSNA2/NEGATIVE/63816_1238166688.png  \n",
            "  inflating: /content/content/Licenta/Processed_RSNA2/NEGATIVE/30807_1328979166.png  \n",
            "  inflating: /content/content/Licenta/Processed_RSNA2/NEGATIVE/53226_1236780607.png  \n",
            "  inflating: /content/content/Licenta/Processed_RSNA2/NEGATIVE/7601_898268426.png  \n",
            "  inflating: /content/content/Licenta/Processed_RSNA2/NEGATIVE/63745_2074379756.png  \n",
            "  inflating: /content/content/Licenta/Processed_RSNA2/NEGATIVE/31731_1183763138.png  \n",
            "Archive:  /content/drive/MyDrive/Licenta/POSITIVE.zip\n",
            "  inflating: /content/content/Licenta/Processed_RSNA2/POSITIVE/5769_673313337.png  \n",
            "  inflating: /content/content/Licenta/Processed_RSNA2/POSITIVE/10940_420829283.png  \n",
            "  inflating: /content/content/Licenta/Processed_RSNA2/POSITIVE/29664_1036635644.png  \n",
            "  inflating: /content/content/Licenta/Processed_RSNA2/POSITIVE/4696_2042369465.png  \n",
            "  inflating: /content/content/Licenta/Processed_RSNA2/POSITIVE/65224_1876649852.png  \n",
            "  inflating: /content/content/Licenta/Processed_RSNA2/POSITIVE/24916_378623093.png  \n",
            "  inflating: /content/content/Licenta/Processed_RSNA2/POSITIVE/41584_1735459739.png  \n",
            "  inflating: /content/content/Licenta/Processed_RSNA2/POSITIVE/44709_650076091.png  \n",
            "  inflating: /content/content/Licenta/Processed_RSNA2/POSITIVE/46095_2141709197.png  \n",
            "  inflating: /content/content/Licenta/Processed_RSNA2/POSITIVE/64055_2068570916.png  \n",
            "  inflating: /content/content/Licenta/Processed_RSNA2/POSITIVE/2489_557158155.png  \n",
            "  inflating: /content/content/Licenta/Processed_RSNA2/POSITIVE/30093_374115059.png  \n",
            "  inflating: /content/content/Licenta/Processed_RSNA2/POSITIVE/41359_1802579446.png  \n",
            "  inflating: /content/content/Licenta/Processed_RSNA2/POSITIVE/63053_358240402.png  \n",
            "  inflating: /content/content/Licenta/Processed_RSNA2/POSITIVE/36706_1533561690.png  \n",
            "  inflating: /content/content/Licenta/Processed_RSNA2/POSITIVE/38040_336602586.png  \n",
            "  inflating: /content/content/Licenta/Processed_RSNA2/POSITIVE/46090_1915891363.png  \n",
            "  inflating: /content/content/Licenta/Processed_RSNA2/POSITIVE/39920_2000410429.png  \n",
            "  inflating: /content/content/Licenta/Processed_RSNA2/POSITIVE/28344_2037343606.png  \n",
            "  inflating: /content/content/Licenta/Processed_RSNA2/POSITIVE/53727_2097422495.png  \n",
            "  inflating: /content/content/Licenta/Processed_RSNA2/POSITIVE/58564_1081841028.png  \n",
            "  inflating: /content/content/Licenta/Processed_RSNA2/POSITIVE/39702_399564828.png  \n",
            "  inflating: /content/content/Licenta/Processed_RSNA2/POSITIVE/2133_1976974923.png  \n",
            "  inflating: /content/content/Licenta/Processed_RSNA2/POSITIVE/46225_1027379897.png  \n",
            "  inflating: /content/content/Licenta/Processed_RSNA2/POSITIVE/34676_1586860851.png  \n",
            "  inflating: /content/content/Licenta/Processed_RSNA2/POSITIVE/11341_1810004579.png  \n",
            "  inflating: /content/content/Licenta/Processed_RSNA2/POSITIVE/55842_115057946.png  \n",
            "  inflating: /content/content/Licenta/Processed_RSNA2/POSITIVE/8675_1748372351.png  \n",
            "  inflating: /content/content/Licenta/Processed_RSNA2/POSITIVE/19003_4493744.png  \n",
            "  inflating: /content/content/Licenta/Processed_RSNA2/POSITIVE/4083_1022886281.png  \n",
            "  inflating: /content/content/Licenta/Processed_RSNA2/POSITIVE/34962_1766220026.png  \n",
            "  inflating: /content/content/Licenta/Processed_RSNA2/POSITIVE/31582_564250417.png  \n",
            "  inflating: /content/content/Licenta/Processed_RSNA2/POSITIVE/1025_1803952236.png  \n",
            "  inflating: /content/content/Licenta/Processed_RSNA2/POSITIVE/54084_852493177.png  \n",
            "  inflating: /content/content/Licenta/Processed_RSNA2/POSITIVE/31750_1089314305.png  \n",
            "  inflating: /content/content/Licenta/Processed_RSNA2/POSITIVE/58825_2106831343.png  \n",
            "  inflating: /content/content/Licenta/Processed_RSNA2/POSITIVE/49636_1682308781.png  \n",
            "  inflating: /content/content/Licenta/Processed_RSNA2/POSITIVE/31964_1352530320.png  \n",
            "  inflating: /content/content/Licenta/Processed_RSNA2/POSITIVE/57218_1551310129.png  \n",
            "  inflating: /content/content/Licenta/Processed_RSNA2/POSITIVE/59322_1797886948.png  \n",
            "  inflating: /content/content/Licenta/Processed_RSNA2/POSITIVE/39355_685765674.png  \n",
            "  inflating: /content/content/Licenta/Processed_RSNA2/POSITIVE/47794_2142591939.png  \n",
            "  inflating: /content/content/Licenta/Processed_RSNA2/POSITIVE/17222_637984831.png  \n",
            "  inflating: /content/content/Licenta/Processed_RSNA2/POSITIVE/46309_1515316856.png  \n",
            "  inflating: /content/content/Licenta/Processed_RSNA2/POSITIVE/35227_1532464574.png  \n",
            "  inflating: /content/content/Licenta/Processed_RSNA2/POSITIVE/32527_713303658.png  \n",
            "  inflating: /content/content/Licenta/Processed_RSNA2/POSITIVE/32740_1816420208.png  \n",
            "  inflating: /content/content/Licenta/Processed_RSNA2/POSITIVE/13845_922229804.png  \n",
            "  inflating: /content/content/Licenta/Processed_RSNA2/POSITIVE/31046_1184643445.png  \n",
            "  inflating: /content/content/Licenta/Processed_RSNA2/POSITIVE/61019_1303317067.png  \n",
            "  inflating: /content/content/Licenta/Processed_RSNA2/POSITIVE/4696_1846316095.png  \n",
            "  inflating: /content/content/Licenta/Processed_RSNA2/POSITIVE/49316_2061693834.png  \n",
            "  inflating: /content/content/Licenta/Processed_RSNA2/POSITIVE/23386_671342702.png  \n",
            "  inflating: /content/content/Licenta/Processed_RSNA2/POSITIVE/24656_1539009830.png  \n",
            "  inflating: /content/content/Licenta/Processed_RSNA2/POSITIVE/26048_104399993.png  \n",
            "  inflating: /content/content/Licenta/Processed_RSNA2/POSITIVE/64534_453797042.png  \n",
            "  inflating: /content/content/Licenta/Processed_RSNA2/POSITIVE/62996_1386866094.png  \n",
            "  inflating: /content/content/Licenta/Processed_RSNA2/POSITIVE/64449_291721849.png  \n",
            "  inflating: /content/content/Licenta/Processed_RSNA2/POSITIVE/13116_238763713.png  \n",
            "  inflating: /content/content/Licenta/Processed_RSNA2/POSITIVE/43004_1829769663.png  \n",
            "  inflating: /content/content/Licenta/Processed_RSNA2/POSITIVE/17222_568569032.png  \n",
            "  inflating: /content/content/Licenta/Processed_RSNA2/POSITIVE/34204_813681757.png  \n",
            "  inflating: /content/content/Licenta/Processed_RSNA2/POSITIVE/3542_1165293149.png  \n",
            "  inflating: /content/content/Licenta/Processed_RSNA2/POSITIVE/10635_1095412840.png  \n",
            "  inflating: /content/content/Licenta/Processed_RSNA2/POSITIVE/63053_151272201.png  \n",
            "  inflating: /content/content/Licenta/Processed_RSNA2/POSITIVE/12305_2026358482.png  \n",
            "  inflating: /content/content/Licenta/Processed_RSNA2/POSITIVE/44836_1251408203.png  \n",
            "  inflating: /content/content/Licenta/Processed_RSNA2/POSITIVE/47129_1251467516.png  \n",
            "  inflating: /content/content/Licenta/Processed_RSNA2/POSITIVE/57754_186045163.png  \n",
            "  inflating: /content/content/Licenta/Processed_RSNA2/POSITIVE/60001_1236280814.png  \n",
            "  inflating: /content/content/Licenta/Processed_RSNA2/POSITIVE/3568_1291878323.png  \n",
            "  inflating: /content/content/Licenta/Processed_RSNA2/POSITIVE/18709_862867450.png  \n",
            "  inflating: /content/content/Licenta/Processed_RSNA2/POSITIVE/15696_2088632300.png  \n",
            "  inflating: /content/content/Licenta/Processed_RSNA2/POSITIVE/17535_967529354.png  \n",
            "  inflating: /content/content/Licenta/Processed_RSNA2/POSITIVE/64956_1997115272.png  \n",
            "  inflating: /content/content/Licenta/Processed_RSNA2/POSITIVE/50600_1317862974.png  \n",
            "  inflating: /content/content/Licenta/Processed_RSNA2/POSITIVE/65427_808462263.png  \n",
            "  inflating: /content/content/Licenta/Processed_RSNA2/POSITIVE/3542_14104315.png  \n",
            "  inflating: /content/content/Licenta/Processed_RSNA2/POSITIVE/236_1531879119.png  \n",
            "  inflating: /content/content/Licenta/Processed_RSNA2/POSITIVE/37836_1632383378.png  \n",
            "  inflating: /content/content/Licenta/Processed_RSNA2/POSITIVE/16518_442815464.png  \n",
            "  inflating: /content/content/Licenta/Processed_RSNA2/POSITIVE/25709_1082753612.png  \n",
            "  inflating: /content/content/Licenta/Processed_RSNA2/POSITIVE/25679_1160860283.png  \n",
            "  inflating: /content/content/Licenta/Processed_RSNA2/POSITIVE/20251_401181500.png  \n",
            "  inflating: /content/content/Licenta/Processed_RSNA2/POSITIVE/28996_1922679376.png  \n",
            "  inflating: /content/content/Licenta/Processed_RSNA2/POSITIVE/50328_735202245.png  \n",
            "  inflating: /content/content/Licenta/Processed_RSNA2/POSITIVE/46014_1205666736.png  \n",
            "  inflating: /content/content/Licenta/Processed_RSNA2/POSITIVE/64439_1423923778.png  \n",
            "  inflating: /content/content/Licenta/Processed_RSNA2/POSITIVE/57525_550007476.png  \n",
            "  inflating: /content/content/Licenta/Processed_RSNA2/POSITIVE/4888_759765009.png  \n",
            "  inflating: /content/content/Licenta/Processed_RSNA2/POSITIVE/60519_1303753411.png  \n",
            "  inflating: /content/content/Licenta/Processed_RSNA2/POSITIVE/31964_1223615557.png  \n",
            "  inflating: /content/content/Licenta/Processed_RSNA2/POSITIVE/14962_1306633485.png  \n",
            "  inflating: /content/content/Licenta/Processed_RSNA2/POSITIVE/9010_155222898.png  \n",
            "  inflating: /content/content/Licenta/Processed_RSNA2/POSITIVE/37163_1351450930.png  \n",
            "  inflating: /content/content/Licenta/Processed_RSNA2/POSITIVE/47404_1256209009.png  \n",
            "  inflating: /content/content/Licenta/Processed_RSNA2/POSITIVE/1524_1621626040.png  \n",
            "  inflating: /content/content/Licenta/Processed_RSNA2/POSITIVE/865_806916891.png  \n",
            "  inflating: /content/content/Licenta/Processed_RSNA2/POSITIVE/37032_2094451064.png  \n",
            "  inflating: /content/content/Licenta/Processed_RSNA2/POSITIVE/24643_333469112.png  \n",
            "  inflating: /content/content/Licenta/Processed_RSNA2/POSITIVE/41530_788648186.png  \n",
            "  inflating: /content/content/Licenta/Processed_RSNA2/POSITIVE/31107_1535897244.png  \n",
            "  inflating: /content/content/Licenta/Processed_RSNA2/POSITIVE/11937_457443056.png  \n",
            "  inflating: /content/content/Licenta/Processed_RSNA2/POSITIVE/19064_1424392657.png  \n",
            "  inflating: /content/content/Licenta/Processed_RSNA2/POSITIVE/30093_125432531.png  \n",
            "  inflating: /content/content/Licenta/Processed_RSNA2/POSITIVE/48493_104113094.png  \n",
            "  inflating: /content/content/Licenta/Processed_RSNA2/POSITIVE/19750_684882869.png  \n",
            "  inflating: /content/content/Licenta/Processed_RSNA2/POSITIVE/6107_2145202604.png  \n",
            "  inflating: /content/content/Licenta/Processed_RSNA2/POSITIVE/4953_1788011383.png  \n",
            "  inflating: /content/content/Licenta/Processed_RSNA2/POSITIVE/65222_749095883.png  \n",
            "  inflating: /content/content/Licenta/Processed_RSNA2/POSITIVE/49313_477391721.png  \n",
            "  inflating: /content/content/Licenta/Processed_RSNA2/POSITIVE/57229_1874344878.png  \n",
            "  inflating: /content/content/Licenta/Processed_RSNA2/POSITIVE/7053_212800963.png  \n",
            "  inflating: /content/content/Licenta/Processed_RSNA2/POSITIVE/54085_1006201562.png  \n",
            "  inflating: /content/content/Licenta/Processed_RSNA2/POSITIVE/62401_326844470.png  \n",
            "  inflating: /content/content/Licenta/Processed_RSNA2/POSITIVE/42857_1402437921.png  \n",
            "  inflating: /content/content/Licenta/Processed_RSNA2/POSITIVE/49954_1797342487.png  \n",
            "  inflating: /content/content/Licenta/Processed_RSNA2/POSITIVE/4953_146985323.png  \n",
            "  inflating: /content/content/Licenta/Processed_RSNA2/POSITIVE/62955_144177095.png  \n",
            "  inflating: /content/content/Licenta/Processed_RSNA2/POSITIVE/26862_295341643.png  \n",
            "  inflating: /content/content/Licenta/Processed_RSNA2/POSITIVE/36420_1324605410.png  \n",
            "  inflating: /content/content/Licenta/Processed_RSNA2/POSITIVE/52181_1884342055.png  \n",
            "  inflating: /content/content/Licenta/Processed_RSNA2/POSITIVE/30262_1705776751.png  \n",
            "  inflating: /content/content/Licenta/Processed_RSNA2/POSITIVE/10638_1696075167.png  \n",
            "  inflating: /content/content/Licenta/Processed_RSNA2/POSITIVE/25323_106495931.png  \n",
            "  inflating: /content/content/Licenta/Processed_RSNA2/POSITIVE/54084_1440235181.png  \n",
            "  inflating: /content/content/Licenta/Processed_RSNA2/POSITIVE/4953_94584715.png  \n",
            "  inflating: /content/content/Licenta/Processed_RSNA2/POSITIVE/21445_871365777.png  \n",
            "  inflating: /content/content/Licenta/Processed_RSNA2/POSITIVE/36034_810135280.png  \n",
            "  inflating: /content/content/Licenta/Processed_RSNA2/POSITIVE/60033_1168039233.png  \n",
            "  inflating: /content/content/Licenta/Processed_RSNA2/POSITIVE/21720_1900007287.png  \n",
            "  inflating: /content/content/Licenta/Processed_RSNA2/POSITIVE/1025_773597682.png  \n",
            "  inflating: /content/content/Licenta/Processed_RSNA2/POSITIVE/1878_189362032.png  \n",
            "  inflating: /content/content/Licenta/Processed_RSNA2/POSITIVE/22616_2115811863.png  \n",
            "  inflating: /content/content/Licenta/Processed_RSNA2/POSITIVE/57218_1829910078.png  \n",
            "  inflating: /content/content/Licenta/Processed_RSNA2/POSITIVE/64956_1305773827.png  \n",
            "  inflating: /content/content/Licenta/Processed_RSNA2/POSITIVE/19028_1172976203.png  \n",
            "  inflating: /content/content/Licenta/Processed_RSNA2/POSITIVE/40774_2119129069.png  \n",
            "  inflating: /content/content/Licenta/Processed_RSNA2/POSITIVE/12392_982883275.png  \n",
            "  inflating: /content/content/Licenta/Processed_RSNA2/POSITIVE/28989_506550282.png  \n",
            "  inflating: /content/content/Licenta/Processed_RSNA2/POSITIVE/35847_1069414688.png  \n",
            "  inflating: /content/content/Licenta/Processed_RSNA2/POSITIVE/56813_1366895593.png  \n",
            "  inflating: /content/content/Licenta/Processed_RSNA2/POSITIVE/22948_475865394.png  \n",
            "  inflating: /content/content/Licenta/Processed_RSNA2/POSITIVE/23101_22058316.png  \n",
            "  inflating: /content/content/Licenta/Processed_RSNA2/POSITIVE/13331_1187678911.png  \n",
            "  inflating: /content/content/Licenta/Processed_RSNA2/POSITIVE/37032_1243050806.png  \n",
            "  inflating: /content/content/Licenta/Processed_RSNA2/POSITIVE/32743_857882013.png  \n",
            "  inflating: /content/content/Licenta/Processed_RSNA2/POSITIVE/18709_1774858262.png  \n",
            "  inflating: /content/content/Licenta/Processed_RSNA2/POSITIVE/13756_1210098281.png  \n",
            "  inflating: /content/content/Licenta/Processed_RSNA2/POSITIVE/12258_1429876928.png  \n",
            "  inflating: /content/content/Licenta/Processed_RSNA2/POSITIVE/9201_286472263.png  \n",
            "  inflating: /content/content/Licenta/Processed_RSNA2/POSITIVE/25432_1283242087.png  \n",
            "  inflating: /content/content/Licenta/Processed_RSNA2/POSITIVE/45810_2129233566.png  \n",
            "  inflating: /content/content/Licenta/Processed_RSNA2/POSITIVE/55879_1472857392.png  \n",
            "  inflating: /content/content/Licenta/Processed_RSNA2/POSITIVE/31364_776707293.png  \n",
            "  inflating: /content/content/Licenta/Processed_RSNA2/POSITIVE/46274_2144094168.png  \n",
            "  inflating: /content/content/Licenta/Processed_RSNA2/POSITIVE/20923_1925841866.png  \n",
            "  inflating: /content/content/Licenta/Processed_RSNA2/POSITIVE/25178_1215035771.png  \n",
            "  inflating: /content/content/Licenta/Processed_RSNA2/POSITIVE/31364_564998904.png  \n",
            "  inflating: /content/content/Licenta/Processed_RSNA2/POSITIVE/10589_1967460233.png  \n",
            "  inflating: /content/content/Licenta/Processed_RSNA2/POSITIVE/9840_111786935.png  \n",
            "  inflating: /content/content/Licenta/Processed_RSNA2/POSITIVE/53360_1859372199.png  \n",
            "  inflating: /content/content/Licenta/Processed_RSNA2/POSITIVE/47794_1291644410.png  \n",
            "  inflating: /content/content/Licenta/Processed_RSNA2/POSITIVE/48852_1631092327.png  \n",
            "  inflating: /content/content/Licenta/Processed_RSNA2/POSITIVE/4340_2097599250.png  \n",
            "  inflating: /content/content/Licenta/Processed_RSNA2/POSITIVE/39702_1845033354.png  \n",
            "  inflating: /content/content/Licenta/Processed_RSNA2/POSITIVE/35641_1873677554.png  \n",
            "  inflating: /content/content/Licenta/Processed_RSNA2/POSITIVE/57754_168975717.png  \n",
            "  inflating: /content/content/Licenta/Processed_RSNA2/POSITIVE/39723_2055158152.png  \n",
            "  inflating: /content/content/Licenta/Processed_RSNA2/POSITIVE/12153_1652537920.png  \n",
            "  inflating: /content/content/Licenta/Processed_RSNA2/POSITIVE/50644_1408030705.png  \n",
            "  inflating: /content/content/Licenta/Processed_RSNA2/POSITIVE/26974_744299051.png  \n",
            "  inflating: /content/content/Licenta/Processed_RSNA2/POSITIVE/42414_806687925.png  \n",
            "  inflating: /content/content/Licenta/Processed_RSNA2/POSITIVE/36174_144780883.png  \n",
            "  inflating: /content/content/Licenta/Processed_RSNA2/POSITIVE/52199_1031337660.png  \n",
            "  inflating: /content/content/Licenta/Processed_RSNA2/POSITIVE/30363_1208063064.png  \n",
            "  inflating: /content/content/Licenta/Processed_RSNA2/POSITIVE/33639_1212582559.png  \n",
            "  inflating: /content/content/Licenta/Processed_RSNA2/POSITIVE/9014_2058123035.png  \n",
            "  inflating: /content/content/Licenta/Processed_RSNA2/POSITIVE/40774_2078895538.png  \n",
            "  inflating: /content/content/Licenta/Processed_RSNA2/POSITIVE/3626_1942920371.png  \n",
            "  inflating: /content/content/Licenta/Processed_RSNA2/POSITIVE/12258_740439778.png  \n",
            "  inflating: /content/content/Licenta/Processed_RSNA2/POSITIVE/9481_1448380165.png  \n",
            "  inflating: /content/content/Licenta/Processed_RSNA2/POSITIVE/34053_390797277.png  \n",
            "  inflating: /content/content/Licenta/Processed_RSNA2/POSITIVE/51498_235064489.png  \n",
            "  inflating: /content/content/Licenta/Processed_RSNA2/POSITIVE/13116_739383742.png  \n",
            "  inflating: /content/content/Licenta/Processed_RSNA2/POSITIVE/9481_1205921930.png  \n",
            "  inflating: /content/content/Licenta/Processed_RSNA2/POSITIVE/8732_791267021.png  \n",
            "  inflating: /content/content/Licenta/Processed_RSNA2/POSITIVE/57153_28264075.png  \n",
            "  inflating: /content/content/Licenta/Processed_RSNA2/POSITIVE/55148_926538150.png  \n",
            "  inflating: /content/content/Licenta/Processed_RSNA2/POSITIVE/39920_993630484.png  \n",
            "  inflating: /content/content/Licenta/Processed_RSNA2/POSITIVE/10130_613462606.png  \n",
            "  inflating: /content/content/Licenta/Processed_RSNA2/POSITIVE/51498_1481006643.png  \n",
            "  inflating: /content/content/Licenta/Processed_RSNA2/POSITIVE/38311_300211801.png  \n",
            "  inflating: /content/content/Licenta/Processed_RSNA2/POSITIVE/64018_1923100903.png  \n",
            "  inflating: /content/content/Licenta/Processed_RSNA2/POSITIVE/59806_1938538147.png  \n",
            "  inflating: /content/content/Licenta/Processed_RSNA2/POSITIVE/27275_1280544598.png  \n",
            "  inflating: /content/content/Licenta/Processed_RSNA2/POSITIVE/44709_646346502.png  \n",
            "  inflating: /content/content/Licenta/Processed_RSNA2/POSITIVE/39280_1448042992.png  \n",
            "  inflating: /content/content/Licenta/Processed_RSNA2/POSITIVE/46905_1342667639.png  \n",
            "  inflating: /content/content/Licenta/Processed_RSNA2/POSITIVE/11937_1767654639.png  \n",
            "  inflating: /content/content/Licenta/Processed_RSNA2/POSITIVE/31745_953022973.png  \n",
            "  inflating: /content/content/Licenta/Processed_RSNA2/POSITIVE/44709_714148567.png  \n",
            "  inflating: /content/content/Licenta/Processed_RSNA2/POSITIVE/14292_1404257623.png  \n",
            "  inflating: /content/content/Licenta/Processed_RSNA2/POSITIVE/44780_1918822736.png  \n",
            "  inflating: /content/content/Licenta/Processed_RSNA2/POSITIVE/64908_1922052710.png  \n",
            "  inflating: /content/content/Licenta/Processed_RSNA2/POSITIVE/53394_1936644171.png  \n",
            "  inflating: /content/content/Licenta/Processed_RSNA2/POSITIVE/46495_2126140267.png  \n",
            "  inflating: /content/content/Licenta/Processed_RSNA2/POSITIVE/21315_355971526.png  \n",
            "  inflating: /content/content/Licenta/Processed_RSNA2/POSITIVE/25909_1201889471.png  \n",
            "  inflating: /content/content/Licenta/Processed_RSNA2/POSITIVE/55147_500450921.png  \n",
            "  inflating: /content/content/Licenta/Processed_RSNA2/POSITIVE/47794_515330003.png  \n",
            "  inflating: /content/content/Licenta/Processed_RSNA2/POSITIVE/34991_1060947010.png  \n",
            "  inflating: /content/content/Licenta/Processed_RSNA2/POSITIVE/28747_2075658562.png  \n",
            "  inflating: /content/content/Licenta/Processed_RSNA2/POSITIVE/8631_280870762.png  \n",
            "  inflating: /content/content/Licenta/Processed_RSNA2/POSITIVE/44836_677343035.png  \n",
            "  inflating: /content/content/Licenta/Processed_RSNA2/POSITIVE/32252_187375781.png  \n",
            "  inflating: /content/content/Licenta/Processed_RSNA2/POSITIVE/31750_1253104075.png  \n",
            "  inflating: /content/content/Licenta/Processed_RSNA2/POSITIVE/65244_766694861.png  \n",
            "  inflating: /content/content/Licenta/Processed_RSNA2/POSITIVE/60033_1188802546.png  \n",
            "  inflating: /content/content/Licenta/Processed_RSNA2/POSITIVE/34053_238449586.png  \n",
            "  inflating: /content/content/Licenta/Processed_RSNA2/POSITIVE/1703_40744983.png  \n",
            "  inflating: /content/content/Licenta/Processed_RSNA2/POSITIVE/32517_193351059.png  \n",
            "  inflating: /content/content/Licenta/Processed_RSNA2/POSITIVE/30836_714251521.png  \n",
            "  inflating: /content/content/Licenta/Processed_RSNA2/POSITIVE/64385_1032681733.png  \n",
            "  inflating: /content/content/Licenta/Processed_RSNA2/POSITIVE/23224_1592211523.png  \n",
            "  inflating: /content/content/Licenta/Processed_RSNA2/POSITIVE/55755_939219490.png  \n",
            "  inflating: /content/content/Licenta/Processed_RSNA2/POSITIVE/36034_80000307.png  \n",
            "  inflating: /content/content/Licenta/Processed_RSNA2/POSITIVE/16249_1313318609.png  \n",
            "  inflating: /content/content/Licenta/Processed_RSNA2/POSITIVE/64821_261440807.png  \n",
            "  inflating: /content/content/Licenta/Processed_RSNA2/POSITIVE/25550_1138491602.png  \n",
            "  inflating: /content/content/Licenta/Processed_RSNA2/POSITIVE/24643_748841369.png  \n",
            "  inflating: /content/content/Licenta/Processed_RSNA2/POSITIVE/47673_1583323112.png  \n",
            "  inflating: /content/content/Licenta/Processed_RSNA2/POSITIVE/45441_1448526292.png  \n",
            "  inflating: /content/content/Licenta/Processed_RSNA2/POSITIVE/7780_512684699.png  \n",
            "  inflating: /content/content/Licenta/Processed_RSNA2/POSITIVE/6303_1731900075.png  \n",
            "  inflating: /content/content/Licenta/Processed_RSNA2/POSITIVE/45441_1235507527.png  \n",
            "  inflating: /content/content/Licenta/Processed_RSNA2/POSITIVE/49316_1639342205.png  \n",
            "  inflating: /content/content/Licenta/Processed_RSNA2/POSITIVE/7493_285756005.png  \n",
            "  inflating: /content/content/Licenta/Processed_RSNA2/POSITIVE/36174_1018324731.png  \n",
            "  inflating: /content/content/Licenta/Processed_RSNA2/POSITIVE/16955_846765464.png  \n",
            "  inflating: /content/content/Licenta/Processed_RSNA2/POSITIVE/6659_886621098.png  \n",
            "  inflating: /content/content/Licenta/Processed_RSNA2/POSITIVE/16668_1015929339.png  \n",
            "  inflating: /content/content/Licenta/Processed_RSNA2/POSITIVE/44062_623439984.png  \n",
            "  inflating: /content/content/Licenta/Processed_RSNA2/POSITIVE/5911_1749421856.png  \n",
            "  inflating: /content/content/Licenta/Processed_RSNA2/POSITIVE/25178_1329415270.png  \n",
            "  inflating: /content/content/Licenta/Processed_RSNA2/POSITIVE/50250_1019022758.png  \n",
            "  inflating: /content/content/Licenta/Processed_RSNA2/POSITIVE/40511_1210260446.png  \n",
            "  inflating: /content/content/Licenta/Processed_RSNA2/POSITIVE/50328_788501336.png  \n",
            "  inflating: /content/content/Licenta/Processed_RSNA2/POSITIVE/37573_980979462.png  \n",
            "  inflating: /content/content/Licenta/Processed_RSNA2/POSITIVE/37836_1312846125.png  \n",
            "  inflating: /content/content/Licenta/Processed_RSNA2/POSITIVE/5235_2141301728.png  \n",
            "  inflating: /content/content/Licenta/Processed_RSNA2/POSITIVE/6659_630551380.png  \n",
            "  inflating: /content/content/Licenta/Processed_RSNA2/POSITIVE/39747_934952606.png  \n",
            "  inflating: /content/content/Licenta/Processed_RSNA2/POSITIVE/43880_290983776.png  \n",
            "  inflating: /content/content/Licenta/Processed_RSNA2/POSITIVE/44225_662938196.png  \n",
            "  inflating: /content/content/Licenta/Processed_RSNA2/POSITIVE/37931_1892232224.png  \n",
            "  inflating: /content/content/Licenta/Processed_RSNA2/POSITIVE/14941_1634151852.png  \n",
            "  inflating: /content/content/Licenta/Processed_RSNA2/POSITIVE/9559_1047452753.png  \n",
            "  inflating: /content/content/Licenta/Processed_RSNA2/POSITIVE/15696_891457301.png  \n",
            "  inflating: /content/content/Licenta/Processed_RSNA2/POSITIVE/63226_32033063.png  \n",
            "  inflating: /content/content/Licenta/Processed_RSNA2/POSITIVE/37213_238138823.png  \n",
            "  inflating: /content/content/Licenta/Processed_RSNA2/POSITIVE/63226_593509035.png  \n",
            "  inflating: /content/content/Licenta/Processed_RSNA2/POSITIVE/26700_1878879697.png  \n",
            "  inflating: /content/content/Licenta/Processed_RSNA2/POSITIVE/57216_1322452138.png  \n",
            "  inflating: /content/content/Licenta/Processed_RSNA2/POSITIVE/39085_2053280259.png  \n",
            "  inflating: /content/content/Licenta/Processed_RSNA2/POSITIVE/60001_1890233822.png  \n",
            "  inflating: /content/content/Licenta/Processed_RSNA2/POSITIVE/22502_1478262422.png  \n",
            "  inflating: /content/content/Licenta/Processed_RSNA2/POSITIVE/63706_696679390.png  \n",
            "  inflating: /content/content/Licenta/Processed_RSNA2/POSITIVE/19003_2082874992.png  \n",
            "  inflating: /content/content/Licenta/Processed_RSNA2/POSITIVE/25423_623014940.png  \n",
            "  inflating: /content/content/Licenta/Processed_RSNA2/POSITIVE/28747_650006359.png  \n",
            "  inflating: /content/content/Licenta/Processed_RSNA2/POSITIVE/43595_2979828.png  \n",
            "  inflating: /content/content/Licenta/Processed_RSNA2/POSITIVE/37573_1344523058.png  \n",
            "  inflating: /content/content/Licenta/Processed_RSNA2/POSITIVE/6018_998355765.png  \n",
            "  inflating: /content/content/Licenta/Processed_RSNA2/POSITIVE/9167_906855351.png  \n",
            "  inflating: /content/content/Licenta/Processed_RSNA2/POSITIVE/12195_91797551.png  \n",
            "  inflating: /content/content/Licenta/Processed_RSNA2/POSITIVE/6637_1889664344.png  \n",
            "  inflating: /content/content/Licenta/Processed_RSNA2/POSITIVE/1759_1811195939.png  \n",
            "  inflating: /content/content/Licenta/Processed_RSNA2/POSITIVE/47171_1934472220.png  \n",
            "  inflating: /content/content/Licenta/Processed_RSNA2/POSITIVE/28989_1880776532.png  \n",
            "  inflating: /content/content/Licenta/Processed_RSNA2/POSITIVE/24947_1231101161.png  \n",
            "  inflating: /content/content/Licenta/Processed_RSNA2/POSITIVE/47171_1482125963.png  \n",
            "  inflating: /content/content/Licenta/Processed_RSNA2/POSITIVE/11817_1812305728.png  \n",
            "  inflating: /content/content/Licenta/Processed_RSNA2/POSITIVE/11365_199041775.png  \n",
            "  inflating: /content/content/Licenta/Processed_RSNA2/POSITIVE/2489_57015221.png  \n",
            "  inflating: /content/content/Licenta/Processed_RSNA2/POSITIVE/16668_1494928875.png  \n",
            "  inflating: /content/content/Licenta/Processed_RSNA2/POSITIVE/61490_1437239083.png  \n",
            "  inflating: /content/content/Licenta/Processed_RSNA2/POSITIVE/13463_740921229.png  \n",
            "  inflating: /content/content/Licenta/Processed_RSNA2/POSITIVE/21867_1291014447.png  \n",
            "  inflating: /content/content/Licenta/Processed_RSNA2/POSITIVE/17891_1605416080.png  \n",
            "  inflating: /content/content/Licenta/Processed_RSNA2/POSITIVE/19159_471172267.png  \n",
            "  inflating: /content/content/Licenta/Processed_RSNA2/POSITIVE/42746_1401727204.png  \n",
            "  inflating: /content/content/Licenta/Processed_RSNA2/POSITIVE/9167_402545081.png  \n",
            "  inflating: /content/content/Licenta/Processed_RSNA2/POSITIVE/64930_2024346917.png  \n",
            "  inflating: /content/content/Licenta/Processed_RSNA2/POSITIVE/14769_1698536720.png  \n",
            "  inflating: /content/content/Licenta/Processed_RSNA2/POSITIVE/39747_620707174.png  \n",
            "  inflating: /content/content/Licenta/Processed_RSNA2/POSITIVE/48350_253719295.png  \n",
            "  inflating: /content/content/Licenta/Processed_RSNA2/POSITIVE/25550_343750555.png  \n",
            "  inflating: /content/content/Licenta/Processed_RSNA2/POSITIVE/57737_509366020.png  \n",
            "  inflating: /content/content/Licenta/Processed_RSNA2/POSITIVE/28057_1534271742.png  \n",
            "  inflating: /content/content/Licenta/Processed_RSNA2/POSITIVE/14962_1274788012.png  \n",
            "  inflating: /content/content/Licenta/Processed_RSNA2/POSITIVE/44121_958689703.png  \n",
            "  inflating: /content/content/Licenta/Processed_RSNA2/POSITIVE/4888_1456539286.png  \n",
            "  inflating: /content/content/Licenta/Processed_RSNA2/POSITIVE/40163_468017207.png  \n",
            "  inflating: /content/content/Licenta/Processed_RSNA2/POSITIVE/3542_593840512.png  \n",
            "  inflating: /content/content/Licenta/Processed_RSNA2/POSITIVE/53636_660579794.png  \n",
            "  inflating: /content/content/Licenta/Processed_RSNA2/POSITIVE/6018_640156723.png  \n",
            "  inflating: /content/content/Licenta/Processed_RSNA2/POSITIVE/28785_52731467.png  \n",
            "  inflating: /content/content/Licenta/Processed_RSNA2/POSITIVE/8641_1705465109.png  \n",
            "  inflating: /content/content/Licenta/Processed_RSNA2/POSITIVE/52056_2072547254.png  \n",
            "  inflating: /content/content/Licenta/Processed_RSNA2/POSITIVE/38123_228885438.png  \n",
            "  inflating: /content/content/Licenta/Processed_RSNA2/POSITIVE/63056_1783998558.png  \n",
            "  inflating: /content/content/Licenta/Processed_RSNA2/POSITIVE/33588_409921956.png  \n",
            "  inflating: /content/content/Licenta/Processed_RSNA2/POSITIVE/32057_269202549.png  \n",
            "  inflating: /content/content/Licenta/Processed_RSNA2/POSITIVE/42857_2134992811.png  \n",
            "  inflating: /content/content/Licenta/Processed_RSNA2/POSITIVE/49636_1520451015.png  \n",
            "  inflating: /content/content/Licenta/Processed_RSNA2/POSITIVE/56328_2019751492.png  \n",
            "  inflating: /content/content/Licenta/Processed_RSNA2/POSITIVE/51697_614234167.png  \n",
            "  inflating: /content/content/Licenta/Processed_RSNA2/POSITIVE/9481_467726444.png  \n",
            "  inflating: /content/content/Licenta/Processed_RSNA2/POSITIVE/32740_208676208.png  \n",
            "  inflating: /content/content/Licenta/Processed_RSNA2/POSITIVE/12485_1446339465.png  \n",
            "  inflating: /content/content/Licenta/Processed_RSNA2/POSITIVE/65077_545603591.png  \n",
            "  inflating: /content/content/Licenta/Processed_RSNA2/POSITIVE/53727_155551003.png  \n",
            "  inflating: /content/content/Licenta/Processed_RSNA2/POSITIVE/25323_361875956.png  \n",
            "  inflating: /content/content/Licenta/Processed_RSNA2/POSITIVE/27344_1661167822.png  \n",
            "  inflating: /content/content/Licenta/Processed_RSNA2/POSITIVE/9559_203061242.png  \n",
            "  inflating: /content/content/Licenta/Processed_RSNA2/POSITIVE/61046_770259258.png  \n",
            "  inflating: /content/content/Licenta/Processed_RSNA2/POSITIVE/48852_1307198725.png  \n",
            "  inflating: /content/content/Licenta/Processed_RSNA2/POSITIVE/6654_1480395667.png  \n",
            "  inflating: /content/content/Licenta/Processed_RSNA2/POSITIVE/51276_711908647.png  \n",
            "  inflating: /content/content/Licenta/Processed_RSNA2/POSITIVE/18421_179426017.png  \n",
            "  inflating: /content/content/Licenta/Processed_RSNA2/POSITIVE/13331_1360800566.png  \n",
            "  inflating: /content/content/Licenta/Processed_RSNA2/POSITIVE/26664_1409401831.png  \n",
            "  inflating: /content/content/Licenta/Processed_RSNA2/POSITIVE/63706_1241091399.png  \n",
            "  inflating: /content/content/Licenta/Processed_RSNA2/POSITIVE/9014_958727958.png  \n",
            "  inflating: /content/content/Licenta/Processed_RSNA2/POSITIVE/62608_1233738688.png  \n",
            "  inflating: /content/content/Licenta/Processed_RSNA2/POSITIVE/25187_84833951.png  \n",
            "  inflating: /content/content/Licenta/Processed_RSNA2/POSITIVE/65198_1695106728.png  \n",
            "  inflating: /content/content/Licenta/Processed_RSNA2/POSITIVE/47382_208877180.png  \n",
            "  inflating: /content/content/Licenta/Processed_RSNA2/POSITIVE/31582_435931040.png  \n",
            "  inflating: /content/content/Licenta/Processed_RSNA2/POSITIVE/31745_1974157960.png  \n",
            "  inflating: /content/content/Licenta/Processed_RSNA2/POSITIVE/40576_291976928.png  \n",
            "  inflating: /content/content/Licenta/Processed_RSNA2/POSITIVE/51609_280430685.png  \n",
            "  inflating: /content/content/Licenta/Processed_RSNA2/POSITIVE/46225_712156607.png  \n",
            "  inflating: /content/content/Licenta/Processed_RSNA2/POSITIVE/37724_1125393084.png  \n",
            "  inflating: /content/content/Licenta/Processed_RSNA2/POSITIVE/13116_234842188.png  \n",
            "  inflating: /content/content/Licenta/Processed_RSNA2/POSITIVE/49523_1187667771.png  \n",
            "  inflating: /content/content/Licenta/Processed_RSNA2/POSITIVE/16703_87510051.png  \n",
            "  inflating: /content/content/Licenta/Processed_RSNA2/POSITIVE/50600_772542553.png  \n",
            "  inflating: /content/content/Licenta/Processed_RSNA2/POSITIVE/19486_583119542.png  \n",
            "  inflating: /content/content/Licenta/Processed_RSNA2/POSITIVE/34676_966865143.png  \n",
            "  inflating: /content/content/Licenta/Processed_RSNA2/POSITIVE/18421_1110771633.png  \n",
            "  inflating: /content/content/Licenta/Processed_RSNA2/POSITIVE/15945_890480233.png  \n",
            "  inflating: /content/content/Licenta/Processed_RSNA2/POSITIVE/1336_338330540.png  \n",
            "  inflating: /content/content/Licenta/Processed_RSNA2/POSITIVE/31582_240230808.png  \n",
            "  inflating: /content/content/Licenta/Processed_RSNA2/POSITIVE/21923_138972646.png  \n",
            "  inflating: /content/content/Licenta/Processed_RSNA2/POSITIVE/34987_562433892.png  \n",
            "  inflating: /content/content/Licenta/Processed_RSNA2/POSITIVE/29664_1382844282.png  \n",
            "  inflating: /content/content/Licenta/Processed_RSNA2/POSITIVE/14292_483720215.png  \n",
            "  inflating: /content/content/Licenta/Processed_RSNA2/POSITIVE/7493_1819571324.png  \n",
            "  inflating: /content/content/Licenta/Processed_RSNA2/POSITIVE/43595_1413491372.png  \n",
            "  inflating: /content/content/Licenta/Processed_RSNA2/POSITIVE/64722_1034477468.png  \n",
            "  inflating: /content/content/Licenta/Processed_RSNA2/POSITIVE/29986_535786162.png  \n",
            "  inflating: /content/content/Licenta/Processed_RSNA2/POSITIVE/3568_109188998.png  \n",
            "  inflating: /content/content/Licenta/Processed_RSNA2/POSITIVE/64821_680464985.png  \n",
            "  inflating: /content/content/Licenta/Processed_RSNA2/POSITIVE/40576_2146445857.png  \n",
            "  inflating: /content/content/Licenta/Processed_RSNA2/POSITIVE/8248_1228024526.png  \n",
            "  inflating: /content/content/Licenta/Processed_RSNA2/POSITIVE/25323_396189007.png  \n",
            "  inflating: /content/content/Licenta/Processed_RSNA2/POSITIVE/2989_406764921.png  \n",
            "  inflating: /content/content/Licenta/Processed_RSNA2/POSITIVE/53946_1239100800.png  \n",
            "  inflating: /content/content/Licenta/Processed_RSNA2/POSITIVE/28785_827818239.png  \n",
            "  inflating: /content/content/Licenta/Processed_RSNA2/POSITIVE/32740_185869010.png  \n",
            "  inflating: /content/content/Licenta/Processed_RSNA2/POSITIVE/32957_529940192.png  \n",
            "  inflating: /content/content/Licenta/Processed_RSNA2/POSITIVE/32527_701842729.png  \n",
            "  inflating: /content/content/Licenta/Processed_RSNA2/POSITIVE/43880_1728318042.png  \n",
            "  inflating: /content/content/Licenta/Processed_RSNA2/POSITIVE/7196_1650195108.png  \n",
            "  inflating: /content/content/Licenta/Processed_RSNA2/POSITIVE/12651_1852393673.png  \n",
            "  inflating: /content/content/Licenta/Processed_RSNA2/POSITIVE/26048_1203336509.png  \n",
            "  inflating: /content/content/Licenta/Processed_RSNA2/POSITIVE/19182_675080509.png  \n",
            "  inflating: /content/content/Licenta/Processed_RSNA2/POSITIVE/53115_147232633.png  \n",
            "  inflating: /content/content/Licenta/Processed_RSNA2/POSITIVE/56713_238470103.png  \n",
            "  inflating: /content/content/Licenta/Processed_RSNA2/POSITIVE/31167_1081026517.png  \n",
            "  inflating: /content/content/Licenta/Processed_RSNA2/POSITIVE/30435_766498043.png  \n",
            "  inflating: /content/content/Licenta/Processed_RSNA2/POSITIVE/47055_1319601220.png  \n",
            "  inflating: /content/content/Licenta/Processed_RSNA2/POSITIVE/12282_1127855363.png  \n",
            "  inflating: /content/content/Licenta/Processed_RSNA2/POSITIVE/3510_372988929.png  \n",
            "  inflating: /content/content/Licenta/Processed_RSNA2/POSITIVE/26862_192415761.png  \n",
            "  inflating: /content/content/Licenta/Processed_RSNA2/POSITIVE/37724_491348809.png  \n",
            "  inflating: /content/content/Licenta/Processed_RSNA2/POSITIVE/12918_610792199.png  \n",
            "  inflating: /content/content/Licenta/Processed_RSNA2/POSITIVE/28383_2036138693.png  \n",
            "  inflating: /content/content/Licenta/Processed_RSNA2/POSITIVE/49485_109045962.png  \n",
            "  inflating: /content/content/Licenta/Processed_RSNA2/POSITIVE/59806_2119940867.png  \n",
            "  inflating: /content/content/Licenta/Processed_RSNA2/POSITIVE/36660_498444217.png  \n",
            "  inflating: /content/content/Licenta/Processed_RSNA2/POSITIVE/21067_715321439.png  \n",
            "  inflating: /content/content/Licenta/Processed_RSNA2/POSITIVE/40163_1828224723.png  \n",
            "  inflating: /content/content/Licenta/Processed_RSNA2/POSITIVE/6853_572494260.png  \n",
            "  inflating: /content/content/Licenta/Processed_RSNA2/POSITIVE/12195_100147863.png  \n",
            "  inflating: /content/content/Licenta/Processed_RSNA2/POSITIVE/39677_1816604050.png  \n",
            "  inflating: /content/content/Licenta/Processed_RSNA2/POSITIVE/22502_1766210915.png  \n",
            "  inflating: /content/content/Licenta/Processed_RSNA2/POSITIVE/10226_530620473.png  \n",
            "  inflating: /content/content/Licenta/Processed_RSNA2/POSITIVE/39747_508899078.png  \n",
            "  inflating: /content/content/Licenta/Processed_RSNA2/POSITIVE/8403_1710665236.png  \n",
            "  inflating: /content/content/Licenta/Processed_RSNA2/POSITIVE/729_730395278.png  \n",
            "  inflating: /content/content/Licenta/Processed_RSNA2/POSITIVE/32582_354984281.png  \n",
            "  inflating: /content/content/Licenta/Processed_RSNA2/POSITIVE/56308_1609200371.png  \n",
            "  inflating: /content/content/Licenta/Processed_RSNA2/POSITIVE/14292_287915367.png  \n",
            "  inflating: /content/content/Licenta/Processed_RSNA2/POSITIVE/62955_2074666305.png  \n",
            "  inflating: /content/content/Licenta/Processed_RSNA2/POSITIVE/21067_1511749844.png  \n",
            "  inflating: /content/content/Licenta/Processed_RSNA2/POSITIVE/11919_1017363921.png  \n",
            "  inflating: /content/content/Licenta/Processed_RSNA2/POSITIVE/7964_953630878.png  \n",
            "  inflating: /content/content/Licenta/Processed_RSNA2/POSITIVE/39280_1570213179.png  \n",
            "  inflating: /content/content/Licenta/Processed_RSNA2/POSITIVE/49520_767878280.png  \n",
            "  inflating: /content/content/Licenta/Processed_RSNA2/POSITIVE/25323_1245090607.png  \n",
            "  inflating: /content/content/Licenta/Processed_RSNA2/POSITIVE/7964_172743476.png  \n",
            "  inflating: /content/content/Licenta/Processed_RSNA2/POSITIVE/15268_1658071377.png  \n",
            "  inflating: /content/content/Licenta/Processed_RSNA2/POSITIVE/27344_207495802.png  \n",
            "  inflating: /content/content/Licenta/Processed_RSNA2/POSITIVE/62608_1692390127.png  \n",
            "  inflating: /content/content/Licenta/Processed_RSNA2/POSITIVE/60964_1327695628.png  \n",
            "  inflating: /content/content/Licenta/Processed_RSNA2/POSITIVE/59865_1213747044.png  \n",
            "  inflating: /content/content/Licenta/Processed_RSNA2/POSITIVE/30842_1408047595.png  \n",
            "  inflating: /content/content/Licenta/Processed_RSNA2/POSITIVE/37012_531540217.png  \n",
            "  inflating: /content/content/Licenta/Processed_RSNA2/POSITIVE/61292_2048614595.png  \n",
            "  inflating: /content/content/Licenta/Processed_RSNA2/POSITIVE/45666_1447050904.png  \n",
            "  inflating: /content/content/Licenta/Processed_RSNA2/POSITIVE/41238_1969581106.png  \n",
            "  inflating: /content/content/Licenta/Processed_RSNA2/POSITIVE/12485_1563019139.png  \n",
            "  inflating: /content/content/Licenta/Processed_RSNA2/POSITIVE/57229_783906176.png  \n",
            "  inflating: /content/content/Licenta/Processed_RSNA2/POSITIVE/28747_285721109.png  \n",
            "  inflating: /content/content/Licenta/Processed_RSNA2/POSITIVE/3021_758579205.png  \n",
            "  inflating: /content/content/Licenta/Processed_RSNA2/POSITIVE/44225_774155798.png  \n",
            "  inflating: /content/content/Licenta/Processed_RSNA2/POSITIVE/61568_965929379.png  \n",
            "  inflating: /content/content/Licenta/Processed_RSNA2/POSITIVE/19486_1749776218.png  \n",
            "  inflating: /content/content/Licenta/Processed_RSNA2/POSITIVE/37163_426390078.png  \n",
            "  inflating: /content/content/Licenta/Processed_RSNA2/POSITIVE/7339_155241368.png  \n",
            "  inflating: /content/content/Licenta/Processed_RSNA2/POSITIVE/53343_1721695713.png  \n",
            "  inflating: /content/content/Licenta/Processed_RSNA2/POSITIVE/28634_1562558660.png  \n",
            "  inflating: /content/content/Licenta/Processed_RSNA2/POSITIVE/44780_244481933.png  \n",
            "  inflating: /content/content/Licenta/Processed_RSNA2/POSITIVE/45137_1949626120.png  \n",
            "  inflating: /content/content/Licenta/Processed_RSNA2/POSITIVE/21957_1719804083.png  \n",
            "  inflating: /content/content/Licenta/Processed_RSNA2/POSITIVE/21445_1790818978.png  \n",
            "  inflating: /content/content/Licenta/Processed_RSNA2/POSITIVE/37032_1897605293.png  \n",
            "  inflating: /content/content/Licenta/Processed_RSNA2/POSITIVE/33583_326653717.png  \n",
            "  inflating: /content/content/Licenta/Processed_RSNA2/POSITIVE/24656_2006015654.png  \n",
            "  inflating: /content/content/Licenta/Processed_RSNA2/POSITIVE/47382_2129270210.png  \n",
            "  inflating: /content/content/Licenta/Processed_RSNA2/POSITIVE/34391_1817841876.png  \n",
            "  inflating: /content/content/Licenta/Processed_RSNA2/POSITIVE/27344_2060786840.png  \n",
            "  inflating: /content/content/Licenta/Processed_RSNA2/POSITIVE/49461_602369659.png  \n",
            "  inflating: /content/content/Licenta/Processed_RSNA2/POSITIVE/49461_2132016159.png  \n",
            "  inflating: /content/content/Licenta/Processed_RSNA2/POSITIVE/22860_1938449367.png  \n",
            "  inflating: /content/content/Licenta/Processed_RSNA2/POSITIVE/32517_1892888100.png  \n",
            "  inflating: /content/content/Licenta/Processed_RSNA2/POSITIVE/12988_551129512.png  \n",
            "  inflating: /content/content/Licenta/Processed_RSNA2/POSITIVE/55755_1189531449.png  \n",
            "  inflating: /content/content/Licenta/Processed_RSNA2/POSITIVE/53659_297086361.png  \n",
            "  inflating: /content/content/Licenta/Processed_RSNA2/POSITIVE/8631_1803973088.png  \n",
            "  inflating: /content/content/Licenta/Processed_RSNA2/POSITIVE/45848_2102657462.png  \n",
            "  inflating: /content/content/Licenta/Processed_RSNA2/POSITIVE/32743_1191733271.png  \n",
            "  inflating: /content/content/Licenta/Processed_RSNA2/POSITIVE/10130_1672636630.png  \n",
            "  inflating: /content/content/Licenta/Processed_RSNA2/POSITIVE/21880_880971379.png  \n",
            "  inflating: /content/content/Licenta/Processed_RSNA2/POSITIVE/16703_1930741343.png  \n",
            "  inflating: /content/content/Licenta/Processed_RSNA2/POSITIVE/64437_526841535.png  \n",
            "  inflating: /content/content/Licenta/Processed_RSNA2/POSITIVE/39748_643456285.png  \n",
            "  inflating: /content/content/Licenta/Processed_RSNA2/POSITIVE/65222_111055050.png  \n",
            "  inflating: /content/content/Licenta/Processed_RSNA2/POSITIVE/27827_1845993877.png  \n",
            "  inflating: /content/content/Licenta/Processed_RSNA2/POSITIVE/31046_2083156336.png  \n",
            "  inflating: /content/content/Licenta/Processed_RSNA2/POSITIVE/16346_1171817874.png  \n",
            "  inflating: /content/content/Licenta/Processed_RSNA2/POSITIVE/12725_1297379916.png  \n",
            "  inflating: /content/content/Licenta/Processed_RSNA2/POSITIVE/38123_1237041576.png  \n",
            "  inflating: /content/content/Licenta/Processed_RSNA2/POSITIVE/20009_936994890.png  \n",
            "  inflating: /content/content/Licenta/Processed_RSNA2/POSITIVE/3626_293937906.png  \n",
            "  inflating: /content/content/Licenta/Processed_RSNA2/POSITIVE/16518_1531151973.png  \n",
            "  inflating: /content/content/Licenta/Processed_RSNA2/POSITIVE/7780_132778066.png  \n",
            "  inflating: /content/content/Licenta/Processed_RSNA2/POSITIVE/35864_1557445126.png  \n",
            "  inflating: /content/content/Licenta/Processed_RSNA2/POSITIVE/21928_1498981680.png  \n",
            "  inflating: /content/content/Licenta/Processed_RSNA2/POSITIVE/11094_1926447510.png  \n",
            "  inflating: /content/content/Licenta/Processed_RSNA2/POSITIVE/57216_1498972223.png  \n",
            "  inflating: /content/content/Licenta/Processed_RSNA2/POSITIVE/47212_1191410967.png  \n",
            "  inflating: /content/content/Licenta/Processed_RSNA2/POSITIVE/53115_892587620.png  \n",
            "  inflating: /content/content/Licenta/Processed_RSNA2/POSITIVE/11341_1096308702.png  \n",
            "  inflating: /content/content/Licenta/Processed_RSNA2/POSITIVE/6303_1106334075.png  \n",
            "  inflating: /content/content/Licenta/Processed_RSNA2/POSITIVE/17894_446858992.png  \n",
            "  inflating: /content/content/Licenta/Processed_RSNA2/POSITIVE/5059_1282273619.png  \n",
            "  inflating: /content/content/Licenta/Processed_RSNA2/POSITIVE/55095_462557364.png  \n",
            "  inflating: /content/content/Licenta/Processed_RSNA2/POSITIVE/19171_1912780715.png  \n",
            "  inflating: /content/content/Licenta/Processed_RSNA2/POSITIVE/64385_371176944.png  \n",
            "  inflating: /content/content/Licenta/Processed_RSNA2/POSITIVE/7151_731258312.png  \n",
            "  inflating: /content/content/Licenta/Processed_RSNA2/POSITIVE/2938_872443919.png  \n",
            "  inflating: /content/content/Licenta/Processed_RSNA2/POSITIVE/31107_1117699183.png  \n",
            "  inflating: /content/content/Licenta/Processed_RSNA2/POSITIVE/5235_811649706.png  \n",
            "  inflating: /content/content/Licenta/Processed_RSNA2/POSITIVE/37012_98489338.png  \n",
            "  inflating: /content/content/Licenta/Processed_RSNA2/POSITIVE/12463_1717036504.png  \n",
            "  inflating: /content/content/Licenta/Processed_RSNA2/POSITIVE/17894_75408744.png  \n",
            "  inflating: /content/content/Licenta/Processed_RSNA2/POSITIVE/17891_1991006826.png  \n",
            "  inflating: /content/content/Licenta/Processed_RSNA2/POSITIVE/46225_1857969319.png  \n",
            "  inflating: /content/content/Licenta/Processed_RSNA2/POSITIVE/28620_685239979.png  \n",
            "  inflating: /content/content/Licenta/Processed_RSNA2/POSITIVE/30842_731839572.png  \n",
            "  inflating: /content/content/Licenta/Processed_RSNA2/POSITIVE/9851_1434430689.png  \n",
            "  inflating: /content/content/Licenta/Processed_RSNA2/POSITIVE/283_352547246.png  \n",
            "  inflating: /content/content/Licenta/Processed_RSNA2/POSITIVE/50078_236729039.png  \n",
            "  inflating: /content/content/Licenta/Processed_RSNA2/POSITIVE/64456_1305207914.png  \n",
            "  inflating: /content/content/Licenta/Processed_RSNA2/POSITIVE/47129_1926732125.png  \n",
            "  inflating: /content/content/Licenta/Processed_RSNA2/POSITIVE/45848_1339754035.png  \n",
            "  inflating: /content/content/Licenta/Processed_RSNA2/POSITIVE/21880_1381741782.png  \n",
            "  inflating: /content/content/Licenta/Processed_RSNA2/POSITIVE/32923_243888572.png  \n",
            "  inflating: /content/content/Licenta/Processed_RSNA2/POSITIVE/18399_598556705.png  \n",
            "  inflating: /content/content/Licenta/Processed_RSNA2/POSITIVE/12651_382701440.png  \n",
            "  inflating: /content/content/Licenta/Processed_RSNA2/POSITIVE/35847_2041771555.png  \n",
            "  inflating: /content/content/Licenta/Processed_RSNA2/POSITIVE/16145_146978545.png  \n",
            "  inflating: /content/content/Licenta/Processed_RSNA2/POSITIVE/26871_2012134319.png  \n",
            "  inflating: /content/content/Licenta/Processed_RSNA2/POSITIVE/28620_1030603813.png  \n",
            "  inflating: /content/content/Licenta/Processed_RSNA2/POSITIVE/18026_1943507092.png  \n",
            "  inflating: /content/content/Licenta/Processed_RSNA2/POSITIVE/12463_1225478313.png  \n",
            "  inflating: /content/content/Licenta/Processed_RSNA2/POSITIVE/2346_754579791.png  \n",
            "  inflating: /content/content/Licenta/Processed_RSNA2/POSITIVE/22616_1690035103.png  \n",
            "  inflating: /content/content/Licenta/Processed_RSNA2/POSITIVE/57623_1317268595.png  \n",
            "  inflating: /content/content/Licenta/Processed_RSNA2/POSITIVE/19159_444773067.png  \n",
            "  inflating: /content/content/Licenta/Processed_RSNA2/POSITIVE/13845_198053228.png  \n",
            "  inflating: /content/content/Licenta/Processed_RSNA2/POSITIVE/63453_2126290731.png  \n",
            "  inflating: /content/content/Licenta/Processed_RSNA2/POSITIVE/47128_1726612128.png  \n",
            "  inflating: /content/content/Licenta/Processed_RSNA2/POSITIVE/50078_474211829.png  \n",
            "  inflating: /content/content/Licenta/Processed_RSNA2/POSITIVE/3542_748623885.png  \n",
            "  inflating: /content/content/Licenta/Processed_RSNA2/POSITIVE/64385_138963357.png  \n",
            "  inflating: /content/content/Licenta/Processed_RSNA2/POSITIVE/65198_712545807.png  \n",
            "  inflating: /content/content/Licenta/Processed_RSNA2/POSITIVE/65427_109324028.png  \n",
            "  inflating: /content/content/Licenta/Processed_RSNA2/POSITIVE/4083_546424063.png  \n",
            "  inflating: /content/content/Licenta/Processed_RSNA2/POSITIVE/46905_1176040529.png  \n",
            "  inflating: /content/content/Licenta/Processed_RSNA2/POSITIVE/33588_444459118.png  \n",
            "  inflating: /content/content/Licenta/Processed_RSNA2/POSITIVE/22948_1296917290.png  \n",
            "  inflating: /content/content/Licenta/Processed_RSNA2/POSITIVE/64437_2141319189.png  \n",
            "  inflating: /content/content/Licenta/Processed_RSNA2/POSITIVE/54084_192075335.png  \n",
            "  inflating: /content/content/Licenta/Processed_RSNA2/POSITIVE/10432_458553546.png  \n",
            "  inflating: /content/content/Licenta/Processed_RSNA2/POSITIVE/30094_386067946.png  \n",
            "  inflating: /content/content/Licenta/Processed_RSNA2/POSITIVE/47128_270089098.png  \n",
            "  inflating: /content/content/Licenta/Processed_RSNA2/POSITIVE/13920_384023835.png  \n",
            "  inflating: /content/content/Licenta/Processed_RSNA2/POSITIVE/26048_86117089.png  \n",
            "  inflating: /content/content/Licenta/Processed_RSNA2/POSITIVE/33594_525083202.png  \n",
            "  inflating: /content/content/Licenta/Processed_RSNA2/POSITIVE/61825_1335802158.png  \n",
            "  inflating: /content/content/Licenta/Processed_RSNA2/POSITIVE/13920_1998384452.png  \n",
            "  inflating: /content/content/Licenta/Processed_RSNA2/POSITIVE/37931_1597761099.png  \n",
            "  inflating: /content/content/Licenta/Processed_RSNA2/POSITIVE/36748_207616196.png  \n",
            "  inflating: /content/content/Licenta/Processed_RSNA2/POSITIVE/18026_2091972299.png  \n",
            "  inflating: /content/content/Licenta/Processed_RSNA2/POSITIVE/16518_914043890.png  \n",
            "  inflating: /content/content/Licenta/Processed_RSNA2/POSITIVE/41238_899283143.png  \n",
            "  inflating: /content/content/Licenta/Processed_RSNA2/POSITIVE/5820_317530806.png  \n",
            "  inflating: /content/content/Licenta/Processed_RSNA2/POSITIVE/64018_259642159.png  \n",
            "  inflating: /content/content/Licenta/Processed_RSNA2/POSITIVE/52181_1349529516.png  \n",
            "  inflating: /content/content/Licenta/Processed_RSNA2/POSITIVE/60442_1093832285.png  \n",
            "  inflating: /content/content/Licenta/Processed_RSNA2/POSITIVE/60410_1597116280.png  \n",
            "  inflating: /content/content/Licenta/Processed_RSNA2/POSITIVE/10432_1434858530.png  \n",
            "  inflating: /content/content/Licenta/Processed_RSNA2/POSITIVE/14292_2058816582.png  \n",
            "  inflating: /content/content/Licenta/Processed_RSNA2/POSITIVE/61292_693687948.png  \n",
            "  inflating: /content/content/Licenta/Processed_RSNA2/POSITIVE/12153_1203123196.png  \n",
            "  inflating: /content/content/Licenta/Processed_RSNA2/POSITIVE/12282_2025746473.png  \n",
            "  inflating: /content/content/Licenta/Processed_RSNA2/POSITIVE/58652_1296115968.png  \n",
            "  inflating: /content/content/Licenta/Processed_RSNA2/POSITIVE/49313_1555150117.png  \n",
            "  inflating: /content/content/Licenta/Processed_RSNA2/POSITIVE/15078_1167308429.png  \n",
            "  inflating: /content/content/Licenta/Processed_RSNA2/POSITIVE/53272_1874310597.png  \n",
            "  inflating: /content/content/Licenta/Processed_RSNA2/POSITIVE/50250_1183910043.png  \n",
            "  inflating: /content/content/Licenta/Processed_RSNA2/POSITIVE/37459_756888935.png  \n",
            "  inflating: /content/content/Licenta/Processed_RSNA2/POSITIVE/62996_1021429436.png  \n",
            "  inflating: /content/content/Licenta/Processed_RSNA2/POSITIVE/55755_640788258.png  \n",
            "  inflating: /content/content/Licenta/Processed_RSNA2/POSITIVE/26664_1982155258.png  \n",
            "  inflating: /content/content/Licenta/Processed_RSNA2/POSITIVE/6668_570350557.png  \n",
            "  inflating: /content/content/Licenta/Processed_RSNA2/POSITIVE/21923_1055241270.png  \n",
            "  inflating: /content/content/Licenta/Processed_RSNA2/POSITIVE/5444_1092783603.png  \n",
            "  inflating: /content/content/Licenta/Processed_RSNA2/POSITIVE/10668_1774497291.png  \n",
            "  inflating: /content/content/Licenta/Processed_RSNA2/POSITIVE/17562_104106029.png  \n",
            "  inflating: /content/content/Licenta/Processed_RSNA2/POSITIVE/48001_118566079.png  \n",
            "  inflating: /content/content/Licenta/Processed_RSNA2/POSITIVE/33583_1017441251.png  \n",
            "  inflating: /content/content/Licenta/Processed_RSNA2/POSITIVE/5444_29665687.png  \n",
            "  inflating: /content/content/Licenta/Processed_RSNA2/POSITIVE/39611_177448093.png  \n",
            "  inflating: /content/content/Licenta/Processed_RSNA2/POSITIVE/9851_1409270544.png  \n",
            "  inflating: /content/content/Licenta/Processed_RSNA2/POSITIVE/8248_454443523.png  \n",
            "  inflating: /content/content/Licenta/Processed_RSNA2/POSITIVE/9707_1900919592.png  \n",
            "  inflating: /content/content/Licenta/Processed_RSNA2/POSITIVE/56139_1204086246.png  \n",
            "  inflating: /content/content/Licenta/Processed_RSNA2/POSITIVE/56491_12193099.png  \n",
            "  inflating: /content/content/Licenta/Processed_RSNA2/POSITIVE/25523_1384710229.png  \n",
            "  inflating: /content/content/Licenta/Processed_RSNA2/POSITIVE/53776_1622532930.png  \n",
            "  inflating: /content/content/Licenta/Processed_RSNA2/POSITIVE/36420_141266182.png  \n",
            "  inflating: /content/content/Licenta/Processed_RSNA2/POSITIVE/8675_1456775466.png  \n",
            "  inflating: /content/content/Licenta/Processed_RSNA2/POSITIVE/24240_1988059650.png  \n",
            "  inflating: /content/content/Licenta/Processed_RSNA2/POSITIVE/34823_1207483430.png  \n",
            "  inflating: /content/content/Licenta/Processed_RSNA2/POSITIVE/6654_2126262062.png  \n",
            "  inflating: /content/content/Licenta/Processed_RSNA2/POSITIVE/4824_1294872933.png  \n",
            "  inflating: /content/content/Licenta/Processed_RSNA2/POSITIVE/6654_1696728511.png  \n",
            "  inflating: /content/content/Licenta/Processed_RSNA2/POSITIVE/47404_1847998717.png  \n",
            "  inflating: /content/content/Licenta/Processed_RSNA2/POSITIVE/21888_1472830410.png  \n",
            "  inflating: /content/content/Licenta/Processed_RSNA2/POSITIVE/47673_1098129052.png  \n",
            "  inflating: /content/content/Licenta/Processed_RSNA2/POSITIVE/54463_1345167254.png  \n",
            "  inflating: /content/content/Licenta/Processed_RSNA2/POSITIVE/64439_84747386.png  \n",
            "  inflating: /content/content/Licenta/Processed_RSNA2/POSITIVE/30836_1177448351.png  \n",
            "  inflating: /content/content/Licenta/Processed_RSNA2/POSITIVE/60617_1075848024.png  \n",
            "  inflating: /content/content/Licenta/Processed_RSNA2/POSITIVE/38537_1325952776.png  \n",
            "  inflating: /content/content/Licenta/Processed_RSNA2/POSITIVE/26700_400752214.png  \n",
            "  inflating: /content/content/Licenta/Processed_RSNA2/POSITIVE/28747_1026238054.png  \n",
            "  inflating: /content/content/Licenta/Processed_RSNA2/POSITIVE/31581_472422304.png  \n",
            "  inflating: /content/content/Licenta/Processed_RSNA2/POSITIVE/18026_1303889904.png  \n",
            "  inflating: /content/content/Licenta/Processed_RSNA2/POSITIVE/48368_1464175162.png  \n",
            "  inflating: /content/content/Licenta/Processed_RSNA2/POSITIVE/10589_605115808.png  \n",
            "  inflating: /content/content/Licenta/Processed_RSNA2/POSITIVE/32668_1646575508.png  \n",
            "  inflating: /content/content/Licenta/Processed_RSNA2/POSITIVE/50644_1779556127.png  \n",
            "  inflating: /content/content/Licenta/Processed_RSNA2/POSITIVE/15078_728564060.png  \n",
            "  inflating: /content/content/Licenta/Processed_RSNA2/POSITIVE/19171_1523165025.png  \n",
            "  inflating: /content/content/Licenta/Processed_RSNA2/POSITIVE/55301_1015963647.png  \n",
            "  inflating: /content/content/Licenta/Processed_RSNA2/POSITIVE/63453_957012839.png  \n",
            "  inflating: /content/content/Licenta/Processed_RSNA2/POSITIVE/32923_696658722.png  \n",
            "  inflating: /content/content/Licenta/Processed_RSNA2/POSITIVE/54463_1067532013.png  \n",
            "  inflating: /content/content/Licenta/Processed_RSNA2/POSITIVE/21867_831671840.png  \n",
            "  inflating: /content/content/Licenta/Processed_RSNA2/POSITIVE/43004_2054900584.png  \n",
            "  inflating: /content/content/Licenta/Processed_RSNA2/POSITIVE/46106_402243731.png  \n",
            "  inflating: /content/content/Licenta/Processed_RSNA2/POSITIVE/24947_145170954.png  \n",
            "  inflating: /content/content/Licenta/Processed_RSNA2/POSITIVE/54930_1314799188.png  \n",
            "  inflating: /content/content/Licenta/Processed_RSNA2/POSITIVE/16703_612451325.png  \n",
            "  inflating: /content/content/Licenta/Processed_RSNA2/POSITIVE/46090_1469951993.png  \n",
            "  inflating: /content/content/Licenta/Processed_RSNA2/POSITIVE/61490_913033285.png  \n",
            "  inflating: /content/content/Licenta/Processed_RSNA2/POSITIVE/24947_1564214908.png  \n",
            "  inflating: /content/content/Licenta/Processed_RSNA2/POSITIVE/54492_114933025.png  \n",
            "  inflating: /content/content/Licenta/Processed_RSNA2/POSITIVE/61560_592525150.png  \n",
            "  inflating: /content/content/Licenta/Processed_RSNA2/POSITIVE/30093_809056887.png  \n",
            "  inflating: /content/content/Licenta/Processed_RSNA2/POSITIVE/61490_1035631534.png  \n",
            "  inflating: /content/content/Licenta/Processed_RSNA2/POSITIVE/21888_600924094.png  \n",
            "  inflating: /content/content/Licenta/Processed_RSNA2/POSITIVE/65077_713409726.png  \n",
            "  inflating: /content/content/Licenta/Processed_RSNA2/POSITIVE/37032_1291044944.png  \n",
            "  inflating: /content/content/Licenta/Processed_RSNA2/POSITIVE/28383_1383934781.png  \n",
            "  inflating: /content/content/Licenta/Processed_RSNA2/POSITIVE/1963_2090715578.png  \n",
            "  inflating: /content/content/Licenta/Processed_RSNA2/POSITIVE/25523_690750133.png  \n",
            "  inflating: /content/content/Licenta/Processed_RSNA2/POSITIVE/37459_68880663.png  \n",
            "  inflating: /content/content/Licenta/Processed_RSNA2/POSITIVE/34992_204545103.png  \n",
            "  inflating: /content/content/Licenta/Processed_RSNA2/POSITIVE/61560_467349548.png  \n",
            "  inflating: /content/content/Licenta/Processed_RSNA2/POSITIVE/34987_1261226096.png  \n",
            "  inflating: /content/content/Licenta/Processed_RSNA2/POSITIVE/3542_1071984233.png  \n",
            "  inflating: /content/content/Licenta/Processed_RSNA2/POSITIVE/31167_792869761.png  \n",
            "  inflating: /content/content/Licenta/Processed_RSNA2/POSITIVE/59865_1780320322.png  \n",
            "  inflating: /content/content/Licenta/Processed_RSNA2/POSITIVE/20923_1507275789.png  \n",
            "  inflating: /content/content/Licenta/Processed_RSNA2/POSITIVE/34993_322548051.png  \n",
            "  inflating: /content/content/Licenta/Processed_RSNA2/POSITIVE/6659_1877249993.png  \n",
            "  inflating: /content/content/Licenta/Processed_RSNA2/POSITIVE/44780_629017818.png  \n",
            "  inflating: /content/content/Licenta/Processed_RSNA2/POSITIVE/28936_218134651.png  \n",
            "  inflating: /content/content/Licenta/Processed_RSNA2/POSITIVE/32957_1754867040.png  \n",
            "  inflating: /content/content/Licenta/Processed_RSNA2/POSITIVE/5820_1101246759.png  \n",
            "  inflating: /content/content/Licenta/Processed_RSNA2/POSITIVE/9707_1590470368.png  \n",
            "  inflating: /content/content/Licenta/Processed_RSNA2/POSITIVE/59322_1061744056.png  \n",
            "  inflating: /content/content/Licenta/Processed_RSNA2/POSITIVE/48230_688227459.png  \n",
            "  inflating: /content/content/Licenta/Processed_RSNA2/POSITIVE/49927_582859757.png  \n",
            "  inflating: /content/content/Licenta/Processed_RSNA2/POSITIVE/34823_1928170517.png  \n",
            "  inflating: /content/content/Licenta/Processed_RSNA2/POSITIVE/28634_1961468653.png  \n",
            "  inflating: /content/content/Licenta/Processed_RSNA2/POSITIVE/9345_853840135.png  \n",
            "  inflating: /content/content/Licenta/Processed_RSNA2/POSITIVE/41010_1394148389.png  \n",
            "  inflating: /content/content/Licenta/Processed_RSNA2/POSITIVE/23386_1506392319.png  \n",
            "  inflating: /content/content/Licenta/Processed_RSNA2/POSITIVE/53776_1750842425.png  \n",
            "  inflating: /content/content/Licenta/Processed_RSNA2/POSITIVE/6303_1925785468.png  \n",
            "  inflating: /content/content/Licenta/Processed_RSNA2/POSITIVE/1524_1559332263.png  \n",
            "  inflating: /content/content/Licenta/Processed_RSNA2/POSITIVE/48171_310453629.png  \n",
            "  inflating: /content/content/Licenta/Processed_RSNA2/POSITIVE/16145_230036674.png  \n",
            "  inflating: /content/content/Licenta/Processed_RSNA2/POSITIVE/57525_2022531671.png  \n",
            "  inflating: /content/content/Licenta/Processed_RSNA2/POSITIVE/9345_1956200588.png  \n",
            "  inflating: /content/content/Licenta/Processed_RSNA2/POSITIVE/21445_468265579.png  \n",
            "  inflating: /content/content/Licenta/Processed_RSNA2/POSITIVE/6038_39672040.png  \n",
            "  inflating: /content/content/Licenta/Processed_RSNA2/POSITIVE/25709_1410656943.png  \n",
            "  inflating: /content/content/Licenta/Processed_RSNA2/POSITIVE/20251_914071190.png  \n",
            "  inflating: /content/content/Licenta/Processed_RSNA2/POSITIVE/50583_1497446939.png  \n",
            "  inflating: /content/content/Licenta/Processed_RSNA2/POSITIVE/2346_129609192.png  \n",
            "  inflating: /content/content/Licenta/Processed_RSNA2/POSITIVE/32057_147064371.png  \n",
            "  inflating: /content/content/Licenta/Processed_RSNA2/POSITIVE/58195_480438532.png  \n",
            "  inflating: /content/content/Licenta/Processed_RSNA2/POSITIVE/24916_801684731.png  \n",
            "  inflating: /content/content/Licenta/Processed_RSNA2/POSITIVE/30435_63956271.png  \n",
            "  inflating: /content/content/Licenta/Processed_RSNA2/POSITIVE/65244_119855018.png  \n",
            "  inflating: /content/content/Licenta/Processed_RSNA2/POSITIVE/27861_1223771520.png  \n",
            "  inflating: /content/content/Licenta/Processed_RSNA2/POSITIVE/28057_891734084.png  \n",
            "  inflating: /content/content/Licenta/Processed_RSNA2/POSITIVE/16694_511030638.png  \n",
            "  inflating: /content/content/Licenta/Processed_RSNA2/POSITIVE/40496_265835116.png  \n",
            "  inflating: /content/content/Licenta/Processed_RSNA2/POSITIVE/58398_1193106564.png  \n",
            "  inflating: /content/content/Licenta/Processed_RSNA2/POSITIVE/31864_1866737520.png  \n",
            "  inflating: /content/content/Licenta/Processed_RSNA2/POSITIVE/8641_2120521410.png  \n",
            "  inflating: /content/content/Licenta/Processed_RSNA2/POSITIVE/48437_2019927981.png  \n",
            "  inflating: /content/content/Licenta/Processed_RSNA2/POSITIVE/65077_94523874.png  \n",
            "  inflating: /content/content/Licenta/Processed_RSNA2/POSITIVE/41610_1957729736.png  \n",
            "  inflating: /content/content/Licenta/Processed_RSNA2/POSITIVE/57444_972684809.png  \n",
            "  inflating: /content/content/Licenta/Processed_RSNA2/POSITIVE/49636_2017526248.png  \n",
            "  inflating: /content/content/Licenta/Processed_RSNA2/POSITIVE/42414_99980764.png  \n",
            "  inflating: /content/content/Licenta/Processed_RSNA2/POSITIVE/25895_1519814432.png  \n",
            "  inflating: /content/content/Licenta/Processed_RSNA2/POSITIVE/3346_1063196710.png  \n",
            "  inflating: /content/content/Licenta/Processed_RSNA2/POSITIVE/826_343058323.png  \n",
            "  inflating: /content/content/Licenta/Processed_RSNA2/POSITIVE/30317_478506891.png  \n",
            "  inflating: /content/content/Licenta/Processed_RSNA2/POSITIVE/7339_152254694.png  \n",
            "  inflating: /content/content/Licenta/Processed_RSNA2/POSITIVE/2679_1440151392.png  \n",
            "  inflating: /content/content/Licenta/Processed_RSNA2/POSITIVE/14706_180902452.png  \n",
            "  inflating: /content/content/Licenta/Processed_RSNA2/POSITIVE/26700_476723525.png  \n",
            "  inflating: /content/content/Licenta/Processed_RSNA2/POSITIVE/54463_706555257.png  \n",
            "  inflating: /content/content/Licenta/Processed_RSNA2/POSITIVE/14706_1060299310.png  \n",
            "  inflating: /content/content/Licenta/Processed_RSNA2/POSITIVE/33971_1445458891.png  \n",
            "  inflating: /content/content/Licenta/Processed_RSNA2/POSITIVE/37213_221096123.png  \n",
            "  inflating: /content/content/Licenta/Processed_RSNA2/POSITIVE/12725_156027166.png  \n",
            "  inflating: /content/content/Licenta/Processed_RSNA2/POSITIVE/9029_1906118149.png  \n",
            "  inflating: /content/content/Licenta/Processed_RSNA2/POSITIVE/3670_87674192.png  \n",
            "  inflating: /content/content/Licenta/Processed_RSNA2/POSITIVE/32881_1524699538.png  \n",
            "  inflating: /content/content/Licenta/Processed_RSNA2/POSITIVE/22562_184187010.png  \n",
            "  inflating: /content/content/Licenta/Processed_RSNA2/POSITIVE/12725_1435663649.png  \n",
            "  inflating: /content/content/Licenta/Processed_RSNA2/POSITIVE/3713_951402983.png  \n",
            "  inflating: /content/content/Licenta/Processed_RSNA2/POSITIVE/13101_345896545.png  \n",
            "  inflating: /content/content/Licenta/Processed_RSNA2/POSITIVE/54085_234391345.png  \n",
            "  inflating: /content/content/Licenta/Processed_RSNA2/POSITIVE/19159_1797943468.png  \n",
            "  inflating: /content/content/Licenta/Processed_RSNA2/POSITIVE/59347_931918335.png  \n",
            "  inflating: /content/content/Licenta/Processed_RSNA2/POSITIVE/16518_1464760605.png  \n",
            "  inflating: /content/content/Licenta/Processed_RSNA2/POSITIVE/13331_1949261883.png  \n",
            "  inflating: /content/content/Licenta/Processed_RSNA2/POSITIVE/12988_1191890529.png  \n",
            "  inflating: /content/content/Licenta/Processed_RSNA2/POSITIVE/16249_1084474740.png  \n",
            "  inflating: /content/content/Licenta/Processed_RSNA2/POSITIVE/4202_1775490159.png  \n",
            "  inflating: /content/content/Licenta/Processed_RSNA2/POSITIVE/19064_899610044.png  \n",
            "  inflating: /content/content/Licenta/Processed_RSNA2/POSITIVE/51697_1244710301.png  \n",
            "  inflating: /content/content/Licenta/Processed_RSNA2/POSITIVE/38946_808034784.png  \n",
            "  inflating: /content/content/Licenta/Processed_RSNA2/POSITIVE/7151_1736413644.png  \n",
            "  inflating: /content/content/Licenta/Processed_RSNA2/POSITIVE/35864_230364486.png  \n",
            "  inflating: /content/content/Licenta/Processed_RSNA2/POSITIVE/283_1850429460.png  \n",
            "  inflating: /content/content/Licenta/Processed_RSNA2/POSITIVE/38537_1655223848.png  \n",
            "  inflating: /content/content/Licenta/Processed_RSNA2/POSITIVE/53255_1681368728.png  \n",
            "  inflating: /content/content/Licenta/Processed_RSNA2/POSITIVE/53659_159940212.png  \n",
            "  inflating: /content/content/Licenta/Processed_RSNA2/POSITIVE/41010_2042146023.png  \n",
            "  inflating: /content/content/Licenta/Processed_RSNA2/POSITIVE/45441_809904326.png  \n",
            "  inflating: /content/content/Licenta/Processed_RSNA2/POSITIVE/45137_903730178.png  \n",
            "  inflating: /content/content/Licenta/Processed_RSNA2/POSITIVE/39355_42886513.png  \n",
            "  inflating: /content/content/Licenta/Processed_RSNA2/POSITIVE/11817_1069030033.png  \n",
            "  inflating: /content/content/Licenta/Processed_RSNA2/POSITIVE/4202_39658249.png  \n",
            "  inflating: /content/content/Licenta/Processed_RSNA2/POSITIVE/7339_178035245.png  \n",
            "  inflating: /content/content/Licenta/Processed_RSNA2/POSITIVE/65492_1186509485.png  \n",
            "  inflating: /content/content/Licenta/Processed_RSNA2/POSITIVE/33594_77581347.png  \n",
            "  inflating: /content/content/Licenta/Processed_RSNA2/POSITIVE/35864_1350237568.png  \n",
            "  inflating: /content/content/Licenta/Processed_RSNA2/POSITIVE/36748_240108548.png  \n",
            "  inflating: /content/content/Licenta/Processed_RSNA2/POSITIVE/38946_1288050525.png  \n",
            "  inflating: /content/content/Licenta/Processed_RSNA2/POSITIVE/63226_1084546948.png  \n",
            "  inflating: /content/content/Licenta/Processed_RSNA2/POSITIVE/26871_568161399.png  \n",
            "  inflating: /content/content/Licenta/Processed_RSNA2/POSITIVE/17535_952275239.png  \n",
            "  inflating: /content/content/Licenta/Processed_RSNA2/POSITIVE/53360_2075727945.png  \n",
            "  inflating: /content/content/Licenta/Processed_RSNA2/POSITIVE/29919_1361547019.png  \n",
            "  inflating: /content/content/Licenta/Processed_RSNA2/POSITIVE/31581_802662148.png  \n",
            "  inflating: /content/content/Licenta/Processed_RSNA2/POSITIVE/50741_1960609663.png  \n",
            "  inflating: /content/content/Licenta/Processed_RSNA2/POSITIVE/50740_1656688953.png  \n",
            "  inflating: /content/content/Licenta/Processed_RSNA2/POSITIVE/28989_1223569992.png  \n",
            "  inflating: /content/content/Licenta/Processed_RSNA2/POSITIVE/60617_2047450417.png  \n",
            "  inflating: /content/content/Licenta/Processed_RSNA2/POSITIVE/39702_1888808064.png  \n",
            "  inflating: /content/content/Licenta/Processed_RSNA2/POSITIVE/26232_892289164.png  \n",
            "  inflating: /content/content/Licenta/Processed_RSNA2/POSITIVE/31581_601361926.png  \n",
            "  inflating: /content/content/Licenta/Processed_RSNA2/POSITIVE/55483_457072769.png  \n",
            "  inflating: /content/content/Licenta/Processed_RSNA2/POSITIVE/31581_1732965874.png  \n",
            "  inflating: /content/content/Licenta/Processed_RSNA2/POSITIVE/16451_1072632701.png  \n",
            "  inflating: /content/content/Licenta/Processed_RSNA2/POSITIVE/54463_385806898.png  \n",
            "  inflating: /content/content/Licenta/Processed_RSNA2/POSITIVE/9201_18384498.png  \n",
            "  inflating: /content/content/Licenta/Processed_RSNA2/POSITIVE/34992_464940209.png  \n",
            "  inflating: /content/content/Licenta/Processed_RSNA2/POSITIVE/46014_2030881308.png  \n",
            "  inflating: /content/content/Licenta/Processed_RSNA2/POSITIVE/30317_991310893.png  \n",
            "  inflating: /content/content/Licenta/Processed_RSNA2/POSITIVE/37213_268400743.png  \n",
            "  inflating: /content/content/Licenta/Processed_RSNA2/POSITIVE/63056_1932489777.png  \n",
            "  inflating: /content/content/Licenta/Processed_RSNA2/POSITIVE/500_1923583324.png  \n",
            "  inflating: /content/content/Licenta/Processed_RSNA2/POSITIVE/59347_664756059.png  \n",
            "  inflating: /content/content/Licenta/Processed_RSNA2/POSITIVE/63053_1562088774.png  \n",
            "  inflating: /content/content/Licenta/Processed_RSNA2/POSITIVE/11094_1417771843.png  \n",
            "  inflating: /content/content/Licenta/Processed_RSNA2/POSITIVE/3626_1846234698.png  \n",
            "  inflating: /content/content/Licenta/Processed_RSNA2/POSITIVE/5059_457437705.png  \n",
            "  inflating: /content/content/Licenta/Processed_RSNA2/POSITIVE/5608_908319767.png  \n",
            "  inflating: /content/content/Licenta/Processed_RSNA2/POSITIVE/10635_797737008.png  \n",
            "  inflating: /content/content/Licenta/Processed_RSNA2/POSITIVE/42746_638253126.png  \n",
            "  inflating: /content/content/Licenta/Processed_RSNA2/POSITIVE/826_981350543.png  \n",
            "  inflating: /content/content/Licenta/Processed_RSNA2/POSITIVE/106_76321767.png  \n",
            "  inflating: /content/content/Licenta/Processed_RSNA2/POSITIVE/32087_578684679.png  \n",
            "  inflating: /content/content/Licenta/Processed_RSNA2/POSITIVE/48001_1218121780.png  \n",
            "  inflating: /content/content/Licenta/Processed_RSNA2/POSITIVE/31364_1874730575.png  \n",
            "  inflating: /content/content/Licenta/Processed_RSNA2/POSITIVE/21928_769477628.png  \n",
            "  inflating: /content/content/Licenta/Processed_RSNA2/POSITIVE/21880_2124340393.png  \n",
            "  inflating: /content/content/Licenta/Processed_RSNA2/POSITIVE/30094_883863733.png  \n",
            "  inflating: /content/content/Licenta/Processed_RSNA2/POSITIVE/1775_1269931914.png  \n",
            "  inflating: /content/content/Licenta/Processed_RSNA2/POSITIVE/49176_1270133082.png  \n",
            "  inflating: /content/content/Licenta/Processed_RSNA2/POSITIVE/52199_231365700.png  \n",
            "  inflating: /content/content/Licenta/Processed_RSNA2/POSITIVE/28936_1362919630.png  \n",
            "  inflating: /content/content/Licenta/Processed_RSNA2/POSITIVE/64908_1880660195.png  \n",
            "  inflating: /content/content/Licenta/Processed_RSNA2/POSITIVE/30262_1595178275.png  \n",
            "  inflating: /content/content/Licenta/Processed_RSNA2/POSITIVE/45666_952276083.png  \n",
            "  inflating: /content/content/Licenta/Processed_RSNA2/POSITIVE/34993_1484931767.png  \n",
            "  inflating: /content/content/Licenta/Processed_RSNA2/POSITIVE/59530_1645279252.png  \n",
            "  inflating: /content/content/Licenta/Processed_RSNA2/POSITIVE/14769_1515963059.png  \n",
            "  inflating: /content/content/Licenta/Processed_RSNA2/POSITIVE/42160_684267184.png  \n",
            "  inflating: /content/content/Licenta/Processed_RSNA2/POSITIVE/48171_373646784.png  \n",
            "  inflating: /content/content/Licenta/Processed_RSNA2/POSITIVE/6018_899067065.png  \n",
            "  inflating: /content/content/Licenta/Processed_RSNA2/POSITIVE/50741_970290638.png  \n",
            "  inflating: /content/content/Licenta/Processed_RSNA2/POSITIVE/65492_1306638994.png  \n",
            "  inflating: /content/content/Licenta/Processed_RSNA2/POSITIVE/18316_1571104710.png  \n",
            "  inflating: /content/content/Licenta/Processed_RSNA2/POSITIVE/56813_64750598.png  \n",
            "  inflating: /content/content/Licenta/Processed_RSNA2/POSITIVE/23693_1555452504.png  \n",
            "  inflating: /content/content/Licenta/Processed_RSNA2/POSITIVE/48939_1846840029.png  \n",
            "  inflating: /content/content/Licenta/Processed_RSNA2/POSITIVE/51697_1361957686.png  \n",
            "  inflating: /content/content/Licenta/Processed_RSNA2/POSITIVE/865_2075900290.png  \n",
            "  inflating: /content/content/Licenta/Processed_RSNA2/POSITIVE/12522_212923136.png  \n",
            "  inflating: /content/content/Licenta/Processed_RSNA2/POSITIVE/11365_671458270.png  \n",
            "  inflating: /content/content/Licenta/Processed_RSNA2/POSITIVE/56308_224574481.png  \n",
            "  inflating: /content/content/Licenta/Processed_RSNA2/POSITIVE/63053_1922119353.png  \n",
            "  inflating: /content/content/Licenta/Processed_RSNA2/POSITIVE/53636_238197258.png  \n",
            "  inflating: /content/content/Licenta/Processed_RSNA2/POSITIVE/20053_2086919423.png  \n",
            "  inflating: /content/content/Licenta/Processed_RSNA2/POSITIVE/23224_1242778806.png  \n",
            "  inflating: /content/content/Licenta/Processed_RSNA2/POSITIVE/12305_1995339680.png  \n",
            "  inflating: /content/content/Licenta/Processed_RSNA2/POSITIVE/53358_1137564107.png  \n",
            "  inflating: /content/content/Licenta/Processed_RSNA2/POSITIVE/55095_864613243.png  \n",
            "  inflating: /content/content/Licenta/Processed_RSNA2/POSITIVE/18316_547408127.png  \n",
            "  inflating: /content/content/Licenta/Processed_RSNA2/POSITIVE/41359_1030582639.png  \n",
            "  inflating: /content/content/Licenta/Processed_RSNA2/POSITIVE/11094_1882170663.png  \n",
            "  inflating: /content/content/Licenta/Processed_RSNA2/POSITIVE/1336_1475901500.png  \n",
            "  inflating: /content/content/Licenta/Processed_RSNA2/POSITIVE/21315_842119228.png  \n",
            "  inflating: /content/content/Licenta/Processed_RSNA2/POSITIVE/3021_1557228175.png  \n",
            "  inflating: /content/content/Licenta/Processed_RSNA2/POSITIVE/45137_1097028064.png  \n",
            "  inflating: /content/content/Licenta/Processed_RSNA2/POSITIVE/6038_1576775200.png  \n",
            "  inflating: /content/content/Licenta/Processed_RSNA2/POSITIVE/50248_1687607286.png  \n",
            "  inflating: /content/content/Licenta/Processed_RSNA2/POSITIVE/4824_1764642297.png  \n",
            "  inflating: /content/content/Licenta/Processed_RSNA2/POSITIVE/61825_1951468322.png  \n",
            "  inflating: /content/content/Licenta/Processed_RSNA2/POSITIVE/58195_631926753.png  \n",
            "  inflating: /content/content/Licenta/Processed_RSNA2/POSITIVE/39085_900604810.png  \n",
            "  inflating: /content/content/Licenta/Processed_RSNA2/POSITIVE/16694_138126676.png  \n",
            "  inflating: /content/content/Licenta/Processed_RSNA2/POSITIVE/49954_728779079.png  \n",
            "  inflating: /content/content/Licenta/Processed_RSNA2/POSITIVE/28620_669303826.png  \n",
            "  inflating: /content/content/Licenta/Processed_RSNA2/POSITIVE/37931_1272825640.png  \n",
            "  inflating: /content/content/Licenta/Processed_RSNA2/POSITIVE/21957_1481189865.png  \n",
            "  inflating: /content/content/Licenta/Processed_RSNA2/POSITIVE/60653_101263956.png  \n",
            "  inflating: /content/content/Licenta/Processed_RSNA2/POSITIVE/43004_2086414198.png  \n",
            "  inflating: /content/content/Licenta/Processed_RSNA2/POSITIVE/28057_72206775.png  \n",
            "  inflating: /content/content/Licenta/Processed_RSNA2/POSITIVE/6658_1824044872.png  \n",
            "  inflating: /content/content/Licenta/Processed_RSNA2/POSITIVE/3713_1056851936.png  \n",
            "  inflating: /content/content/Licenta/Processed_RSNA2/POSITIVE/23693_1501077377.png  \n",
            "  inflating: /content/content/Licenta/Processed_RSNA2/POSITIVE/24240_277199142.png  \n",
            "  inflating: /content/content/Licenta/Processed_RSNA2/POSITIVE/34204_1657133169.png  \n",
            "  inflating: /content/content/Licenta/Processed_RSNA2/POSITIVE/27890_19542040.png  \n",
            "  inflating: /content/content/Licenta/Processed_RSNA2/POSITIVE/30836_281143250.png  \n",
            "  inflating: /content/content/Licenta/Processed_RSNA2/POSITIVE/60442_787281164.png  \n",
            "  inflating: /content/content/Licenta/Processed_RSNA2/POSITIVE/500_1942815129.png  \n",
            "  inflating: /content/content/Licenta/Processed_RSNA2/POSITIVE/31107_56487741.png  \n",
            "  inflating: /content/content/Licenta/Processed_RSNA2/POSITIVE/33971_513700051.png  \n",
            "  inflating: /content/content/Licenta/Processed_RSNA2/POSITIVE/9559_1174804734.png  \n",
            "  inflating: /content/content/Licenta/Processed_RSNA2/POSITIVE/15945_1149915293.png  \n",
            "  inflating: /content/content/Licenta/Processed_RSNA2/POSITIVE/49927_1464062737.png  \n",
            "  inflating: /content/content/Licenta/Processed_RSNA2/POSITIVE/59322_1392394047.png  \n",
            "  inflating: /content/content/Licenta/Processed_RSNA2/POSITIVE/6018_974386516.png  \n",
            "  inflating: /content/content/Licenta/Processed_RSNA2/POSITIVE/55842_1690877249.png  \n",
            "  inflating: /content/content/Licenta/Processed_RSNA2/POSITIVE/53394_900242900.png  \n",
            "  inflating: /content/content/Licenta/Processed_RSNA2/POSITIVE/64534_1551728826.png  \n",
            "  inflating: /content/content/Licenta/Processed_RSNA2/POSITIVE/55148_1055402003.png  \n",
            "  inflating: /content/content/Licenta/Processed_RSNA2/POSITIVE/28344_1372132287.png  \n",
            "  inflating: /content/content/Licenta/Processed_RSNA2/POSITIVE/53255_1409657352.png  \n",
            "  inflating: /content/content/Licenta/Processed_RSNA2/POSITIVE/32582_2011574944.png  \n",
            "  inflating: /content/content/Licenta/Processed_RSNA2/POSITIVE/26700_88710137.png  \n",
            "  inflating: /content/content/Licenta/Processed_RSNA2/POSITIVE/34962_1690489424.png  \n",
            "  inflating: /content/content/Licenta/Processed_RSNA2/POSITIVE/33639_143752167.png  \n",
            "  inflating: /content/content/Licenta/Processed_RSNA2/POSITIVE/26974_592583896.png  \n",
            "  inflating: /content/content/Licenta/Processed_RSNA2/POSITIVE/35641_1646496367.png  \n",
            "  inflating: /content/content/Licenta/Processed_RSNA2/POSITIVE/57153_676165775.png  \n",
            "  inflating: /content/content/Licenta/Processed_RSNA2/POSITIVE/12392_1420153030.png  \n",
            "  inflating: /content/content/Licenta/Processed_RSNA2/POSITIVE/16145_1226471466.png  \n",
            "  inflating: /content/content/Licenta/Processed_RSNA2/POSITIVE/32770_1782876059.png  \n",
            "  inflating: /content/content/Licenta/Processed_RSNA2/POSITIVE/64722_1121948452.png  \n",
            "  inflating: /content/content/Licenta/Processed_RSNA2/POSITIVE/8403_1510269247.png  \n",
            "  inflating: /content/content/Licenta/Processed_RSNA2/POSITIVE/25895_204685133.png  \n",
            "  inflating: /content/content/Licenta/Processed_RSNA2/POSITIVE/22860_2025091558.png  \n",
            "  inflating: /content/content/Licenta/Processed_RSNA2/POSITIVE/39748_1220490070.png  \n",
            "  inflating: /content/content/Licenta/Processed_RSNA2/POSITIVE/236_1593856707.png  \n",
            "  inflating: /content/content/Licenta/Processed_RSNA2/POSITIVE/64534_1420658905.png  \n",
            "  inflating: /content/content/Licenta/Processed_RSNA2/POSITIVE/27275_103461181.png  \n",
            "  inflating: /content/content/Licenta/Processed_RSNA2/POSITIVE/1878_1490758028.png  \n",
            "  inflating: /content/content/Licenta/Processed_RSNA2/POSITIVE/4888_1705616801.png  \n",
            "  inflating: /content/content/Licenta/Processed_RSNA2/POSITIVE/32801_100791157.png  \n",
            "  inflating: /content/content/Licenta/Processed_RSNA2/POSITIVE/34391_1639391869.png  \n",
            "  inflating: /content/content/Licenta/Processed_RSNA2/POSITIVE/10940_888426604.png  \n",
            "  inflating: /content/content/Licenta/Processed_RSNA2/POSITIVE/27827_222966937.png  \n",
            "  inflating: /content/content/Licenta/Processed_RSNA2/POSITIVE/48939_698067885.png  \n",
            "  inflating: /content/content/Licenta/Processed_RSNA2/POSITIVE/12153_1827516400.png  \n",
            "  inflating: /content/content/Licenta/Processed_RSNA2/POSITIVE/39611_122457445.png  \n",
            "  inflating: /content/content/Licenta/Processed_RSNA2/POSITIVE/10668_1222121284.png  \n",
            "  inflating: /content/content/Licenta/Processed_RSNA2/POSITIVE/50740_1717606646.png  \n",
            "  inflating: /content/content/Licenta/Processed_RSNA2/POSITIVE/1963_159974570.png  \n",
            "  inflating: /content/content/Licenta/Processed_RSNA2/POSITIVE/46495_1751742838.png  \n",
            "  inflating: /content/content/Licenta/Processed_RSNA2/POSITIVE/6637_55676960.png  \n",
            "  inflating: /content/content/Licenta/Processed_RSNA2/POSITIVE/28785_216760793.png  \n",
            "  inflating: /content/content/Licenta/Processed_RSNA2/POSITIVE/4917_947417149.png  \n",
            "  inflating: /content/content/Licenta/Processed_RSNA2/POSITIVE/25679_2041280578.png  \n",
            "  inflating: /content/content/Licenta/Processed_RSNA2/POSITIVE/10638_311168378.png  \n",
            "  inflating: /content/content/Licenta/Processed_RSNA2/POSITIVE/19750_709207110.png  \n",
            "  inflating: /content/content/Licenta/Processed_RSNA2/POSITIVE/44121_1102648224.png  \n",
            "  inflating: /content/content/Licenta/Processed_RSNA2/POSITIVE/7196_976434791.png  \n",
            "  inflating: /content/content/Licenta/Processed_RSNA2/POSITIVE/22502_392897228.png  \n",
            "  inflating: /content/content/Licenta/Processed_RSNA2/POSITIVE/31864_873474308.png  \n",
            "  inflating: /content/content/Licenta/Processed_RSNA2/POSITIVE/53343_1141466623.png  \n",
            "  inflating: /content/content/Licenta/Processed_RSNA2/POSITIVE/57444_2137661476.png  \n",
            "  inflating: /content/content/Licenta/Processed_RSNA2/POSITIVE/44676_630962.png  \n",
            "  inflating: /content/content/Licenta/Processed_RSNA2/POSITIVE/32252_831862963.png  \n",
            "  inflating: /content/content/Licenta/Processed_RSNA2/POSITIVE/53636_2044242754.png  \n",
            "  inflating: /content/content/Licenta/Processed_RSNA2/POSITIVE/40496_1462467771.png  \n",
            "  inflating: /content/content/Licenta/Processed_RSNA2/POSITIVE/2989_1897884654.png  \n",
            "  inflating: /content/content/Licenta/Processed_RSNA2/POSITIVE/1109_1869230850.png  \n",
            "  inflating: /content/content/Licenta/Processed_RSNA2/POSITIVE/10589_195400299.png  \n",
            "  inflating: /content/content/Licenta/Processed_RSNA2/POSITIVE/53360_1973582111.png  \n",
            "  inflating: /content/content/Licenta/Processed_RSNA2/POSITIVE/25423_1605876492.png  \n",
            "  inflating: /content/content/Licenta/Processed_RSNA2/POSITIVE/13463_834999110.png  \n",
            "  inflating: /content/content/Licenta/Processed_RSNA2/POSITIVE/9029_302179668.png  \n",
            "  inflating: /content/content/Licenta/Processed_RSNA2/POSITIVE/47280_1058632970.png  \n",
            "  inflating: /content/content/Licenta/Processed_RSNA2/POSITIVE/16346_822395080.png  \n",
            "  inflating: /content/content/Licenta/Processed_RSNA2/POSITIVE/51498_274766802.png  \n",
            "  inflating: /content/content/Licenta/Processed_RSNA2/POSITIVE/32911_957591701.png  \n",
            "  inflating: /content/content/Licenta/Processed_RSNA2/POSITIVE/25523_449544592.png  \n",
            "  inflating: /content/content/Licenta/Processed_RSNA2/POSITIVE/25709_1643117062.png  \n",
            "  inflating: /content/content/Licenta/Processed_RSNA2/POSITIVE/13267_2024785721.png  \n",
            "  inflating: /content/content/Licenta/Processed_RSNA2/POSITIVE/60964_2000437485.png  \n",
            "  inflating: /content/content/Licenta/Processed_RSNA2/POSITIVE/729_748167281.png  \n",
            "  inflating: /content/content/Licenta/Processed_RSNA2/POSITIVE/53358_2022548083.png  \n",
            "  inflating: /content/content/Licenta/Processed_RSNA2/POSITIVE/9481_1662311140.png  \n",
            "  inflating: /content/content/Licenta/Processed_RSNA2/POSITIVE/26862_914306111.png  \n",
            "  inflating: /content/content/Licenta/Processed_RSNA2/POSITIVE/2679_1595139435.png  \n",
            "  inflating: /content/content/Licenta/Processed_RSNA2/POSITIVE/54492_531725191.png  \n",
            "  inflating: /content/content/Licenta/Processed_RSNA2/POSITIVE/62401_1606971612.png  \n",
            "  inflating: /content/content/Licenta/Processed_RSNA2/POSITIVE/61490_1740071540.png  \n",
            "  inflating: /content/content/Licenta/Processed_RSNA2/POSITIVE/58564_249281436.png  \n",
            "  inflating: /content/content/Licenta/Processed_RSNA2/POSITIVE/57623_2025283559.png  \n",
            "  inflating: /content/content/Licenta/Processed_RSNA2/POSITIVE/42581_685597752.png  \n",
            "  inflating: /content/content/Licenta/Processed_RSNA2/POSITIVE/46106_1158763906.png  \n",
            "  inflating: /content/content/Licenta/Processed_RSNA2/POSITIVE/34991_479738992.png  \n",
            "  inflating: /content/content/Licenta/Processed_RSNA2/POSITIVE/21315_58132425.png  \n",
            "  inflating: /content/content/Licenta/Processed_RSNA2/POSITIVE/58398_823353216.png  \n",
            "  inflating: /content/content/Licenta/Processed_RSNA2/POSITIVE/63056_217140431.png  \n",
            "  inflating: /content/content/Licenta/Processed_RSNA2/POSITIVE/46309_70960365.png  \n",
            "  inflating: /content/content/Licenta/Processed_RSNA2/POSITIVE/6658_776982430.png  \n",
            "  inflating: /content/content/Licenta/Processed_RSNA2/POSITIVE/44709_1700493110.png  \n",
            "  inflating: /content/content/Licenta/Processed_RSNA2/POSITIVE/20053_1290216893.png  \n",
            "  inflating: /content/content/Licenta/Processed_RSNA2/POSITIVE/18026_927775324.png  \n",
            "  inflating: /content/content/Licenta/Processed_RSNA2/POSITIVE/46274_850798798.png  \n",
            "  inflating: /content/content/Licenta/Processed_RSNA2/POSITIVE/28748_1159321127.png  \n",
            "  inflating: /content/content/Licenta/Processed_RSNA2/POSITIVE/48001_781841625.png  \n",
            "  inflating: /content/content/Licenta/Processed_RSNA2/POSITIVE/64456_1581726224.png  \n",
            "  inflating: /content/content/Licenta/Processed_RSNA2/POSITIVE/65224_200271231.png  \n",
            "  inflating: /content/content/Licenta/Processed_RSNA2/POSITIVE/48350_1102444861.png  \n",
            "  inflating: /content/content/Licenta/Processed_RSNA2/POSITIVE/25187_1207987797.png  \n",
            "  inflating: /content/content/Licenta/Processed_RSNA2/POSITIVE/62608_630693798.png  \n",
            "  inflating: /content/content/Licenta/Processed_RSNA2/POSITIVE/49523_109361654.png  \n",
            "  inflating: /content/content/Licenta/Processed_RSNA2/POSITIVE/57229_1863446.png  \n",
            "  inflating: /content/content/Licenta/Processed_RSNA2/POSITIVE/15696_1147761893.png  \n",
            "  inflating: /content/content/Licenta/Processed_RSNA2/POSITIVE/26232_1350576272.png  \n",
            "  inflating: /content/content/Licenta/Processed_RSNA2/POSITIVE/60629_306442803.png  \n",
            "  inflating: /content/content/Licenta/Processed_RSNA2/POSITIVE/2938_247535701.png  \n",
            "  inflating: /content/content/Licenta/Processed_RSNA2/POSITIVE/11919_1007401721.png  \n",
            "  inflating: /content/content/Licenta/Processed_RSNA2/POSITIVE/12918_835777184.png  \n",
            "  inflating: /content/content/Licenta/Processed_RSNA2/POSITIVE/6853_373068997.png  \n",
            "  inflating: /content/content/Licenta/Processed_RSNA2/POSITIVE/62608_344315857.png  \n",
            "  inflating: /content/content/Licenta/Processed_RSNA2/POSITIVE/50740_174840773.png  \n",
            "  inflating: /content/content/Licenta/Processed_RSNA2/POSITIVE/53115_1903183388.png  \n",
            "  inflating: /content/content/Licenta/Processed_RSNA2/POSITIVE/56328_846169117.png  \n",
            "  inflating: /content/content/Licenta/Processed_RSNA2/POSITIVE/13267_1222788247.png  \n",
            "  inflating: /content/content/Licenta/Processed_RSNA2/POSITIVE/10130_388811999.png  \n",
            "  inflating: /content/content/Licenta/Processed_RSNA2/POSITIVE/58398_1620798005.png  \n",
            "  inflating: /content/content/Licenta/Processed_RSNA2/POSITIVE/1703_404195349.png  \n",
            "  inflating: /content/content/Licenta/Processed_RSNA2/POSITIVE/13845_1772525431.png  \n",
            "  inflating: /content/content/Licenta/Processed_RSNA2/POSITIVE/47212_424911657.png  \n",
            "  inflating: /content/content/Licenta/Processed_RSNA2/POSITIVE/32881_1900457997.png  \n",
            "  inflating: /content/content/Licenta/Processed_RSNA2/POSITIVE/19028_1662724073.png  \n",
            "  inflating: /content/content/Licenta/Processed_RSNA2/POSITIVE/58825_1715970780.png  \n",
            "  inflating: /content/content/Licenta/Processed_RSNA2/POSITIVE/56713_1101766929.png  \n",
            "  inflating: /content/content/Licenta/Processed_RSNA2/POSITIVE/20009_863999353.png  \n",
            "  inflating: /content/content/Licenta/Processed_RSNA2/POSITIVE/40163_744975647.png  \n",
            "  inflating: /content/content/Licenta/Processed_RSNA2/POSITIVE/65077_1245656905.png  \n",
            "  inflating: /content/content/Licenta/Processed_RSNA2/POSITIVE/59530_901575629.png  \n",
            "  inflating: /content/content/Licenta/Processed_RSNA2/POSITIVE/39280_334248774.png  \n",
            "  inflating: /content/content/Licenta/Processed_RSNA2/POSITIVE/28989_382116832.png  \n",
            "  inflating: /content/content/Licenta/Processed_RSNA2/POSITIVE/41584_943062334.png  \n",
            "  inflating: /content/content/Licenta/Processed_RSNA2/POSITIVE/54671_941185309.png  \n",
            "  inflating: /content/content/Licenta/Processed_RSNA2/POSITIVE/29919_1740532224.png  \n",
            "  inflating: /content/content/Licenta/Processed_RSNA2/POSITIVE/57754_690582134.png  \n",
            "  inflating: /content/content/Licenta/Processed_RSNA2/POSITIVE/56491_2041964835.png  \n",
            "  inflating: /content/content/Licenta/Processed_RSNA2/POSITIVE/7151_396925350.png  \n",
            "  inflating: /content/content/Licenta/Processed_RSNA2/POSITIVE/6654_1497844117.png  \n",
            "  inflating: /content/content/Licenta/Processed_RSNA2/POSITIVE/11249_1915182298.png  \n",
            "  inflating: /content/content/Licenta/Processed_RSNA2/POSITIVE/6659_734832218.png  \n",
            "  inflating: /content/content/Licenta/Processed_RSNA2/POSITIVE/49176_1538523389.png  \n",
            "  inflating: /content/content/Licenta/Processed_RSNA2/POSITIVE/55301_625147236.png  \n",
            "  inflating: /content/content/Licenta/Processed_RSNA2/POSITIVE/6668_218465248.png  \n",
            "  inflating: /content/content/Licenta/Processed_RSNA2/POSITIVE/39677_1140395794.png  \n",
            "  inflating: /content/content/Licenta/Processed_RSNA2/POSITIVE/5769_1620633879.png  \n",
            "  inflating: /content/content/Licenta/Processed_RSNA2/POSITIVE/23101_732919056.png  \n",
            "  inflating: /content/content/Licenta/Processed_RSNA2/POSITIVE/34962_4612225.png  \n",
            "  inflating: /content/content/Licenta/Processed_RSNA2/POSITIVE/38727_1568613395.png  \n",
            "  inflating: /content/content/Licenta/Processed_RSNA2/POSITIVE/1963_1044828729.png  \n",
            "  inflating: /content/content/Licenta/Processed_RSNA2/POSITIVE/7053_888903661.png  \n",
            "  inflating: /content/content/Licenta/Processed_RSNA2/POSITIVE/50248_1230663443.png  \n",
            "  inflating: /content/content/Licenta/Processed_RSNA2/POSITIVE/31745_1453551983.png  \n",
            "  inflating: /content/content/Licenta/Processed_RSNA2/POSITIVE/15268_1398189039.png  \n",
            "  inflating: /content/content/Licenta/Processed_RSNA2/POSITIVE/11094_1086977375.png  \n",
            "  inflating: /content/content/Licenta/Processed_RSNA2/POSITIVE/5911_1491483248.png  \n",
            "  inflating: /content/content/Licenta/Processed_RSNA2/POSITIVE/22562_1512279672.png  \n",
            "  inflating: /content/content/Licenta/Processed_RSNA2/POSITIVE/25323_1743461841.png  \n",
            "  inflating: /content/content/Licenta/Processed_RSNA2/POSITIVE/56139_1055428975.png  \n",
            "  inflating: /content/content/Licenta/Processed_RSNA2/POSITIVE/47280_1577937072.png  \n",
            "  inflating: /content/content/Licenta/Processed_RSNA2/POSITIVE/57737_447151473.png  \n",
            "  inflating: /content/content/Licenta/Processed_RSNA2/POSITIVE/34991_1806825659.png  \n",
            "  inflating: /content/content/Licenta/Processed_RSNA2/POSITIVE/39401_1901397658.png  \n",
            "  inflating: /content/content/Licenta/Processed_RSNA2/POSITIVE/2179_310530469.png  \n",
            "  inflating: /content/content/Licenta/Processed_RSNA2/POSITIVE/58564_22663013.png  \n",
            "  inflating: /content/content/Licenta/Processed_RSNA2/POSITIVE/36660_1456616206.png  \n",
            "  inflating: /content/content/Licenta/Processed_RSNA2/POSITIVE/40511_732225940.png  \n",
            "  inflating: /content/content/Licenta/Processed_RSNA2/POSITIVE/22502_1283804942.png  \n",
            "  inflating: /content/content/Licenta/Processed_RSNA2/POSITIVE/9840_1559360810.png  \n",
            "  inflating: /content/content/Licenta/Processed_RSNA2/POSITIVE/49520_1226438258.png  \n",
            "  inflating: /content/content/Licenta/Processed_RSNA2/POSITIVE/4340_1757286067.png  \n",
            "  inflating: /content/content/Licenta/Processed_RSNA2/POSITIVE/16451_1600425758.png  \n",
            "  inflating: /content/content/Licenta/Processed_RSNA2/POSITIVE/54930_1501829050.png  \n",
            "  inflating: /content/content/Licenta/Processed_RSNA2/POSITIVE/47055_102668587.png  \n",
            "  inflating: /content/content/Licenta/Processed_RSNA2/POSITIVE/27890_2019930622.png  \n",
            "  inflating: /content/content/Licenta/Processed_RSNA2/POSITIVE/1878_1609298443.png  \n",
            "  inflating: /content/content/Licenta/Processed_RSNA2/POSITIVE/44062_212955895.png  \n",
            "  inflating: /content/content/Licenta/Processed_RSNA2/POSITIVE/2489_1930646527.png  \n",
            "  inflating: /content/content/Licenta/Processed_RSNA2/POSITIVE/39280_1802895010.png  \n",
            "  inflating: /content/content/Licenta/Processed_RSNA2/POSITIVE/51609_494727154.png  \n",
            "  inflating: /content/content/Licenta/Processed_RSNA2/POSITIVE/52056_885478248.png  \n",
            "  inflating: /content/content/Licenta/Processed_RSNA2/POSITIVE/38727_1338411990.png  \n",
            "  inflating: /content/content/Licenta/Processed_RSNA2/POSITIVE/41359_1666009039.png  \n",
            "  inflating: /content/content/Licenta/Processed_RSNA2/POSITIVE/13756_1928377168.png  \n",
            "  inflating: /content/content/Licenta/Processed_RSNA2/POSITIVE/5878_275934305.png  \n",
            "  inflating: /content/content/Licenta/Processed_RSNA2/POSITIVE/6018_1680138718.png  \n",
            "  inflating: /content/content/Licenta/Processed_RSNA2/POSITIVE/16451_349554513.png  \n",
            "  inflating: /content/content/Licenta/Processed_RSNA2/POSITIVE/18839_746580759.png  \n",
            "  inflating: /content/content/Licenta/Processed_RSNA2/POSITIVE/57754_1135946231.png  \n",
            "  inflating: /content/content/Licenta/Processed_RSNA2/POSITIVE/60410_825403089.png  \n",
            "  inflating: /content/content/Licenta/Processed_RSNA2/POSITIVE/36706_943142381.png  \n",
            "  inflating: /content/content/Licenta/Processed_RSNA2/POSITIVE/25432_2058514481.png  \n",
            "  inflating: /content/content/Licenta/Processed_RSNA2/POSITIVE/13267_1789731455.png  \n",
            "  inflating: /content/content/Licenta/Processed_RSNA2/POSITIVE/10226_461614796.png  \n",
            "  inflating: /content/content/Licenta/Processed_RSNA2/POSITIVE/59865_835658415.png  \n",
            "  inflating: /content/content/Licenta/Processed_RSNA2/POSITIVE/53946_2125610822.png  \n",
            "  inflating: /content/content/Licenta/Processed_RSNA2/POSITIVE/1524_1856057994.png  \n",
            "  inflating: /content/content/Licenta/Processed_RSNA2/POSITIVE/18316_563798715.png  \n",
            "  inflating: /content/content/Licenta/Processed_RSNA2/POSITIVE/60519_1941196911.png  \n",
            "  inflating: /content/content/Licenta/Processed_RSNA2/POSITIVE/45137_847490588.png  \n",
            "  inflating: /content/content/Licenta/Processed_RSNA2/POSITIVE/44121_546226529.png  \n",
            "  inflating: /content/content/Licenta/Processed_RSNA2/POSITIVE/55147_1239502036.png  \n",
            "  inflating: /content/content/Licenta/Processed_RSNA2/POSITIVE/60629_697950433.png  \n",
            "  inflating: /content/content/Licenta/Processed_RSNA2/POSITIVE/4917_1773963138.png  \n",
            "  inflating: /content/content/Licenta/Processed_RSNA2/POSITIVE/39723_238686891.png  \n",
            "  inflating: /content/content/Licenta/Processed_RSNA2/POSITIVE/39280_743851181.png  \n",
            "  inflating: /content/content/Licenta/Processed_RSNA2/POSITIVE/13101_739781139.png  \n",
            "  inflating: /content/content/Licenta/Processed_RSNA2/POSITIVE/48230_386832097.png  \n",
            "  inflating: /content/content/Licenta/Processed_RSNA2/POSITIVE/59347_2040824439.png  \n",
            "  inflating: /content/content/Licenta/Processed_RSNA2/POSITIVE/47055_998306444.png  \n",
            "  inflating: /content/content/Licenta/Processed_RSNA2/POSITIVE/18839_629657795.png  \n",
            "  inflating: /content/content/Licenta/Processed_RSNA2/POSITIVE/1759_276588619.png  \n",
            "  inflating: /content/content/Licenta/Processed_RSNA2/POSITIVE/9167_436533616.png  \n",
            "  inflating: /content/content/Licenta/Processed_RSNA2/POSITIVE/31964_488598184.png  \n",
            "  inflating: /content/content/Licenta/Processed_RSNA2/POSITIVE/16639_1312979917.png  \n",
            "  inflating: /content/content/Licenta/Processed_RSNA2/POSITIVE/48230_1587213840.png  \n",
            "  inflating: /content/content/Licenta/Processed_RSNA2/POSITIVE/40163_428403131.png  \n",
            "  inflating: /content/content/Licenta/Processed_RSNA2/POSITIVE/21720_1949604033.png  \n",
            "  inflating: /content/content/Licenta/Processed_RSNA2/POSITIVE/56813_1923655631.png  \n",
            "  inflating: /content/content/Licenta/Processed_RSNA2/POSITIVE/16639_1663628589.png  \n",
            "  inflating: /content/content/Licenta/Processed_RSNA2/POSITIVE/28344_1940528865.png  \n",
            "  inflating: /content/content/Licenta/Processed_RSNA2/POSITIVE/2346_1931036504.png  \n",
            "  inflating: /content/content/Licenta/Processed_RSNA2/POSITIVE/25909_512561149.png  \n",
            "  inflating: /content/content/Licenta/Processed_RSNA2/POSITIVE/9010_139396228.png  \n",
            "  inflating: /content/content/Licenta/Processed_RSNA2/POSITIVE/2133_267266091.png  \n",
            "  inflating: /content/content/Licenta/Processed_RSNA2/POSITIVE/48368_874812410.png  \n",
            "  inflating: /content/content/Licenta/Processed_RSNA2/POSITIVE/32770_1280343318.png  \n",
            "  inflating: /content/content/Licenta/Processed_RSNA2/POSITIVE/41610_866373686.png  \n",
            "  inflating: /content/content/Licenta/Processed_RSNA2/POSITIVE/64930_1754969656.png  \n",
            "  inflating: /content/content/Licenta/Processed_RSNA2/POSITIVE/3346_1158116146.png  \n",
            "  inflating: /content/content/Licenta/Processed_RSNA2/POSITIVE/28996_2064191295.png  \n",
            "  inflating: /content/content/Licenta/Processed_RSNA2/POSITIVE/30435_1261298563.png  \n",
            "  inflating: /content/content/Licenta/Processed_RSNA2/POSITIVE/45666_1879230222.png  \n",
            "  inflating: /content/content/Licenta/Processed_RSNA2/POSITIVE/14941_303808170.png  \n",
            "  inflating: /content/content/Licenta/Processed_RSNA2/POSITIVE/47404_812707999.png  \n",
            "  inflating: /content/content/Licenta/Processed_RSNA2/POSITIVE/35227_1858716768.png  \n",
            "  inflating: /content/content/Licenta/Processed_RSNA2/POSITIVE/28748_1447554621.png  \n",
            "  inflating: /content/content/Licenta/Processed_RSNA2/POSITIVE/37931_1225495210.png  \n",
            "  inflating: /content/content/Licenta/Processed_RSNA2/POSITIVE/53636_1322837831.png  \n",
            "  inflating: /content/content/Licenta/Processed_RSNA2/POSITIVE/55879_920069633.png  \n",
            "  inflating: /content/content/Licenta/Processed_RSNA2/POSITIVE/10130_1360338805.png  \n",
            "  inflating: /content/content/Licenta/Processed_RSNA2/POSITIVE/21957_1415477144.png  \n",
            "  inflating: /content/content/Licenta/Processed_RSNA2/POSITIVE/56491_734300452.png  \n",
            "  inflating: /content/content/Licenta/Processed_RSNA2/POSITIVE/17562_1833201492.png  \n",
            "  inflating: /content/content/Licenta/Processed_RSNA2/POSITIVE/42160_1496104302.png  \n",
            "  inflating: /content/content/Licenta/Processed_RSNA2/POSITIVE/16694_2118457620.png  \n",
            "  inflating: /content/content/Licenta/Processed_RSNA2/POSITIVE/5608_1085496456.png  \n",
            "  inflating: /content/content/Licenta/Processed_RSNA2/POSITIVE/1759_1005049159.png  \n",
            "  inflating: /content/content/Licenta/Processed_RSNA2/POSITIVE/61019_800356528.png  \n",
            "  inflating: /content/content/Licenta/Processed_RSNA2/POSITIVE/32911_1468636829.png  \n",
            "  inflating: /content/content/Licenta/Processed_RSNA2/POSITIVE/19182_1872087937.png  \n",
            "  inflating: /content/content/Licenta/Processed_RSNA2/POSITIVE/35864_1558139643.png  \n",
            "  inflating: /content/content/Licenta/Processed_RSNA2/POSITIVE/39677_1900013346.png  \n",
            "  inflating: /content/content/Licenta/Processed_RSNA2/POSITIVE/42581_1847331593.png  \n",
            "  inflating: /content/content/Licenta/Processed_RSNA2/POSITIVE/30363_192291098.png  \n",
            "  inflating: /content/content/Licenta/Processed_RSNA2/POSITIVE/11249_1820235658.png  \n",
            "  inflating: /content/content/Licenta/Processed_RSNA2/POSITIVE/61046_782049033.png  \n",
            "  inflating: /content/content/Licenta/Processed_RSNA2/POSITIVE/31750_1770948600.png  \n",
            "  inflating: /content/content/Licenta/Processed_RSNA2/POSITIVE/30317_2124226318.png  \n",
            "  inflating: /content/content/Licenta/Processed_RSNA2/POSITIVE/1775_393941516.png  \n",
            "  inflating: /content/content/Licenta/Processed_RSNA2/POSITIVE/39723_808707837.png  \n",
            "  inflating: /content/content/Licenta/Processed_RSNA2/POSITIVE/4083_61389923.png  \n",
            "  inflating: /content/content/Licenta/Processed_RSNA2/POSITIVE/41530_2029361541.png  \n",
            "  inflating: /content/content/Licenta/Processed_RSNA2/POSITIVE/5878_872782383.png  \n",
            "  inflating: /content/content/Licenta/Processed_RSNA2/POSITIVE/60410_401151862.png  \n",
            "  inflating: /content/content/Licenta/Processed_RSNA2/POSITIVE/54671_1214090918.png  \n",
            "  inflating: /content/content/Licenta/Processed_RSNA2/POSITIVE/8732_647267886.png  \n",
            "  inflating: /content/content/Licenta/Processed_RSNA2/POSITIVE/50583_863276520.png  \n",
            "  inflating: /content/content/Licenta/Processed_RSNA2/POSITIVE/3510_71762990.png  \n",
            "  inflating: /content/content/Licenta/Processed_RSNA2/POSITIVE/26232_1378580532.png  \n",
            "  inflating: /content/content/Licenta/Processed_RSNA2/POSITIVE/7151_1938638705.png  \n",
            "  inflating: /content/content/Licenta/Processed_RSNA2/POSITIVE/32057_1045902748.png  \n",
            "  inflating: /content/content/Licenta/Processed_RSNA2/POSITIVE/38040_44522124.png  \n",
            "  inflating: /content/content/Licenta/Processed_RSNA2/POSITIVE/58652_701160320.png  \n",
            "  inflating: /content/content/Licenta/Processed_RSNA2/POSITIVE/48852_1875230999.png  \n",
            "  inflating: /content/content/Licenta/Processed_RSNA2/POSITIVE/65222_1559227517.png  \n",
            "  inflating: /content/content/Licenta/Processed_RSNA2/POSITIVE/6107_1280344998.png  \n",
            "  inflating: /content/content/Licenta/Processed_RSNA2/POSITIVE/32801_1368532850.png  \n",
            "  inflating: /content/content/Licenta/Processed_RSNA2/POSITIVE/53272_362089845.png  \n",
            "  inflating: /content/content/Licenta/Processed_RSNA2/POSITIVE/53343_463687047.png  \n",
            "  inflating: /content/content/Licenta/Processed_RSNA2/POSITIVE/1759_1211304263.png  \n",
            "  inflating: /content/content/Licenta/Processed_RSNA2/POSITIVE/32668_744035306.png  \n",
            "  inflating: /content/content/Licenta/Processed_RSNA2/POSITIVE/12725_1289574047.png  \n",
            "  inflating: /content/content/Licenta/Processed_RSNA2/POSITIVE/6107_562044384.png  \n",
            "  inflating: /content/content/Licenta/Processed_RSNA2/POSITIVE/12522_220808925.png  \n",
            "  inflating: /content/content/Licenta/Processed_RSNA2/POSITIVE/14327_917935711.png  \n",
            "  inflating: /content/content/Licenta/Processed_RSNA2/POSITIVE/37724_1189929071.png  \n",
            "  inflating: /content/content/Licenta/Processed_RSNA2/POSITIVE/106_2018825992.png  \n",
            "  inflating: /content/content/Licenta/Processed_RSNA2/POSITIVE/31581_1958305648.png  \n",
            "  inflating: /content/content/Licenta/Processed_RSNA2/POSITIVE/64055_2097551542.png  \n",
            "  inflating: /content/content/Licenta/Processed_RSNA2/POSITIVE/48493_75556345.png  \n",
            "  inflating: /content/content/Licenta/Processed_RSNA2/POSITIVE/30435_137928966.png  \n",
            "  inflating: /content/content/Licenta/Processed_RSNA2/POSITIVE/25423_1982596702.png  \n",
            "  inflating: /content/content/Licenta/Processed_RSNA2/POSITIVE/36034_311083578.png  \n",
            "  inflating: /content/content/Licenta/Processed_RSNA2/POSITIVE/18399_524320770.png  \n",
            "  inflating: /content/content/Licenta/Processed_RSNA2/POSITIVE/38311_1366179524.png  \n",
            "  inflating: /content/content/Licenta/Processed_RSNA2/POSITIVE/1109_1326732476.png  \n",
            "  inflating: /content/content/Licenta/Processed_RSNA2/POSITIVE/48437_1163631200.png  \n",
            "  inflating: /content/content/Licenta/Processed_RSNA2/POSITIVE/15078_1719011144.png  \n",
            "  inflating: /content/content/Licenta/Processed_RSNA2/POSITIVE/41610_777491665.png  \n",
            "  inflating: /content/content/Licenta/Processed_RSNA2/POSITIVE/8631_155909056.png  \n",
            "  inflating: /content/content/Licenta/Processed_RSNA2/POSITIVE/47055_11944138.png  \n",
            "  inflating: /content/content/Licenta/Processed_RSNA2/POSITIVE/18026_1905432390.png  \n",
            "  inflating: /content/content/Licenta/Processed_RSNA2/POSITIVE/46095_1652648212.png  \n",
            "  inflating: /content/content/Licenta/Processed_RSNA2/POSITIVE/19486_886797800.png  \n",
            "  inflating: /content/content/Licenta/Processed_RSNA2/POSITIVE/44709_428249938.png  \n",
            "  inflating: /content/content/Licenta/Processed_RSNA2/POSITIVE/53659_1125098485.png  \n",
            "  inflating: /content/content/Licenta/Processed_RSNA2/POSITIVE/45810_1059866275.png  \n",
            "  inflating: /content/content/Licenta/Processed_RSNA2/POSITIVE/55483_1886865907.png  \n",
            "  inflating: /content/content/Licenta/Processed_RSNA2/POSITIVE/61568_85804262.png  \n",
            "  inflating: /content/content/Licenta/Processed_RSNA2/POSITIVE/64449_1151546567.png  \n",
            "  inflating: /content/content/Licenta/Processed_RSNA2/POSITIVE/49485_1586224451.png  \n",
            "  inflating: /content/content/Licenta/Processed_RSNA2/POSITIVE/31964_1445103431.png  \n",
            "  inflating: /content/content/Licenta/Processed_RSNA2/POSITIVE/2179_2039865970.png  \n",
            "  inflating: /content/content/Licenta/Processed_RSNA2/POSITIVE/51276_1416534699.png  \n",
            "  inflating: /content/content/Licenta/Processed_RSNA2/POSITIVE/30363_1951373756.png  \n",
            "  inflating: /content/content/Licenta/Processed_RSNA2/POSITIVE/32087_1919147280.png  \n",
            "  inflating: /content/content/Licenta/Processed_RSNA2/POSITIVE/27861_1532982826.png  \n",
            "  inflating: /content/content/Licenta/Processed_RSNA2/POSITIVE/40774_1246979925.png  \n",
            "  inflating: /content/content/Licenta/Processed_RSNA2/POSITIVE/39401_253372914.png  \n",
            "  inflating: /content/content/Licenta/Processed_RSNA2/POSITIVE/46495_1586014311.png  \n",
            "  inflating: /content/content/Licenta/Processed_RSNA2/POSITIVE/44676_1346493294.png  \n",
            "  inflating: /content/content/Licenta/Processed_RSNA2/POSITIVE/14327_657242412.png  \n",
            "  inflating: /content/content/Licenta/Processed_RSNA2/POSITIVE/29986_1496079995.png  \n",
            "  inflating: /content/content/Licenta/Processed_RSNA2/POSITIVE/16955_1179164048.png  \n",
            "  inflating: /content/content/Licenta/Processed_RSNA2/POSITIVE/60653_2052987229.png  \n",
            "  inflating: /content/content/Licenta/Processed_RSNA2/POSITIVE/59806_705873233.png  \n",
            "  inflating: /content/content/Licenta/Processed_RSNA2/POSITIVE/3670_819790188.png  \n",
            "Archive:  /content/drive/MyDrive/Licenta/POSITIVEGAN.zip\n",
            "  inflating: /content/POSITIVE/img00000000.png  \n",
            "  inflating: /content/POSITIVE/img00000001.png  \n",
            "  inflating: /content/POSITIVE/img00000002.png  \n",
            "  inflating: /content/POSITIVE/img00000003.png  \n",
            "  inflating: /content/POSITIVE/img00000004.png  \n",
            "  inflating: /content/POSITIVE/img00000005.png  \n",
            "  inflating: /content/POSITIVE/img00000006.png  \n",
            "  inflating: /content/POSITIVE/img00000007.png  \n",
            "  inflating: /content/POSITIVE/img00000008.png  \n",
            "  inflating: /content/POSITIVE/img00000009.png  \n",
            "  inflating: /content/POSITIVE/img00000010.png  \n",
            "  inflating: /content/POSITIVE/img00000011.png  \n",
            "  inflating: /content/POSITIVE/img00000012.png  \n",
            "  inflating: /content/POSITIVE/img00000013.png  \n",
            "  inflating: /content/POSITIVE/img00000014.png  \n",
            "  inflating: /content/POSITIVE/img00000015.png  \n",
            "  inflating: /content/POSITIVE/img00000016.png  \n",
            "  inflating: /content/POSITIVE/img00000017.png  \n",
            "  inflating: /content/POSITIVE/img00000018.png  \n",
            "  inflating: /content/POSITIVE/img00000019.png  \n",
            "  inflating: /content/POSITIVE/img00000020.png  \n",
            "  inflating: /content/POSITIVE/img00000021.png  \n",
            "  inflating: /content/POSITIVE/img00000022.png  \n",
            "  inflating: /content/POSITIVE/img00000023.png  \n",
            "  inflating: /content/POSITIVE/img00000024.png  \n",
            "  inflating: /content/POSITIVE/img00000025.png  \n",
            "  inflating: /content/POSITIVE/img00000026.png  \n",
            "  inflating: /content/POSITIVE/img00000027.png  \n",
            "  inflating: /content/POSITIVE/img00000028.png  \n",
            "  inflating: /content/POSITIVE/img00000029.png  \n",
            "  inflating: /content/POSITIVE/img00000030.png  \n",
            "  inflating: /content/POSITIVE/img00000031.png  \n",
            "  inflating: /content/POSITIVE/img00000032.png  \n",
            "  inflating: /content/POSITIVE/img00000033.png  \n",
            "  inflating: /content/POSITIVE/img00000034.png  \n",
            "  inflating: /content/POSITIVE/img00000035.png  \n",
            "  inflating: /content/POSITIVE/img00000036.png  \n",
            "  inflating: /content/POSITIVE/img00000037.png  \n",
            "  inflating: /content/POSITIVE/img00000038.png  \n",
            "  inflating: /content/POSITIVE/img00000039.png  \n",
            "  inflating: /content/POSITIVE/img00000040.png  \n",
            "  inflating: /content/POSITIVE/img00000041.png  \n",
            "  inflating: /content/POSITIVE/img00000042.png  \n",
            "  inflating: /content/POSITIVE/img00000043.png  \n",
            "  inflating: /content/POSITIVE/img00000044.png  \n",
            "  inflating: /content/POSITIVE/img00000045.png  \n",
            "  inflating: /content/POSITIVE/img00000046.png  \n",
            "  inflating: /content/POSITIVE/img00000047.png  \n",
            "  inflating: /content/POSITIVE/img00000048.png  \n",
            "  inflating: /content/POSITIVE/img00000049.png  \n",
            "  inflating: /content/POSITIVE/img00000050.png  \n",
            "  inflating: /content/POSITIVE/img00000051.png  \n",
            "  inflating: /content/POSITIVE/img00000052.png  \n",
            "  inflating: /content/POSITIVE/img00000053.png  \n",
            "  inflating: /content/POSITIVE/img00000054.png  \n",
            "  inflating: /content/POSITIVE/img00000055.png  \n",
            "  inflating: /content/POSITIVE/img00000056.png  \n",
            "  inflating: /content/POSITIVE/img00000057.png  \n",
            "  inflating: /content/POSITIVE/img00000058.png  \n",
            "  inflating: /content/POSITIVE/img00000059.png  \n",
            "  inflating: /content/POSITIVE/img00000060.png  \n",
            "  inflating: /content/POSITIVE/img00000061.png  \n",
            "  inflating: /content/POSITIVE/img00000062.png  \n",
            "  inflating: /content/POSITIVE/img00000063.png  \n",
            "  inflating: /content/POSITIVE/img00000064.png  \n",
            "  inflating: /content/POSITIVE/img00000065.png  \n",
            "  inflating: /content/POSITIVE/img00000066.png  \n",
            "  inflating: /content/POSITIVE/img00000067.png  \n",
            "  inflating: /content/POSITIVE/img00000068.png  \n",
            "  inflating: /content/POSITIVE/img00000069.png  \n",
            "  inflating: /content/POSITIVE/img00000070.png  \n",
            "  inflating: /content/POSITIVE/img00000071.png  \n",
            "  inflating: /content/POSITIVE/img00000072.png  \n",
            "  inflating: /content/POSITIVE/img00000073.png  \n",
            "  inflating: /content/POSITIVE/img00000074.png  \n",
            "  inflating: /content/POSITIVE/img00000075.png  \n",
            "  inflating: /content/POSITIVE/img00000076.png  \n",
            "  inflating: /content/POSITIVE/img00000077.png  \n",
            "  inflating: /content/POSITIVE/img00000078.png  \n",
            "  inflating: /content/POSITIVE/img00000079.png  \n",
            "  inflating: /content/POSITIVE/img00000080.png  \n",
            "  inflating: /content/POSITIVE/img00000081.png  \n",
            "  inflating: /content/POSITIVE/img00000082.png  \n",
            "  inflating: /content/POSITIVE/img00000083.png  \n",
            "  inflating: /content/POSITIVE/img00000084.png  \n",
            "  inflating: /content/POSITIVE/img00000085.png  \n",
            "  inflating: /content/POSITIVE/img00000086.png  \n",
            "  inflating: /content/POSITIVE/img00000087.png  \n",
            "  inflating: /content/POSITIVE/img00000088.png  \n",
            "  inflating: /content/POSITIVE/img00000089.png  \n",
            "  inflating: /content/POSITIVE/img00000090.png  \n",
            "  inflating: /content/POSITIVE/img00000091.png  \n",
            "  inflating: /content/POSITIVE/img00000092.png  \n",
            "  inflating: /content/POSITIVE/img00000093.png  \n",
            "  inflating: /content/POSITIVE/img00000094.png  \n",
            "  inflating: /content/POSITIVE/img00000095.png  \n",
            "  inflating: /content/POSITIVE/img00000096.png  \n",
            "  inflating: /content/POSITIVE/img00000097.png  \n",
            "  inflating: /content/POSITIVE/img00000098.png  \n",
            "  inflating: /content/POSITIVE/img00000099.png  \n",
            "  inflating: /content/POSITIVE/img00000100.png  \n",
            "  inflating: /content/POSITIVE/img00000101.png  \n",
            "  inflating: /content/POSITIVE/img00000102.png  \n",
            "  inflating: /content/POSITIVE/img00000103.png  \n",
            "  inflating: /content/POSITIVE/img00000104.png  \n",
            "  inflating: /content/POSITIVE/img00000105.png  \n",
            "  inflating: /content/POSITIVE/img00000106.png  \n",
            "  inflating: /content/POSITIVE/img00000107.png  \n",
            "  inflating: /content/POSITIVE/img00000108.png  \n",
            "  inflating: /content/POSITIVE/img00000109.png  \n",
            "  inflating: /content/POSITIVE/img00000110.png  \n",
            "  inflating: /content/POSITIVE/img00000111.png  \n",
            "  inflating: /content/POSITIVE/img00000112.png  \n",
            "  inflating: /content/POSITIVE/img00000113.png  \n",
            "  inflating: /content/POSITIVE/img00000114.png  \n",
            "  inflating: /content/POSITIVE/img00000115.png  \n",
            "  inflating: /content/POSITIVE/img00000116.png  \n",
            "  inflating: /content/POSITIVE/img00000117.png  \n",
            "  inflating: /content/POSITIVE/img00000118.png  \n",
            "  inflating: /content/POSITIVE/img00000119.png  \n",
            "  inflating: /content/POSITIVE/img00000120.png  \n",
            "  inflating: /content/POSITIVE/img00000121.png  \n",
            "  inflating: /content/POSITIVE/img00000122.png  \n",
            "  inflating: /content/POSITIVE/img00000123.png  \n",
            "  inflating: /content/POSITIVE/img00000124.png  \n",
            "  inflating: /content/POSITIVE/img00000125.png  \n",
            "  inflating: /content/POSITIVE/img00000126.png  \n",
            "  inflating: /content/POSITIVE/img00000127.png  \n",
            "  inflating: /content/POSITIVE/img00000128.png  \n",
            "  inflating: /content/POSITIVE/img00000129.png  \n",
            "  inflating: /content/POSITIVE/img00000130.png  \n",
            "  inflating: /content/POSITIVE/img00000131.png  \n",
            "  inflating: /content/POSITIVE/img00000132.png  \n",
            "  inflating: /content/POSITIVE/img00000133.png  \n",
            "  inflating: /content/POSITIVE/img00000134.png  \n",
            "  inflating: /content/POSITIVE/img00000135.png  \n",
            "  inflating: /content/POSITIVE/img00000136.png  \n",
            "  inflating: /content/POSITIVE/img00000137.png  \n",
            "  inflating: /content/POSITIVE/img00000138.png  \n",
            "  inflating: /content/POSITIVE/img00000139.png  \n",
            "  inflating: /content/POSITIVE/img00000140.png  \n",
            "  inflating: /content/POSITIVE/img00000141.png  \n",
            "  inflating: /content/POSITIVE/img00000142.png  \n",
            "  inflating: /content/POSITIVE/img00000143.png  \n",
            "  inflating: /content/POSITIVE/img00000144.png  \n",
            "  inflating: /content/POSITIVE/img00000145.png  \n",
            "  inflating: /content/POSITIVE/img00000146.png  \n",
            "  inflating: /content/POSITIVE/img00000147.png  \n",
            "  inflating: /content/POSITIVE/img00000148.png  \n",
            "  inflating: /content/POSITIVE/img00000149.png  \n",
            "  inflating: /content/POSITIVE/img00000150.png  \n",
            "  inflating: /content/POSITIVE/img00000151.png  \n",
            "  inflating: /content/POSITIVE/img00000152.png  \n",
            "  inflating: /content/POSITIVE/img00000153.png  \n",
            "  inflating: /content/POSITIVE/img00000154.png  \n",
            "  inflating: /content/POSITIVE/img00000155.png  \n",
            "  inflating: /content/POSITIVE/img00000156.png  \n",
            "  inflating: /content/POSITIVE/img00000157.png  \n",
            "  inflating: /content/POSITIVE/img00000158.png  \n",
            "  inflating: /content/POSITIVE/img00000159.png  \n",
            "  inflating: /content/POSITIVE/img00000160.png  \n",
            "  inflating: /content/POSITIVE/img00000161.png  \n",
            "  inflating: /content/POSITIVE/img00000162.png  \n",
            "  inflating: /content/POSITIVE/img00000163.png  \n",
            "  inflating: /content/POSITIVE/img00000164.png  \n",
            "  inflating: /content/POSITIVE/img00000165.png  \n",
            "  inflating: /content/POSITIVE/img00000166.png  \n",
            "  inflating: /content/POSITIVE/img00000167.png  \n",
            "  inflating: /content/POSITIVE/img00000168.png  \n",
            "  inflating: /content/POSITIVE/img00000169.png  \n",
            "  inflating: /content/POSITIVE/img00000170.png  \n",
            "  inflating: /content/POSITIVE/img00000171.png  \n",
            "  inflating: /content/POSITIVE/img00000172.png  \n",
            "  inflating: /content/POSITIVE/img00000173.png  \n",
            "  inflating: /content/POSITIVE/img00000174.png  \n",
            "  inflating: /content/POSITIVE/img00000175.png  \n",
            "  inflating: /content/POSITIVE/img00000176.png  \n",
            "  inflating: /content/POSITIVE/img00000177.png  \n",
            "  inflating: /content/POSITIVE/img00000178.png  \n",
            "  inflating: /content/POSITIVE/img00000179.png  \n",
            "  inflating: /content/POSITIVE/img00000180.png  \n",
            "  inflating: /content/POSITIVE/img00000181.png  \n",
            "  inflating: /content/POSITIVE/img00000182.png  \n",
            "  inflating: /content/POSITIVE/img00000183.png  \n",
            "  inflating: /content/POSITIVE/img00000184.png  \n",
            "  inflating: /content/POSITIVE/img00000185.png  \n",
            "  inflating: /content/POSITIVE/img00000186.png  \n",
            "  inflating: /content/POSITIVE/img00000187.png  \n",
            "  inflating: /content/POSITIVE/img00000188.png  \n",
            "  inflating: /content/POSITIVE/img00000189.png  \n",
            "  inflating: /content/POSITIVE/img00000190.png  \n",
            "  inflating: /content/POSITIVE/img00000191.png  \n",
            "  inflating: /content/POSITIVE/img00000192.png  \n",
            "  inflating: /content/POSITIVE/img00000193.png  \n",
            "  inflating: /content/POSITIVE/img00000194.png  \n",
            "  inflating: /content/POSITIVE/img00000195.png  \n",
            "  inflating: /content/POSITIVE/img00000196.png  \n",
            "  inflating: /content/POSITIVE/img00000197.png  \n",
            "  inflating: /content/POSITIVE/img00000198.png  \n",
            "  inflating: /content/POSITIVE/img00000199.png  \n",
            "  inflating: /content/POSITIVE/img00000200.png  \n",
            "  inflating: /content/POSITIVE/img00000201.png  \n",
            "  inflating: /content/POSITIVE/img00000202.png  \n",
            "  inflating: /content/POSITIVE/img00000203.png  \n",
            "  inflating: /content/POSITIVE/img00000204.png  \n",
            "  inflating: /content/POSITIVE/img00000205.png  \n",
            "  inflating: /content/POSITIVE/img00000206.png  \n",
            "  inflating: /content/POSITIVE/img00000207.png  \n",
            "  inflating: /content/POSITIVE/img00000208.png  \n",
            "  inflating: /content/POSITIVE/img00000209.png  \n",
            "  inflating: /content/POSITIVE/img00000210.png  \n",
            "  inflating: /content/POSITIVE/img00000211.png  \n",
            "  inflating: /content/POSITIVE/img00000212.png  \n",
            "  inflating: /content/POSITIVE/img00000213.png  \n",
            "  inflating: /content/POSITIVE/img00000214.png  \n",
            "  inflating: /content/POSITIVE/img00000215.png  \n",
            "  inflating: /content/POSITIVE/img00000216.png  \n",
            "  inflating: /content/POSITIVE/img00000217.png  \n",
            "  inflating: /content/POSITIVE/img00000218.png  \n",
            "  inflating: /content/POSITIVE/img00000219.png  \n",
            "  inflating: /content/POSITIVE/img00000220.png  \n",
            "  inflating: /content/POSITIVE/img00000221.png  \n",
            "  inflating: /content/POSITIVE/img00000222.png  \n",
            "  inflating: /content/POSITIVE/img00000223.png  \n",
            "  inflating: /content/POSITIVE/img00000224.png  \n",
            "  inflating: /content/POSITIVE/img00000225.png  \n",
            "  inflating: /content/POSITIVE/img00000226.png  \n",
            "  inflating: /content/POSITIVE/img00000227.png  \n",
            "  inflating: /content/POSITIVE/img00000228.png  \n",
            "  inflating: /content/POSITIVE/img00000229.png  \n",
            "  inflating: /content/POSITIVE/img00000230.png  \n",
            "  inflating: /content/POSITIVE/img00000231.png  \n",
            "  inflating: /content/POSITIVE/img00000232.png  \n",
            "  inflating: /content/POSITIVE/img00000233.png  \n",
            "  inflating: /content/POSITIVE/img00000234.png  \n",
            "  inflating: /content/POSITIVE/img00000235.png  \n",
            "  inflating: /content/POSITIVE/img00000236.png  \n",
            "  inflating: /content/POSITIVE/img00000237.png  \n",
            "  inflating: /content/POSITIVE/img00000238.png  \n",
            "  inflating: /content/POSITIVE/img00000239.png  \n",
            "  inflating: /content/POSITIVE/img00000240.png  \n",
            "  inflating: /content/POSITIVE/img00000241.png  \n",
            "  inflating: /content/POSITIVE/img00000242.png  \n",
            "  inflating: /content/POSITIVE/img00000243.png  \n",
            "  inflating: /content/POSITIVE/img00000244.png  \n",
            "  inflating: /content/POSITIVE/img00000245.png  \n",
            "  inflating: /content/POSITIVE/img00000246.png  \n",
            "  inflating: /content/POSITIVE/img00000247.png  \n",
            "  inflating: /content/POSITIVE/img00000248.png  \n",
            "  inflating: /content/POSITIVE/img00000249.png  \n",
            "  inflating: /content/POSITIVE/img00000250.png  \n",
            "  inflating: /content/POSITIVE/img00000251.png  \n",
            "  inflating: /content/POSITIVE/img00000252.png  \n",
            "  inflating: /content/POSITIVE/img00000253.png  \n",
            "  inflating: /content/POSITIVE/img00000254.png  \n",
            "  inflating: /content/POSITIVE/img00000255.png  \n",
            "  inflating: /content/POSITIVE/img00000256.png  \n",
            "  inflating: /content/POSITIVE/img00000257.png  \n",
            "  inflating: /content/POSITIVE/img00000258.png  \n",
            "  inflating: /content/POSITIVE/img00000259.png  \n",
            "  inflating: /content/POSITIVE/img00000260.png  \n",
            "  inflating: /content/POSITIVE/img00000261.png  \n",
            "  inflating: /content/POSITIVE/img00000262.png  \n",
            "  inflating: /content/POSITIVE/img00000263.png  \n",
            "  inflating: /content/POSITIVE/img00000264.png  \n",
            "  inflating: /content/POSITIVE/img00000265.png  \n",
            "  inflating: /content/POSITIVE/img00000266.png  \n",
            "  inflating: /content/POSITIVE/img00000267.png  \n",
            "  inflating: /content/POSITIVE/img00000268.png  \n",
            "  inflating: /content/POSITIVE/img00000269.png  \n",
            "  inflating: /content/POSITIVE/img00000270.png  \n",
            "  inflating: /content/POSITIVE/img00000271.png  \n",
            "  inflating: /content/POSITIVE/img00000272.png  \n",
            "  inflating: /content/POSITIVE/img00000273.png  \n",
            "  inflating: /content/POSITIVE/img00000274.png  \n",
            "  inflating: /content/POSITIVE/img00000275.png  \n",
            "  inflating: /content/POSITIVE/img00000276.png  \n",
            "  inflating: /content/POSITIVE/img00000277.png  \n",
            "  inflating: /content/POSITIVE/img00000278.png  \n",
            "  inflating: /content/POSITIVE/img00000279.png  \n",
            "  inflating: /content/POSITIVE/img00000280.png  \n",
            "  inflating: /content/POSITIVE/img00000281.png  \n",
            "  inflating: /content/POSITIVE/img00000282.png  \n",
            "  inflating: /content/POSITIVE/img00000283.png  \n",
            "  inflating: /content/POSITIVE/img00000284.png  \n",
            "  inflating: /content/POSITIVE/img00000285.png  \n",
            "  inflating: /content/POSITIVE/img00000286.png  \n",
            "  inflating: /content/POSITIVE/img00000287.png  \n",
            "  inflating: /content/POSITIVE/img00000288.png  \n",
            "  inflating: /content/POSITIVE/img00000289.png  \n",
            "  inflating: /content/POSITIVE/img00000290.png  \n",
            "  inflating: /content/POSITIVE/img00000291.png  \n",
            "  inflating: /content/POSITIVE/img00000292.png  \n",
            "  inflating: /content/POSITIVE/img00000293.png  \n",
            "  inflating: /content/POSITIVE/img00000294.png  \n",
            "  inflating: /content/POSITIVE/img00000295.png  \n",
            "  inflating: /content/POSITIVE/img00000296.png  \n",
            "  inflating: /content/POSITIVE/img00000297.png  \n",
            "  inflating: /content/POSITIVE/img00000298.png  \n",
            "  inflating: /content/POSITIVE/img00000299.png  \n",
            "  inflating: /content/POSITIVE/img00000300.png  \n",
            "  inflating: /content/POSITIVE/img00000301.png  \n",
            "  inflating: /content/POSITIVE/img00000302.png  \n",
            "  inflating: /content/POSITIVE/img00000303.png  \n",
            "  inflating: /content/POSITIVE/img00000304.png  \n",
            "  inflating: /content/POSITIVE/img00000305.png  \n",
            "  inflating: /content/POSITIVE/img00000306.png  \n",
            "  inflating: /content/POSITIVE/img00000307.png  \n",
            "  inflating: /content/POSITIVE/img00000308.png  \n",
            "  inflating: /content/POSITIVE/img00000309.png  \n",
            "  inflating: /content/POSITIVE/img00000310.png  \n",
            "  inflating: /content/POSITIVE/img00000311.png  \n",
            "  inflating: /content/POSITIVE/img00000312.png  \n",
            "  inflating: /content/POSITIVE/img00000313.png  \n",
            "  inflating: /content/POSITIVE/img00000314.png  \n",
            "  inflating: /content/POSITIVE/img00000315.png  \n",
            "  inflating: /content/POSITIVE/img00000316.png  \n",
            "  inflating: /content/POSITIVE/img00000317.png  \n",
            "  inflating: /content/POSITIVE/img00000318.png  \n",
            "  inflating: /content/POSITIVE/img00000319.png  \n",
            "  inflating: /content/POSITIVE/img00000320.png  \n",
            "  inflating: /content/POSITIVE/img00000321.png  \n",
            "  inflating: /content/POSITIVE/img00000322.png  \n",
            "  inflating: /content/POSITIVE/img00000323.png  \n",
            "  inflating: /content/POSITIVE/img00000324.png  \n",
            "  inflating: /content/POSITIVE/img00000325.png  \n",
            "  inflating: /content/POSITIVE/img00000326.png  \n",
            "  inflating: /content/POSITIVE/img00000327.png  \n",
            "  inflating: /content/POSITIVE/img00000328.png  \n",
            "  inflating: /content/POSITIVE/img00000329.png  \n",
            "  inflating: /content/POSITIVE/img00000330.png  \n",
            "  inflating: /content/POSITIVE/img00000331.png  \n",
            "  inflating: /content/POSITIVE/img00000332.png  \n",
            "  inflating: /content/POSITIVE/img00000333.png  \n",
            "  inflating: /content/POSITIVE/img00000334.png  \n",
            "  inflating: /content/POSITIVE/img00000335.png  \n",
            "  inflating: /content/POSITIVE/img00000336.png  \n",
            "  inflating: /content/POSITIVE/img00000337.png  \n",
            "  inflating: /content/POSITIVE/img00000338.png  \n",
            "  inflating: /content/POSITIVE/img00000339.png  \n",
            "  inflating: /content/POSITIVE/img00000340.png  \n",
            "  inflating: /content/POSITIVE/img00000341.png  \n",
            "  inflating: /content/POSITIVE/img00000342.png  \n",
            "  inflating: /content/POSITIVE/img00000343.png  \n",
            "  inflating: /content/POSITIVE/img00000344.png  \n",
            "  inflating: /content/POSITIVE/img00000345.png  \n",
            "  inflating: /content/POSITIVE/img00000346.png  \n",
            "  inflating: /content/POSITIVE/img00000347.png  \n",
            "  inflating: /content/POSITIVE/img00000348.png  \n",
            "  inflating: /content/POSITIVE/img00000349.png  \n",
            "  inflating: /content/POSITIVE/img00000350.png  \n",
            "  inflating: /content/POSITIVE/img00000351.png  \n",
            "  inflating: /content/POSITIVE/img00000352.png  \n",
            "  inflating: /content/POSITIVE/img00000353.png  \n",
            "  inflating: /content/POSITIVE/img00000354.png  \n",
            "  inflating: /content/POSITIVE/img00000355.png  \n",
            "  inflating: /content/POSITIVE/img00000356.png  \n",
            "  inflating: /content/POSITIVE/img00000357.png  \n",
            "  inflating: /content/POSITIVE/img00000358.png  \n",
            "  inflating: /content/POSITIVE/img00000359.png  \n",
            "  inflating: /content/POSITIVE/img00000360.png  \n",
            "  inflating: /content/POSITIVE/img00000361.png  \n",
            "  inflating: /content/POSITIVE/img00000362.png  \n",
            "  inflating: /content/POSITIVE/img00000363.png  \n",
            "  inflating: /content/POSITIVE/img00000364.png  \n",
            "  inflating: /content/POSITIVE/img00000365.png  \n",
            "  inflating: /content/POSITIVE/img00000366.png  \n",
            "  inflating: /content/POSITIVE/img00000367.png  \n",
            "  inflating: /content/POSITIVE/img00000368.png  \n",
            "  inflating: /content/POSITIVE/img00000369.png  \n",
            "  inflating: /content/POSITIVE/img00000370.png  \n",
            "  inflating: /content/POSITIVE/img00000371.png  \n",
            "  inflating: /content/POSITIVE/img00000372.png  \n",
            "  inflating: /content/POSITIVE/img00000373.png  \n",
            "  inflating: /content/POSITIVE/img00000374.png  \n",
            "  inflating: /content/POSITIVE/img00000375.png  \n",
            "  inflating: /content/POSITIVE/img00000376.png  \n",
            "  inflating: /content/POSITIVE/img00000377.png  \n",
            "  inflating: /content/POSITIVE/img00000378.png  \n",
            "  inflating: /content/POSITIVE/img00000379.png  \n",
            "  inflating: /content/POSITIVE/img00000380.png  \n",
            "  inflating: /content/POSITIVE/img00000381.png  \n",
            "  inflating: /content/POSITIVE/img00000382.png  \n",
            "  inflating: /content/POSITIVE/img00000383.png  \n",
            "  inflating: /content/POSITIVE/img00000384.png  \n",
            "  inflating: /content/POSITIVE/img00000385.png  \n",
            "  inflating: /content/POSITIVE/img00000386.png  \n",
            "  inflating: /content/POSITIVE/img00000387.png  \n",
            "  inflating: /content/POSITIVE/img00000388.png  \n",
            "  inflating: /content/POSITIVE/img00000389.png  \n",
            "  inflating: /content/POSITIVE/img00000390.png  \n",
            "  inflating: /content/POSITIVE/img00000391.png  \n",
            "  inflating: /content/POSITIVE/img00000392.png  \n",
            "  inflating: /content/POSITIVE/img00000393.png  \n",
            "  inflating: /content/POSITIVE/img00000394.png  \n",
            "  inflating: /content/POSITIVE/img00000395.png  \n",
            "  inflating: /content/POSITIVE/img00000396.png  \n",
            "  inflating: /content/POSITIVE/img00000397.png  \n",
            "  inflating: /content/POSITIVE/img00000398.png  \n",
            "  inflating: /content/POSITIVE/img00000399.png  \n",
            "  inflating: /content/POSITIVE/img00000400.png  \n",
            "  inflating: /content/POSITIVE/img00000401.png  \n",
            "  inflating: /content/POSITIVE/img00000402.png  \n",
            "  inflating: /content/POSITIVE/img00000403.png  \n",
            "  inflating: /content/POSITIVE/img00000404.png  \n",
            "  inflating: /content/POSITIVE/img00000405.png  \n",
            "  inflating: /content/POSITIVE/img00000406.png  \n",
            "  inflating: /content/POSITIVE/img00000407.png  \n",
            "  inflating: /content/POSITIVE/img00000408.png  \n",
            "  inflating: /content/POSITIVE/img00000409.png  \n",
            "  inflating: /content/POSITIVE/img00000410.png  \n",
            "  inflating: /content/POSITIVE/img00000411.png  \n",
            "  inflating: /content/POSITIVE/img00000412.png  \n",
            "  inflating: /content/POSITIVE/img00000413.png  \n",
            "  inflating: /content/POSITIVE/img00000414.png  \n",
            "  inflating: /content/POSITIVE/img00000415.png  \n",
            "  inflating: /content/POSITIVE/img00000416.png  \n",
            "  inflating: /content/POSITIVE/img00000417.png  \n",
            "  inflating: /content/POSITIVE/img00000418.png  \n",
            "  inflating: /content/POSITIVE/img00000419.png  \n",
            "  inflating: /content/POSITIVE/img00000420.png  \n",
            "  inflating: /content/POSITIVE/img00000421.png  \n",
            "  inflating: /content/POSITIVE/img00000422.png  \n",
            "  inflating: /content/POSITIVE/img00000423.png  \n",
            "  inflating: /content/POSITIVE/img00000424.png  \n",
            "  inflating: /content/POSITIVE/img00000425.png  \n",
            "  inflating: /content/POSITIVE/img00000426.png  \n",
            "  inflating: /content/POSITIVE/img00000427.png  \n",
            "  inflating: /content/POSITIVE/img00000428.png  \n",
            "  inflating: /content/POSITIVE/img00000429.png  \n",
            "  inflating: /content/POSITIVE/img00000430.png  \n",
            "  inflating: /content/POSITIVE/img00000431.png  \n",
            "  inflating: /content/POSITIVE/img00000432.png  \n",
            "  inflating: /content/POSITIVE/img00000433.png  \n",
            "  inflating: /content/POSITIVE/img00000434.png  \n",
            "  inflating: /content/POSITIVE/img00000435.png  \n",
            "  inflating: /content/POSITIVE/img00000436.png  \n",
            "  inflating: /content/POSITIVE/img00000437.png  \n",
            "  inflating: /content/POSITIVE/img00000438.png  \n",
            "  inflating: /content/POSITIVE/img00000439.png  \n",
            "  inflating: /content/POSITIVE/img00000440.png  \n",
            "  inflating: /content/POSITIVE/img00000441.png  \n",
            "  inflating: /content/POSITIVE/img00000442.png  \n",
            "  inflating: /content/POSITIVE/img00000443.png  \n",
            "  inflating: /content/POSITIVE/img00000444.png  \n",
            "  inflating: /content/POSITIVE/img00000445.png  \n",
            "  inflating: /content/POSITIVE/img00000446.png  \n",
            "  inflating: /content/POSITIVE/img00000447.png  \n",
            "  inflating: /content/POSITIVE/img00000448.png  \n",
            "  inflating: /content/POSITIVE/img00000449.png  \n",
            "  inflating: /content/POSITIVE/img00000450.png  \n",
            "  inflating: /content/POSITIVE/img00000451.png  \n",
            "  inflating: /content/POSITIVE/img00000452.png  \n",
            "  inflating: /content/POSITIVE/img00000453.png  \n",
            "  inflating: /content/POSITIVE/img00000454.png  \n",
            "  inflating: /content/POSITIVE/img00000455.png  \n",
            "  inflating: /content/POSITIVE/img00000456.png  \n",
            "  inflating: /content/POSITIVE/img00000457.png  \n",
            "  inflating: /content/POSITIVE/img00000458.png  \n",
            "  inflating: /content/POSITIVE/img00000459.png  \n",
            "  inflating: /content/POSITIVE/img00000460.png  \n",
            "  inflating: /content/POSITIVE/img00000461.png  \n",
            "  inflating: /content/POSITIVE/img00000462.png  \n",
            "  inflating: /content/POSITIVE/img00000463.png  \n",
            "  inflating: /content/POSITIVE/img00000464.png  \n",
            "  inflating: /content/POSITIVE/img00000465.png  \n",
            "  inflating: /content/POSITIVE/img00000466.png  \n",
            "  inflating: /content/POSITIVE/img00000467.png  \n",
            "  inflating: /content/POSITIVE/img00000468.png  \n",
            "  inflating: /content/POSITIVE/img00000469.png  \n",
            "  inflating: /content/POSITIVE/img00000470.png  \n",
            "  inflating: /content/POSITIVE/img00000471.png  \n",
            "  inflating: /content/POSITIVE/img00000472.png  \n",
            "  inflating: /content/POSITIVE/img00000473.png  \n",
            "  inflating: /content/POSITIVE/img00000474.png  \n",
            "  inflating: /content/POSITIVE/img00000475.png  \n",
            "  inflating: /content/POSITIVE/img00000476.png  \n",
            "  inflating: /content/POSITIVE/img00000477.png  \n",
            "  inflating: /content/POSITIVE/img00000478.png  \n",
            "  inflating: /content/POSITIVE/img00000479.png  \n",
            "  inflating: /content/POSITIVE/img00000480.png  \n",
            "  inflating: /content/POSITIVE/img00000481.png  \n",
            "  inflating: /content/POSITIVE/img00000482.png  \n",
            "  inflating: /content/POSITIVE/img00000483.png  \n",
            "  inflating: /content/POSITIVE/img00000484.png  \n",
            "  inflating: /content/POSITIVE/img00000485.png  \n",
            "  inflating: /content/POSITIVE/img00000486.png  \n",
            "  inflating: /content/POSITIVE/img00000487.png  \n",
            "  inflating: /content/POSITIVE/img00000488.png  \n",
            "  inflating: /content/POSITIVE/img00000489.png  \n",
            "  inflating: /content/POSITIVE/img00000490.png  \n",
            "  inflating: /content/POSITIVE/img00000491.png  \n",
            "  inflating: /content/POSITIVE/img00000492.png  \n",
            "  inflating: /content/POSITIVE/img00000493.png  \n",
            "  inflating: /content/POSITIVE/img00000494.png  \n",
            "  inflating: /content/POSITIVE/img00000495.png  \n",
            "  inflating: /content/POSITIVE/img00000496.png  \n",
            "  inflating: /content/POSITIVE/img00000497.png  \n",
            "  inflating: /content/POSITIVE/img00000498.png  \n",
            "  inflating: /content/POSITIVE/img00000499.png  \n",
            "  inflating: /content/POSITIVE/img00000500.png  \n",
            "  inflating: /content/POSITIVE/img00000501.png  \n",
            "  inflating: /content/POSITIVE/img00000502.png  \n",
            "  inflating: /content/POSITIVE/img00000503.png  \n",
            "  inflating: /content/POSITIVE/img00000504.png  \n",
            "  inflating: /content/POSITIVE/img00000505.png  \n",
            "  inflating: /content/POSITIVE/img00000506.png  \n",
            "  inflating: /content/POSITIVE/img00000507.png  \n",
            "  inflating: /content/POSITIVE/img00000508.png  \n",
            "  inflating: /content/POSITIVE/img00000509.png  \n",
            "  inflating: /content/POSITIVE/img00000510.png  \n",
            "  inflating: /content/POSITIVE/img00000511.png  \n",
            "  inflating: /content/POSITIVE/img00000512.png  \n",
            "  inflating: /content/POSITIVE/img00000513.png  \n",
            "  inflating: /content/POSITIVE/img00000514.png  \n",
            "  inflating: /content/POSITIVE/img00000515.png  \n",
            "  inflating: /content/POSITIVE/img00000516.png  \n",
            "  inflating: /content/POSITIVE/img00000517.png  \n",
            "  inflating: /content/POSITIVE/img00000518.png  \n",
            "  inflating: /content/POSITIVE/img00000519.png  \n",
            "  inflating: /content/POSITIVE/img00000520.png  \n",
            "  inflating: /content/POSITIVE/img00000521.png  \n",
            "  inflating: /content/POSITIVE/img00000522.png  \n",
            "  inflating: /content/POSITIVE/img00000523.png  \n",
            "  inflating: /content/POSITIVE/img00000524.png  \n",
            "  inflating: /content/POSITIVE/img00000525.png  \n",
            "  inflating: /content/POSITIVE/img00000526.png  \n",
            "  inflating: /content/POSITIVE/img00000527.png  \n",
            "  inflating: /content/POSITIVE/img00000528.png  \n",
            "  inflating: /content/POSITIVE/img00000529.png  \n",
            "  inflating: /content/POSITIVE/img00000530.png  \n",
            "  inflating: /content/POSITIVE/img00000531.png  \n",
            "  inflating: /content/POSITIVE/img00000532.png  \n",
            "  inflating: /content/POSITIVE/img00000533.png  \n",
            "  inflating: /content/POSITIVE/img00000534.png  \n",
            "  inflating: /content/POSITIVE/img00000535.png  \n",
            "  inflating: /content/POSITIVE/img00000536.png  \n",
            "  inflating: /content/POSITIVE/img00000537.png  \n",
            "  inflating: /content/POSITIVE/img00000538.png  \n",
            "  inflating: /content/POSITIVE/img00000539.png  \n",
            "  inflating: /content/POSITIVE/img00000540.png  \n",
            "  inflating: /content/POSITIVE/img00000541.png  \n",
            "  inflating: /content/POSITIVE/img00000542.png  \n",
            "  inflating: /content/POSITIVE/img00000543.png  \n",
            "  inflating: /content/POSITIVE/img00000544.png  \n",
            "  inflating: /content/POSITIVE/img00000545.png  \n",
            "  inflating: /content/POSITIVE/img00000546.png  \n",
            "  inflating: /content/POSITIVE/img00000547.png  \n",
            "  inflating: /content/POSITIVE/img00000548.png  \n",
            "  inflating: /content/POSITIVE/img00000549.png  \n",
            "  inflating: /content/POSITIVE/img00000550.png  \n",
            "  inflating: /content/POSITIVE/img00000551.png  \n",
            "  inflating: /content/POSITIVE/img00000552.png  \n",
            "  inflating: /content/POSITIVE/img00000553.png  \n",
            "  inflating: /content/POSITIVE/img00000554.png  \n",
            "  inflating: /content/POSITIVE/img00000555.png  \n",
            "  inflating: /content/POSITIVE/img00000556.png  \n",
            "  inflating: /content/POSITIVE/img00000557.png  \n",
            "  inflating: /content/POSITIVE/img00000558.png  \n",
            "  inflating: /content/POSITIVE/img00000559.png  \n",
            "  inflating: /content/POSITIVE/img00000560.png  \n",
            "  inflating: /content/POSITIVE/img00000561.png  \n",
            "  inflating: /content/POSITIVE/img00000562.png  \n",
            "  inflating: /content/POSITIVE/img00000563.png  \n",
            "  inflating: /content/POSITIVE/img00000564.png  \n",
            "  inflating: /content/POSITIVE/img00000565.png  \n",
            "  inflating: /content/POSITIVE/img00000566.png  \n",
            "  inflating: /content/POSITIVE/img00000567.png  \n",
            "  inflating: /content/POSITIVE/img00000568.png  \n",
            "  inflating: /content/POSITIVE/img00000569.png  \n",
            "  inflating: /content/POSITIVE/img00000570.png  \n",
            "  inflating: /content/POSITIVE/img00000571.png  \n",
            "  inflating: /content/POSITIVE/img00000572.png  \n",
            "  inflating: /content/POSITIVE/img00000573.png  \n",
            "  inflating: /content/POSITIVE/img00000574.png  \n",
            "  inflating: /content/POSITIVE/img00000575.png  \n",
            "  inflating: /content/POSITIVE/img00000576.png  \n",
            "  inflating: /content/POSITIVE/img00000577.png  \n",
            "  inflating: /content/POSITIVE/img00000578.png  \n",
            "  inflating: /content/POSITIVE/img00000579.png  \n",
            "  inflating: /content/POSITIVE/img00000580.png  \n",
            "  inflating: /content/POSITIVE/img00000581.png  \n",
            "  inflating: /content/POSITIVE/img00000582.png  \n",
            "  inflating: /content/POSITIVE/img00000583.png  \n",
            "  inflating: /content/POSITIVE/img00000584.png  \n",
            "  inflating: /content/POSITIVE/img00000585.png  \n",
            "  inflating: /content/POSITIVE/img00000586.png  \n",
            "  inflating: /content/POSITIVE/img00000587.png  \n",
            "  inflating: /content/POSITIVE/img00000588.png  \n",
            "  inflating: /content/POSITIVE/img00000589.png  \n",
            "  inflating: /content/POSITIVE/img00000590.png  \n",
            "  inflating: /content/POSITIVE/img00000591.png  \n",
            "  inflating: /content/POSITIVE/img00000592.png  \n",
            "  inflating: /content/POSITIVE/img00000593.png  \n",
            "  inflating: /content/POSITIVE/img00000594.png  \n",
            "  inflating: /content/POSITIVE/img00000595.png  \n",
            "  inflating: /content/POSITIVE/img00000596.png  \n",
            "  inflating: /content/POSITIVE/img00000597.png  \n",
            "  inflating: /content/POSITIVE/img00000598.png  \n",
            "  inflating: /content/POSITIVE/img00000599.png  \n",
            "  inflating: /content/POSITIVE/img00000600.png  \n",
            "  inflating: /content/POSITIVE/img00000601.png  \n",
            "  inflating: /content/POSITIVE/img00000602.png  \n",
            "  inflating: /content/POSITIVE/img00000603.png  \n",
            "  inflating: /content/POSITIVE/img00000604.png  \n",
            "  inflating: /content/POSITIVE/img00000605.png  \n",
            "  inflating: /content/POSITIVE/img00000606.png  \n",
            "  inflating: /content/POSITIVE/img00000607.png  \n",
            "  inflating: /content/POSITIVE/img00000608.png  \n",
            "  inflating: /content/POSITIVE/img00000609.png  \n",
            "  inflating: /content/POSITIVE/img00000610.png  \n",
            "  inflating: /content/POSITIVE/img00000611.png  \n",
            "  inflating: /content/POSITIVE/img00000612.png  \n",
            "  inflating: /content/POSITIVE/img00000613.png  \n",
            "  inflating: /content/POSITIVE/img00000614.png  \n",
            "  inflating: /content/POSITIVE/img00000615.png  \n",
            "  inflating: /content/POSITIVE/img00000616.png  \n",
            "  inflating: /content/POSITIVE/img00000617.png  \n",
            "  inflating: /content/POSITIVE/img00000618.png  \n",
            "  inflating: /content/POSITIVE/img00000619.png  \n",
            "  inflating: /content/POSITIVE/img00000620.png  \n",
            "  inflating: /content/POSITIVE/img00000621.png  \n",
            "  inflating: /content/POSITIVE/img00000622.png  \n",
            "  inflating: /content/POSITIVE/img00000623.png  \n",
            "  inflating: /content/POSITIVE/img00000624.png  \n",
            "  inflating: /content/POSITIVE/img00000625.png  \n",
            "  inflating: /content/POSITIVE/img00000626.png  \n",
            "  inflating: /content/POSITIVE/img00000627.png  \n",
            "  inflating: /content/POSITIVE/img00000628.png  \n",
            "  inflating: /content/POSITIVE/img00000629.png  \n",
            "  inflating: /content/POSITIVE/img00000630.png  \n",
            "  inflating: /content/POSITIVE/img00000631.png  \n",
            "  inflating: /content/POSITIVE/img00000632.png  \n",
            "  inflating: /content/POSITIVE/img00000633.png  \n",
            "  inflating: /content/POSITIVE/img00000634.png  \n",
            "  inflating: /content/POSITIVE/img00000635.png  \n",
            "  inflating: /content/POSITIVE/img00000636.png  \n",
            "  inflating: /content/POSITIVE/img00000637.png  \n",
            "  inflating: /content/POSITIVE/img00000638.png  \n",
            "  inflating: /content/POSITIVE/img00000639.png  \n",
            "  inflating: /content/POSITIVE/img00000640.png  \n",
            "  inflating: /content/POSITIVE/img00000641.png  \n",
            "  inflating: /content/POSITIVE/img00000642.png  \n",
            "  inflating: /content/POSITIVE/img00000643.png  \n",
            "  inflating: /content/POSITIVE/img00000644.png  \n",
            "  inflating: /content/POSITIVE/img00000645.png  \n",
            "  inflating: /content/POSITIVE/img00000646.png  \n",
            "  inflating: /content/POSITIVE/img00000647.png  \n",
            "  inflating: /content/POSITIVE/img00000648.png  \n",
            "  inflating: /content/POSITIVE/img00000649.png  \n",
            "  inflating: /content/POSITIVE/img00000650.png  \n",
            "  inflating: /content/POSITIVE/img00000651.png  \n",
            "  inflating: /content/POSITIVE/img00000652.png  \n",
            "  inflating: /content/POSITIVE/img00000653.png  \n",
            "  inflating: /content/POSITIVE/img00000654.png  \n",
            "  inflating: /content/POSITIVE/img00000655.png  \n",
            "  inflating: /content/POSITIVE/img00000656.png  \n",
            "  inflating: /content/POSITIVE/img00000657.png  \n",
            "  inflating: /content/POSITIVE/img00000658.png  \n",
            "  inflating: /content/POSITIVE/img00000659.png  \n",
            "  inflating: /content/POSITIVE/img00000660.png  \n",
            "  inflating: /content/POSITIVE/img00000661.png  \n",
            "  inflating: /content/POSITIVE/img00000662.png  \n",
            "  inflating: /content/POSITIVE/img00000663.png  \n",
            "  inflating: /content/POSITIVE/img00000664.png  \n",
            "  inflating: /content/POSITIVE/img00000665.png  \n",
            "  inflating: /content/POSITIVE/img00000666.png  \n",
            "  inflating: /content/POSITIVE/img00000667.png  \n",
            "  inflating: /content/POSITIVE/img00000668.png  \n",
            "  inflating: /content/POSITIVE/img00000669.png  \n",
            "  inflating: /content/POSITIVE/img00000670.png  \n",
            "  inflating: /content/POSITIVE/img00000671.png  \n",
            "  inflating: /content/POSITIVE/img00000672.png  \n",
            "  inflating: /content/POSITIVE/img00000673.png  \n",
            "  inflating: /content/POSITIVE/img00000674.png  \n",
            "  inflating: /content/POSITIVE/img00000675.png  \n",
            "  inflating: /content/POSITIVE/img00000676.png  \n",
            "  inflating: /content/POSITIVE/img00000677.png  \n",
            "  inflating: /content/POSITIVE/img00000678.png  \n",
            "  inflating: /content/POSITIVE/img00000679.png  \n",
            "  inflating: /content/POSITIVE/img00000680.png  \n",
            "  inflating: /content/POSITIVE/img00000681.png  \n",
            "  inflating: /content/POSITIVE/img00000682.png  \n",
            "  inflating: /content/POSITIVE/img00000683.png  \n",
            "  inflating: /content/POSITIVE/img00000684.png  \n",
            "  inflating: /content/POSITIVE/img00000685.png  \n",
            "  inflating: /content/POSITIVE/img00000686.png  \n",
            "  inflating: /content/POSITIVE/img00000687.png  \n",
            "  inflating: /content/POSITIVE/img00000688.png  \n",
            "  inflating: /content/POSITIVE/img00000689.png  \n",
            "  inflating: /content/POSITIVE/img00000690.png  \n",
            "  inflating: /content/POSITIVE/img00000691.png  \n",
            "  inflating: /content/POSITIVE/img00000692.png  \n",
            "  inflating: /content/POSITIVE/img00000693.png  \n",
            "  inflating: /content/POSITIVE/img00000694.png  \n",
            "  inflating: /content/POSITIVE/img00000695.png  \n",
            "  inflating: /content/POSITIVE/img00000696.png  \n",
            "  inflating: /content/POSITIVE/img00000697.png  \n",
            "  inflating: /content/POSITIVE/img00000698.png  \n",
            "  inflating: /content/POSITIVE/img00000699.png  \n",
            "  inflating: /content/POSITIVE/img00000700.png  \n",
            "  inflating: /content/POSITIVE/img00000701.png  \n",
            "  inflating: /content/POSITIVE/img00000702.png  \n",
            "  inflating: /content/POSITIVE/img00000703.png  \n",
            "  inflating: /content/POSITIVE/img00000704.png  \n",
            "  inflating: /content/POSITIVE/img00000705.png  \n",
            "  inflating: /content/POSITIVE/img00000706.png  \n",
            "  inflating: /content/POSITIVE/img00000707.png  \n",
            "  inflating: /content/POSITIVE/img00000708.png  \n",
            "  inflating: /content/POSITIVE/img00000709.png  \n",
            "  inflating: /content/POSITIVE/img00000710.png  \n",
            "  inflating: /content/POSITIVE/img00000711.png  \n",
            "  inflating: /content/POSITIVE/img00000712.png  \n",
            "  inflating: /content/POSITIVE/img00000713.png  \n",
            "  inflating: /content/POSITIVE/img00000714.png  \n",
            "  inflating: /content/POSITIVE/img00000715.png  \n",
            "  inflating: /content/POSITIVE/img00000716.png  \n",
            "  inflating: /content/POSITIVE/img00000717.png  \n",
            "  inflating: /content/POSITIVE/img00000718.png  \n",
            "  inflating: /content/POSITIVE/img00000719.png  \n",
            "  inflating: /content/POSITIVE/img00000720.png  \n",
            "  inflating: /content/POSITIVE/img00000721.png  \n",
            "  inflating: /content/POSITIVE/img00000722.png  \n",
            "  inflating: /content/POSITIVE/img00000723.png  \n",
            "  inflating: /content/POSITIVE/img00000724.png  \n",
            "  inflating: /content/POSITIVE/img00000725.png  \n",
            "  inflating: /content/POSITIVE/img00000726.png  \n",
            "  inflating: /content/POSITIVE/img00000727.png  \n",
            "  inflating: /content/POSITIVE/img00000728.png  \n",
            "  inflating: /content/POSITIVE/img00000729.png  \n",
            "  inflating: /content/POSITIVE/img00000730.png  \n",
            "  inflating: /content/POSITIVE/img00000731.png  \n",
            "  inflating: /content/POSITIVE/img00000732.png  \n",
            "  inflating: /content/POSITIVE/img00000733.png  \n",
            "  inflating: /content/POSITIVE/img00000734.png  \n",
            "  inflating: /content/POSITIVE/img00000735.png  \n",
            "  inflating: /content/POSITIVE/img00000736.png  \n",
            "  inflating: /content/POSITIVE/img00000737.png  \n",
            "  inflating: /content/POSITIVE/img00000738.png  \n",
            "  inflating: /content/POSITIVE/img00000739.png  \n",
            "  inflating: /content/POSITIVE/img00000740.png  \n",
            "  inflating: /content/POSITIVE/img00000741.png  \n",
            "  inflating: /content/POSITIVE/img00000742.png  \n",
            "  inflating: /content/POSITIVE/img00000743.png  \n",
            "  inflating: /content/POSITIVE/img00000744.png  \n",
            "  inflating: /content/POSITIVE/img00000745.png  \n",
            "  inflating: /content/POSITIVE/img00000746.png  \n",
            "  inflating: /content/POSITIVE/img00000747.png  \n",
            "  inflating: /content/POSITIVE/img00000748.png  \n",
            "  inflating: /content/POSITIVE/img00000749.png  \n",
            "  inflating: /content/POSITIVE/img00000750.png  \n",
            "  inflating: /content/POSITIVE/img00000751.png  \n",
            "  inflating: /content/POSITIVE/img00000752.png  \n",
            "  inflating: /content/POSITIVE/img00000753.png  \n",
            "  inflating: /content/POSITIVE/img00000754.png  \n",
            "  inflating: /content/POSITIVE/img00000755.png  \n",
            "  inflating: /content/POSITIVE/img00000756.png  \n",
            "  inflating: /content/POSITIVE/img00000757.png  \n",
            "  inflating: /content/POSITIVE/img00000758.png  \n",
            "  inflating: /content/POSITIVE/img00000759.png  \n",
            "  inflating: /content/POSITIVE/img00000760.png  \n",
            "  inflating: /content/POSITIVE/img00000761.png  \n",
            "  inflating: /content/POSITIVE/img00000762.png  \n",
            "  inflating: /content/POSITIVE/img00000763.png  \n",
            "  inflating: /content/POSITIVE/img00000764.png  \n",
            "  inflating: /content/POSITIVE/img00000765.png  \n",
            "  inflating: /content/POSITIVE/img00000766.png  \n",
            "  inflating: /content/POSITIVE/img00000767.png  \n",
            "  inflating: /content/POSITIVE/img00000768.png  \n",
            "  inflating: /content/POSITIVE/img00000769.png  \n",
            "  inflating: /content/POSITIVE/img00000770.png  \n",
            "  inflating: /content/POSITIVE/img00000771.png  \n",
            "  inflating: /content/POSITIVE/img00000772.png  \n",
            "  inflating: /content/POSITIVE/img00000773.png  \n",
            "  inflating: /content/POSITIVE/img00000774.png  \n",
            "  inflating: /content/POSITIVE/img00000775.png  \n",
            "  inflating: /content/POSITIVE/img00000776.png  \n",
            "  inflating: /content/POSITIVE/img00000777.png  \n",
            "  inflating: /content/POSITIVE/img00000778.png  \n",
            "  inflating: /content/POSITIVE/img00000779.png  \n",
            "  inflating: /content/POSITIVE/img00000780.png  \n",
            "  inflating: /content/POSITIVE/img00000781.png  \n",
            "  inflating: /content/POSITIVE/img00000782.png  \n",
            "  inflating: /content/POSITIVE/img00000783.png  \n",
            "  inflating: /content/POSITIVE/img00000784.png  \n",
            "  inflating: /content/POSITIVE/img00000785.png  \n",
            "  inflating: /content/POSITIVE/img00000786.png  \n",
            "  inflating: /content/POSITIVE/img00000787.png  \n",
            "  inflating: /content/POSITIVE/img00000788.png  \n",
            "  inflating: /content/POSITIVE/img00000789.png  \n",
            "  inflating: /content/POSITIVE/img00000790.png  \n",
            "  inflating: /content/POSITIVE/img00000791.png  \n",
            "  inflating: /content/POSITIVE/img00000792.png  \n",
            "  inflating: /content/POSITIVE/img00000793.png  \n",
            "  inflating: /content/POSITIVE/img00000794.png  \n",
            "  inflating: /content/POSITIVE/img00000795.png  \n",
            "  inflating: /content/POSITIVE/img00000796.png  \n",
            "  inflating: /content/POSITIVE/img00000797.png  \n",
            "  inflating: /content/POSITIVE/img00000798.png  \n",
            "  inflating: /content/POSITIVE/img00000799.png  \n",
            "  inflating: /content/POSITIVE/img00000800.png  \n",
            "  inflating: /content/POSITIVE/img00000801.png  \n",
            "  inflating: /content/POSITIVE/img00000802.png  \n",
            "  inflating: /content/POSITIVE/img00000803.png  \n",
            "  inflating: /content/POSITIVE/img00000804.png  \n",
            "  inflating: /content/POSITIVE/img00000805.png  \n",
            "  inflating: /content/POSITIVE/img00000806.png  \n",
            "  inflating: /content/POSITIVE/img00000807.png  \n",
            "  inflating: /content/POSITIVE/img00000808.png  \n",
            "  inflating: /content/POSITIVE/img00000809.png  \n",
            "  inflating: /content/POSITIVE/img00000810.png  \n",
            "  inflating: /content/POSITIVE/img00000811.png  \n",
            "  inflating: /content/POSITIVE/img00000812.png  \n",
            "  inflating: /content/POSITIVE/img00000813.png  \n",
            "  inflating: /content/POSITIVE/img00000814.png  \n",
            "  inflating: /content/POSITIVE/img00000815.png  \n",
            "  inflating: /content/POSITIVE/img00000816.png  \n",
            "  inflating: /content/POSITIVE/img00000817.png  \n",
            "  inflating: /content/POSITIVE/img00000818.png  \n",
            "  inflating: /content/POSITIVE/img00000819.png  \n",
            "  inflating: /content/POSITIVE/img00000820.png  \n",
            "  inflating: /content/POSITIVE/img00000821.png  \n",
            "  inflating: /content/POSITIVE/img00000822.png  \n",
            "  inflating: /content/POSITIVE/img00000823.png  \n",
            "  inflating: /content/POSITIVE/img00000824.png  \n",
            "  inflating: /content/POSITIVE/img00000825.png  \n",
            "  inflating: /content/POSITIVE/img00000826.png  \n",
            "  inflating: /content/POSITIVE/img00000827.png  \n",
            "  inflating: /content/POSITIVE/img00000828.png  \n",
            "  inflating: /content/POSITIVE/img00000829.png  \n",
            "  inflating: /content/POSITIVE/img00000830.png  \n",
            "  inflating: /content/POSITIVE/img00000831.png  \n",
            "  inflating: /content/POSITIVE/img00000832.png  \n",
            "  inflating: /content/POSITIVE/img00000833.png  \n",
            "  inflating: /content/POSITIVE/img00000834.png  \n",
            "  inflating: /content/POSITIVE/img00000835.png  \n",
            "  inflating: /content/POSITIVE/img00000836.png  \n",
            "  inflating: /content/POSITIVE/img00000837.png  \n",
            "  inflating: /content/POSITIVE/img00000838.png  \n",
            "  inflating: /content/POSITIVE/img00000839.png  \n",
            "  inflating: /content/POSITIVE/img00000840.png  \n",
            "  inflating: /content/POSITIVE/img00000841.png  \n",
            "  inflating: /content/POSITIVE/img00000842.png  \n",
            "  inflating: /content/POSITIVE/img00000843.png  \n",
            "  inflating: /content/POSITIVE/img00000844.png  \n",
            "  inflating: /content/POSITIVE/img00000845.png  \n",
            "  inflating: /content/POSITIVE/img00000846.png  \n",
            "  inflating: /content/POSITIVE/img00000847.png  \n",
            "  inflating: /content/POSITIVE/img00000848.png  \n",
            "  inflating: /content/POSITIVE/img00000849.png  \n",
            "  inflating: /content/POSITIVE/img00000850.png  \n",
            "  inflating: /content/POSITIVE/img00000851.png  \n",
            "  inflating: /content/POSITIVE/img00000852.png  \n",
            "  inflating: /content/POSITIVE/img00000853.png  \n",
            "  inflating: /content/POSITIVE/img00000854.png  \n",
            "  inflating: /content/POSITIVE/img00000855.png  \n",
            "  inflating: /content/POSITIVE/img00000856.png  \n",
            "  inflating: /content/POSITIVE/img00000857.png  \n",
            "  inflating: /content/POSITIVE/img00000858.png  \n",
            "  inflating: /content/POSITIVE/img00000859.png  \n",
            "  inflating: /content/POSITIVE/img00000860.png  \n",
            "  inflating: /content/POSITIVE/img00000861.png  \n",
            "  inflating: /content/POSITIVE/img00000862.png  \n",
            "  inflating: /content/POSITIVE/img00000863.png  \n",
            "  inflating: /content/POSITIVE/img00000864.png  \n",
            "  inflating: /content/POSITIVE/img00000865.png  \n",
            "  inflating: /content/POSITIVE/img00000866.png  \n",
            "  inflating: /content/POSITIVE/img00000867.png  \n",
            "  inflating: /content/POSITIVE/img00000868.png  \n",
            "  inflating: /content/POSITIVE/img00000869.png  \n",
            "  inflating: /content/POSITIVE/img00000870.png  \n",
            "  inflating: /content/POSITIVE/img00000871.png  \n",
            "  inflating: /content/POSITIVE/img00000872.png  \n",
            "  inflating: /content/POSITIVE/img00000873.png  \n",
            "  inflating: /content/POSITIVE/img00000874.png  \n",
            "  inflating: /content/POSITIVE/img00000875.png  \n",
            "  inflating: /content/POSITIVE/img00000876.png  \n",
            "  inflating: /content/POSITIVE/img00000877.png  \n",
            "  inflating: /content/POSITIVE/img00000878.png  \n",
            "  inflating: /content/POSITIVE/img00000879.png  \n",
            "  inflating: /content/POSITIVE/img00000880.png  \n",
            "  inflating: /content/POSITIVE/img00000881.png  \n",
            "  inflating: /content/POSITIVE/img00000882.png  \n",
            "  inflating: /content/POSITIVE/img00000883.png  \n",
            "  inflating: /content/POSITIVE/img00000884.png  \n",
            "  inflating: /content/POSITIVE/img00000885.png  \n",
            "  inflating: /content/POSITIVE/img00000886.png  \n",
            "  inflating: /content/POSITIVE/img00000887.png  \n",
            "  inflating: /content/POSITIVE/img00000888.png  \n",
            "  inflating: /content/POSITIVE/img00000889.png  \n",
            "  inflating: /content/POSITIVE/img00000890.png  \n",
            "  inflating: /content/POSITIVE/img00000891.png  \n",
            "  inflating: /content/POSITIVE/img00000892.png  \n",
            "  inflating: /content/POSITIVE/img00000893.png  \n",
            "  inflating: /content/POSITIVE/img00000894.png  \n",
            "  inflating: /content/POSITIVE/img00000895.png  \n",
            "  inflating: /content/POSITIVE/img00000896.png  \n",
            "  inflating: /content/POSITIVE/img00000897.png  \n",
            "  inflating: /content/POSITIVE/img00000898.png  \n",
            "  inflating: /content/POSITIVE/img00000899.png  \n",
            "  inflating: /content/POSITIVE/img00000900.png  \n",
            "  inflating: /content/POSITIVE/img00000901.png  \n",
            "  inflating: /content/POSITIVE/img00000902.png  \n",
            "  inflating: /content/POSITIVE/img00000903.png  \n",
            "  inflating: /content/POSITIVE/img00000904.png  \n",
            "  inflating: /content/POSITIVE/img00000905.png  \n",
            "  inflating: /content/POSITIVE/img00000906.png  \n",
            "  inflating: /content/POSITIVE/img00000907.png  \n",
            "  inflating: /content/POSITIVE/img00000908.png  \n",
            "  inflating: /content/POSITIVE/img00000909.png  \n",
            "  inflating: /content/POSITIVE/img00000910.png  \n",
            "  inflating: /content/POSITIVE/img00000911.png  \n",
            "  inflating: /content/POSITIVE/img00000912.png  \n",
            "  inflating: /content/POSITIVE/img00000913.png  \n",
            "  inflating: /content/POSITIVE/img00000914.png  \n",
            "  inflating: /content/POSITIVE/img00000915.png  \n",
            "  inflating: /content/POSITIVE/img00000916.png  \n",
            "  inflating: /content/POSITIVE/img00000917.png  \n",
            "  inflating: /content/POSITIVE/img00000918.png  \n",
            "  inflating: /content/POSITIVE/img00000919.png  \n",
            "  inflating: /content/POSITIVE/img00000920.png  \n",
            "  inflating: /content/POSITIVE/img00000921.png  \n",
            "  inflating: /content/POSITIVE/img00000922.png  \n",
            "  inflating: /content/POSITIVE/img00000923.png  \n",
            "  inflating: /content/POSITIVE/img00000924.png  \n",
            "  inflating: /content/POSITIVE/img00000925.png  \n",
            "  inflating: /content/POSITIVE/img00000926.png  \n",
            "  inflating: /content/POSITIVE/img00000927.png  \n",
            "  inflating: /content/POSITIVE/img00000928.png  \n",
            "  inflating: /content/POSITIVE/img00000929.png  \n",
            "  inflating: /content/POSITIVE/img00000930.png  \n",
            "  inflating: /content/POSITIVE/img00000931.png  \n",
            "  inflating: /content/POSITIVE/img00000932.png  \n",
            "  inflating: /content/POSITIVE/img00000933.png  \n",
            "  inflating: /content/POSITIVE/img00000934.png  \n",
            "  inflating: /content/POSITIVE/img00000935.png  \n",
            "  inflating: /content/POSITIVE/img00000936.png  \n",
            "  inflating: /content/POSITIVE/img00000937.png  \n",
            "  inflating: /content/POSITIVE/img00000938.png  \n",
            "  inflating: /content/POSITIVE/img00000939.png  \n",
            "  inflating: /content/POSITIVE/img00000940.png  \n",
            "  inflating: /content/POSITIVE/img00000941.png  \n",
            "  inflating: /content/POSITIVE/img00000942.png  \n",
            "  inflating: /content/POSITIVE/img00000943.png  \n",
            "  inflating: /content/POSITIVE/img00000944.png  \n",
            "  inflating: /content/POSITIVE/img00000945.png  \n",
            "  inflating: /content/POSITIVE/img00000946.png  \n",
            "  inflating: /content/POSITIVE/img00000947.png  \n",
            "  inflating: /content/POSITIVE/img00000948.png  \n",
            "  inflating: /content/POSITIVE/img00000949.png  \n",
            "  inflating: /content/POSITIVE/img00000950.png  \n",
            "  inflating: /content/POSITIVE/img00000951.png  \n",
            "  inflating: /content/POSITIVE/img00000952.png  \n",
            "  inflating: /content/POSITIVE/img00000953.png  \n",
            "  inflating: /content/POSITIVE/img00000954.png  \n",
            "  inflating: /content/POSITIVE/img00000955.png  \n",
            "  inflating: /content/POSITIVE/img00000956.png  \n",
            "  inflating: /content/POSITIVE/img00000957.png  \n",
            "  inflating: /content/POSITIVE/img00000958.png  \n",
            "  inflating: /content/POSITIVE/img00000959.png  \n",
            "  inflating: /content/POSITIVE/img00000960.png  \n",
            "  inflating: /content/POSITIVE/img00000961.png  \n",
            "  inflating: /content/POSITIVE/img00000962.png  \n",
            "  inflating: /content/POSITIVE/img00000963.png  \n",
            "  inflating: /content/POSITIVE/img00000964.png  \n",
            "  inflating: /content/POSITIVE/img00000965.png  \n",
            "  inflating: /content/POSITIVE/img00000966.png  \n",
            "  inflating: /content/POSITIVE/img00000967.png  \n",
            "  inflating: /content/POSITIVE/img00000968.png  \n",
            "  inflating: /content/POSITIVE/img00000969.png  \n",
            "  inflating: /content/POSITIVE/img00000970.png  \n",
            "  inflating: /content/POSITIVE/img00000971.png  \n",
            "  inflating: /content/POSITIVE/img00000972.png  \n",
            "  inflating: /content/POSITIVE/img00000973.png  \n",
            "  inflating: /content/POSITIVE/img00000974.png  \n",
            "  inflating: /content/POSITIVE/img00000975.png  \n",
            "  inflating: /content/POSITIVE/img00000976.png  \n",
            "  inflating: /content/POSITIVE/img00000977.png  \n",
            "  inflating: /content/POSITIVE/img00000978.png  \n",
            "  inflating: /content/POSITIVE/img00000979.png  \n",
            "  inflating: /content/POSITIVE/img00000980.png  \n",
            "  inflating: /content/POSITIVE/img00000981.png  \n",
            "  inflating: /content/POSITIVE/img00000982.png  \n",
            "  inflating: /content/POSITIVE/img00000983.png  \n",
            "  inflating: /content/POSITIVE/img00000984.png  \n",
            "  inflating: /content/POSITIVE/img00000985.png  \n",
            "  inflating: /content/POSITIVE/img00000986.png  \n",
            "  inflating: /content/POSITIVE/img00000987.png  \n",
            "  inflating: /content/POSITIVE/img00000988.png  \n",
            "  inflating: /content/POSITIVE/img00000989.png  \n",
            "  inflating: /content/POSITIVE/img00000990.png  \n",
            "  inflating: /content/POSITIVE/img00000991.png  \n",
            "  inflating: /content/POSITIVE/img00000992.png  \n",
            "  inflating: /content/POSITIVE/img00000993.png  \n",
            "  inflating: /content/POSITIVE/img00000994.png  \n",
            "  inflating: /content/POSITIVE/img00000995.png  \n",
            "  inflating: /content/POSITIVE/img00000996.png  \n",
            "  inflating: /content/POSITIVE/img00000997.png  \n",
            "  inflating: /content/POSITIVE/img00000998.png  \n",
            "  inflating: /content/POSITIVE/img00000999.png  \n",
            "  inflating: /content/POSITIVE/img00001000.png  \n",
            "  inflating: /content/POSITIVE/img00001001.png  \n",
            "  inflating: /content/POSITIVE/img00001002.png  \n",
            "  inflating: /content/POSITIVE/img00001003.png  \n",
            "  inflating: /content/POSITIVE/img00001004.png  \n",
            "  inflating: /content/POSITIVE/img00001005.png  \n",
            "  inflating: /content/POSITIVE/img00001006.png  \n",
            "  inflating: /content/POSITIVE/img00001007.png  \n",
            "  inflating: /content/POSITIVE/img00001008.png  \n",
            "  inflating: /content/POSITIVE/img00001009.png  \n",
            "  inflating: /content/POSITIVE/img00001010.png  \n",
            "  inflating: /content/POSITIVE/img00001011.png  \n",
            "  inflating: /content/POSITIVE/img00001012.png  \n",
            "  inflating: /content/POSITIVE/img00001013.png  \n",
            "  inflating: /content/POSITIVE/img00001014.png  \n",
            "  inflating: /content/POSITIVE/img00001015.png  \n",
            "  inflating: /content/POSITIVE/img00001016.png  \n",
            "  inflating: /content/POSITIVE/img00001017.png  \n",
            "  inflating: /content/POSITIVE/img00001018.png  \n",
            "  inflating: /content/POSITIVE/img00001019.png  \n",
            "  inflating: /content/POSITIVE/img00001020.png  \n",
            "  inflating: /content/POSITIVE/img00001021.png  \n",
            "  inflating: /content/POSITIVE/img00001022.png  \n",
            "  inflating: /content/POSITIVE/img00001023.png  \n",
            "  inflating: /content/POSITIVE/img00001024.png  \n",
            "  inflating: /content/POSITIVE/img00001025.png  \n",
            "  inflating: /content/POSITIVE/img00001026.png  \n",
            "  inflating: /content/POSITIVE/img00001027.png  \n",
            "  inflating: /content/POSITIVE/img00001028.png  \n",
            "  inflating: /content/POSITIVE/img00001029.png  \n",
            "  inflating: /content/POSITIVE/img00001030.png  \n",
            "  inflating: /content/POSITIVE/img00001031.png  \n",
            "  inflating: /content/POSITIVE/img00001032.png  \n",
            "  inflating: /content/POSITIVE/img00001033.png  \n",
            "  inflating: /content/POSITIVE/img00001034.png  \n",
            "  inflating: /content/POSITIVE/img00001035.png  \n",
            "  inflating: /content/POSITIVE/img00001036.png  \n",
            "  inflating: /content/POSITIVE/img00001037.png  \n",
            "  inflating: /content/POSITIVE/img00001038.png  \n",
            "  inflating: /content/POSITIVE/img00001039.png  \n",
            "  inflating: /content/POSITIVE/img00001040.png  \n",
            "  inflating: /content/POSITIVE/img00001041.png  \n",
            "  inflating: /content/POSITIVE/img00001042.png  \n",
            "  inflating: /content/POSITIVE/img00001043.png  \n",
            "  inflating: /content/POSITIVE/img00001044.png  \n",
            "  inflating: /content/POSITIVE/img00001045.png  \n",
            "  inflating: /content/POSITIVE/img00001046.png  \n",
            "  inflating: /content/POSITIVE/img00001047.png  \n",
            "  inflating: /content/POSITIVE/img00001048.png  \n",
            "  inflating: /content/POSITIVE/img00001049.png  \n",
            "  inflating: /content/POSITIVE/img00001050.png  \n",
            "  inflating: /content/POSITIVE/img00001051.png  \n",
            "  inflating: /content/POSITIVE/img00001052.png  \n",
            "  inflating: /content/POSITIVE/img00001053.png  \n",
            "  inflating: /content/POSITIVE/img00001054.png  \n",
            "  inflating: /content/POSITIVE/img00001055.png  \n",
            "  inflating: /content/POSITIVE/img00001056.png  \n",
            "  inflating: /content/POSITIVE/img00001057.png  \n",
            "  inflating: /content/POSITIVE/img00001058.png  \n",
            "  inflating: /content/POSITIVE/img00001059.png  \n",
            "  inflating: /content/POSITIVE/img00001060.png  \n",
            "  inflating: /content/POSITIVE/img00001061.png  \n",
            "  inflating: /content/POSITIVE/img00001062.png  \n",
            "  inflating: /content/POSITIVE/img00001063.png  \n",
            "  inflating: /content/POSITIVE/img00001064.png  \n",
            "  inflating: /content/POSITIVE/img00001065.png  \n",
            "  inflating: /content/POSITIVE/img00001066.png  \n",
            "  inflating: /content/POSITIVE/img00001067.png  \n",
            "  inflating: /content/POSITIVE/img00001068.png  \n",
            "  inflating: /content/POSITIVE/img00001069.png  \n",
            "  inflating: /content/POSITIVE/img00001070.png  \n",
            "  inflating: /content/POSITIVE/img00001071.png  \n",
            "  inflating: /content/POSITIVE/img00001072.png  \n",
            "  inflating: /content/POSITIVE/img00001073.png  \n",
            "  inflating: /content/POSITIVE/img00001074.png  \n",
            "  inflating: /content/POSITIVE/img00001075.png  \n",
            "  inflating: /content/POSITIVE/img00001076.png  \n",
            "  inflating: /content/POSITIVE/img00001077.png  \n",
            "  inflating: /content/POSITIVE/img00001078.png  \n",
            "  inflating: /content/POSITIVE/img00001079.png  \n",
            "  inflating: /content/POSITIVE/img00001080.png  \n",
            "  inflating: /content/POSITIVE/img00001081.png  \n",
            "  inflating: /content/POSITIVE/img00001082.png  \n",
            "  inflating: /content/POSITIVE/img00001083.png  \n",
            "  inflating: /content/POSITIVE/img00001084.png  \n",
            "  inflating: /content/POSITIVE/img00001085.png  \n",
            "  inflating: /content/POSITIVE/img00001086.png  \n",
            "  inflating: /content/POSITIVE/img00001087.png  \n",
            "  inflating: /content/POSITIVE/img00001088.png  \n",
            "  inflating: /content/POSITIVE/img00001089.png  \n",
            "  inflating: /content/POSITIVE/img00001090.png  \n",
            "  inflating: /content/POSITIVE/img00001091.png  \n",
            "  inflating: /content/POSITIVE/img00001092.png  \n",
            "  inflating: /content/POSITIVE/img00001093.png  \n",
            "  inflating: /content/POSITIVE/img00001094.png  \n",
            "  inflating: /content/POSITIVE/img00001095.png  \n",
            "  inflating: /content/POSITIVE/img00001096.png  \n",
            "  inflating: /content/POSITIVE/img00001097.png  \n",
            "  inflating: /content/POSITIVE/img00001098.png  \n",
            "  inflating: /content/POSITIVE/img00001099.png  \n",
            "  inflating: /content/POSITIVE/img00001100.png  \n",
            "  inflating: /content/POSITIVE/img00001101.png  \n",
            "  inflating: /content/POSITIVE/img00001102.png  \n",
            "  inflating: /content/POSITIVE/img00001103.png  \n",
            "  inflating: /content/POSITIVE/img00001104.png  \n",
            "  inflating: /content/POSITIVE/img00001105.png  \n",
            "  inflating: /content/POSITIVE/img00001106.png  \n",
            "  inflating: /content/POSITIVE/img00001107.png  \n",
            "  inflating: /content/POSITIVE/img00001108.png  \n",
            "  inflating: /content/POSITIVE/img00001109.png  \n",
            "  inflating: /content/POSITIVE/img00001110.png  \n",
            "  inflating: /content/POSITIVE/img00001111.png  \n",
            "  inflating: /content/POSITIVE/img00001112.png  \n",
            "  inflating: /content/POSITIVE/img00001113.png  \n",
            "  inflating: /content/POSITIVE/img00001114.png  \n",
            "  inflating: /content/POSITIVE/img00001115.png  \n",
            "  inflating: /content/POSITIVE/img00001116.png  \n",
            "  inflating: /content/POSITIVE/img00001117.png  \n",
            "  inflating: /content/POSITIVE/img00001118.png  \n",
            "  inflating: /content/POSITIVE/img00001119.png  \n",
            "  inflating: /content/POSITIVE/img00001120.png  \n",
            "  inflating: /content/POSITIVE/img00001121.png  \n",
            "  inflating: /content/POSITIVE/img00001122.png  \n",
            "  inflating: /content/POSITIVE/img00001123.png  \n",
            "  inflating: /content/POSITIVE/img00001124.png  \n",
            "  inflating: /content/POSITIVE/img00001125.png  \n",
            "  inflating: /content/POSITIVE/img00001126.png  \n",
            "  inflating: /content/POSITIVE/img00001127.png  \n",
            "  inflating: /content/POSITIVE/img00001128.png  \n",
            "  inflating: /content/POSITIVE/img00001129.png  \n",
            "  inflating: /content/POSITIVE/img00001130.png  \n",
            "  inflating: /content/POSITIVE/img00001131.png  \n",
            "  inflating: /content/POSITIVE/img00001132.png  \n",
            "  inflating: /content/POSITIVE/img00001133.png  \n",
            "  inflating: /content/POSITIVE/img00001134.png  \n",
            "  inflating: /content/POSITIVE/img00001135.png  \n",
            "  inflating: /content/POSITIVE/img00001136.png  \n",
            "  inflating: /content/POSITIVE/img00001137.png  \n",
            "  inflating: /content/POSITIVE/img00001138.png  \n",
            "  inflating: /content/POSITIVE/img00001139.png  \n",
            "  inflating: /content/POSITIVE/img00001140.png  \n",
            "  inflating: /content/POSITIVE/img00001141.png  \n",
            "  inflating: /content/POSITIVE/img00001142.png  \n",
            "  inflating: /content/POSITIVE/img00001143.png  \n",
            "  inflating: /content/POSITIVE/img00001144.png  \n",
            "  inflating: /content/POSITIVE/img00001145.png  \n",
            "  inflating: /content/POSITIVE/img00001146.png  \n",
            "  inflating: /content/POSITIVE/img00001147.png  \n",
            "  inflating: /content/POSITIVE/img00001148.png  \n",
            "  inflating: /content/POSITIVE/img00001149.png  \n",
            "  inflating: /content/POSITIVE/img00001150.png  \n",
            "  inflating: /content/POSITIVE/img00001151.png  \n",
            "  inflating: /content/POSITIVE/img00001152.png  \n",
            "  inflating: /content/POSITIVE/img00001153.png  \n",
            "  inflating: /content/POSITIVE/img00001154.png  \n",
            "  inflating: /content/POSITIVE/img00001155.png  \n",
            "  inflating: /content/POSITIVE/img00001156.png  \n",
            "  inflating: /content/POSITIVE/img00001157.png  \n",
            "  inflating: /content/POSITIVE/img00001158.png  \n",
            "  inflating: /content/POSITIVE/img00001159.png  \n",
            "  inflating: /content/POSITIVE/img00001160.png  \n",
            "  inflating: /content/POSITIVE/img00001161.png  \n",
            "  inflating: /content/POSITIVE/img00001162.png  \n",
            "  inflating: /content/POSITIVE/img00001163.png  \n",
            "  inflating: /content/POSITIVE/img00001164.png  \n",
            "  inflating: /content/POSITIVE/img00001165.png  \n",
            "  inflating: /content/POSITIVE/img00001166.png  \n",
            "  inflating: /content/POSITIVE/img00001167.png  \n",
            "  inflating: /content/POSITIVE/img00001168.png  \n",
            "  inflating: /content/POSITIVE/img00001169.png  \n",
            "  inflating: /content/POSITIVE/img00001170.png  \n",
            "  inflating: /content/POSITIVE/img00001171.png  \n",
            "  inflating: /content/POSITIVE/img00001172.png  \n",
            "  inflating: /content/POSITIVE/img00001173.png  \n",
            "  inflating: /content/POSITIVE/img00001174.png  \n",
            "  inflating: /content/POSITIVE/img00001175.png  \n",
            "  inflating: /content/POSITIVE/img00001176.png  \n",
            "  inflating: /content/POSITIVE/img00001177.png  \n",
            "  inflating: /content/POSITIVE/img00001178.png  \n",
            "  inflating: /content/POSITIVE/img00001179.png  \n",
            "  inflating: /content/POSITIVE/img00001180.png  \n",
            "  inflating: /content/POSITIVE/img00001181.png  \n",
            "  inflating: /content/POSITIVE/img00001182.png  \n",
            "  inflating: /content/POSITIVE/img00001183.png  \n",
            "  inflating: /content/POSITIVE/img00001184.png  \n",
            "  inflating: /content/POSITIVE/img00001185.png  \n",
            "  inflating: /content/POSITIVE/img00001186.png  \n",
            "  inflating: /content/POSITIVE/img00001187.png  \n",
            "  inflating: /content/POSITIVE/img00001188.png  \n",
            "  inflating: /content/POSITIVE/img00001189.png  \n",
            "  inflating: /content/POSITIVE/img00001190.png  \n",
            "  inflating: /content/POSITIVE/img00001191.png  \n",
            "  inflating: /content/POSITIVE/img00001192.png  \n",
            "  inflating: /content/POSITIVE/img00001193.png  \n",
            "  inflating: /content/POSITIVE/img00001194.png  \n",
            "  inflating: /content/POSITIVE/img00001195.png  \n",
            "  inflating: /content/POSITIVE/img00001196.png  \n",
            "  inflating: /content/POSITIVE/img00001197.png  \n",
            "  inflating: /content/POSITIVE/img00001198.png  \n",
            "  inflating: /content/POSITIVE/img00001199.png  \n",
            "  inflating: /content/POSITIVE/img00001200.png  \n",
            "  inflating: /content/POSITIVE/img00001201.png  \n",
            "  inflating: /content/POSITIVE/img00001202.png  \n",
            "  inflating: /content/POSITIVE/img00001203.png  \n",
            "  inflating: /content/POSITIVE/img00001204.png  \n",
            "  inflating: /content/POSITIVE/img00001205.png  \n",
            "  inflating: /content/POSITIVE/img00001206.png  \n",
            "  inflating: /content/POSITIVE/img00001207.png  \n",
            "  inflating: /content/POSITIVE/img00001208.png  \n",
            "  inflating: /content/POSITIVE/img00001209.png  \n",
            "  inflating: /content/POSITIVE/img00001210.png  \n",
            "  inflating: /content/POSITIVE/img00001211.png  \n",
            "  inflating: /content/POSITIVE/img00001212.png  \n",
            "  inflating: /content/POSITIVE/img00001213.png  \n",
            "  inflating: /content/POSITIVE/img00001214.png  \n",
            "  inflating: /content/POSITIVE/img00001215.png  \n",
            "  inflating: /content/POSITIVE/img00001216.png  \n",
            "  inflating: /content/POSITIVE/img00001217.png  \n",
            "  inflating: /content/POSITIVE/img00001218.png  \n",
            "  inflating: /content/POSITIVE/img00001219.png  \n",
            "  inflating: /content/POSITIVE/img00001220.png  \n",
            "  inflating: /content/POSITIVE/img00001221.png  \n",
            "  inflating: /content/POSITIVE/img00001222.png  \n",
            "  inflating: /content/POSITIVE/img00001223.png  \n",
            "  inflating: /content/POSITIVE/img00001224.png  \n",
            "  inflating: /content/POSITIVE/img00001225.png  \n",
            "  inflating: /content/POSITIVE/img00001226.png  \n",
            "  inflating: /content/POSITIVE/img00001227.png  \n",
            "  inflating: /content/POSITIVE/img00001228.png  \n",
            "  inflating: /content/POSITIVE/img00001229.png  \n",
            "  inflating: /content/POSITIVE/img00001230.png  \n",
            "  inflating: /content/POSITIVE/img00001231.png  \n",
            "  inflating: /content/POSITIVE/img00001232.png  \n",
            "  inflating: /content/POSITIVE/img00001233.png  \n",
            "  inflating: /content/POSITIVE/img00001234.png  \n",
            "  inflating: /content/POSITIVE/img00001235.png  \n",
            "  inflating: /content/POSITIVE/img00001236.png  \n",
            "  inflating: /content/POSITIVE/img00001237.png  \n",
            "  inflating: /content/POSITIVE/img00001238.png  \n",
            "  inflating: /content/POSITIVE/img00001239.png  \n",
            "  inflating: /content/POSITIVE/img00001240.png  \n",
            "  inflating: /content/POSITIVE/img00001241.png  \n",
            "  inflating: /content/POSITIVE/img00001242.png  \n",
            "  inflating: /content/POSITIVE/img00001243.png  \n",
            "  inflating: /content/POSITIVE/img00001244.png  \n",
            "  inflating: /content/POSITIVE/img00001245.png  \n",
            "  inflating: /content/POSITIVE/img00001246.png  \n",
            "  inflating: /content/POSITIVE/img00001247.png  \n",
            "  inflating: /content/POSITIVE/img00001248.png  \n",
            "  inflating: /content/POSITIVE/img00001249.png  \n",
            "  inflating: /content/POSITIVE/img00001250.png  \n",
            "  inflating: /content/POSITIVE/img00001251.png  \n",
            "  inflating: /content/POSITIVE/img00001252.png  \n",
            "  inflating: /content/POSITIVE/img00001253.png  \n",
            "  inflating: /content/POSITIVE/img00001254.png  \n",
            "  inflating: /content/POSITIVE/img00001255.png  \n",
            "  inflating: /content/POSITIVE/img00001256.png  \n",
            "  inflating: /content/POSITIVE/img00001257.png  \n",
            "  inflating: /content/POSITIVE/img00001258.png  \n",
            "  inflating: /content/POSITIVE/img00001259.png  \n",
            "  inflating: /content/POSITIVE/img00001260.png  \n",
            "  inflating: /content/POSITIVE/img00001261.png  \n",
            "  inflating: /content/POSITIVE/img00001262.png  \n",
            "  inflating: /content/POSITIVE/img00001263.png  \n",
            "  inflating: /content/POSITIVE/img00001264.png  \n",
            "  inflating: /content/POSITIVE/img00001265.png  \n",
            "  inflating: /content/POSITIVE/img00001266.png  \n",
            "  inflating: /content/POSITIVE/img00001267.png  \n",
            "  inflating: /content/POSITIVE/img00001268.png  \n",
            "  inflating: /content/POSITIVE/img00001269.png  \n",
            "  inflating: /content/POSITIVE/img00001270.png  \n",
            "  inflating: /content/POSITIVE/img00001271.png  \n",
            "  inflating: /content/POSITIVE/img00001272.png  \n",
            "  inflating: /content/POSITIVE/img00001273.png  \n",
            "  inflating: /content/POSITIVE/img00001274.png  \n",
            "  inflating: /content/POSITIVE/img00001275.png  \n",
            "  inflating: /content/POSITIVE/img00001276.png  \n",
            "  inflating: /content/POSITIVE/img00001277.png  \n",
            "  inflating: /content/POSITIVE/img00001278.png  \n",
            "  inflating: /content/POSITIVE/img00001279.png  \n",
            "  inflating: /content/POSITIVE/img00001280.png  \n",
            "  inflating: /content/POSITIVE/img00001281.png  \n",
            "  inflating: /content/POSITIVE/img00001282.png  \n",
            "  inflating: /content/POSITIVE/img00001283.png  \n",
            "  inflating: /content/POSITIVE/img00001284.png  \n",
            "  inflating: /content/POSITIVE/img00001285.png  \n",
            "  inflating: /content/POSITIVE/img00001286.png  \n",
            "  inflating: /content/POSITIVE/img00001287.png  \n",
            "  inflating: /content/POSITIVE/img00001288.png  \n",
            "  inflating: /content/POSITIVE/img00001289.png  \n",
            "  inflating: /content/POSITIVE/img00001290.png  \n",
            "  inflating: /content/POSITIVE/img00001291.png  \n",
            "  inflating: /content/POSITIVE/img00001292.png  \n",
            "  inflating: /content/POSITIVE/img00001293.png  \n",
            "  inflating: /content/POSITIVE/img00001294.png  \n",
            "  inflating: /content/POSITIVE/img00001295.png  \n",
            "  inflating: /content/POSITIVE/img00001296.png  \n",
            "  inflating: /content/POSITIVE/img00001297.png  \n",
            "  inflating: /content/POSITIVE/img00001298.png  \n",
            "  inflating: /content/POSITIVE/img00001299.png  \n",
            "  inflating: /content/POSITIVE/img00001300.png  \n",
            "  inflating: /content/POSITIVE/img00001301.png  \n",
            "  inflating: /content/POSITIVE/img00001302.png  \n",
            "  inflating: /content/POSITIVE/img00001303.png  \n",
            "  inflating: /content/POSITIVE/img00001304.png  \n",
            "  inflating: /content/POSITIVE/img00001305.png  \n",
            "  inflating: /content/POSITIVE/img00001306.png  \n",
            "  inflating: /content/POSITIVE/img00001307.png  \n",
            "  inflating: /content/POSITIVE/img00001308.png  \n",
            "  inflating: /content/POSITIVE/img00001309.png  \n",
            "  inflating: /content/POSITIVE/img00001310.png  \n",
            "  inflating: /content/POSITIVE/img00001311.png  \n",
            "  inflating: /content/POSITIVE/img00001312.png  \n",
            "  inflating: /content/POSITIVE/img00001313.png  \n",
            "  inflating: /content/POSITIVE/img00001314.png  \n",
            "  inflating: /content/POSITIVE/img00001315.png  \n",
            "  inflating: /content/POSITIVE/img00001316.png  \n",
            "  inflating: /content/POSITIVE/img00001317.png  \n",
            "  inflating: /content/POSITIVE/img00001318.png  \n",
            "  inflating: /content/POSITIVE/img00001319.png  \n",
            "  inflating: /content/POSITIVE/img00001320.png  \n",
            "  inflating: /content/POSITIVE/img00001321.png  \n",
            "  inflating: /content/POSITIVE/img00001322.png  \n",
            "  inflating: /content/POSITIVE/img00001323.png  \n",
            "  inflating: /content/POSITIVE/img00001324.png  \n",
            "  inflating: /content/POSITIVE/img00001325.png  \n",
            "  inflating: /content/POSITIVE/img00001326.png  \n",
            "  inflating: /content/POSITIVE/img00001327.png  \n",
            "  inflating: /content/POSITIVE/img00001328.png  \n",
            "  inflating: /content/POSITIVE/img00001329.png  \n",
            "  inflating: /content/POSITIVE/img00001330.png  \n",
            "  inflating: /content/POSITIVE/img00001331.png  \n",
            "  inflating: /content/POSITIVE/img00001332.png  \n",
            "  inflating: /content/POSITIVE/img00001333.png  \n",
            "  inflating: /content/POSITIVE/img00001334.png  \n",
            "  inflating: /content/POSITIVE/img00001335.png  \n",
            "  inflating: /content/POSITIVE/img00001336.png  \n",
            "  inflating: /content/POSITIVE/img00001337.png  \n",
            "  inflating: /content/POSITIVE/img00001338.png  \n",
            "  inflating: /content/POSITIVE/img00001339.png  \n",
            "  inflating: /content/POSITIVE/img00001340.png  \n",
            "  inflating: /content/POSITIVE/img00001341.png  \n",
            "  inflating: /content/POSITIVE/img00001342.png  \n",
            "  inflating: /content/POSITIVE/img00001343.png  \n",
            "  inflating: /content/POSITIVE/img00001344.png  \n",
            "  inflating: /content/POSITIVE/img00001345.png  \n",
            "  inflating: /content/POSITIVE/img00001346.png  \n",
            "  inflating: /content/POSITIVE/img00001347.png  \n",
            "  inflating: /content/POSITIVE/img00001348.png  \n",
            "  inflating: /content/POSITIVE/img00001349.png  \n",
            "  inflating: /content/POSITIVE/img00001350.png  \n",
            "  inflating: /content/POSITIVE/img00001351.png  \n",
            "  inflating: /content/POSITIVE/img00001352.png  \n",
            "  inflating: /content/POSITIVE/img00001353.png  \n",
            "  inflating: /content/POSITIVE/img00001354.png  \n",
            "  inflating: /content/POSITIVE/img00001355.png  \n",
            "  inflating: /content/POSITIVE/img00001356.png  \n",
            "  inflating: /content/POSITIVE/img00001357.png  \n",
            "  inflating: /content/POSITIVE/img00001358.png  \n",
            "  inflating: /content/POSITIVE/img00001359.png  \n",
            "  inflating: /content/POSITIVE/img00001360.png  \n",
            "  inflating: /content/POSITIVE/img00001361.png  \n",
            "  inflating: /content/POSITIVE/img00001362.png  \n",
            "  inflating: /content/POSITIVE/img00001363.png  \n",
            "  inflating: /content/POSITIVE/img00001364.png  \n",
            "  inflating: /content/POSITIVE/img00001365.png  \n",
            "  inflating: /content/POSITIVE/img00001366.png  \n",
            "  inflating: /content/POSITIVE/img00001367.png  \n",
            "  inflating: /content/POSITIVE/img00001368.png  \n",
            "  inflating: /content/POSITIVE/img00001369.png  \n",
            "  inflating: /content/POSITIVE/img00001370.png  \n",
            "  inflating: /content/POSITIVE/img00001371.png  \n",
            "  inflating: /content/POSITIVE/img00001372.png  \n",
            "  inflating: /content/POSITIVE/img00001373.png  \n",
            "  inflating: /content/POSITIVE/img00001374.png  \n",
            "  inflating: /content/POSITIVE/img00001375.png  \n",
            "  inflating: /content/POSITIVE/img00001376.png  \n",
            "  inflating: /content/POSITIVE/img00001377.png  \n",
            "  inflating: /content/POSITIVE/img00001378.png  \n",
            "  inflating: /content/POSITIVE/img00001379.png  \n",
            "  inflating: /content/POSITIVE/img00001380.png  \n",
            "  inflating: /content/POSITIVE/img00001381.png  \n",
            "  inflating: /content/POSITIVE/img00001382.png  \n",
            "  inflating: /content/POSITIVE/img00001383.png  \n",
            "  inflating: /content/POSITIVE/img00001384.png  \n",
            "  inflating: /content/POSITIVE/img00001385.png  \n",
            "  inflating: /content/POSITIVE/img00001386.png  \n",
            "  inflating: /content/POSITIVE/img00001387.png  \n",
            "  inflating: /content/POSITIVE/img00001388.png  \n",
            "  inflating: /content/POSITIVE/img00001389.png  \n",
            "  inflating: /content/POSITIVE/img00001390.png  \n",
            "  inflating: /content/POSITIVE/img00001391.png  \n",
            "  inflating: /content/POSITIVE/img00001392.png  \n",
            "  inflating: /content/POSITIVE/img00001393.png  \n",
            "  inflating: /content/POSITIVE/img00001394.png  \n",
            "  inflating: /content/POSITIVE/img00001395.png  \n",
            "  inflating: /content/POSITIVE/img00001396.png  \n",
            "  inflating: /content/POSITIVE/img00001397.png  \n",
            "  inflating: /content/POSITIVE/img00001398.png  \n",
            "  inflating: /content/POSITIVE/img00001399.png  \n",
            "  inflating: /content/POSITIVE/img00001400.png  \n",
            "  inflating: /content/POSITIVE/img00001401.png  \n",
            "  inflating: /content/POSITIVE/img00001402.png  \n",
            "  inflating: /content/POSITIVE/img00001403.png  \n",
            "  inflating: /content/POSITIVE/img00001404.png  \n",
            "  inflating: /content/POSITIVE/img00001405.png  \n",
            "  inflating: /content/POSITIVE/img00001406.png  \n",
            "  inflating: /content/POSITIVE/img00001407.png  \n",
            "  inflating: /content/POSITIVE/img00001408.png  \n",
            "  inflating: /content/POSITIVE/img00001409.png  \n",
            "  inflating: /content/POSITIVE/img00001410.png  \n",
            "  inflating: /content/POSITIVE/img00001411.png  \n",
            "  inflating: /content/POSITIVE/img00001412.png  \n",
            "  inflating: /content/POSITIVE/img00001413.png  \n",
            "  inflating: /content/POSITIVE/img00001414.png  \n",
            "  inflating: /content/POSITIVE/img00001415.png  \n",
            "  inflating: /content/POSITIVE/img00001416.png  \n",
            "  inflating: /content/POSITIVE/img00001417.png  \n",
            "  inflating: /content/POSITIVE/img00001418.png  \n",
            "  inflating: /content/POSITIVE/img00001419.png  \n",
            "  inflating: /content/POSITIVE/img00001420.png  \n",
            "  inflating: /content/POSITIVE/img00001421.png  \n",
            "  inflating: /content/POSITIVE/img00001422.png  \n",
            "  inflating: /content/POSITIVE/img00001423.png  \n",
            "  inflating: /content/POSITIVE/img00001424.png  \n",
            "  inflating: /content/POSITIVE/img00001425.png  \n",
            "  inflating: /content/POSITIVE/img00001426.png  \n",
            "  inflating: /content/POSITIVE/img00001427.png  \n",
            "  inflating: /content/POSITIVE/img00001428.png  \n",
            "  inflating: /content/POSITIVE/img00001429.png  \n",
            "  inflating: /content/POSITIVE/img00001430.png  \n",
            "  inflating: /content/POSITIVE/img00001431.png  \n",
            "  inflating: /content/POSITIVE/img00001432.png  \n",
            "  inflating: /content/POSITIVE/img00001433.png  \n",
            "  inflating: /content/POSITIVE/img00001434.png  \n",
            "  inflating: /content/POSITIVE/img00001435.png  \n",
            "  inflating: /content/POSITIVE/img00001436.png  \n",
            "  inflating: /content/POSITIVE/img00001437.png  \n",
            "  inflating: /content/POSITIVE/img00001438.png  \n",
            "  inflating: /content/POSITIVE/img00001439.png  \n",
            "  inflating: /content/POSITIVE/img00001440.png  \n",
            "  inflating: /content/POSITIVE/img00001441.png  \n",
            "  inflating: /content/POSITIVE/img00001442.png  \n",
            "  inflating: /content/POSITIVE/img00001443.png  \n",
            "  inflating: /content/POSITIVE/img00001444.png  \n",
            "  inflating: /content/POSITIVE/img00001445.png  \n",
            "  inflating: /content/POSITIVE/img00001446.png  \n",
            "  inflating: /content/POSITIVE/img00001447.png  \n",
            "  inflating: /content/POSITIVE/img00001448.png  \n",
            "  inflating: /content/POSITIVE/img00001449.png  \n",
            "  inflating: /content/POSITIVE/img00001450.png  \n",
            "  inflating: /content/POSITIVE/img00001451.png  \n",
            "  inflating: /content/POSITIVE/img00001452.png  \n",
            "  inflating: /content/POSITIVE/img00001453.png  \n",
            "  inflating: /content/POSITIVE/img00001454.png  \n",
            "  inflating: /content/POSITIVE/img00001455.png  \n",
            "  inflating: /content/POSITIVE/img00001456.png  \n",
            "  inflating: /content/POSITIVE/img00001457.png  \n",
            "  inflating: /content/POSITIVE/img00001458.png  \n",
            "  inflating: /content/POSITIVE/img00001459.png  \n",
            "  inflating: /content/POSITIVE/img00001460.png  \n",
            "  inflating: /content/POSITIVE/img00001461.png  \n",
            "  inflating: /content/POSITIVE/img00001462.png  \n",
            "  inflating: /content/POSITIVE/img00001463.png  \n",
            "  inflating: /content/POSITIVE/img00001464.png  \n",
            "  inflating: /content/POSITIVE/img00001465.png  \n",
            "  inflating: /content/POSITIVE/img00001466.png  \n",
            "  inflating: /content/POSITIVE/img00001467.png  \n",
            "  inflating: /content/POSITIVE/img00001468.png  \n",
            "  inflating: /content/POSITIVE/img00001469.png  \n",
            "  inflating: /content/POSITIVE/img00001470.png  \n",
            "  inflating: /content/POSITIVE/img00001471.png  \n",
            "  inflating: /content/POSITIVE/img00001472.png  \n",
            "  inflating: /content/POSITIVE/img00001473.png  \n",
            "  inflating: /content/POSITIVE/img00001474.png  \n",
            "  inflating: /content/POSITIVE/img00001475.png  \n",
            "  inflating: /content/POSITIVE/img00001476.png  \n",
            "  inflating: /content/POSITIVE/img00001477.png  \n",
            "  inflating: /content/POSITIVE/img00001478.png  \n",
            "  inflating: /content/POSITIVE/img00001479.png  \n",
            "  inflating: /content/POSITIVE/img00001480.png  \n",
            "  inflating: /content/POSITIVE/img00001481.png  \n",
            "  inflating: /content/POSITIVE/img00001482.png  \n",
            "  inflating: /content/POSITIVE/img00001483.png  \n",
            "  inflating: /content/POSITIVE/img00001484.png  \n",
            "  inflating: /content/POSITIVE/img00001485.png  \n",
            "  inflating: /content/POSITIVE/img00001486.png  \n",
            "  inflating: /content/POSITIVE/img00001487.png  \n",
            "  inflating: /content/POSITIVE/img00001488.png  \n",
            "  inflating: /content/POSITIVE/img00001489.png  \n",
            "  inflating: /content/POSITIVE/img00001490.png  \n",
            "  inflating: /content/POSITIVE/img00001491.png  \n",
            "  inflating: /content/POSITIVE/img00001492.png  \n",
            "  inflating: /content/POSITIVE/img00001493.png  \n",
            "  inflating: /content/POSITIVE/img00001494.png  \n",
            "  inflating: /content/POSITIVE/img00001495.png  \n",
            "  inflating: /content/POSITIVE/img00001496.png  \n",
            "  inflating: /content/POSITIVE/img00001497.png  \n",
            "  inflating: /content/POSITIVE/img00001498.png  \n",
            "  inflating: /content/POSITIVE/img00001499.png  \n",
            "  inflating: /content/POSITIVE/img00001500.png  \n",
            "  inflating: /content/POSITIVE/img00001501.png  \n",
            "  inflating: /content/POSITIVE/img00001502.png  \n",
            "  inflating: /content/POSITIVE/img00001503.png  \n",
            "  inflating: /content/POSITIVE/img00001504.png  \n",
            "  inflating: /content/POSITIVE/img00001505.png  \n",
            "  inflating: /content/POSITIVE/img00001506.png  \n",
            "  inflating: /content/POSITIVE/img00001507.png  \n",
            "  inflating: /content/POSITIVE/img00001508.png  \n",
            "  inflating: /content/POSITIVE/img00001509.png  \n",
            "  inflating: /content/POSITIVE/img00001510.png  \n",
            "  inflating: /content/POSITIVE/img00001511.png  \n",
            "  inflating: /content/POSITIVE/img00001512.png  \n",
            "  inflating: /content/POSITIVE/img00001513.png  \n",
            "  inflating: /content/POSITIVE/img00001514.png  \n",
            "  inflating: /content/POSITIVE/img00001515.png  \n",
            "  inflating: /content/POSITIVE/img00001516.png  \n",
            "  inflating: /content/POSITIVE/img00001517.png  \n",
            "  inflating: /content/POSITIVE/img00001518.png  \n",
            "  inflating: /content/POSITIVE/img00001519.png  \n",
            "  inflating: /content/POSITIVE/img00001520.png  \n",
            "  inflating: /content/POSITIVE/img00001521.png  \n",
            "  inflating: /content/POSITIVE/img00001522.png  \n",
            "  inflating: /content/POSITIVE/img00001523.png  \n",
            "  inflating: /content/POSITIVE/img00001524.png  \n",
            "  inflating: /content/POSITIVE/img00001525.png  \n",
            "  inflating: /content/POSITIVE/img00001526.png  \n",
            "  inflating: /content/POSITIVE/img00001527.png  \n",
            "  inflating: /content/POSITIVE/img00001528.png  \n",
            "  inflating: /content/POSITIVE/img00001529.png  \n",
            "  inflating: /content/POSITIVE/img00001530.png  \n",
            "  inflating: /content/POSITIVE/img00001531.png  \n",
            "  inflating: /content/POSITIVE/img00001532.png  \n",
            "  inflating: /content/POSITIVE/img00001533.png  \n",
            "  inflating: /content/POSITIVE/img00001534.png  \n",
            "  inflating: /content/POSITIVE/img00001535.png  \n",
            "  inflating: /content/POSITIVE/img00001536.png  \n",
            "  inflating: /content/POSITIVE/img00001537.png  \n",
            "  inflating: /content/POSITIVE/img00001538.png  \n",
            "  inflating: /content/POSITIVE/img00001539.png  \n",
            "  inflating: /content/POSITIVE/img00001540.png  \n",
            "  inflating: /content/POSITIVE/img00001541.png  \n",
            "  inflating: /content/POSITIVE/img00001542.png  \n",
            "  inflating: /content/POSITIVE/img00001543.png  \n",
            "  inflating: /content/POSITIVE/img00001544.png  \n",
            "  inflating: /content/POSITIVE/img00001545.png  \n",
            "  inflating: /content/POSITIVE/img00001546.png  \n",
            "  inflating: /content/POSITIVE/img00001547.png  \n",
            "  inflating: /content/POSITIVE/img00001548.png  \n",
            "  inflating: /content/POSITIVE/img00001549.png  \n",
            "  inflating: /content/POSITIVE/img00001550.png  \n",
            "  inflating: /content/POSITIVE/img00001551.png  \n",
            "  inflating: /content/POSITIVE/img00001552.png  \n",
            "  inflating: /content/POSITIVE/img00001553.png  \n",
            "  inflating: /content/POSITIVE/img00001554.png  \n",
            "  inflating: /content/POSITIVE/img00001555.png  \n",
            "  inflating: /content/POSITIVE/img00001556.png  \n",
            "  inflating: /content/POSITIVE/img00001557.png  \n",
            "  inflating: /content/POSITIVE/img00001558.png  \n",
            "  inflating: /content/POSITIVE/img00001559.png  \n",
            "  inflating: /content/POSITIVE/img00001560.png  \n",
            "  inflating: /content/POSITIVE/img00001561.png  \n",
            "  inflating: /content/POSITIVE/img00001562.png  \n",
            "  inflating: /content/POSITIVE/img00001563.png  \n",
            "  inflating: /content/POSITIVE/img00001564.png  \n",
            "  inflating: /content/POSITIVE/img00001565.png  \n",
            "  inflating: /content/POSITIVE/img00001566.png  \n",
            "  inflating: /content/POSITIVE/img00001567.png  \n",
            "  inflating: /content/POSITIVE/img00001568.png  \n",
            "  inflating: /content/POSITIVE/img00001569.png  \n",
            "  inflating: /content/POSITIVE/img00001570.png  \n",
            "  inflating: /content/POSITIVE/img00001571.png  \n",
            "  inflating: /content/POSITIVE/img00001572.png  \n",
            "  inflating: /content/POSITIVE/img00001573.png  \n",
            "  inflating: /content/POSITIVE/img00001574.png  \n",
            "  inflating: /content/POSITIVE/img00001575.png  \n",
            "  inflating: /content/POSITIVE/img00001576.png  \n",
            "  inflating: /content/POSITIVE/img00001577.png  \n",
            "  inflating: /content/POSITIVE/img00001578.png  \n",
            "  inflating: /content/POSITIVE/img00001579.png  \n",
            "  inflating: /content/POSITIVE/img00001580.png  \n",
            "  inflating: /content/POSITIVE/img00001581.png  \n",
            "  inflating: /content/POSITIVE/img00001582.png  \n",
            "  inflating: /content/POSITIVE/img00001583.png  \n",
            "  inflating: /content/POSITIVE/img00001584.png  \n",
            "  inflating: /content/POSITIVE/img00001585.png  \n",
            "  inflating: /content/POSITIVE/img00001586.png  \n",
            "  inflating: /content/POSITIVE/img00001587.png  \n",
            "  inflating: /content/POSITIVE/img00001588.png  \n",
            "  inflating: /content/POSITIVE/img00001589.png  \n",
            "  inflating: /content/POSITIVE/img00001590.png  \n",
            "  inflating: /content/POSITIVE/img00001591.png  \n",
            "  inflating: /content/POSITIVE/img00001592.png  \n",
            "  inflating: /content/POSITIVE/img00001593.png  \n",
            "  inflating: /content/POSITIVE/img00001594.png  \n",
            "  inflating: /content/POSITIVE/img00001595.png  \n",
            "  inflating: /content/POSITIVE/img00001596.png  \n",
            "  inflating: /content/POSITIVE/img00001597.png  \n",
            "  inflating: /content/POSITIVE/img00001598.png  \n",
            "  inflating: /content/POSITIVE/img00001599.png  \n",
            "  inflating: /content/POSITIVE/img00001600.png  \n",
            "  inflating: /content/POSITIVE/img00001601.png  \n",
            "  inflating: /content/POSITIVE/img00001602.png  \n",
            "  inflating: /content/POSITIVE/img00001603.png  \n",
            "  inflating: /content/POSITIVE/img00001604.png  \n",
            "  inflating: /content/POSITIVE/img00001605.png  \n",
            "  inflating: /content/POSITIVE/img00001606.png  \n",
            "  inflating: /content/POSITIVE/img00001607.png  \n",
            "  inflating: /content/POSITIVE/img00001608.png  \n",
            "  inflating: /content/POSITIVE/img00001609.png  \n",
            "  inflating: /content/POSITIVE/img00001610.png  \n",
            "  inflating: /content/POSITIVE/img00001611.png  \n",
            "  inflating: /content/POSITIVE/img00001612.png  \n",
            "  inflating: /content/POSITIVE/img00001613.png  \n",
            "  inflating: /content/POSITIVE/img00001614.png  \n",
            "  inflating: /content/POSITIVE/img00001615.png  \n",
            "  inflating: /content/POSITIVE/img00001616.png  \n",
            "  inflating: /content/POSITIVE/img00001617.png  \n",
            "  inflating: /content/POSITIVE/img00001618.png  \n",
            "  inflating: /content/POSITIVE/img00001619.png  \n",
            "  inflating: /content/POSITIVE/img00001620.png  \n",
            "  inflating: /content/POSITIVE/img00001621.png  \n",
            "  inflating: /content/POSITIVE/img00001622.png  \n",
            "  inflating: /content/POSITIVE/img00001623.png  \n",
            "  inflating: /content/POSITIVE/img00001624.png  \n",
            "  inflating: /content/POSITIVE/img00001625.png  \n",
            "  inflating: /content/POSITIVE/img00001626.png  \n",
            "  inflating: /content/POSITIVE/img00001627.png  \n",
            "  inflating: /content/POSITIVE/img00001628.png  \n",
            "  inflating: /content/POSITIVE/img00001629.png  \n",
            "  inflating: /content/POSITIVE/img00001630.png  \n",
            "  inflating: /content/POSITIVE/img00001631.png  \n",
            "  inflating: /content/POSITIVE/img00001632.png  \n",
            "  inflating: /content/POSITIVE/img00001633.png  \n",
            "  inflating: /content/POSITIVE/img00001634.png  \n",
            "  inflating: /content/POSITIVE/img00001635.png  \n",
            "  inflating: /content/POSITIVE/img00001636.png  \n",
            "  inflating: /content/POSITIVE/img00001637.png  \n",
            "  inflating: /content/POSITIVE/img00001638.png  \n",
            "  inflating: /content/POSITIVE/img00001639.png  \n",
            "  inflating: /content/POSITIVE/img00001640.png  \n",
            "  inflating: /content/POSITIVE/img00001641.png  \n",
            "  inflating: /content/POSITIVE/img00001642.png  \n",
            "  inflating: /content/POSITIVE/img00001643.png  \n",
            "  inflating: /content/POSITIVE/img00001644.png  \n",
            "  inflating: /content/POSITIVE/img00001645.png  \n",
            "  inflating: /content/POSITIVE/img00001646.png  \n",
            "  inflating: /content/POSITIVE/img00001647.png  \n",
            "  inflating: /content/POSITIVE/img00001648.png  \n",
            "  inflating: /content/POSITIVE/img00001649.png  \n",
            "  inflating: /content/POSITIVE/img00001650.png  \n",
            "  inflating: /content/POSITIVE/img00001651.png  \n",
            "  inflating: /content/POSITIVE/img00001652.png  \n",
            "  inflating: /content/POSITIVE/img00001653.png  \n",
            "  inflating: /content/POSITIVE/img00001654.png  \n",
            "  inflating: /content/POSITIVE/img00001655.png  \n",
            "  inflating: /content/POSITIVE/img00001656.png  \n",
            "  inflating: /content/POSITIVE/img00001657.png  \n",
            "  inflating: /content/POSITIVE/img00001658.png  \n",
            "  inflating: /content/POSITIVE/img00001659.png  \n",
            "  inflating: /content/POSITIVE/img00001660.png  \n",
            "  inflating: /content/POSITIVE/img00001661.png  \n",
            "  inflating: /content/POSITIVE/img00001662.png  \n",
            "  inflating: /content/POSITIVE/img00001663.png  \n",
            "  inflating: /content/POSITIVE/img00001664.png  \n",
            "  inflating: /content/POSITIVE/img00001665.png  \n",
            "  inflating: /content/POSITIVE/img00001666.png  \n",
            "  inflating: /content/POSITIVE/img00001667.png  \n",
            "  inflating: /content/POSITIVE/img00001668.png  \n",
            "  inflating: /content/POSITIVE/img00001669.png  \n",
            "  inflating: /content/POSITIVE/img00001670.png  \n",
            "  inflating: /content/POSITIVE/img00001671.png  \n",
            "  inflating: /content/POSITIVE/img00001672.png  \n",
            "  inflating: /content/POSITIVE/img00001673.png  \n",
            "  inflating: /content/POSITIVE/img00001674.png  \n",
            "  inflating: /content/POSITIVE/img00001675.png  \n",
            "  inflating: /content/POSITIVE/img00001676.png  \n",
            "  inflating: /content/POSITIVE/img00001677.png  \n",
            "  inflating: /content/POSITIVE/img00001678.png  \n",
            "  inflating: /content/POSITIVE/img00001679.png  \n",
            "  inflating: /content/POSITIVE/img00001680.png  \n",
            "  inflating: /content/POSITIVE/img00001681.png  \n",
            "  inflating: /content/POSITIVE/img00001682.png  \n",
            "  inflating: /content/POSITIVE/img00001683.png  \n",
            "  inflating: /content/POSITIVE/img00001684.png  \n",
            "  inflating: /content/POSITIVE/img00001685.png  \n",
            "  inflating: /content/POSITIVE/img00001686.png  \n",
            "  inflating: /content/POSITIVE/img00001687.png  \n",
            "  inflating: /content/POSITIVE/img00001688.png  \n",
            "  inflating: /content/POSITIVE/img00001689.png  \n",
            "  inflating: /content/POSITIVE/img00001690.png  \n",
            "  inflating: /content/POSITIVE/img00001691.png  \n",
            "  inflating: /content/POSITIVE/img00001692.png  \n",
            "  inflating: /content/POSITIVE/img00001693.png  \n",
            "  inflating: /content/POSITIVE/img00001694.png  \n",
            "  inflating: /content/POSITIVE/img00001695.png  \n",
            "  inflating: /content/POSITIVE/img00001696.png  \n",
            "  inflating: /content/POSITIVE/img00001697.png  \n",
            "  inflating: /content/POSITIVE/img00001698.png  \n",
            "  inflating: /content/POSITIVE/img00001699.png  \n",
            "  inflating: /content/POSITIVE/img00001700.png  \n",
            "  inflating: /content/POSITIVE/img00001701.png  \n",
            "  inflating: /content/POSITIVE/img00001702.png  \n",
            "  inflating: /content/POSITIVE/img00001703.png  \n",
            "  inflating: /content/POSITIVE/img00001704.png  \n",
            "  inflating: /content/POSITIVE/img00001705.png  \n",
            "  inflating: /content/POSITIVE/img00001706.png  \n",
            "  inflating: /content/POSITIVE/img00001707.png  \n",
            "  inflating: /content/POSITIVE/img00001708.png  \n",
            "  inflating: /content/POSITIVE/img00001709.png  \n",
            "  inflating: /content/POSITIVE/img00001710.png  \n",
            "  inflating: /content/POSITIVE/img00001711.png  \n",
            "  inflating: /content/POSITIVE/img00001712.png  \n",
            "  inflating: /content/POSITIVE/img00001713.png  \n",
            "  inflating: /content/POSITIVE/img00001714.png  \n",
            "  inflating: /content/POSITIVE/img00001715.png  \n",
            "  inflating: /content/POSITIVE/img00001716.png  \n",
            "  inflating: /content/POSITIVE/img00001717.png  \n",
            "  inflating: /content/POSITIVE/img00001718.png  \n",
            "  inflating: /content/POSITIVE/img00001719.png  \n",
            "  inflating: /content/POSITIVE/img00001720.png  \n",
            "  inflating: /content/POSITIVE/img00001721.png  \n",
            "  inflating: /content/POSITIVE/img00001722.png  \n",
            "  inflating: /content/POSITIVE/img00001723.png  \n",
            "  inflating: /content/POSITIVE/img00001724.png  \n",
            "  inflating: /content/POSITIVE/img00001725.png  \n",
            "  inflating: /content/POSITIVE/img00001726.png  \n",
            "  inflating: /content/POSITIVE/img00001727.png  \n",
            "  inflating: /content/POSITIVE/img00001728.png  \n",
            "  inflating: /content/POSITIVE/img00001729.png  \n",
            "  inflating: /content/POSITIVE/img00001730.png  \n",
            "  inflating: /content/POSITIVE/img00001731.png  \n",
            "  inflating: /content/POSITIVE/img00001732.png  \n",
            "  inflating: /content/POSITIVE/img00001733.png  \n",
            "  inflating: /content/POSITIVE/img00001734.png  \n",
            "  inflating: /content/POSITIVE/img00001735.png  \n",
            "  inflating: /content/POSITIVE/img00001736.png  \n",
            "  inflating: /content/POSITIVE/img00001737.png  \n",
            "  inflating: /content/POSITIVE/img00001738.png  \n",
            "  inflating: /content/POSITIVE/img00001739.png  \n",
            "  inflating: /content/POSITIVE/img00001740.png  \n",
            "  inflating: /content/POSITIVE/img00001741.png  \n",
            "  inflating: /content/POSITIVE/img00001742.png  \n",
            "  inflating: /content/POSITIVE/img00001743.png  \n",
            "  inflating: /content/POSITIVE/img00001744.png  \n",
            "  inflating: /content/POSITIVE/img00001745.png  \n",
            "  inflating: /content/POSITIVE/img00001746.png  \n",
            "  inflating: /content/POSITIVE/img00001747.png  \n",
            "  inflating: /content/POSITIVE/img00001748.png  \n",
            "  inflating: /content/POSITIVE/img00001749.png  \n",
            "  inflating: /content/POSITIVE/img00001750.png  \n",
            "  inflating: /content/POSITIVE/img00001751.png  \n",
            "  inflating: /content/POSITIVE/img00001752.png  \n",
            "  inflating: /content/POSITIVE/img00001753.png  \n",
            "  inflating: /content/POSITIVE/img00001754.png  \n",
            "  inflating: /content/POSITIVE/img00001755.png  \n",
            "  inflating: /content/POSITIVE/img00001756.png  \n",
            "  inflating: /content/POSITIVE/img00001757.png  \n",
            "  inflating: /content/POSITIVE/img00001758.png  \n",
            "  inflating: /content/POSITIVE/img00001759.png  \n",
            "  inflating: /content/POSITIVE/img00001760.png  \n",
            "  inflating: /content/POSITIVE/img00001761.png  \n",
            "  inflating: /content/POSITIVE/img00001762.png  \n",
            "  inflating: /content/POSITIVE/img00001763.png  \n",
            "  inflating: /content/POSITIVE/img00001764.png  \n",
            "  inflating: /content/POSITIVE/img00001765.png  \n",
            "  inflating: /content/POSITIVE/img00001766.png  \n",
            "  inflating: /content/POSITIVE/img00001767.png  \n",
            "  inflating: /content/POSITIVE/img00001768.png  \n",
            "  inflating: /content/POSITIVE/img00001769.png  \n",
            "  inflating: /content/POSITIVE/img00001770.png  \n",
            "  inflating: /content/POSITIVE/img00001771.png  \n",
            "  inflating: /content/POSITIVE/img00001772.png  \n",
            "  inflating: /content/POSITIVE/img00001773.png  \n",
            "  inflating: /content/POSITIVE/img00001774.png  \n",
            "  inflating: /content/POSITIVE/img00001775.png  \n",
            "  inflating: /content/POSITIVE/img00001776.png  \n",
            "  inflating: /content/POSITIVE/img00001777.png  \n",
            "  inflating: /content/POSITIVE/img00001778.png  \n",
            "  inflating: /content/POSITIVE/img00001779.png  \n",
            "  inflating: /content/POSITIVE/img00001780.png  \n",
            "  inflating: /content/POSITIVE/img00001781.png  \n",
            "  inflating: /content/POSITIVE/img00001782.png  \n",
            "  inflating: /content/POSITIVE/img00001783.png  \n",
            "  inflating: /content/POSITIVE/img00001784.png  \n",
            "  inflating: /content/POSITIVE/img00001785.png  \n",
            "  inflating: /content/POSITIVE/img00001786.png  \n",
            "  inflating: /content/POSITIVE/img00001787.png  \n",
            "  inflating: /content/POSITIVE/img00001788.png  \n",
            "  inflating: /content/POSITIVE/img00001789.png  \n",
            "  inflating: /content/POSITIVE/img00001790.png  \n",
            "  inflating: /content/POSITIVE/img00001791.png  \n",
            "  inflating: /content/POSITIVE/img00001792.png  \n",
            "  inflating: /content/POSITIVE/img00001793.png  \n",
            "  inflating: /content/POSITIVE/img00001794.png  \n",
            "  inflating: /content/POSITIVE/img00001795.png  \n",
            "  inflating: /content/POSITIVE/img00001796.png  \n",
            "  inflating: /content/POSITIVE/img00001797.png  \n",
            "  inflating: /content/POSITIVE/img00001798.png  \n",
            "  inflating: /content/POSITIVE/img00001799.png  \n",
            "  inflating: /content/POSITIVE/img00001800.png  \n",
            "  inflating: /content/POSITIVE/img00001801.png  \n",
            "  inflating: /content/POSITIVE/img00001802.png  \n",
            "  inflating: /content/POSITIVE/img00001803.png  \n",
            "  inflating: /content/POSITIVE/img00001804.png  \n",
            "  inflating: /content/POSITIVE/img00001805.png  \n",
            "  inflating: /content/POSITIVE/img00001806.png  \n",
            "  inflating: /content/POSITIVE/img00001807.png  \n",
            "  inflating: /content/POSITIVE/img00001808.png  \n",
            "  inflating: /content/POSITIVE/img00001809.png  \n",
            "  inflating: /content/POSITIVE/img00001810.png  \n",
            "  inflating: /content/POSITIVE/img00001811.png  \n",
            "  inflating: /content/POSITIVE/img00001812.png  \n",
            "  inflating: /content/POSITIVE/img00001813.png  \n",
            "  inflating: /content/POSITIVE/img00001814.png  \n",
            "  inflating: /content/POSITIVE/img00001815.png  \n",
            "  inflating: /content/POSITIVE/img00001816.png  \n",
            "  inflating: /content/POSITIVE/img00001817.png  \n",
            "  inflating: /content/POSITIVE/img00001818.png  \n",
            "  inflating: /content/POSITIVE/img00001819.png  \n",
            "  inflating: /content/POSITIVE/img00001820.png  \n",
            "  inflating: /content/POSITIVE/img00001821.png  \n",
            "  inflating: /content/POSITIVE/img00001822.png  \n",
            "  inflating: /content/POSITIVE/img00001823.png  \n",
            "  inflating: /content/POSITIVE/img00001824.png  \n",
            "  inflating: /content/POSITIVE/img00001825.png  \n",
            "  inflating: /content/POSITIVE/img00001826.png  \n",
            "  inflating: /content/POSITIVE/img00001827.png  \n",
            "  inflating: /content/POSITIVE/img00001828.png  \n",
            "  inflating: /content/POSITIVE/img00001829.png  \n",
            "  inflating: /content/POSITIVE/img00001830.png  \n",
            "  inflating: /content/POSITIVE/img00001831.png  \n",
            "  inflating: /content/POSITIVE/img00001832.png  \n",
            "  inflating: /content/POSITIVE/img00001833.png  \n",
            "  inflating: /content/POSITIVE/img00001834.png  \n",
            "  inflating: /content/POSITIVE/img00001835.png  \n",
            "  inflating: /content/POSITIVE/img00001836.png  \n",
            "  inflating: /content/POSITIVE/img00001837.png  \n",
            "  inflating: /content/POSITIVE/img00001838.png  \n",
            "  inflating: /content/POSITIVE/img00001839.png  \n",
            "  inflating: /content/POSITIVE/img00001840.png  \n",
            "  inflating: /content/POSITIVE/img00001841.png  \n",
            "  inflating: /content/POSITIVE/img00001842.png  \n",
            "  inflating: /content/POSITIVE/img00001843.png  \n",
            "  inflating: /content/POSITIVE/img00001844.png  \n",
            "  inflating: /content/POSITIVE/img00001845.png  \n",
            "  inflating: /content/POSITIVE/img00001846.png  \n",
            "  inflating: /content/POSITIVE/img00001847.png  \n",
            "  inflating: /content/POSITIVE/img00001848.png  \n",
            "  inflating: /content/POSITIVE/img00001849.png  \n",
            "  inflating: /content/POSITIVE/img00001850.png  \n",
            "  inflating: /content/POSITIVE/img00001851.png  \n",
            "  inflating: /content/POSITIVE/img00001852.png  \n",
            "  inflating: /content/POSITIVE/img00001853.png  \n",
            "  inflating: /content/POSITIVE/img00001854.png  \n",
            "  inflating: /content/POSITIVE/img00001855.png  \n",
            "  inflating: /content/POSITIVE/img00001856.png  \n",
            "  inflating: /content/POSITIVE/img00001857.png  \n",
            "  inflating: /content/POSITIVE/img00001858.png  \n",
            "  inflating: /content/POSITIVE/img00001859.png  \n",
            "  inflating: /content/POSITIVE/img00001860.png  \n",
            "  inflating: /content/POSITIVE/img00001861.png  \n",
            "  inflating: /content/POSITIVE/img00001862.png  \n",
            "  inflating: /content/POSITIVE/img00001863.png  \n",
            "  inflating: /content/POSITIVE/img00001864.png  \n",
            "  inflating: /content/POSITIVE/img00001865.png  \n",
            "  inflating: /content/POSITIVE/img00001866.png  \n",
            "  inflating: /content/POSITIVE/img00001867.png  \n",
            "  inflating: /content/POSITIVE/img00001868.png  \n",
            "  inflating: /content/POSITIVE/img00001869.png  \n",
            "  inflating: /content/POSITIVE/img00001870.png  \n",
            "  inflating: /content/POSITIVE/img00001871.png  \n",
            "  inflating: /content/POSITIVE/img00001872.png  \n",
            "  inflating: /content/POSITIVE/img00001873.png  \n",
            "  inflating: /content/POSITIVE/img00001874.png  \n",
            "  inflating: /content/POSITIVE/img00001875.png  \n",
            "  inflating: /content/POSITIVE/img00001876.png  \n",
            "  inflating: /content/POSITIVE/img00001877.png  \n",
            "  inflating: /content/POSITIVE/img00001878.png  \n",
            "  inflating: /content/POSITIVE/img00001879.png  \n",
            "  inflating: /content/POSITIVE/img00001880.png  \n",
            "  inflating: /content/POSITIVE/img00001881.png  \n",
            "  inflating: /content/POSITIVE/img00001882.png  \n",
            "  inflating: /content/POSITIVE/img00001883.png  \n",
            "  inflating: /content/POSITIVE/img00001884.png  \n",
            "  inflating: /content/POSITIVE/img00001885.png  \n",
            "  inflating: /content/POSITIVE/img00001886.png  \n",
            "  inflating: /content/POSITIVE/img00001887.png  \n",
            "  inflating: /content/POSITIVE/img00001888.png  \n",
            "  inflating: /content/POSITIVE/img00001889.png  \n",
            "  inflating: /content/POSITIVE/img00001890.png  \n",
            "  inflating: /content/POSITIVE/img00001891.png  \n",
            "  inflating: /content/POSITIVE/img00001892.png  \n",
            "  inflating: /content/POSITIVE/img00001893.png  \n",
            "  inflating: /content/POSITIVE/img00001894.png  \n",
            "  inflating: /content/POSITIVE/img00001895.png  \n",
            "  inflating: /content/POSITIVE/img00001896.png  \n",
            "  inflating: /content/POSITIVE/img00001897.png  \n",
            "  inflating: /content/POSITIVE/img00001898.png  \n",
            "  inflating: /content/POSITIVE/img00001899.png  \n",
            "  inflating: /content/POSITIVE/img00001900.png  \n",
            "  inflating: /content/POSITIVE/img00001901.png  \n",
            "  inflating: /content/POSITIVE/img00001902.png  \n",
            "  inflating: /content/POSITIVE/img00001903.png  \n",
            "  inflating: /content/POSITIVE/img00001904.png  \n",
            "  inflating: /content/POSITIVE/img00001905.png  \n",
            "  inflating: /content/POSITIVE/img00001906.png  \n",
            "  inflating: /content/POSITIVE/img00001907.png  \n",
            "  inflating: /content/POSITIVE/img00001908.png  \n",
            "  inflating: /content/POSITIVE/img00001909.png  \n",
            "  inflating: /content/POSITIVE/img00001910.png  \n",
            "  inflating: /content/POSITIVE/img00001911.png  \n",
            "  inflating: /content/POSITIVE/img00001912.png  \n",
            "  inflating: /content/POSITIVE/img00001913.png  \n",
            "  inflating: /content/POSITIVE/img00001914.png  \n",
            "  inflating: /content/POSITIVE/img00001915.png  \n",
            "  inflating: /content/POSITIVE/img00001916.png  \n",
            "  inflating: /content/POSITIVE/img00001917.png  \n",
            "  inflating: /content/POSITIVE/img00001918.png  \n",
            "  inflating: /content/POSITIVE/img00001919.png  \n",
            "  inflating: /content/POSITIVE/img00001920.png  \n",
            "  inflating: /content/POSITIVE/img00001921.png  \n",
            "  inflating: /content/POSITIVE/img00001922.png  \n",
            "  inflating: /content/POSITIVE/img00001923.png  \n",
            "  inflating: /content/POSITIVE/img00001924.png  \n",
            "  inflating: /content/POSITIVE/img00001925.png  \n",
            "  inflating: /content/POSITIVE/img00001926.png  \n",
            "  inflating: /content/POSITIVE/img00001927.png  \n",
            "  inflating: /content/POSITIVE/img00001928.png  \n",
            "  inflating: /content/POSITIVE/img00001929.png  \n",
            "  inflating: /content/POSITIVE/img00001930.png  \n",
            "  inflating: /content/POSITIVE/img00001931.png  \n",
            "  inflating: /content/POSITIVE/img00001932.png  \n",
            "  inflating: /content/POSITIVE/img00001933.png  \n",
            "  inflating: /content/POSITIVE/img00001934.png  \n",
            "  inflating: /content/POSITIVE/img00001935.png  \n",
            "  inflating: /content/POSITIVE/img00001936.png  \n",
            "  inflating: /content/POSITIVE/img00001937.png  \n",
            "  inflating: /content/POSITIVE/img00001938.png  \n",
            "  inflating: /content/POSITIVE/img00001939.png  \n",
            "  inflating: /content/POSITIVE/img00001940.png  \n",
            "  inflating: /content/POSITIVE/img00001941.png  \n",
            "  inflating: /content/POSITIVE/img00001942.png  \n",
            "  inflating: /content/POSITIVE/img00001943.png  \n",
            "  inflating: /content/POSITIVE/img00001944.png  \n",
            "  inflating: /content/POSITIVE/img00001945.png  \n",
            "  inflating: /content/POSITIVE/img00001946.png  \n",
            "  inflating: /content/POSITIVE/img00001947.png  \n",
            "  inflating: /content/POSITIVE/img00001948.png  \n",
            "  inflating: /content/POSITIVE/img00001949.png  \n",
            "  inflating: /content/POSITIVE/img00001950.png  \n",
            "  inflating: /content/POSITIVE/img00001951.png  \n",
            "  inflating: /content/POSITIVE/img00001952.png  \n",
            "  inflating: /content/POSITIVE/img00001953.png  \n",
            "  inflating: /content/POSITIVE/img00001954.png  \n",
            "  inflating: /content/POSITIVE/img00001955.png  \n",
            "  inflating: /content/POSITIVE/img00001956.png  \n",
            "  inflating: /content/POSITIVE/img00001957.png  \n",
            "  inflating: /content/POSITIVE/img00001958.png  \n",
            "  inflating: /content/POSITIVE/img00001959.png  \n",
            "  inflating: /content/POSITIVE/img00001960.png  \n",
            "  inflating: /content/POSITIVE/img00001961.png  \n",
            "  inflating: /content/POSITIVE/img00001962.png  \n",
            "  inflating: /content/POSITIVE/img00001963.png  \n",
            "  inflating: /content/POSITIVE/img00001964.png  \n",
            "  inflating: /content/POSITIVE/img00001965.png  \n",
            "  inflating: /content/POSITIVE/img00001966.png  \n",
            "  inflating: /content/POSITIVE/img00001967.png  \n",
            "  inflating: /content/POSITIVE/img00001968.png  \n",
            "  inflating: /content/POSITIVE/img00001969.png  \n",
            "  inflating: /content/POSITIVE/img00001970.png  \n",
            "  inflating: /content/POSITIVE/img00001971.png  \n",
            "  inflating: /content/POSITIVE/img00001972.png  \n",
            "  inflating: /content/POSITIVE/img00001973.png  \n",
            "  inflating: /content/POSITIVE/img00001974.png  \n",
            "  inflating: /content/POSITIVE/img00001975.png  \n",
            "  inflating: /content/POSITIVE/img00001976.png  \n",
            "  inflating: /content/POSITIVE/img00001977.png  \n",
            "  inflating: /content/POSITIVE/img00001978.png  \n",
            "  inflating: /content/POSITIVE/img00001979.png  \n",
            "  inflating: /content/POSITIVE/img00001980.png  \n",
            "  inflating: /content/POSITIVE/img00001981.png  \n",
            "  inflating: /content/POSITIVE/img00001982.png  \n",
            "  inflating: /content/POSITIVE/img00001983.png  \n",
            "  inflating: /content/POSITIVE/img00001984.png  \n",
            "  inflating: /content/POSITIVE/img00001985.png  \n",
            "  inflating: /content/POSITIVE/img00001986.png  \n",
            "  inflating: /content/POSITIVE/img00001987.png  \n",
            "  inflating: /content/POSITIVE/img00001988.png  \n",
            "  inflating: /content/POSITIVE/img00001989.png  \n",
            "  inflating: /content/POSITIVE/img00001990.png  \n",
            "  inflating: /content/POSITIVE/img00001991.png  \n",
            "  inflating: /content/POSITIVE/img00001992.png  \n",
            "  inflating: /content/POSITIVE/img00001993.png  \n",
            "  inflating: /content/POSITIVE/img00001994.png  \n",
            "  inflating: /content/POSITIVE/img00001995.png  \n",
            "  inflating: /content/POSITIVE/img00001996.png  \n",
            "  inflating: /content/POSITIVE/img00001997.png  \n",
            "  inflating: /content/POSITIVE/img00001998.png  \n",
            "  inflating: /content/POSITIVE/img00001999.png  \n",
            "  inflating: /content/POSITIVE/img00002000.png  \n",
            "  inflating: /content/POSITIVE/img00002001.png  \n",
            "  inflating: /content/POSITIVE/img00002002.png  \n",
            "  inflating: /content/POSITIVE/img00002003.png  \n",
            "  inflating: /content/POSITIVE/img00002004.png  \n",
            "  inflating: /content/POSITIVE/img00002005.png  \n",
            "  inflating: /content/POSITIVE/img00002006.png  \n",
            "  inflating: /content/POSITIVE/img00002007.png  \n",
            "  inflating: /content/POSITIVE/img00002008.png  \n",
            "  inflating: /content/POSITIVE/img00002009.png  \n",
            "  inflating: /content/POSITIVE/img00002010.png  \n",
            "  inflating: /content/POSITIVE/img00002011.png  \n",
            "  inflating: /content/POSITIVE/img00002012.png  \n",
            "  inflating: /content/POSITIVE/img00002013.png  \n",
            "  inflating: /content/POSITIVE/img00002014.png  \n",
            "  inflating: /content/POSITIVE/img00002015.png  \n",
            "  inflating: /content/POSITIVE/img00002016.png  \n",
            "  inflating: /content/POSITIVE/img00002017.png  \n",
            "  inflating: /content/POSITIVE/img00002018.png  \n",
            "  inflating: /content/POSITIVE/img00002019.png  \n",
            "  inflating: /content/POSITIVE/img00002020.png  \n",
            "  inflating: /content/POSITIVE/img00002021.png  \n",
            "  inflating: /content/POSITIVE/img00002022.png  \n",
            "  inflating: /content/POSITIVE/img00002023.png  \n",
            "  inflating: /content/POSITIVE/img00002024.png  \n",
            "  inflating: /content/POSITIVE/img00002025.png  \n",
            "  inflating: /content/POSITIVE/img00002026.png  \n",
            "  inflating: /content/POSITIVE/img00002027.png  \n",
            "  inflating: /content/POSITIVE/img00002028.png  \n",
            "  inflating: /content/POSITIVE/img00002029.png  \n",
            "  inflating: /content/POSITIVE/img00002030.png  \n",
            "  inflating: /content/POSITIVE/img00002031.png  \n",
            "  inflating: /content/POSITIVE/img00002032.png  \n",
            "  inflating: /content/POSITIVE/img00002033.png  \n",
            "  inflating: /content/POSITIVE/img00002034.png  \n",
            "  inflating: /content/POSITIVE/img00002035.png  \n",
            "  inflating: /content/POSITIVE/img00002036.png  \n",
            "  inflating: /content/POSITIVE/img00002037.png  \n",
            "  inflating: /content/POSITIVE/img00002038.png  \n",
            "  inflating: /content/POSITIVE/img00002039.png  \n",
            "  inflating: /content/POSITIVE/img00002040.png  \n",
            "  inflating: /content/POSITIVE/img00002041.png  \n",
            "  inflating: /content/POSITIVE/img00002042.png  \n",
            "  inflating: /content/POSITIVE/img00002043.png  \n",
            "  inflating: /content/POSITIVE/img00002044.png  \n",
            "  inflating: /content/POSITIVE/img00002045.png  \n",
            "  inflating: /content/POSITIVE/img00002046.png  \n",
            "  inflating: /content/POSITIVE/img00002047.png  \n",
            "  inflating: /content/POSITIVE/img00002048.png  \n",
            "  inflating: /content/POSITIVE/img00002049.png  \n",
            "  inflating: /content/POSITIVE/img00002050.png  \n",
            "  inflating: /content/POSITIVE/img00002051.png  \n",
            "  inflating: /content/POSITIVE/img00002052.png  \n",
            "  inflating: /content/POSITIVE/img00002053.png  \n",
            "  inflating: /content/POSITIVE/img00002054.png  \n",
            "  inflating: /content/POSITIVE/img00002055.png  \n",
            "  inflating: /content/POSITIVE/img00002056.png  \n",
            "  inflating: /content/POSITIVE/img00002057.png  \n",
            "  inflating: /content/POSITIVE/img00002058.png  \n",
            "  inflating: /content/POSITIVE/img00002059.png  \n",
            "  inflating: /content/POSITIVE/img00002060.png  \n",
            "  inflating: /content/POSITIVE/img00002061.png  \n",
            "  inflating: /content/POSITIVE/img00002062.png  \n",
            "  inflating: /content/POSITIVE/img00002063.png  \n",
            "  inflating: /content/POSITIVE/img00002064.png  \n",
            "  inflating: /content/POSITIVE/img00002065.png  \n",
            "  inflating: /content/POSITIVE/img00002066.png  \n",
            "  inflating: /content/POSITIVE/img00002067.png  \n",
            "  inflating: /content/POSITIVE/img00002068.png  \n",
            "  inflating: /content/POSITIVE/img00002069.png  \n",
            "  inflating: /content/POSITIVE/img00002070.png  \n",
            "  inflating: /content/POSITIVE/img00002071.png  \n",
            "  inflating: /content/POSITIVE/img00002072.png  \n",
            "  inflating: /content/POSITIVE/img00002073.png  \n",
            "  inflating: /content/POSITIVE/img00002074.png  \n",
            "  inflating: /content/POSITIVE/img00002075.png  \n",
            "  inflating: /content/POSITIVE/img00002076.png  \n",
            "  inflating: /content/POSITIVE/img00002077.png  \n",
            "  inflating: /content/POSITIVE/img00002078.png  \n",
            "  inflating: /content/POSITIVE/img00002079.png  \n",
            "  inflating: /content/POSITIVE/img00002080.png  \n",
            "  inflating: /content/POSITIVE/img00002081.png  \n",
            "  inflating: /content/POSITIVE/img00002082.png  \n",
            "  inflating: /content/POSITIVE/img00002083.png  \n",
            "  inflating: /content/POSITIVE/img00002084.png  \n",
            "  inflating: /content/POSITIVE/img00002085.png  \n",
            "  inflating: /content/POSITIVE/img00002086.png  \n",
            "  inflating: /content/POSITIVE/img00002087.png  \n",
            "  inflating: /content/POSITIVE/img00002088.png  \n",
            "  inflating: /content/POSITIVE/img00002089.png  \n",
            "  inflating: /content/POSITIVE/img00002090.png  \n",
            "  inflating: /content/POSITIVE/img00002091.png  \n",
            "  inflating: /content/POSITIVE/img00002092.png  \n",
            "  inflating: /content/POSITIVE/img00002093.png  \n",
            "  inflating: /content/POSITIVE/img00002094.png  \n",
            "  inflating: /content/POSITIVE/img00002095.png  \n",
            "  inflating: /content/POSITIVE/img00002096.png  \n",
            "  inflating: /content/POSITIVE/img00002097.png  \n",
            "  inflating: /content/POSITIVE/img00002098.png  \n",
            "  inflating: /content/POSITIVE/img00002099.png  \n",
            "  inflating: /content/POSITIVE/img00002100.png  \n",
            "  inflating: /content/POSITIVE/img00002101.png  \n",
            "  inflating: /content/POSITIVE/img00002102.png  \n",
            "  inflating: /content/POSITIVE/img00002103.png  \n",
            "  inflating: /content/POSITIVE/img00002104.png  \n",
            "  inflating: /content/POSITIVE/img00002105.png  \n",
            "  inflating: /content/POSITIVE/img00002106.png  \n",
            "  inflating: /content/POSITIVE/img00002107.png  \n",
            "  inflating: /content/POSITIVE/img00002108.png  \n",
            "  inflating: /content/POSITIVE/img00002109.png  \n",
            "  inflating: /content/POSITIVE/img00002110.png  \n",
            "  inflating: /content/POSITIVE/img00002111.png  \n",
            "  inflating: /content/POSITIVE/img00002112.png  \n",
            "  inflating: /content/POSITIVE/img00002113.png  \n",
            "  inflating: /content/POSITIVE/img00002114.png  \n",
            "  inflating: /content/POSITIVE/img00002115.png  \n",
            "  inflating: /content/POSITIVE/img00002116.png  \n",
            "  inflating: /content/POSITIVE/img00002117.png  \n",
            "  inflating: /content/POSITIVE/img00002118.png  \n",
            "  inflating: /content/POSITIVE/img00002119.png  \n",
            "  inflating: /content/POSITIVE/img00002120.png  \n",
            "  inflating: /content/POSITIVE/img00002121.png  \n",
            "  inflating: /content/POSITIVE/img00002122.png  \n",
            "  inflating: /content/POSITIVE/img00002123.png  \n",
            "  inflating: /content/POSITIVE/img00002124.png  \n",
            "  inflating: /content/POSITIVE/img00002125.png  \n",
            "  inflating: /content/POSITIVE/img00002126.png  \n",
            "  inflating: /content/POSITIVE/img00002127.png  \n",
            "  inflating: /content/POSITIVE/img00002128.png  \n",
            "  inflating: /content/POSITIVE/img00002129.png  \n",
            "  inflating: /content/POSITIVE/img00002130.png  \n",
            "  inflating: /content/POSITIVE/img00002131.png  \n",
            "  inflating: /content/POSITIVE/img00002132.png  \n",
            "  inflating: /content/POSITIVE/img00002133.png  \n",
            "  inflating: /content/POSITIVE/img00002134.png  \n",
            "  inflating: /content/POSITIVE/img00002135.png  \n",
            "  inflating: /content/POSITIVE/img00002136.png  \n",
            "  inflating: /content/POSITIVE/img00002137.png  \n",
            "  inflating: /content/POSITIVE/img00002138.png  \n",
            "  inflating: /content/POSITIVE/img00002139.png  \n",
            "  inflating: /content/POSITIVE/img00002140.png  \n",
            "  inflating: /content/POSITIVE/img00002141.png  \n",
            "  inflating: /content/POSITIVE/img00002142.png  \n",
            "  inflating: /content/POSITIVE/img00002143.png  \n",
            "  inflating: /content/POSITIVE/img00002144.png  \n",
            "  inflating: /content/POSITIVE/img00002145.png  \n",
            "  inflating: /content/POSITIVE/img00002146.png  \n",
            "  inflating: /content/POSITIVE/img00002147.png  \n",
            "  inflating: /content/POSITIVE/img00002148.png  \n",
            "  inflating: /content/POSITIVE/img00002149.png  \n",
            "  inflating: /content/POSITIVE/img00002150.png  \n",
            "  inflating: /content/POSITIVE/img00002151.png  \n",
            "  inflating: /content/POSITIVE/img00002152.png  \n",
            "  inflating: /content/POSITIVE/img00002153.png  \n",
            "  inflating: /content/POSITIVE/img00002154.png  \n",
            "  inflating: /content/POSITIVE/img00002155.png  \n",
            "  inflating: /content/POSITIVE/img00002156.png  \n",
            "  inflating: /content/POSITIVE/img00002157.png  \n",
            "  inflating: /content/POSITIVE/img00002158.png  \n",
            "  inflating: /content/POSITIVE/img00002159.png  \n",
            "  inflating: /content/POSITIVE/img00002160.png  \n",
            "  inflating: /content/POSITIVE/img00002161.png  \n",
            "  inflating: /content/POSITIVE/img00002162.png  \n",
            "  inflating: /content/POSITIVE/img00002163.png  \n",
            "  inflating: /content/POSITIVE/img00002164.png  \n",
            "  inflating: /content/POSITIVE/img00002165.png  \n",
            "  inflating: /content/POSITIVE/img00002166.png  \n",
            "  inflating: /content/POSITIVE/img00002167.png  \n",
            "  inflating: /content/POSITIVE/img00002168.png  \n",
            "  inflating: /content/POSITIVE/img00002169.png  \n",
            "  inflating: /content/POSITIVE/img00002170.png  \n",
            "  inflating: /content/POSITIVE/img00002171.png  \n",
            "  inflating: /content/POSITIVE/img00002172.png  \n",
            "  inflating: /content/POSITIVE/img00002173.png  \n",
            "  inflating: /content/POSITIVE/img00002174.png  \n",
            "  inflating: /content/POSITIVE/img00002175.png  \n",
            "  inflating: /content/POSITIVE/img00002176.png  \n",
            "  inflating: /content/POSITIVE/img00002177.png  \n",
            "  inflating: /content/POSITIVE/img00002178.png  \n",
            "  inflating: /content/POSITIVE/img00002179.png  \n",
            "  inflating: /content/POSITIVE/img00002180.png  \n",
            "  inflating: /content/POSITIVE/img00002181.png  \n",
            "  inflating: /content/POSITIVE/img00002182.png  \n",
            "  inflating: /content/POSITIVE/img00002183.png  \n",
            "  inflating: /content/POSITIVE/img00002184.png  \n",
            "  inflating: /content/POSITIVE/img00002185.png  \n",
            "  inflating: /content/POSITIVE/img00002186.png  \n",
            "  inflating: /content/POSITIVE/img00002187.png  \n",
            "  inflating: /content/POSITIVE/img00002188.png  \n",
            "  inflating: /content/POSITIVE/img00002189.png  \n",
            "  inflating: /content/POSITIVE/img00002190.png  \n",
            "  inflating: /content/POSITIVE/img00002191.png  \n",
            "  inflating: /content/POSITIVE/img00002192.png  \n",
            "  inflating: /content/POSITIVE/img00002193.png  \n",
            "  inflating: /content/POSITIVE/img00002194.png  \n",
            "  inflating: /content/POSITIVE/img00002195.png  \n",
            "  inflating: /content/POSITIVE/img00002196.png  \n",
            "  inflating: /content/POSITIVE/img00002197.png  \n",
            "  inflating: /content/POSITIVE/img00002198.png  \n",
            "  inflating: /content/POSITIVE/img00002199.png  \n",
            "  inflating: /content/POSITIVE/img00002200.png  \n",
            "  inflating: /content/POSITIVE/img00002201.png  \n",
            "  inflating: /content/POSITIVE/img00002202.png  \n",
            "  inflating: /content/POSITIVE/img00002203.png  \n",
            "  inflating: /content/POSITIVE/img00002204.png  \n",
            "  inflating: /content/POSITIVE/img00002205.png  \n",
            "  inflating: /content/POSITIVE/img00002206.png  \n",
            "  inflating: /content/POSITIVE/img00002207.png  \n",
            "  inflating: /content/POSITIVE/img00002208.png  \n",
            "  inflating: /content/POSITIVE/img00002209.png  \n",
            "  inflating: /content/POSITIVE/img00002210.png  \n",
            "  inflating: /content/POSITIVE/img00002211.png  \n",
            "  inflating: /content/POSITIVE/img00002212.png  \n",
            "  inflating: /content/POSITIVE/img00002213.png  \n",
            "  inflating: /content/POSITIVE/img00002214.png  \n",
            "  inflating: /content/POSITIVE/img00002215.png  \n",
            "  inflating: /content/POSITIVE/img00002216.png  \n",
            "  inflating: /content/POSITIVE/img00002217.png  \n",
            "  inflating: /content/POSITIVE/img00002218.png  \n",
            "  inflating: /content/POSITIVE/img00002219.png  \n",
            "  inflating: /content/POSITIVE/img00002220.png  \n",
            "  inflating: /content/POSITIVE/img00002221.png  \n",
            "  inflating: /content/POSITIVE/img00002222.png  \n",
            "  inflating: /content/POSITIVE/img00002223.png  \n",
            "  inflating: /content/POSITIVE/img00002224.png  \n",
            "  inflating: /content/POSITIVE/img00002225.png  \n",
            "  inflating: /content/POSITIVE/img00002226.png  \n",
            "  inflating: /content/POSITIVE/img00002227.png  \n",
            "  inflating: /content/POSITIVE/img00002228.png  \n",
            "  inflating: /content/POSITIVE/img00002229.png  \n",
            "  inflating: /content/POSITIVE/img00002230.png  \n",
            "  inflating: /content/POSITIVE/img00002231.png  \n",
            "  inflating: /content/POSITIVE/img00002232.png  \n",
            "  inflating: /content/POSITIVE/img00002233.png  \n",
            "  inflating: /content/POSITIVE/img00002234.png  \n",
            "  inflating: /content/POSITIVE/img00002235.png  \n",
            "  inflating: /content/POSITIVE/img00002236.png  \n",
            "  inflating: /content/POSITIVE/img00002237.png  \n",
            "  inflating: /content/POSITIVE/img00002238.png  \n",
            "  inflating: /content/POSITIVE/img00002239.png  \n",
            "  inflating: /content/POSITIVE/img00002240.png  \n",
            "  inflating: /content/POSITIVE/img00002241.png  \n",
            "  inflating: /content/POSITIVE/img00002242.png  \n",
            "  inflating: /content/POSITIVE/img00002243.png  \n",
            "  inflating: /content/POSITIVE/img00002244.png  \n",
            "  inflating: /content/POSITIVE/img00002245.png  \n",
            "  inflating: /content/POSITIVE/img00002246.png  \n",
            "  inflating: /content/POSITIVE/img00002247.png  \n",
            "  inflating: /content/POSITIVE/img00002248.png  \n",
            "  inflating: /content/POSITIVE/img00002249.png  \n",
            "  inflating: /content/POSITIVE/img00002250.png  \n",
            "  inflating: /content/POSITIVE/img00002251.png  \n",
            "  inflating: /content/POSITIVE/img00002252.png  \n",
            "  inflating: /content/POSITIVE/img00002253.png  \n",
            "  inflating: /content/POSITIVE/img00002254.png  \n",
            "  inflating: /content/POSITIVE/img00002255.png  \n",
            "  inflating: /content/POSITIVE/img00002256.png  \n",
            "  inflating: /content/POSITIVE/img00002257.png  \n",
            "  inflating: /content/POSITIVE/img00002258.png  \n",
            "  inflating: /content/POSITIVE/img00002259.png  \n",
            "  inflating: /content/POSITIVE/img00002260.png  \n",
            "  inflating: /content/POSITIVE/img00002261.png  \n",
            "  inflating: /content/POSITIVE/img00002262.png  \n",
            "  inflating: /content/POSITIVE/img00002263.png  \n",
            "  inflating: /content/POSITIVE/img00002264.png  \n",
            "  inflating: /content/POSITIVE/img00002265.png  \n",
            "  inflating: /content/POSITIVE/img00002266.png  \n",
            "  inflating: /content/POSITIVE/img00002267.png  \n",
            "  inflating: /content/POSITIVE/img00002268.png  \n",
            "  inflating: /content/POSITIVE/img00002269.png  \n",
            "  inflating: /content/POSITIVE/img00002270.png  \n",
            "  inflating: /content/POSITIVE/img00002271.png  \n",
            "  inflating: /content/POSITIVE/img00002272.png  \n",
            "  inflating: /content/POSITIVE/img00002273.png  \n",
            "  inflating: /content/POSITIVE/img00002274.png  \n",
            "  inflating: /content/POSITIVE/img00002275.png  \n",
            "  inflating: /content/POSITIVE/img00002276.png  \n",
            "  inflating: /content/POSITIVE/img00002277.png  \n",
            "  inflating: /content/POSITIVE/img00002278.png  \n",
            "  inflating: /content/POSITIVE/img00002279.png  \n",
            "  inflating: /content/POSITIVE/img00002280.png  \n",
            "  inflating: /content/POSITIVE/img00002281.png  \n",
            "  inflating: /content/POSITIVE/img00002282.png  \n",
            "  inflating: /content/POSITIVE/img00002283.png  \n",
            "  inflating: /content/POSITIVE/img00002284.png  \n",
            "  inflating: /content/POSITIVE/img00002285.png  \n",
            "  inflating: /content/POSITIVE/img00002286.png  \n",
            "  inflating: /content/POSITIVE/img00002287.png  \n",
            "  inflating: /content/POSITIVE/img00002288.png  \n",
            "  inflating: /content/POSITIVE/img00002289.png  \n",
            "  inflating: /content/POSITIVE/img00002290.png  \n",
            "  inflating: /content/POSITIVE/img00002291.png  \n",
            "  inflating: /content/POSITIVE/img00002292.png  \n",
            "  inflating: /content/POSITIVE/img00002293.png  \n",
            "  inflating: /content/POSITIVE/img00002294.png  \n",
            "  inflating: /content/POSITIVE/img00002295.png  \n",
            "  inflating: /content/POSITIVE/img00002296.png  \n",
            "  inflating: /content/POSITIVE/img00002297.png  \n",
            "  inflating: /content/POSITIVE/img00002298.png  \n",
            "  inflating: /content/POSITIVE/img00002299.png  \n",
            "  inflating: /content/POSITIVE/img00002300.png  \n",
            "  inflating: /content/POSITIVE/img00002301.png  \n",
            "  inflating: /content/POSITIVE/img00002302.png  \n",
            "  inflating: /content/POSITIVE/img00002303.png  \n",
            "  inflating: /content/POSITIVE/img00002304.png  \n",
            "  inflating: /content/POSITIVE/img00002305.png  \n",
            "  inflating: /content/POSITIVE/img00002306.png  \n",
            "  inflating: /content/POSITIVE/img00002307.png  \n",
            "  inflating: /content/POSITIVE/img00002308.png  \n",
            "  inflating: /content/POSITIVE/img00002309.png  \n",
            "  inflating: /content/POSITIVE/img00002310.png  \n",
            "  inflating: /content/POSITIVE/img00002311.png  \n",
            "  inflating: /content/POSITIVE/img00002312.png  \n",
            "  inflating: /content/POSITIVE/img00002313.png  \n",
            "  inflating: /content/POSITIVE/img00002314.png  \n",
            "  inflating: /content/POSITIVE/img00002315.png  \n",
            "  inflating: /content/POSITIVE/img00002316.png  \n",
            "  inflating: /content/POSITIVE/img00002317.png  \n",
            "  inflating: /content/POSITIVE/img00002318.png  \n",
            "  inflating: /content/POSITIVE/img00002319.png  \n",
            "  inflating: /content/POSITIVE/img00002320.png  \n",
            "  inflating: /content/POSITIVE/img00002321.png  \n",
            "  inflating: /content/POSITIVE/img00002322.png  \n",
            "  inflating: /content/POSITIVE/img00002323.png  \n",
            "  inflating: /content/POSITIVE/img00002324.png  \n",
            "  inflating: /content/POSITIVE/img00002325.png  \n",
            "  inflating: /content/POSITIVE/img00002326.png  \n",
            "  inflating: /content/POSITIVE/img00002327.png  \n",
            "  inflating: /content/POSITIVE/img00002328.png  \n",
            "  inflating: /content/POSITIVE/img00002329.png  \n",
            "  inflating: /content/POSITIVE/img00002330.png  \n",
            "  inflating: /content/POSITIVE/img00002331.png  \n",
            "  inflating: /content/POSITIVE/img00002332.png  \n",
            "  inflating: /content/POSITIVE/img00002333.png  \n",
            "  inflating: /content/POSITIVE/img00002334.png  \n",
            "  inflating: /content/POSITIVE/img00002335.png  \n",
            "  inflating: /content/POSITIVE/img00002336.png  \n",
            "  inflating: /content/POSITIVE/img00002337.png  \n",
            "  inflating: /content/POSITIVE/img00002338.png  \n",
            "  inflating: /content/POSITIVE/img00002339.png  \n",
            "  inflating: /content/POSITIVE/img00002340.png  \n",
            "  inflating: /content/POSITIVE/img00002341.png  \n",
            "  inflating: /content/POSITIVE/img00002342.png  \n",
            "  inflating: /content/POSITIVE/img00002343.png  \n",
            "  inflating: /content/POSITIVE/img00002344.png  \n",
            "  inflating: /content/POSITIVE/img00002345.png  \n",
            "  inflating: /content/POSITIVE/img00002346.png  \n",
            "  inflating: /content/POSITIVE/img00002347.png  \n",
            "  inflating: /content/POSITIVE/img00002348.png  \n",
            "  inflating: /content/POSITIVE/img00002349.png  \n",
            "  inflating: /content/POSITIVE/img00002350.png  \n",
            "  inflating: /content/POSITIVE/img00002351.png  \n",
            "  inflating: /content/POSITIVE/img00002352.png  \n",
            "  inflating: /content/POSITIVE/img00002353.png  \n",
            "  inflating: /content/POSITIVE/img00002354.png  \n",
            "  inflating: /content/POSITIVE/img00002355.png  \n",
            "  inflating: /content/POSITIVE/img00002356.png  \n",
            "  inflating: /content/POSITIVE/img00002357.png  \n",
            "  inflating: /content/POSITIVE/img00002358.png  \n",
            "  inflating: /content/POSITIVE/img00002359.png  \n",
            "  inflating: /content/POSITIVE/img00002360.png  \n",
            "  inflating: /content/POSITIVE/img00002361.png  \n",
            "  inflating: /content/POSITIVE/img00002362.png  \n",
            "  inflating: /content/POSITIVE/img00002363.png  \n",
            "  inflating: /content/POSITIVE/img00002364.png  \n",
            "  inflating: /content/POSITIVE/img00002365.png  \n",
            "  inflating: /content/POSITIVE/img00002366.png  \n",
            "  inflating: /content/POSITIVE/img00002367.png  \n",
            "  inflating: /content/POSITIVE/img00002368.png  \n",
            "  inflating: /content/POSITIVE/img00002369.png  \n",
            "  inflating: /content/POSITIVE/img00002370.png  \n",
            "  inflating: /content/POSITIVE/img00002371.png  \n",
            "  inflating: /content/POSITIVE/img00002372.png  \n",
            "  inflating: /content/POSITIVE/img00002373.png  \n",
            "  inflating: /content/POSITIVE/img00002374.png  \n",
            "  inflating: /content/POSITIVE/img00002375.png  \n",
            "  inflating: /content/POSITIVE/img00002376.png  \n",
            "  inflating: /content/POSITIVE/img00002377.png  \n",
            "  inflating: /content/POSITIVE/img00002378.png  \n",
            "  inflating: /content/POSITIVE/img00002379.png  \n",
            "  inflating: /content/POSITIVE/img00002380.png  \n",
            "  inflating: /content/POSITIVE/img00002381.png  \n",
            "  inflating: /content/POSITIVE/img00002382.png  \n",
            "  inflating: /content/POSITIVE/img00002383.png  \n",
            "  inflating: /content/POSITIVE/img00002384.png  \n",
            "  inflating: /content/POSITIVE/img00002385.png  \n",
            "  inflating: /content/POSITIVE/img00002386.png  \n",
            "  inflating: /content/POSITIVE/img00002387.png  \n",
            "  inflating: /content/POSITIVE/img00002388.png  \n",
            "  inflating: /content/POSITIVE/img00002389.png  \n",
            "  inflating: /content/POSITIVE/img00002390.png  \n",
            "  inflating: /content/POSITIVE/img00002391.png  \n",
            "  inflating: /content/POSITIVE/img00002392.png  \n",
            "  inflating: /content/POSITIVE/img00002393.png  \n",
            "  inflating: /content/POSITIVE/img00002394.png  \n",
            "  inflating: /content/POSITIVE/img00002395.png  \n",
            "  inflating: /content/POSITIVE/img00002396.png  \n",
            "  inflating: /content/POSITIVE/img00002397.png  \n",
            "  inflating: /content/POSITIVE/img00002398.png  \n",
            "  inflating: /content/POSITIVE/img00002399.png  \n",
            "  inflating: /content/POSITIVE/img00002400.png  \n",
            "  inflating: /content/POSITIVE/img00002401.png  \n",
            "  inflating: /content/POSITIVE/img00002402.png  \n",
            "  inflating: /content/POSITIVE/img00002403.png  \n",
            "  inflating: /content/POSITIVE/img00002404.png  \n",
            "  inflating: /content/POSITIVE/img00002405.png  \n",
            "  inflating: /content/POSITIVE/img00002406.png  \n",
            "  inflating: /content/POSITIVE/img00002407.png  \n",
            "  inflating: /content/POSITIVE/img00002408.png  \n",
            "  inflating: /content/POSITIVE/img00002409.png  \n",
            "  inflating: /content/POSITIVE/img00002410.png  \n",
            "  inflating: /content/POSITIVE/img00002411.png  \n",
            "  inflating: /content/POSITIVE/img00002412.png  \n",
            "  inflating: /content/POSITIVE/img00002413.png  \n",
            "  inflating: /content/POSITIVE/img00002414.png  \n",
            "  inflating: /content/POSITIVE/img00002415.png  \n",
            "  inflating: /content/POSITIVE/img00002416.png  \n",
            "  inflating: /content/POSITIVE/img00002417.png  \n",
            "  inflating: /content/POSITIVE/img00002418.png  \n",
            "  inflating: /content/POSITIVE/img00002419.png  \n",
            "  inflating: /content/POSITIVE/img00002420.png  \n",
            "  inflating: /content/POSITIVE/img00002421.png  \n",
            "  inflating: /content/POSITIVE/img00002422.png  \n",
            "  inflating: /content/POSITIVE/img00002423.png  \n",
            "  inflating: /content/POSITIVE/img00002424.png  \n",
            "  inflating: /content/POSITIVE/img00002425.png  \n",
            "  inflating: /content/POSITIVE/img00002426.png  \n",
            "  inflating: /content/POSITIVE/img00002427.png  \n",
            "  inflating: /content/POSITIVE/img00002428.png  \n",
            "  inflating: /content/POSITIVE/img00002429.png  \n",
            "  inflating: /content/POSITIVE/img00002430.png  \n",
            "  inflating: /content/POSITIVE/img00002431.png  \n",
            "  inflating: /content/POSITIVE/img00002432.png  \n",
            "  inflating: /content/POSITIVE/img00002433.png  \n",
            "  inflating: /content/POSITIVE/img00002434.png  \n",
            "  inflating: /content/POSITIVE/img00002435.png  \n",
            "  inflating: /content/POSITIVE/img00002436.png  \n",
            "  inflating: /content/POSITIVE/img00002437.png  \n",
            "  inflating: /content/POSITIVE/img00002438.png  \n",
            "  inflating: /content/POSITIVE/img00002439.png  \n",
            "  inflating: /content/POSITIVE/img00002440.png  \n",
            "  inflating: /content/POSITIVE/img00002441.png  \n",
            "  inflating: /content/POSITIVE/img00002442.png  \n",
            "  inflating: /content/POSITIVE/img00002443.png  \n",
            "  inflating: /content/POSITIVE/img00002444.png  \n",
            "  inflating: /content/POSITIVE/img00002445.png  \n",
            "  inflating: /content/POSITIVE/img00002446.png  \n",
            "  inflating: /content/POSITIVE/img00002447.png  \n",
            "  inflating: /content/POSITIVE/img00002448.png  \n",
            "  inflating: /content/POSITIVE/img00002449.png  \n",
            "  inflating: /content/POSITIVE/img00002450.png  \n",
            "  inflating: /content/POSITIVE/img00002451.png  \n",
            "  inflating: /content/POSITIVE/img00002452.png  \n",
            "  inflating: /content/POSITIVE/img00002453.png  \n",
            "  inflating: /content/POSITIVE/img00002454.png  \n",
            "  inflating: /content/POSITIVE/img00002455.png  \n",
            "  inflating: /content/POSITIVE/img00002456.png  \n",
            "  inflating: /content/POSITIVE/img00002457.png  \n",
            "  inflating: /content/POSITIVE/img00002458.png  \n",
            "  inflating: /content/POSITIVE/img00002459.png  \n",
            "  inflating: /content/POSITIVE/img00002460.png  \n",
            "  inflating: /content/POSITIVE/img00002461.png  \n",
            "  inflating: /content/POSITIVE/img00002462.png  \n",
            "  inflating: /content/POSITIVE/img00002463.png  \n",
            "  inflating: /content/POSITIVE/img00002464.png  \n",
            "  inflating: /content/POSITIVE/img00002465.png  \n",
            "  inflating: /content/POSITIVE/img00002466.png  \n",
            "  inflating: /content/POSITIVE/img00002467.png  \n",
            "  inflating: /content/POSITIVE/img00002468.png  \n",
            "  inflating: /content/POSITIVE/img00002469.png  \n",
            "  inflating: /content/POSITIVE/img00002470.png  \n",
            "  inflating: /content/POSITIVE/img00002471.png  \n",
            "  inflating: /content/POSITIVE/img00002472.png  \n",
            "  inflating: /content/POSITIVE/img00002473.png  \n",
            "  inflating: /content/POSITIVE/img00002474.png  \n",
            "  inflating: /content/POSITIVE/img00002475.png  \n",
            "  inflating: /content/POSITIVE/img00002476.png  \n",
            "  inflating: /content/POSITIVE/img00002477.png  \n",
            "  inflating: /content/POSITIVE/img00002478.png  \n",
            "  inflating: /content/POSITIVE/img00002479.png  \n",
            "  inflating: /content/POSITIVE/img00002480.png  \n",
            "  inflating: /content/POSITIVE/img00002481.png  \n",
            "  inflating: /content/POSITIVE/img00002482.png  \n",
            "  inflating: /content/POSITIVE/img00002483.png  \n",
            "  inflating: /content/POSITIVE/img00002484.png  \n",
            "  inflating: /content/POSITIVE/img00002485.png  \n",
            "  inflating: /content/POSITIVE/img00002486.png  \n",
            "  inflating: /content/POSITIVE/img00002487.png  \n",
            "  inflating: /content/POSITIVE/img00002488.png  \n",
            "  inflating: /content/POSITIVE/img00002489.png  \n",
            "  inflating: /content/POSITIVE/img00002490.png  \n",
            "  inflating: /content/POSITIVE/img00002491.png  \n",
            "  inflating: /content/POSITIVE/img00002492.png  \n",
            "  inflating: /content/POSITIVE/img00002493.png  \n",
            "  inflating: /content/POSITIVE/img00002494.png  \n",
            "  inflating: /content/POSITIVE/img00002495.png  \n",
            "  inflating: /content/POSITIVE/img00002496.png  \n",
            "  inflating: /content/POSITIVE/img00002497.png  \n",
            "  inflating: /content/POSITIVE/img00002498.png  \n",
            "  inflating: /content/POSITIVE/img00002499.png  \n",
            "  inflating: /content/POSITIVE/img00002500.png  \n",
            "  inflating: /content/POSITIVE/img00002501.png  \n",
            "  inflating: /content/POSITIVE/img00002502.png  \n",
            "  inflating: /content/POSITIVE/img00002503.png  \n",
            "  inflating: /content/POSITIVE/img00002504.png  \n",
            "  inflating: /content/POSITIVE/img00002505.png  \n",
            "  inflating: /content/POSITIVE/img00002506.png  \n",
            "  inflating: /content/POSITIVE/img00002507.png  \n",
            "  inflating: /content/POSITIVE/img00002508.png  \n",
            "  inflating: /content/POSITIVE/img00002509.png  \n",
            "  inflating: /content/POSITIVE/img00002510.png  \n",
            "  inflating: /content/POSITIVE/img00002511.png  \n",
            "  inflating: /content/POSITIVE/img00002512.png  \n",
            "  inflating: /content/POSITIVE/img00002513.png  \n",
            "  inflating: /content/POSITIVE/img00002514.png  \n",
            "  inflating: /content/POSITIVE/img00002515.png  \n",
            "  inflating: /content/POSITIVE/img00002516.png  \n",
            "  inflating: /content/POSITIVE/img00002517.png  \n",
            "  inflating: /content/POSITIVE/img00002518.png  \n",
            "  inflating: /content/POSITIVE/img00002519.png  \n",
            "  inflating: /content/POSITIVE/img00002520.png  \n",
            "  inflating: /content/POSITIVE/img00002521.png  \n",
            "  inflating: /content/POSITIVE/img00002522.png  \n",
            "  inflating: /content/POSITIVE/img00002523.png  \n",
            "  inflating: /content/POSITIVE/img00002524.png  \n",
            "  inflating: /content/POSITIVE/img00002525.png  \n",
            "  inflating: /content/POSITIVE/img00002526.png  \n",
            "  inflating: /content/POSITIVE/img00002527.png  \n",
            "  inflating: /content/POSITIVE/img00002528.png  \n",
            "  inflating: /content/POSITIVE/img00002529.png  \n",
            "  inflating: /content/POSITIVE/img00002530.png  \n",
            "  inflating: /content/POSITIVE/img00002531.png  \n",
            "  inflating: /content/POSITIVE/img00002532.png  \n",
            "  inflating: /content/POSITIVE/img00002533.png  \n",
            "  inflating: /content/POSITIVE/img00002534.png  \n",
            "  inflating: /content/POSITIVE/img00002535.png  \n",
            "  inflating: /content/POSITIVE/img00002536.png  \n",
            "  inflating: /content/POSITIVE/img00002537.png  \n",
            "  inflating: /content/POSITIVE/img00002538.png  \n",
            "  inflating: /content/POSITIVE/img00002539.png  \n",
            "  inflating: /content/POSITIVE/img00002540.png  \n",
            "  inflating: /content/POSITIVE/img00002541.png  \n",
            "  inflating: /content/POSITIVE/img00002542.png  \n",
            "  inflating: /content/POSITIVE/img00002543.png  \n",
            "  inflating: /content/POSITIVE/img00002544.png  \n",
            "  inflating: /content/POSITIVE/img00002545.png  \n",
            "  inflating: /content/POSITIVE/img00002546.png  \n",
            "  inflating: /content/POSITIVE/img00002547.png  \n",
            "  inflating: /content/POSITIVE/img00002548.png  \n",
            "  inflating: /content/POSITIVE/img00002549.png  \n",
            "  inflating: /content/POSITIVE/img00002550.png  \n",
            "  inflating: /content/POSITIVE/img00002551.png  \n",
            "  inflating: /content/POSITIVE/img00002552.png  \n",
            "  inflating: /content/POSITIVE/img00002553.png  \n",
            "  inflating: /content/POSITIVE/img00002554.png  \n",
            "  inflating: /content/POSITIVE/img00002555.png  \n",
            "  inflating: /content/POSITIVE/img00002556.png  \n",
            "  inflating: /content/POSITIVE/img00002557.png  \n",
            "  inflating: /content/POSITIVE/img00002558.png  \n",
            "  inflating: /content/POSITIVE/img00002559.png  \n",
            "  inflating: /content/POSITIVE/img00002560.png  \n",
            "  inflating: /content/POSITIVE/img00002561.png  \n",
            "  inflating: /content/POSITIVE/img00002562.png  \n",
            "  inflating: /content/POSITIVE/img00002563.png  \n",
            "  inflating: /content/POSITIVE/img00002564.png  \n",
            "  inflating: /content/POSITIVE/img00002565.png  \n",
            "  inflating: /content/POSITIVE/img00002566.png  \n",
            "  inflating: /content/POSITIVE/img00002567.png  \n",
            "  inflating: /content/POSITIVE/img00002568.png  \n",
            "  inflating: /content/POSITIVE/img00002569.png  \n",
            "  inflating: /content/POSITIVE/img00002570.png  \n",
            "  inflating: /content/POSITIVE/img00002571.png  \n",
            "  inflating: /content/POSITIVE/img00002572.png  \n",
            "  inflating: /content/POSITIVE/img00002573.png  \n",
            "  inflating: /content/POSITIVE/img00002574.png  \n",
            "  inflating: /content/POSITIVE/img00002575.png  \n",
            "  inflating: /content/POSITIVE/img00002576.png  \n",
            "  inflating: /content/POSITIVE/img00002577.png  \n",
            "  inflating: /content/POSITIVE/img00002578.png  \n",
            "  inflating: /content/POSITIVE/img00002579.png  \n",
            "  inflating: /content/POSITIVE/img00002580.png  \n",
            "  inflating: /content/POSITIVE/img00002581.png  \n",
            "  inflating: /content/POSITIVE/img00002582.png  \n",
            "  inflating: /content/POSITIVE/img00002583.png  \n",
            "  inflating: /content/POSITIVE/img00002584.png  \n",
            "  inflating: /content/POSITIVE/img00002585.png  \n",
            "  inflating: /content/POSITIVE/img00002586.png  \n",
            "  inflating: /content/POSITIVE/img00002587.png  \n",
            "  inflating: /content/POSITIVE/img00002588.png  \n",
            "  inflating: /content/POSITIVE/img00002589.png  \n",
            "  inflating: /content/POSITIVE/img00002590.png  \n",
            "  inflating: /content/POSITIVE/img00002591.png  \n",
            "  inflating: /content/POSITIVE/img00002592.png  \n",
            "  inflating: /content/POSITIVE/img00002593.png  \n",
            "  inflating: /content/POSITIVE/img00002594.png  \n",
            "  inflating: /content/POSITIVE/img00002595.png  \n",
            "  inflating: /content/POSITIVE/img00002596.png  \n",
            "  inflating: /content/POSITIVE/img00002597.png  \n",
            "  inflating: /content/POSITIVE/img00002598.png  \n",
            "  inflating: /content/POSITIVE/img00002599.png  \n",
            "  inflating: /content/POSITIVE/img00002600.png  \n",
            "  inflating: /content/POSITIVE/img00002601.png  \n",
            "  inflating: /content/POSITIVE/img00002602.png  \n",
            "  inflating: /content/POSITIVE/img00002603.png  \n",
            "  inflating: /content/POSITIVE/img00002604.png  \n",
            "  inflating: /content/POSITIVE/img00002605.png  \n",
            "  inflating: /content/POSITIVE/img00002606.png  \n",
            "  inflating: /content/POSITIVE/img00002607.png  \n",
            "  inflating: /content/POSITIVE/img00002608.png  \n",
            "  inflating: /content/POSITIVE/img00002609.png  \n",
            "  inflating: /content/POSITIVE/img00002610.png  \n",
            "  inflating: /content/POSITIVE/img00002611.png  \n",
            "  inflating: /content/POSITIVE/img00002612.png  \n",
            "  inflating: /content/POSITIVE/img00002613.png  \n",
            "  inflating: /content/POSITIVE/img00002614.png  \n",
            "  inflating: /content/POSITIVE/img00002615.png  \n",
            "  inflating: /content/POSITIVE/img00002616.png  \n",
            "  inflating: /content/POSITIVE/img00002617.png  \n",
            "  inflating: /content/POSITIVE/img00002618.png  \n",
            "  inflating: /content/POSITIVE/img00002619.png  \n",
            "  inflating: /content/POSITIVE/img00002620.png  \n",
            "  inflating: /content/POSITIVE/img00002621.png  \n",
            "  inflating: /content/POSITIVE/img00002622.png  \n",
            "  inflating: /content/POSITIVE/img00002623.png  \n",
            "  inflating: /content/POSITIVE/img00002624.png  \n",
            "  inflating: /content/POSITIVE/img00002625.png  \n",
            "  inflating: /content/POSITIVE/img00002626.png  \n",
            "  inflating: /content/POSITIVE/img00002627.png  \n",
            "  inflating: /content/POSITIVE/img00002628.png  \n",
            "  inflating: /content/POSITIVE/img00002629.png  \n",
            "  inflating: /content/POSITIVE/img00002630.png  \n",
            "  inflating: /content/POSITIVE/img00002631.png  \n",
            "  inflating: /content/POSITIVE/img00002632.png  \n",
            "  inflating: /content/POSITIVE/img00002633.png  \n",
            "  inflating: /content/POSITIVE/img00002634.png  \n",
            "  inflating: /content/POSITIVE/img00002635.png  \n",
            "  inflating: /content/POSITIVE/img00002636.png  \n",
            "  inflating: /content/POSITIVE/img00002637.png  \n",
            "  inflating: /content/POSITIVE/img00002638.png  \n",
            "  inflating: /content/POSITIVE/img00002639.png  \n",
            "  inflating: /content/POSITIVE/img00002640.png  \n",
            "  inflating: /content/POSITIVE/img00002641.png  \n",
            "  inflating: /content/POSITIVE/img00002642.png  \n",
            "  inflating: /content/POSITIVE/img00002643.png  \n",
            "  inflating: /content/POSITIVE/img00002644.png  \n",
            "  inflating: /content/POSITIVE/img00002645.png  \n",
            "  inflating: /content/POSITIVE/img00002646.png  \n",
            "  inflating: /content/POSITIVE/img00002647.png  \n",
            "  inflating: /content/POSITIVE/img00002648.png  \n",
            "  inflating: /content/POSITIVE/img00002649.png  \n",
            "  inflating: /content/POSITIVE/img00002650.png  \n",
            "  inflating: /content/POSITIVE/img00002651.png  \n",
            "  inflating: /content/POSITIVE/img00002652.png  \n",
            "  inflating: /content/POSITIVE/img00002653.png  \n",
            "  inflating: /content/POSITIVE/img00002654.png  \n",
            "  inflating: /content/POSITIVE/img00002655.png  \n",
            "  inflating: /content/POSITIVE/img00002656.png  \n",
            "  inflating: /content/POSITIVE/img00002657.png  \n",
            "  inflating: /content/POSITIVE/img00002658.png  \n",
            "  inflating: /content/POSITIVE/img00002659.png  \n",
            "  inflating: /content/POSITIVE/img00002660.png  \n",
            "  inflating: /content/POSITIVE/img00002661.png  \n",
            "  inflating: /content/POSITIVE/img00002662.png  \n",
            "  inflating: /content/POSITIVE/img00002663.png  \n",
            "  inflating: /content/POSITIVE/img00002664.png  \n",
            "  inflating: /content/POSITIVE/img00002665.png  \n",
            "  inflating: /content/POSITIVE/img00002666.png  \n",
            "  inflating: /content/POSITIVE/img00002667.png  \n",
            "  inflating: /content/POSITIVE/img00002668.png  \n",
            "  inflating: /content/POSITIVE/img00002669.png  \n",
            "  inflating: /content/POSITIVE/img00002670.png  \n",
            "  inflating: /content/POSITIVE/img00002671.png  \n",
            "  inflating: /content/POSITIVE/img00002672.png  \n",
            "  inflating: /content/POSITIVE/img00002673.png  \n",
            "  inflating: /content/POSITIVE/img00002674.png  \n",
            "  inflating: /content/POSITIVE/img00002675.png  \n",
            "  inflating: /content/POSITIVE/img00002676.png  \n",
            "  inflating: /content/POSITIVE/img00002677.png  \n",
            "  inflating: /content/POSITIVE/img00002678.png  \n",
            "  inflating: /content/POSITIVE/img00002679.png  \n",
            "  inflating: /content/POSITIVE/img00002680.png  \n",
            "  inflating: /content/POSITIVE/img00002681.png  \n",
            "  inflating: /content/POSITIVE/img00002682.png  \n",
            "  inflating: /content/POSITIVE/img00002683.png  \n",
            "  inflating: /content/POSITIVE/img00002684.png  \n",
            "  inflating: /content/POSITIVE/img00002685.png  \n",
            "  inflating: /content/POSITIVE/img00002686.png  \n",
            "  inflating: /content/POSITIVE/img00002687.png  \n",
            "  inflating: /content/POSITIVE/img00002688.png  \n",
            "  inflating: /content/POSITIVE/img00002689.png  \n",
            "  inflating: /content/POSITIVE/img00002690.png  \n",
            "  inflating: /content/POSITIVE/img00002691.png  \n",
            "  inflating: /content/POSITIVE/img00002692.png  \n",
            "  inflating: /content/POSITIVE/img00002693.png  \n",
            "  inflating: /content/POSITIVE/img00002694.png  \n",
            "  inflating: /content/POSITIVE/img00002695.png  \n",
            "  inflating: /content/POSITIVE/img00002696.png  \n",
            "  inflating: /content/POSITIVE/img00002697.png  \n",
            "  inflating: /content/POSITIVE/img00002698.png  \n",
            "  inflating: /content/POSITIVE/img00002699.png  \n",
            "  inflating: /content/POSITIVE/img00002700.png  \n",
            "  inflating: /content/POSITIVE/img00002701.png  \n",
            "  inflating: /content/POSITIVE/img00002702.png  \n",
            "  inflating: /content/POSITIVE/img00002703.png  \n",
            "  inflating: /content/POSITIVE/img00002704.png  \n",
            "  inflating: /content/POSITIVE/img00002705.png  \n",
            "  inflating: /content/POSITIVE/img00002706.png  \n",
            "  inflating: /content/POSITIVE/img00002707.png  \n",
            "  inflating: /content/POSITIVE/img00002708.png  \n",
            "  inflating: /content/POSITIVE/img00002709.png  \n",
            "  inflating: /content/POSITIVE/img00002710.png  \n",
            "  inflating: /content/POSITIVE/img00002711.png  \n",
            "  inflating: /content/POSITIVE/img00002712.png  \n",
            "  inflating: /content/POSITIVE/img00002713.png  \n",
            "  inflating: /content/POSITIVE/img00002714.png  \n",
            "  inflating: /content/POSITIVE/img00002715.png  \n",
            "  inflating: /content/POSITIVE/img00002716.png  \n",
            "  inflating: /content/POSITIVE/img00002717.png  \n",
            "  inflating: /content/POSITIVE/img00002718.png  \n",
            "  inflating: /content/POSITIVE/img00002719.png  \n",
            "  inflating: /content/POSITIVE/img00002720.png  \n",
            "  inflating: /content/POSITIVE/img00002721.png  \n",
            "  inflating: /content/POSITIVE/img00002722.png  \n",
            "  inflating: /content/POSITIVE/img00002723.png  \n",
            "  inflating: /content/POSITIVE/img00002724.png  \n",
            "  inflating: /content/POSITIVE/img00002725.png  \n",
            "  inflating: /content/POSITIVE/img00002726.png  \n",
            "  inflating: /content/POSITIVE/img00002727.png  \n",
            "  inflating: /content/POSITIVE/img00002728.png  \n",
            "  inflating: /content/POSITIVE/img00002729.png  \n",
            "  inflating: /content/POSITIVE/img00002730.png  \n",
            "  inflating: /content/POSITIVE/img00002731.png  \n",
            "  inflating: /content/POSITIVE/img00002732.png  \n",
            "  inflating: /content/POSITIVE/img00002733.png  \n",
            "  inflating: /content/POSITIVE/img00002734.png  \n",
            "  inflating: /content/POSITIVE/img00002735.png  \n",
            "  inflating: /content/POSITIVE/img00002736.png  \n",
            "  inflating: /content/POSITIVE/img00002737.png  \n",
            "  inflating: /content/POSITIVE/img00002738.png  \n",
            "  inflating: /content/POSITIVE/img00002739.png  \n",
            "  inflating: /content/POSITIVE/img00002740.png  \n",
            "  inflating: /content/POSITIVE/img00002741.png  \n",
            "  inflating: /content/POSITIVE/img00002742.png  \n",
            "  inflating: /content/POSITIVE/img00002743.png  \n",
            "  inflating: /content/POSITIVE/img00002744.png  \n",
            "  inflating: /content/POSITIVE/img00002745.png  \n",
            "  inflating: /content/POSITIVE/img00002746.png  \n",
            "  inflating: /content/POSITIVE/img00002747.png  \n",
            "  inflating: /content/POSITIVE/img00002748.png  \n",
            "  inflating: /content/POSITIVE/img00002749.png  \n",
            "  inflating: /content/POSITIVE/img00002750.png  \n",
            "  inflating: /content/POSITIVE/img00002751.png  \n",
            "  inflating: /content/POSITIVE/img00002752.png  \n",
            "  inflating: /content/POSITIVE/img00002753.png  \n",
            "  inflating: /content/POSITIVE/img00002754.png  \n",
            "  inflating: /content/POSITIVE/img00002755.png  \n",
            "  inflating: /content/POSITIVE/img00002756.png  \n",
            "  inflating: /content/POSITIVE/img00002757.png  \n",
            "  inflating: /content/POSITIVE/img00002758.png  \n",
            "  inflating: /content/POSITIVE/img00002759.png  \n",
            "  inflating: /content/POSITIVE/img00002760.png  \n",
            "  inflating: /content/POSITIVE/img00002761.png  \n",
            "  inflating: /content/POSITIVE/img00002762.png  \n",
            "  inflating: /content/POSITIVE/img00002763.png  \n",
            "  inflating: /content/POSITIVE/img00002764.png  \n",
            "  inflating: /content/POSITIVE/img00002765.png  \n",
            "  inflating: /content/POSITIVE/img00002766.png  \n",
            "  inflating: /content/POSITIVE/img00002767.png  \n",
            "  inflating: /content/POSITIVE/img00002768.png  \n",
            "  inflating: /content/POSITIVE/img00002769.png  \n",
            "  inflating: /content/POSITIVE/img00002770.png  \n",
            "  inflating: /content/POSITIVE/img00002771.png  \n",
            "  inflating: /content/POSITIVE/img00002772.png  \n",
            "  inflating: /content/POSITIVE/img00002773.png  \n",
            "  inflating: /content/POSITIVE/img00002774.png  \n",
            "  inflating: /content/POSITIVE/img00002775.png  \n",
            "  inflating: /content/POSITIVE/img00002776.png  \n",
            "  inflating: /content/POSITIVE/img00002777.png  \n",
            "  inflating: /content/POSITIVE/img00002778.png  \n",
            "  inflating: /content/POSITIVE/img00002779.png  \n",
            "  inflating: /content/POSITIVE/img00002780.png  \n",
            "  inflating: /content/POSITIVE/img00002781.png  \n",
            "  inflating: /content/POSITIVE/img00002782.png  \n",
            "  inflating: /content/POSITIVE/img00002783.png  \n",
            "  inflating: /content/POSITIVE/img00002784.png  \n",
            "  inflating: /content/POSITIVE/img00002785.png  \n",
            "  inflating: /content/POSITIVE/img00002786.png  \n",
            "  inflating: /content/POSITIVE/img00002787.png  \n",
            "  inflating: /content/POSITIVE/img00002788.png  \n",
            "  inflating: /content/POSITIVE/img00002789.png  \n",
            "  inflating: /content/POSITIVE/img00002790.png  \n",
            "  inflating: /content/POSITIVE/img00002791.png  \n",
            "  inflating: /content/POSITIVE/img00002792.png  \n",
            "  inflating: /content/POSITIVE/img00002793.png  \n",
            "  inflating: /content/POSITIVE/img00002794.png  \n",
            "  inflating: /content/POSITIVE/img00002795.png  \n",
            "  inflating: /content/POSITIVE/img00002796.png  \n",
            "  inflating: /content/POSITIVE/img00002797.png  \n",
            "  inflating: /content/POSITIVE/img00002798.png  \n",
            "  inflating: /content/POSITIVE/img00002799.png  \n",
            "  inflating: /content/POSITIVE/img00002800.png  \n",
            "  inflating: /content/POSITIVE/img00002801.png  \n",
            "  inflating: /content/POSITIVE/img00002802.png  \n",
            "  inflating: /content/POSITIVE/img00002803.png  \n",
            "  inflating: /content/POSITIVE/img00002804.png  \n",
            "  inflating: /content/POSITIVE/img00002805.png  \n",
            "  inflating: /content/POSITIVE/img00002806.png  \n",
            "  inflating: /content/POSITIVE/img00002807.png  \n",
            "  inflating: /content/POSITIVE/img00002808.png  \n",
            "  inflating: /content/POSITIVE/img00002809.png  \n",
            "  inflating: /content/POSITIVE/img00002810.png  \n",
            "  inflating: /content/POSITIVE/img00002811.png  \n",
            "  inflating: /content/POSITIVE/img00002812.png  \n",
            "  inflating: /content/POSITIVE/img00002813.png  \n",
            "  inflating: /content/POSITIVE/img00002814.png  \n",
            "  inflating: /content/POSITIVE/img00002815.png  \n",
            "  inflating: /content/POSITIVE/img00002816.png  \n",
            "  inflating: /content/POSITIVE/img00002817.png  \n",
            "  inflating: /content/POSITIVE/img00002818.png  \n",
            "  inflating: /content/POSITIVE/img00002819.png  \n",
            "  inflating: /content/POSITIVE/img00002820.png  \n",
            "  inflating: /content/POSITIVE/img00002821.png  \n",
            "  inflating: /content/POSITIVE/img00002822.png  \n",
            "  inflating: /content/POSITIVE/img00002823.png  \n",
            "  inflating: /content/POSITIVE/img00002824.png  \n",
            "  inflating: /content/POSITIVE/img00002825.png  \n",
            "  inflating: /content/POSITIVE/img00002826.png  \n",
            "  inflating: /content/POSITIVE/img00002827.png  \n",
            "  inflating: /content/POSITIVE/img00002828.png  \n",
            "  inflating: /content/POSITIVE/img00002829.png  \n",
            "  inflating: /content/POSITIVE/img00002830.png  \n",
            "  inflating: /content/POSITIVE/img00002831.png  \n",
            "  inflating: /content/POSITIVE/img00002832.png  \n",
            "  inflating: /content/POSITIVE/img00002833.png  \n",
            "  inflating: /content/POSITIVE/img00002834.png  \n",
            "  inflating: /content/POSITIVE/img00002835.png  \n",
            "  inflating: /content/POSITIVE/img00002836.png  \n",
            "  inflating: /content/POSITIVE/img00002837.png  \n",
            "  inflating: /content/POSITIVE/img00002838.png  \n",
            "  inflating: /content/POSITIVE/img00002839.png  \n",
            "  inflating: /content/POSITIVE/img00002840.png  \n",
            "  inflating: /content/POSITIVE/img00002841.png  \n",
            "  inflating: /content/POSITIVE/img00002842.png  \n",
            "  inflating: /content/POSITIVE/img00002843.png  \n",
            "  inflating: /content/POSITIVE/img00002844.png  \n",
            "  inflating: /content/POSITIVE/img00002845.png  \n",
            "  inflating: /content/POSITIVE/img00002846.png  \n",
            "  inflating: /content/POSITIVE/img00002847.png  \n",
            "  inflating: /content/POSITIVE/img00002848.png  \n",
            "  inflating: /content/POSITIVE/img00002849.png  \n",
            "  inflating: /content/POSITIVE/img00002850.png  \n",
            "  inflating: /content/POSITIVE/img00002851.png  \n",
            "  inflating: /content/POSITIVE/img00002852.png  \n",
            "  inflating: /content/POSITIVE/img00002853.png  \n",
            "  inflating: /content/POSITIVE/img00002854.png  \n",
            "  inflating: /content/POSITIVE/img00002855.png  \n",
            "  inflating: /content/POSITIVE/img00002856.png  \n",
            "  inflating: /content/POSITIVE/img00002857.png  \n",
            "  inflating: /content/POSITIVE/img00002858.png  \n",
            "  inflating: /content/POSITIVE/img00002859.png  \n",
            "  inflating: /content/POSITIVE/img00002860.png  \n",
            "  inflating: /content/POSITIVE/img00002861.png  \n",
            "  inflating: /content/POSITIVE/img00002862.png  \n",
            "  inflating: /content/POSITIVE/img00002863.png  \n",
            "  inflating: /content/POSITIVE/img00002864.png  \n",
            "  inflating: /content/POSITIVE/img00002865.png  \n",
            "  inflating: /content/POSITIVE/img00002866.png  \n",
            "  inflating: /content/POSITIVE/img00002867.png  \n",
            "  inflating: /content/POSITIVE/img00002868.png  \n",
            "  inflating: /content/POSITIVE/img00002869.png  \n",
            "  inflating: /content/POSITIVE/img00002870.png  \n",
            "  inflating: /content/POSITIVE/img00002871.png  \n",
            "  inflating: /content/POSITIVE/img00002872.png  \n",
            "  inflating: /content/POSITIVE/img00002873.png  \n",
            "  inflating: /content/POSITIVE/img00002874.png  \n",
            "  inflating: /content/POSITIVE/img00002875.png  \n",
            "  inflating: /content/POSITIVE/img00002876.png  \n",
            "  inflating: /content/POSITIVE/img00002877.png  \n",
            "  inflating: /content/POSITIVE/img00002878.png  \n",
            "  inflating: /content/POSITIVE/img00002879.png  \n",
            "  inflating: /content/POSITIVE/img00002880.png  \n",
            "  inflating: /content/POSITIVE/img00002881.png  \n",
            "  inflating: /content/POSITIVE/img00002882.png  \n",
            "  inflating: /content/POSITIVE/img00002883.png  \n",
            "  inflating: /content/POSITIVE/img00002884.png  \n",
            "  inflating: /content/POSITIVE/img00002885.png  \n",
            "  inflating: /content/POSITIVE/img00002886.png  \n",
            "  inflating: /content/POSITIVE/img00002887.png  \n",
            "  inflating: /content/POSITIVE/img00002888.png  \n",
            "  inflating: /content/POSITIVE/img00002889.png  \n",
            "  inflating: /content/POSITIVE/img00002890.png  \n",
            "  inflating: /content/POSITIVE/img00002891.png  \n",
            "  inflating: /content/POSITIVE/img00002892.png  \n",
            "  inflating: /content/POSITIVE/img00002893.png  \n",
            "  inflating: /content/POSITIVE/img00002894.png  \n",
            "  inflating: /content/POSITIVE/img00002895.png  \n",
            "  inflating: /content/POSITIVE/img00002896.png  \n",
            "  inflating: /content/POSITIVE/img00002897.png  \n",
            "  inflating: /content/POSITIVE/img00002898.png  \n",
            "  inflating: /content/POSITIVE/img00002899.png  \n",
            "  inflating: /content/POSITIVE/img00002900.png  \n",
            "  inflating: /content/POSITIVE/img00002901.png  \n",
            "  inflating: /content/POSITIVE/img00002902.png  \n",
            "  inflating: /content/POSITIVE/img00002903.png  \n",
            "  inflating: /content/POSITIVE/img00002904.png  \n",
            "  inflating: /content/POSITIVE/img00002905.png  \n",
            "  inflating: /content/POSITIVE/img00002906.png  \n",
            "  inflating: /content/POSITIVE/img00002907.png  \n",
            "  inflating: /content/POSITIVE/img00002908.png  \n",
            "  inflating: /content/POSITIVE/img00002909.png  \n",
            "  inflating: /content/POSITIVE/img00002910.png  \n",
            "  inflating: /content/POSITIVE/img00002911.png  \n",
            "  inflating: /content/POSITIVE/img00002912.png  \n",
            "  inflating: /content/POSITIVE/img00002913.png  \n",
            "  inflating: /content/POSITIVE/img00002914.png  \n",
            "  inflating: /content/POSITIVE/img00002915.png  \n",
            "  inflating: /content/POSITIVE/img00002916.png  \n",
            "  inflating: /content/POSITIVE/img00002917.png  \n",
            "  inflating: /content/POSITIVE/img00002918.png  \n",
            "  inflating: /content/POSITIVE/img00002919.png  \n",
            "  inflating: /content/POSITIVE/img00002920.png  \n",
            "  inflating: /content/POSITIVE/img00002921.png  \n",
            "  inflating: /content/POSITIVE/img00002922.png  \n",
            "  inflating: /content/POSITIVE/img00002923.png  \n",
            "  inflating: /content/POSITIVE/img00002924.png  \n",
            "  inflating: /content/POSITIVE/img00002925.png  \n",
            "  inflating: /content/POSITIVE/img00002926.png  \n",
            "  inflating: /content/POSITIVE/img00002927.png  \n",
            "  inflating: /content/POSITIVE/img00002928.png  \n",
            "  inflating: /content/POSITIVE/img00002929.png  \n",
            "  inflating: /content/POSITIVE/img00002930.png  \n",
            "  inflating: /content/POSITIVE/img00002931.png  \n",
            "  inflating: /content/POSITIVE/img00002932.png  \n",
            "  inflating: /content/POSITIVE/img00002933.png  \n",
            "  inflating: /content/POSITIVE/img00002934.png  \n",
            "  inflating: /content/POSITIVE/img00002935.png  \n",
            "  inflating: /content/POSITIVE/img00002936.png  \n",
            "  inflating: /content/POSITIVE/img00002937.png  \n",
            "  inflating: /content/POSITIVE/img00002938.png  \n",
            "  inflating: /content/POSITIVE/img00002939.png  \n",
            "  inflating: /content/POSITIVE/img00002940.png  \n",
            "  inflating: /content/POSITIVE/img00002941.png  \n",
            "  inflating: /content/POSITIVE/img00002942.png  \n",
            "  inflating: /content/POSITIVE/img00002943.png  \n",
            "  inflating: /content/POSITIVE/img00002944.png  \n",
            "  inflating: /content/POSITIVE/img00002945.png  \n",
            "  inflating: /content/POSITIVE/img00002946.png  \n",
            "  inflating: /content/POSITIVE/img00002947.png  \n",
            "  inflating: /content/POSITIVE/img00002948.png  \n",
            "  inflating: /content/POSITIVE/img00002949.png  \n",
            "  inflating: /content/POSITIVE/img00002950.png  \n",
            "  inflating: /content/POSITIVE/img00002951.png  \n",
            "  inflating: /content/POSITIVE/img00002952.png  \n",
            "  inflating: /content/POSITIVE/img00002953.png  \n",
            "  inflating: /content/POSITIVE/img00002954.png  \n",
            "  inflating: /content/POSITIVE/img00002955.png  \n",
            "  inflating: /content/POSITIVE/img00002956.png  \n",
            "  inflating: /content/POSITIVE/img00002957.png  \n",
            "  inflating: /content/POSITIVE/img00002958.png  \n",
            "  inflating: /content/POSITIVE/img00002959.png  \n",
            "  inflating: /content/POSITIVE/img00002960.png  \n",
            "  inflating: /content/POSITIVE/img00002961.png  \n",
            "  inflating: /content/POSITIVE/img00002962.png  \n",
            "  inflating: /content/POSITIVE/img00002963.png  \n",
            "  inflating: /content/POSITIVE/img00002964.png  \n",
            "  inflating: /content/POSITIVE/img00002965.png  \n",
            "  inflating: /content/POSITIVE/img00002966.png  \n",
            "  inflating: /content/POSITIVE/img00002967.png  \n",
            "  inflating: /content/POSITIVE/img00002968.png  \n",
            "  inflating: /content/POSITIVE/img00002969.png  \n",
            "  inflating: /content/POSITIVE/img00002970.png  \n",
            "  inflating: /content/POSITIVE/img00002971.png  \n",
            "  inflating: /content/POSITIVE/img00002972.png  \n",
            "  inflating: /content/POSITIVE/img00002973.png  \n",
            "  inflating: /content/POSITIVE/img00002974.png  \n",
            "  inflating: /content/POSITIVE/img00002975.png  \n",
            "  inflating: /content/POSITIVE/img00002976.png  \n",
            "  inflating: /content/POSITIVE/img00002977.png  \n",
            "  inflating: /content/POSITIVE/img00002978.png  \n",
            "  inflating: /content/POSITIVE/img00002979.png  \n",
            "  inflating: /content/POSITIVE/img00002980.png  \n",
            "  inflating: /content/POSITIVE/img00002981.png  \n",
            "  inflating: /content/POSITIVE/img00002982.png  \n",
            "  inflating: /content/POSITIVE/img00002983.png  \n",
            "  inflating: /content/POSITIVE/img00002984.png  \n",
            "  inflating: /content/POSITIVE/img00002985.png  \n",
            "  inflating: /content/POSITIVE/img00002986.png  \n",
            "  inflating: /content/POSITIVE/img00002987.png  \n",
            "  inflating: /content/POSITIVE/img00002988.png  \n",
            "  inflating: /content/POSITIVE/img00002989.png  \n",
            "  inflating: /content/POSITIVE/img00002990.png  \n",
            "  inflating: /content/POSITIVE/img00002991.png  \n",
            "  inflating: /content/POSITIVE/img00002992.png  \n",
            "  inflating: /content/POSITIVE/img00002993.png  \n",
            "  inflating: /content/POSITIVE/img00002994.png  \n",
            "  inflating: /content/POSITIVE/img00002995.png  \n",
            "  inflating: /content/POSITIVE/img00002996.png  \n",
            "  inflating: /content/POSITIVE/img00002997.png  \n",
            "  inflating: /content/POSITIVE/img00002998.png  \n",
            "  inflating: /content/POSITIVE/img00002999.png  \n",
            "  inflating: /content/POSITIVE/img00003000.png  \n",
            "  inflating: /content/POSITIVE/img00003001.png  \n",
            "  inflating: /content/POSITIVE/img00003002.png  \n",
            "  inflating: /content/POSITIVE/img00003003.png  \n",
            "  inflating: /content/POSITIVE/img00003004.png  \n",
            "  inflating: /content/POSITIVE/img00003005.png  \n",
            "  inflating: /content/POSITIVE/img00003006.png  \n",
            "  inflating: /content/POSITIVE/img00003007.png  \n",
            "  inflating: /content/POSITIVE/img00003008.png  \n",
            "  inflating: /content/POSITIVE/img00003009.png  \n",
            "  inflating: /content/POSITIVE/img00003010.png  \n",
            "  inflating: /content/POSITIVE/img00003011.png  \n",
            "  inflating: /content/POSITIVE/img00003012.png  \n",
            "  inflating: /content/POSITIVE/img00003013.png  \n",
            "  inflating: /content/POSITIVE/img00003014.png  \n",
            "  inflating: /content/POSITIVE/img00003015.png  \n",
            "  inflating: /content/POSITIVE/img00003016.png  \n",
            "  inflating: /content/POSITIVE/img00003017.png  \n",
            "  inflating: /content/POSITIVE/img00003018.png  \n",
            "  inflating: /content/POSITIVE/img00003019.png  \n",
            "  inflating: /content/POSITIVE/img00003020.png  \n",
            "  inflating: /content/POSITIVE/img00003021.png  \n",
            "  inflating: /content/POSITIVE/img00003022.png  \n",
            "  inflating: /content/POSITIVE/img00003023.png  \n",
            "  inflating: /content/POSITIVE/img00003024.png  \n",
            "  inflating: /content/POSITIVE/img00003025.png  \n",
            "  inflating: /content/POSITIVE/img00003026.png  \n",
            "  inflating: /content/POSITIVE/img00003027.png  \n",
            "  inflating: /content/POSITIVE/img00003028.png  \n",
            "  inflating: /content/POSITIVE/img00003029.png  \n",
            "  inflating: /content/POSITIVE/img00003030.png  \n",
            "  inflating: /content/POSITIVE/img00003031.png  \n",
            "  inflating: /content/POSITIVE/img00003032.png  \n",
            "  inflating: /content/POSITIVE/img00003033.png  \n",
            "  inflating: /content/POSITIVE/img00003034.png  \n",
            "  inflating: /content/POSITIVE/img00003035.png  \n",
            "  inflating: /content/POSITIVE/img00003036.png  \n",
            "  inflating: /content/POSITIVE/img00003037.png  \n",
            "  inflating: /content/POSITIVE/img00003038.png  \n",
            "  inflating: /content/POSITIVE/img00003039.png  \n",
            "  inflating: /content/POSITIVE/img00003040.png  \n",
            "  inflating: /content/POSITIVE/img00003041.png  \n",
            "  inflating: /content/POSITIVE/img00003042.png  \n",
            "  inflating: /content/POSITIVE/img00003043.png  \n",
            "  inflating: /content/POSITIVE/img00003044.png  \n",
            "  inflating: /content/POSITIVE/img00003045.png  \n",
            "  inflating: /content/POSITIVE/img00003046.png  \n",
            "  inflating: /content/POSITIVE/img00003047.png  \n",
            "  inflating: /content/POSITIVE/img00003048.png  \n",
            "  inflating: /content/POSITIVE/img00003049.png  \n",
            "  inflating: /content/POSITIVE/img00003050.png  \n",
            "  inflating: /content/POSITIVE/img00003051.png  \n",
            "  inflating: /content/POSITIVE/img00003052.png  \n",
            "  inflating: /content/POSITIVE/img00003053.png  \n",
            "  inflating: /content/POSITIVE/img00003054.png  \n",
            "  inflating: /content/POSITIVE/img00003055.png  \n",
            "  inflating: /content/POSITIVE/img00003056.png  \n",
            "  inflating: /content/POSITIVE/img00003057.png  \n",
            "  inflating: /content/POSITIVE/img00003058.png  \n",
            "  inflating: /content/POSITIVE/img00003059.png  \n"
          ]
        }
      ],
      "source": [
        "!unzip /content/drive/MyDrive/Licenta/NEGATIVE.zip  -d /content\n",
        "!unzip /content/drive/MyDrive/Licenta/POSITIVE.zip  -d /content\n",
        "!unzip /content/drive/MyDrive/Licenta/POSITIVEGAN.zip  -d /content"
      ]
    },
    {
      "cell_type": "code",
      "execution_count": null,
      "metadata": {
        "colab": {
          "base_uri": "https://localhost:8080/"
        },
        "id": "nHsLyVkREyXj",
        "outputId": "5039a707-0579-4ffa-cf54-d712916dafe0"
      },
      "outputs": [
        {
          "name": "stdout",
          "output_type": "stream",
          "text": [
            "Mounted at /content/drive\n"
          ]
        }
      ],
      "source": [
        "from google.colab import drive\n",
        "drive.mount('/content/drive')"
      ]
    },
    {
      "cell_type": "code",
      "execution_count": null,
      "metadata": {
        "colab": {
          "base_uri": "https://localhost:8080/"
        },
        "id": "lEFrq9vszh8M",
        "outputId": "aef38ee5-3298-4453-82b5-1db06ff772f2"
      },
      "outputs": [
        {
          "name": "stdout",
          "output_type": "stream",
          "text": [
            "Training set: 36866 images\n",
            "Validation set: 12289 images\n",
            "Test set: 5462 images\n"
          ]
        }
      ],
      "source": [
        "import pandas as pd\n",
        "import os\n",
        "from sklearn.model_selection import train_test_split\n",
        "\n",
        "\n",
        "\n",
        "data_dir = '/content/content/Licenta/Processed_RSNA2/'\n",
        "\n",
        "# Get list of all image file paths\n",
        "image_paths = []\n",
        "for root, dirs, files in os.walk(data_dir):\n",
        "    for file in files:\n",
        "        if file.endswith('.png'):\n",
        "            image_paths.append(os.path.join(root, file))\n",
        "\n",
        "# Generate labels from file paths\n",
        "labels = [os.path.basename(os.path.dirname(path)) for path in image_paths]\n",
        "\n",
        "# Split data into training and test sets\n",
        "train_paths, test_paths, train_labels, test_labels = train_test_split(image_paths, labels, test_size=0.1) #, random_state=40\n",
        "\n",
        "# Split training data into training and validation sets\n",
        "train_paths, val_paths, train_labels, val_labels = train_test_split(train_paths, train_labels, test_size=0.25) #, random_state=40\n",
        "\n",
        "# Create a DataFrame to store the file paths and labels\n",
        "train_df = pd.DataFrame({\n",
        "    'path': train_paths,\n",
        "    'label': train_labels\n",
        "})\n",
        "val_df = pd.DataFrame({\n",
        "    'path': val_paths,\n",
        "    'label': val_labels\n",
        "})\n",
        "test_df = pd.DataFrame({\n",
        "    'path': test_paths,\n",
        "    'label': test_labels\n",
        "})\n",
        "\n",
        "# Print number of images in each set\n",
        "print(f'Training set: {len(train_df)} images')\n",
        "print(f'Validation set: {len(val_df)} images')\n",
        "print(f'Test set: {len(test_df)} images')"
      ]
    },
    {
      "cell_type": "code",
      "execution_count": null,
      "metadata": {
        "colab": {
          "base_uri": "https://localhost:8080/"
        },
        "id": "sI6cepKGiaYH",
        "outputId": "a11d3702-29ef-45e4-f3a2-a7d8a38ccfbd"
      },
      "outputs": [
        {
          "name": "stdout",
          "output_type": "stream",
          "text": [
            "                                                   path     label\n",
            "0     /content/content/Licenta/Processed_RSNA2/LCC/N...  NEGATIVE\n",
            "1     /content/content/Licenta/Processed_RSNA2/LCC/N...  NEGATIVE\n",
            "2     /content/content/Licenta/Processed_RSNA2/LCC/N...  NEGATIVE\n",
            "3     /content/content/Licenta/Processed_RSNA2/LCC/N...  NEGATIVE\n",
            "4     /content/content/Licenta/Processed_RSNA2/LCC/N...  NEGATIVE\n",
            "...                                                 ...       ...\n",
            "8497  /content/content/Licenta/Processed_RSNA2/LCC/N...  NEGATIVE\n",
            "8498  /content/content/Licenta/Processed_RSNA2/LCC/N...  NEGATIVE\n",
            "8499  /content/content/Licenta/Processed_RSNA2/LCC/N...  NEGATIVE\n",
            "8500  /content/content/Licenta/Processed_RSNA2/LCC/N...  NEGATIVE\n",
            "8501  /content/content/Licenta/Processed_RSNA2/LCC/N...  NEGATIVE\n",
            "\n",
            "[8502 rows x 2 columns]\n"
          ]
        }
      ],
      "source": [
        "print(train_df)"
      ]
    },
    {
      "cell_type": "code",
      "execution_count": null,
      "metadata": {
        "colab": {
          "base_uri": "https://localhost:8080/"
        },
        "id": "MAl1Lw0kzh6V",
        "outputId": "63b1bc13-578d-42b3-c08f-e4eb6b1b37cf"
      },
      "outputs": [
        {
          "name": "stdout",
          "output_type": "stream",
          "text": [
            "Found 36866 validated image filenames belonging to 2 classes.\n",
            "Found 12289 validated image filenames belonging to 2 classes.\n",
            "Found 5462 validated image filenames belonging to 2 classes.\n",
            "Training set: 36866 images\n",
            "Validation set: 12289 images\n",
            "Test set: 5462 images\n"
          ]
        }
      ],
      "source": [
        "import tensorflow as tf\n",
        "from tensorflow.keras.preprocessing.image import ImageDataGenerator\n",
        "\n",
        "# Define the data generators\n",
        "train_datagen = ImageDataGenerator(\n",
        "    rescale=1./255,\n",
        "    rotation_range=25,\n",
        "    zoom_range=0.1,\n",
        "    width_shift_range=0.1,\n",
        "    height_shift_range=0.1,\n",
        "    horizontal_flip=True,\n",
        "    vertical_flip=False,\n",
        "    fill_mode='nearest',\n",
        "\n",
        ")\n",
        "test_datagen = ImageDataGenerator(rescale=1./255)\n",
        "\n",
        "# Define the batch size\n",
        "batch_size = 32\n",
        "\n",
        "# Create data generators\n",
        "train_generator = train_datagen.flow_from_dataframe(\n",
        "    train_df,\n",
        "    x_col='path',\n",
        "    y_col='label',\n",
        "    target_size=(256, 256),\n",
        "    color_mode='grayscale',\n",
        "    batch_size=batch_size,\n",
        "    class_mode='binary'\n",
        ")\n",
        "val_generator = test_datagen.flow_from_dataframe(\n",
        "    val_df,\n",
        "    x_col='path',\n",
        "    y_col='label',\n",
        "    target_size=(256, 256),\n",
        "    color_mode='grayscale',\n",
        "    batch_size=batch_size,\n",
        "    class_mode='binary'\n",
        ")\n",
        "test_generator = test_datagen.flow_from_dataframe(\n",
        "    test_df,\n",
        "    x_col='path',\n",
        "    y_col='label',\n",
        "    target_size=(256, 256),\n",
        "    color_mode='grayscale',\n",
        "    batch_size=batch_size,\n",
        "    class_mode='binary'\n",
        ")\n",
        "print(f'Training set: {len(train_df)} images')\n",
        "print(f'Validation set: {len(val_df)} images')\n",
        "print(f'Test set: {len(test_df)} images')\n"
      ]
    },
    {
      "cell_type": "code",
      "execution_count": null,
      "metadata": {
        "colab": {
          "base_uri": "https://localhost:8080/"
        },
        "id": "Vq27yUdqzh4e",
        "outputId": "15eb9988-e42b-43b0-eb20-490905af4eed"
      },
      "outputs": [
        {
          "name": "stdout",
          "output_type": "stream",
          "text": [
            "NEGATIVE    36097\n",
            "POSITIVE      769\n",
            "Name: label, dtype: int64\n"
          ]
        }
      ],
      "source": [
        "print(train_df['label'].value_counts())"
      ]
    },
    {
      "cell_type": "code",
      "execution_count": null,
      "metadata": {
        "colab": {
          "base_uri": "https://localhost:8080/"
        },
        "id": "LVuhABkT6MSm",
        "outputId": "c0ed083e-7e14-4ce1-e318-a5280d9572eb"
      },
      "outputs": [
        {
          "name": "stdout",
          "output_type": "stream",
          "text": [
            "Training set after adding additional positive images: 39926 images\n"
          ]
        }
      ],
      "source": [
        "# Step 1: Load the paths of additional positive images\n",
        "additional_positive_data_dir = '/content/POSITIVE'  # specify the path to your \"POSITIVE\" folder\n",
        "additional_positive_image_paths = []\n",
        "for file in os.listdir(additional_positive_data_dir):\n",
        "    if file.endswith('.png'):\n",
        "        additional_positive_image_paths.append(os.path.join(additional_positive_data_dir, file))\n",
        "\n",
        "# Step 2: Create a new DataFrame for these additional positive images\n",
        "additional_positive_df = pd.DataFrame({\n",
        "    'path': additional_positive_image_paths,\n",
        "    'label': ['POSITIVE'] * len(additional_positive_image_paths)\n",
        "})\n",
        "\n",
        "# Step 3: Concatenate this new DataFrame with train_df_augmented\n",
        "train_df = pd.concat([train_df, additional_positive_df], axis=0)\n",
        "\n",
        "# Shuffle the augmented dataframe again\n",
        "train_df = train_df.sample(frac=1).reset_index(drop=True)\n",
        "\n",
        "# Print number of images in the augmented training set after adding additional positive images\n",
        "print(f'Training set after adding additional positive images: {len(train_df)} images')"
      ]
    },
    {
      "cell_type": "code",
      "execution_count": null,
      "metadata": {
        "colab": {
          "base_uri": "https://localhost:8080/"
        },
        "id": "H5R3I6dc6Om9",
        "outputId": "83260054-4bf5-4370-9712-fa1c6c5ef995"
      },
      "outputs": [
        {
          "name": "stdout",
          "output_type": "stream",
          "text": [
            "NEGATIVE    36097\n",
            "POSITIVE     3829\n",
            "Name: label, dtype: int64\n"
          ]
        }
      ],
      "source": [
        "print(train_df['label'].value_counts())"
      ]
    },
    {
      "cell_type": "code",
      "execution_count": null,
      "metadata": {
        "id": "LY1teN00zh1m"
      },
      "outputs": [],
      "source": [
        "from tensorflow.keras.models import Sequential\n",
        "from tensorflow.keras.layers import Conv2D, MaxPooling2D, Dropout, Flatten, Dense, GlobalAveragePooling2D\n",
        "from tensorflow.keras.applications import ResNet50\n",
        "from tensorflow.keras import applications\n",
        "from tensorflow.keras.models import Model\n",
        "from tensorflow.keras import regularizers\n",
        "\n",
        "\n",
        "def create_model():\n",
        "    model = applications.EfficientNetB0(weights=None, include_top=False, input_shape=(256,256,1))\n",
        "    x = model.output\n",
        "    x = tf.keras.layers.GlobalAveragePooling2D()(x)\n",
        "    # x = Flatten()(x)\n",
        "    # x = Dropout(0.40)(x)\n",
        "    x = Dense(1, activation='sigmoid')(x)\n",
        "    model = Model(inputs=model.input, outputs=x)\n",
        "\n",
        "    return model\n"
      ]
    },
    {
      "cell_type": "code",
      "execution_count": null,
      "metadata": {
        "colab": {
          "base_uri": "https://localhost:8080/"
        },
        "id": "ickZZ9WC8il2",
        "outputId": "e836c53a-253b-410d-af87-9dc99931810b"
      },
      "outputs": [
        {
          "name": "stdout",
          "output_type": "stream",
          "text": [
            "Found 508 validated image filenames belonging to 2 classes.\n",
            "{0: 255, 1: 253}\n"
          ]
        }
      ],
      "source": [
        "from imblearn.under_sampling import RandomUnderSampler\n",
        "\n",
        "# Instantiate the random under sampler\n",
        "rus = RandomUnderSampler(sampling_strategy=1)\n",
        "\n",
        "# Fit the random under sampler and obtain a balanced validation set\n",
        "X_val_res, y_val_res = rus.fit_resample(val_df[['path']], val_df['label'])\n",
        "\n",
        "# Create a new balanced validation dataframe\n",
        "val_df_balanced = pd.DataFrame({\n",
        "    'path': X_val_res['path'],\n",
        "    'label': y_val_res\n",
        "})\n",
        "\n",
        "# Then create your validation generator with the balanced validation dataframe\n",
        "val_generator = test_datagen.flow_from_dataframe(\n",
        "    val_df_balanced,\n",
        "    x_col='path',\n",
        "    y_col='label',\n",
        "    target_size=(256, 256),\n",
        "    color_mode='grayscale',\n",
        "    batch_size=batch_size,\n",
        "    class_mode='binary'\n",
        ")\n",
        "\n",
        "import numpy as np\n",
        "\n",
        "# Get the labels from the validation generator\n",
        "labels = val_generator.labels\n",
        "\n",
        "# Count the occurrences of each unique label\n",
        "unique, counts = np.unique(labels, return_counts=True)\n",
        "\n",
        "# Display the counts\n",
        "label_counts = dict(zip(unique, counts))\n",
        "print(label_counts)"
      ]
    },
    {
      "cell_type": "code",
      "execution_count": null,
      "metadata": {
        "id": "9Oa9wCZUTV1n"
      },
      "outputs": [],
      "source": [
        "import tensorflow as tf\n",
        "\n",
        "# Enable JIT compilation - XLA will be used to optimize computation\n",
        "tf.config.optimizer.set_jit(True)"
      ]
    },
    {
      "cell_type": "code",
      "execution_count": null,
      "metadata": {
        "colab": {
          "base_uri": "https://localhost:8080/"
        },
        "id": "oZH_KoLDLFIv",
        "outputId": "bb3dad05-18ed-48b7-b5a4-ff36fd0e9e8a"
      },
      "outputs": [
        {
          "name": "stdout",
          "output_type": "stream",
          "text": [
            "Found 39926 validated image filenames belonging to 2 classes.\n",
            "Epoch 1/15\n",
            "1248/1248 [==============================] - ETA: 0s - loss: 0.1990 - precision: 0.7419 - recall: 0.5014 - auc: 0.8744\n",
            "Epoch 1: val_loss improved from inf to 0.11925, saving model to /content/drive/MyDrive/Licenta\n"
          ]
        },
        {
          "name": "stderr",
          "output_type": "stream",
          "text": [
            "WARNING:absl:Found untraced functions such as _jit_compiled_convolution_op, _jit_compiled_convolution_op, _jit_compiled_convolution_op, _jit_compiled_convolution_op, _jit_compiled_convolution_op while saving (showing 5 of 81). These functions will not be directly callable after loading.\n"
          ]
        },
        {
          "name": "stdout",
          "output_type": "stream",
          "text": [
            "\b\b\b\b\b\b\b\b\b\b\b\b\b\b\b\b\b\b\b\b\b\b\b\b\b\b\b\b\b\b\b\b\b\b\b\b\b\b\b\b\b\b\b\b\b\b\b\b\b\b\b\b\b\b\b\b\b\b\b\b\b\b\b\b\b\b\b\b\b\b\b\b\b\b\b\b\b\b\b\b\b\b\b\b\b\b\b\b\b\b\b\b\b\b\b\b\b\b\b\b\b\b\b\b\b\b\b\b\b\b\b\b\b\b\b\b\b\b\r1248/1248 [==============================] - 713s 498ms/step - loss: 0.1990 - precision: 0.7419 - recall: 0.5014 - auc: 0.8744 - val_loss: 0.1192 - val_precision: 0.0000e+00 - val_recall: 0.0000e+00 - val_auc: 0.5054\n",
            "Epoch 2/15\n",
            "1248/1248 [==============================] - ETA: 0s - loss: 0.1479 - precision: 0.8647 - recall: 0.6712 - auc: 0.8963\n",
            "Epoch 2: val_loss improved from 0.11925 to 0.11393, saving model to /content/drive/MyDrive/Licenta\n"
          ]
        },
        {
          "name": "stderr",
          "output_type": "stream",
          "text": [
            "WARNING:absl:Found untraced functions such as _jit_compiled_convolution_op, _jit_compiled_convolution_op, _jit_compiled_convolution_op, _jit_compiled_convolution_op, _jit_compiled_convolution_op while saving (showing 5 of 81). These functions will not be directly callable after loading.\n"
          ]
        },
        {
          "name": "stdout",
          "output_type": "stream",
          "text": [
            "\b\b\b\b\b\b\b\b\b\b\b\b\b\b\b\b\b\b\b\b\b\b\b\b\b\b\b\b\b\b\b\b\b\b\b\b\b\b\b\b\b\b\b\b\b\b\b\b\b\b\b\b\b\b\b\b\b\b\b\b\b\b\b\b\b\b\b\b\b\b\b\b\b\b\b\b\b\b\b\b\b\b\b\b\b\b\b\b\b\b\b\b\b\b\b\b\b\b\b\b\b\b\b\b\b\b\b\b\b\b\b\b\b\b\b\b\b\b\r1248/1248 [==============================] - 702s 562ms/step - loss: 0.1479 - precision: 0.8647 - recall: 0.6712 - auc: 0.8963 - val_loss: 0.1139 - val_precision: 0.0000e+00 - val_recall: 0.0000e+00 - val_auc: 0.4990\n",
            "Epoch 3/15\n",
            "1248/1248 [==============================] - ETA: 0s - loss: 0.1338 - precision: 0.9053 - recall: 0.7067 - auc: 0.8992\n",
            "Epoch 3: val_loss did not improve from 0.11393\n",
            "1248/1248 [==============================] - 569s 455ms/step - loss: 0.1338 - precision: 0.9053 - recall: 0.7067 - auc: 0.8992 - val_loss: 0.1141 - val_precision: 0.0000e+00 - val_recall: 0.0000e+00 - val_auc: 0.5167\n",
            "Epoch 4/15\n",
            "1248/1248 [==============================] - ETA: 0s - loss: 0.1222 - precision: 0.9328 - recall: 0.7357 - auc: 0.9036\n",
            "Epoch 4: val_loss improved from 0.11393 to 0.11056, saving model to /content/drive/MyDrive/Licenta\n"
          ]
        },
        {
          "name": "stderr",
          "output_type": "stream",
          "text": [
            "WARNING:absl:Found untraced functions such as _jit_compiled_convolution_op, _jit_compiled_convolution_op, _jit_compiled_convolution_op, _jit_compiled_convolution_op, _jit_compiled_convolution_op while saving (showing 5 of 81). These functions will not be directly callable after loading.\n"
          ]
        },
        {
          "name": "stdout",
          "output_type": "stream",
          "text": [
            "\b\b\b\b\b\b\b\b\b\b\b\b\b\b\b\b\b\b\b\b\b\b\b\b\b\b\b\b\b\b\b\b\b\b\b\b\b\b\b\b\b\b\b\b\b\b\b\b\b\b\b\b\b\b\b\b\b\b\b\b\b\b\b\b\b\b\b\b\b\b\b\b\b\b\b\b\b\b\b\b\b\b\b\b\b\b\b\b\b\b\b\b\b\b\b\b\b\b\b\b\b\b\b\b\b\b\b\b\b\b\b\b\b\b\b\b\b\b\r1248/1248 [==============================] - 604s 484ms/step - loss: 0.1222 - precision: 0.9328 - recall: 0.7357 - auc: 0.9036 - val_loss: 0.1106 - val_precision: 0.0000e+00 - val_recall: 0.0000e+00 - val_auc: 0.5488\n",
            "Epoch 5/15\n",
            "1248/1248 [==============================] - ETA: 0s - loss: 0.1148 - precision: 0.9486 - recall: 0.7574 - auc: 0.9066\n",
            "Epoch 5: val_loss did not improve from 0.11056\n",
            "1248/1248 [==============================] - 574s 460ms/step - loss: 0.1148 - precision: 0.9486 - recall: 0.7574 - auc: 0.9066 - val_loss: 0.1263 - val_precision: 0.0000e+00 - val_recall: 0.0000e+00 - val_auc: 0.4936\n",
            "Epoch 6/15\n",
            "1248/1248 [==============================] - ETA: 0s - loss: 0.1094 - precision: 0.9654 - recall: 0.7723 - auc: 0.9058\n",
            "Epoch 6: val_loss improved from 0.11056 to 0.10407, saving model to /content/drive/MyDrive/Licenta\n"
          ]
        },
        {
          "name": "stderr",
          "output_type": "stream",
          "text": [
            "WARNING:absl:Found untraced functions such as _jit_compiled_convolution_op, _jit_compiled_convolution_op, _jit_compiled_convolution_op, _jit_compiled_convolution_op, _jit_compiled_convolution_op while saving (showing 5 of 81). These functions will not be directly callable after loading.\n"
          ]
        },
        {
          "name": "stdout",
          "output_type": "stream",
          "text": [
            "\b\b\b\b\b\b\b\b\b\b\b\b\b\b\b\b\b\b\b\b\b\b\b\b\b\b\b\b\b\b\b\b\b\b\b\b\b\b\b\b\b\b\b\b\b\b\b\b\b\b\b\b\b\b\b\b\b\b\b\b\b\b\b\b\b\b\b\b\b\b\b\b\b\b\b\b\b\b\b\b\b\b\b\b\b\b\b\b\b\b\b\b\b\b\b\b\b\b\b\b\b\b\b\b\b\b\b\b\b\b\b\b\b\b\b\b\b\b\r1248/1248 [==============================] - 599s 480ms/step - loss: 0.1094 - precision: 0.9654 - recall: 0.7723 - auc: 0.9058 - val_loss: 0.1041 - val_precision: 0.0000e+00 - val_recall: 0.0000e+00 - val_auc: 0.5989\n",
            "Epoch 7/15\n",
            "1248/1248 [==============================] - ETA: 0s - loss: 0.1040 - precision: 0.9769 - recall: 0.7824 - auc: 0.9084\n",
            "Epoch 7: val_loss did not improve from 0.10407\n",
            "1248/1248 [==============================] - 558s 447ms/step - loss: 0.1040 - precision: 0.9769 - recall: 0.7824 - auc: 0.9084 - val_loss: 0.1078 - val_precision: 0.0000e+00 - val_recall: 0.0000e+00 - val_auc: 0.5478\n",
            "Epoch 8/15\n",
            "1248/1248 [==============================] - ETA: 0s - loss: 0.1036 - precision: 0.9804 - recall: 0.7853 - auc: 0.9058\n",
            "Epoch 8: val_loss did not improve from 0.10407\n",
            "1248/1248 [==============================] - 555s 444ms/step - loss: 0.1036 - precision: 0.9804 - recall: 0.7853 - auc: 0.9058 - val_loss: 0.1053 - val_precision: 0.0000e+00 - val_recall: 0.0000e+00 - val_auc: 0.5859\n",
            "Epoch 9/15\n",
            "1248/1248 [==============================] - ETA: 0s - loss: 0.1017 - precision: 0.9814 - recall: 0.7861 - auc: 0.9101\n",
            "Epoch 9: val_loss did not improve from 0.10407\n",
            "1248/1248 [==============================] - 554s 443ms/step - loss: 0.1017 - precision: 0.9814 - recall: 0.7861 - auc: 0.9101 - val_loss: 0.1058 - val_precision: 0.5000 - val_recall: 0.0037 - val_auc: 0.5422\n",
            "Epoch 10/15\n",
            "1248/1248 [==============================] - ETA: 0s - loss: 0.1011 - precision: 0.9843 - recall: 0.7858 - auc: 0.9102\n",
            "Epoch 10: val_loss did not improve from 0.10407\n",
            "1248/1248 [==============================] - 586s 470ms/step - loss: 0.1011 - precision: 0.9843 - recall: 0.7858 - auc: 0.9102 - val_loss: 0.1044 - val_precision: 0.0000e+00 - val_recall: 0.0000e+00 - val_auc: 0.5941\n",
            "Epoch 11/15\n",
            "1248/1248 [==============================] - ETA: 0s - loss: 0.0990 - precision: 0.9892 - recall: 0.7921 - auc: 0.9103\n",
            "Epoch 11: val_loss did not improve from 0.10407\n",
            "1248/1248 [==============================] - 551s 442ms/step - loss: 0.0990 - precision: 0.9892 - recall: 0.7921 - auc: 0.9103 - val_loss: 0.1041 - val_precision: 0.0000e+00 - val_recall: 0.0000e+00 - val_auc: 0.5945\n",
            "Epoch 12/15\n",
            "1248/1248 [==============================] - ETA: 0s - loss: 0.0994 - precision: 0.9902 - recall: 0.7903 - auc: 0.9093\n",
            "Epoch 12: val_loss did not improve from 0.10407\n",
            "1248/1248 [==============================] - 559s 447ms/step - loss: 0.0994 - precision: 0.9902 - recall: 0.7903 - auc: 0.9093 - val_loss: 0.1050 - val_precision: 0.2500 - val_recall: 0.0037 - val_auc: 0.6061\n",
            "Epoch 13/15\n",
            "1248/1248 [==============================] - ETA: 0s - loss: 0.0985 - precision: 0.9918 - recall: 0.7932 - auc: 0.9093\n",
            "Epoch 13: val_loss did not improve from 0.10407\n",
            "1248/1248 [==============================] - 589s 472ms/step - loss: 0.0985 - precision: 0.9918 - recall: 0.7932 - auc: 0.9093 - val_loss: 0.1085 - val_precision: 0.0000e+00 - val_recall: 0.0000e+00 - val_auc: 0.6058\n",
            "Epoch 14/15\n",
            "1248/1248 [==============================] - ETA: 0s - loss: 0.0976 - precision: 0.9912 - recall: 0.7942 - auc: 0.9132\n",
            "Epoch 14: val_loss did not improve from 0.10407\n",
            "1248/1248 [==============================] - 559s 448ms/step - loss: 0.0976 - precision: 0.9912 - recall: 0.7942 - auc: 0.9132 - val_loss: 0.1076 - val_precision: 0.3333 - val_recall: 0.0037 - val_auc: 0.5400\n",
            "Epoch 15/15\n",
            "1248/1248 [==============================] - ETA: 0s - loss: 0.0967 - precision: 0.9925 - recall: 0.7926 - auc: 0.9147\n",
            "Epoch 15: val_loss did not improve from 0.10407\n",
            "1248/1248 [==============================] - 559s 448ms/step - loss: 0.0967 - precision: 0.9925 - recall: 0.7926 - auc: 0.9147 - val_loss: 0.1110 - val_precision: 0.3333 - val_recall: 0.0037 - val_auc: 0.5982\n"
          ]
        }
      ],
      "source": [
        "from tensorflow.keras.optimizers.legacy import Adam, SGD\n",
        "from tensorflow.keras.metrics import Precision, Recall, AUC\n",
        "from tensorflow.keras.callbacks import ModelCheckpoint, EarlyStopping\n",
        "\n",
        "log_dir = '/content/drive/MyDrive/Licenta/Logs'\n",
        "tensorboard_callback = tf.keras.callbacks.TensorBoard(log_dir=log_dir)\n",
        "\n",
        "train_generator = train_datagen.flow_from_dataframe(\n",
        "    train_df,\n",
        "    x_col='path',\n",
        "    y_col='label',\n",
        "    target_size=(256, 256),\n",
        "    color_mode='grayscale',\n",
        "    batch_size=batch_size,\n",
        "    class_mode='binary'\n",
        ")\n",
        "\n",
        "# from tensorflow.keras import mixed_precision\n",
        "\n",
        "# mixed_precision.set_global_policy('mixed_float16')\n",
        "\n",
        "checkpoint_path = '/content/drive/MyDrive/Licenta'\n",
        "\n",
        "checkpoint = ModelCheckpoint(checkpoint_path,\n",
        "                             monitor='val_loss',\n",
        "                             verbose=1,\n",
        "                             save_best_only=True,\n",
        "                             save_weights_only=False,\n",
        "                             mode='auto',\n",
        "                             initial_value_threshold=None)\n",
        "\n",
        "\n",
        "early_stop = EarlyStopping(monitor='val_loss',\n",
        "                           patience=10,\n",
        "                           mode='min',\n",
        "                           verbose=1)\n",
        "\n",
        "\n",
        "\n",
        "optimizer = Adam(learning_rate=0.0001)\n",
        "model = create_model()\n",
        "# model.summary()\n",
        "model.compile(optimizer=optimizer,\n",
        "            loss='binary_crossentropy',\n",
        "            metrics=[Precision(name='precision'), Recall(name='recall'), AUC(name='auc')])\n",
        "hist = model.fit(train_generator,epochs=15,validation_data=val_generator,\n",
        "                 steps_per_epoch=len(train_generator), validation_steps=len(val_generator),\n",
        "                 callbacks=[checkpoint, early_stop])\n",
        "model.save('./EffNetB0_model.h5', overwrite=True)"
      ]
    },
    {
      "cell_type": "code",
      "execution_count": null,
      "metadata": {
        "colab": {
          "base_uri": "https://localhost:8080/",
          "height": 478
        },
        "id": "VcpdoqvLUaB4",
        "outputId": "56bd42a9-a16c-438e-b4e2-e4c3208bcd90"
      },
      "outputs": [
        {
          "data": {
            "image/png": "[encoded data removed]",
            "text/plain": [
              "<Figure size 640x480 with 1 Axes>"
            ]
          },
          "metadata": {},
          "output_type": "display_data"
        }
      ],
      "source": [
        "from matplotlib import pyplot as plt\n",
        "\n",
        "fig = plt.figure()\n",
        "plt.plot(hist.history['loss'], color='teal', label='loss')\n",
        "plt.plot(hist.history['val_loss'], color='orange', label='val_loss')\n",
        "fig.suptitle('Loss', fontsize=20)\n",
        "plt.legend(loc=\"upper left\")\n",
        "plt.show()"
      ]
    },
    {
      "cell_type": "code",
      "execution_count": null,
      "metadata": {
        "colab": {
          "base_uri": "https://localhost:8080/",
          "height": 478
        },
        "id": "R1Gph22ZUZzE",
        "outputId": "0594dbaa-041b-40bb-aae7-a12a918a411e"
      },
      "outputs": [
        {
          "data": {
            "image/png": "[encoded data removed]",
            "text/plain": [
              "<Figure size 640x480 with 1 Axes>"
            ]
          },
          "metadata": {},
          "output_type": "display_data"
        }
      ],
      "source": [
        "from matplotlib import pyplot as plt\n",
        "\n",
        "fig = plt.figure()\n",
        "plt.plot(hist.history['precision'], color='teal', label='precision')\n",
        "plt.plot(hist.history['val_precision'], color='orange', label='val_precision')\n",
        "fig.suptitle('Precision', fontsize=20)\n",
        "plt.legend(loc=\"upper left\")\n",
        "plt.show()"
      ]
    },
    {
      "cell_type": "code",
      "execution_count": null,
      "metadata": {
        "colab": {
          "base_uri": "https://localhost:8080/",
          "height": 478
        },
        "id": "zwo7X4bOUZwj",
        "outputId": "74926afe-4505-45ee-c8f0-ca6582b3c4c5"
      },
      "outputs": [
        {
          "data": {
            "image/png": "[encoded data removed]",
            "text/plain": [
              "<Figure size 640x480 with 1 Axes>"
            ]
          },
          "metadata": {},
          "output_type": "display_data"
        }
      ],
      "source": [
        "from matplotlib import pyplot as plt\n",
        "\n",
        "fig = plt.figure()\n",
        "plt.plot(hist.history['recall'], color='teal', label='recall')\n",
        "plt.plot(hist.history['val_recall'], color='orange', label='val_recall')\n",
        "fig.suptitle('Recall', fontsize=20)\n",
        "plt.legend(loc=\"upper left\")\n",
        "plt.show()"
      ]
    },
    {
      "cell_type": "code",
      "execution_count": null,
      "metadata": {
        "colab": {
          "base_uri": "https://localhost:8080/",
          "height": 478
        },
        "id": "GQUYNKmUUZuI",
        "outputId": "8bf827c7-b725-495d-ec27-8dec282bfd87"
      },
      "outputs": [
        {
          "data": {
            "image/png": "[encoded data removed]",
            "text/plain": [
              "<Figure size 640x480 with 1 Axes>"
            ]
          },
          "metadata": {},
          "output_type": "display_data"
        }
      ],
      "source": [
        "from matplotlib import pyplot as plt\n",
        "\n",
        "fig = plt.figure()\n",
        "plt.plot(hist.history['auc'], color='teal', label='auc')\n",
        "plt.plot(hist.history['val_auc'], color='orange', label='val_auc')\n",
        "fig.suptitle('AUC', fontsize=20)\n",
        "plt.legend(loc=\"upper left\")\n",
        "plt.show()"
      ]
    },
    {
      "cell_type": "code",
      "execution_count": null,
      "metadata": {
        "id": "GXqZwj9tUZmB"
      },
      "outputs": [],
      "source": []
    },
    {
      "cell_type": "code",
      "execution_count": null,
      "metadata": {
        "colab": {
          "base_uri": "https://localhost:8080/"
        },
        "id": "-OVqWuRWzhvz",
        "outputId": "4cf12398-73bc-4e06-bc9f-20a7fab5ed31"
      },
      "outputs": [
        {
          "name": "stderr",
          "output_type": "stream",
          "text": [
            "\r  0%|          | 0/171 [00:00<?, ?it/s]"
          ]
        },
        {
          "name": "stdout",
          "output_type": "stream",
          "text": [
            "1/1 [==============================] - 8s 8s/step\n"
          ]
        },
        {
          "name": "stderr",
          "output_type": "stream",
          "text": [
            "\r  1%|          | 1/171 [00:08<24:20,  8.59s/it]"
          ]
        },
        {
          "name": "stdout",
          "output_type": "stream",
          "text": [
            "1/1 [==============================] - 0s 29ms/step\n"
          ]
        },
        {
          "name": "stderr",
          "output_type": "stream",
          "text": [
            "\r  1%|          | 2/171 [00:08<10:25,  3.70s/it]"
          ]
        },
        {
          "name": "stdout",
          "output_type": "stream",
          "text": [
            "1/1 [==============================] - 0s 28ms/step\n"
          ]
        },
        {
          "name": "stderr",
          "output_type": "stream",
          "text": [
            "\r  2%|▏         | 3/171 [00:09<05:58,  2.13s/it]"
          ]
        },
        {
          "name": "stdout",
          "output_type": "stream",
          "text": [
            "1/1 [==============================] - 0s 31ms/step\n"
          ]
        },
        {
          "name": "stderr",
          "output_type": "stream",
          "text": [
            "\r  2%|▏         | 4/171 [00:09<03:53,  1.40s/it]"
          ]
        },
        {
          "name": "stdout",
          "output_type": "stream",
          "text": [
            "1/1 [==============================] - 0s 28ms/step\n"
          ]
        },
        {
          "name": "stderr",
          "output_type": "stream",
          "text": [
            "\r  3%|▎         | 5/171 [00:09<02:44,  1.01it/s]"
          ]
        },
        {
          "name": "stdout",
          "output_type": "stream",
          "text": [
            "1/1 [==============================] - 0s 29ms/step\n"
          ]
        },
        {
          "name": "stderr",
          "output_type": "stream",
          "text": [
            "\r  4%|▎         | 6/171 [00:09<02:02,  1.35it/s]"
          ]
        },
        {
          "name": "stdout",
          "output_type": "stream",
          "text": [
            "1/1 [==============================] - 0s 29ms/step\n"
          ]
        },
        {
          "name": "stderr",
          "output_type": "stream",
          "text": [
            "\r  4%|▍         | 7/171 [00:10<01:36,  1.70it/s]"
          ]
        },
        {
          "name": "stdout",
          "output_type": "stream",
          "text": [
            "1/1 [==============================] - 0s 27ms/step\n"
          ]
        },
        {
          "name": "stderr",
          "output_type": "stream",
          "text": [
            "\r  5%|▍         | 8/171 [00:10<01:19,  2.06it/s]"
          ]
        },
        {
          "name": "stdout",
          "output_type": "stream",
          "text": [
            "1/1 [==============================] - 0s 28ms/step\n"
          ]
        },
        {
          "name": "stderr",
          "output_type": "stream",
          "text": [
            "\r  5%|▌         | 9/171 [00:10<01:07,  2.39it/s]"
          ]
        },
        {
          "name": "stdout",
          "output_type": "stream",
          "text": [
            "1/1 [==============================] - 0s 30ms/step\n"
          ]
        },
        {
          "name": "stderr",
          "output_type": "stream",
          "text": [
            "\r  6%|▌         | 10/171 [00:10<00:59,  2.72it/s]"
          ]
        },
        {
          "name": "stdout",
          "output_type": "stream",
          "text": [
            "1/1 [==============================] - 0s 28ms/step\n"
          ]
        },
        {
          "name": "stderr",
          "output_type": "stream",
          "text": [
            "\r  6%|▋         | 11/171 [00:11<00:53,  3.00it/s]"
          ]
        },
        {
          "name": "stdout",
          "output_type": "stream",
          "text": [
            "1/1 [==============================] - 0s 28ms/step\n"
          ]
        },
        {
          "name": "stderr",
          "output_type": "stream",
          "text": [
            "\r  7%|▋         | 12/171 [00:11<00:49,  3.22it/s]"
          ]
        },
        {
          "name": "stdout",
          "output_type": "stream",
          "text": [
            "1/1 [==============================] - 0s 29ms/step\n"
          ]
        },
        {
          "name": "stderr",
          "output_type": "stream",
          "text": [
            "\r  8%|▊         | 13/171 [00:11<00:47,  3.35it/s]"
          ]
        },
        {
          "name": "stdout",
          "output_type": "stream",
          "text": [
            "1/1 [==============================] - 0s 27ms/step\n"
          ]
        },
        {
          "name": "stderr",
          "output_type": "stream",
          "text": [
            "\r  8%|▊         | 14/171 [00:12<00:45,  3.48it/s]"
          ]
        },
        {
          "name": "stdout",
          "output_type": "stream",
          "text": [
            "1/1 [==============================] - 0s 29ms/step\n"
          ]
        },
        {
          "name": "stderr",
          "output_type": "stream",
          "text": [
            "\r  9%|▉         | 15/171 [00:12<00:44,  3.51it/s]"
          ]
        },
        {
          "name": "stdout",
          "output_type": "stream",
          "text": [
            "1/1 [==============================] - 0s 26ms/step\n"
          ]
        },
        {
          "name": "stderr",
          "output_type": "stream",
          "text": [
            "\r  9%|▉         | 16/171 [00:12<00:42,  3.64it/s]"
          ]
        },
        {
          "name": "stdout",
          "output_type": "stream",
          "text": [
            "1/1 [==============================] - 0s 26ms/step\n"
          ]
        },
        {
          "name": "stderr",
          "output_type": "stream",
          "text": [
            "\r 10%|▉         | 17/171 [00:12<00:41,  3.74it/s]"
          ]
        },
        {
          "name": "stdout",
          "output_type": "stream",
          "text": [
            "1/1 [==============================] - 0s 31ms/step\n"
          ]
        },
        {
          "name": "stderr",
          "output_type": "stream",
          "text": [
            "\r 11%|█         | 18/171 [00:13<00:40,  3.81it/s]"
          ]
        },
        {
          "name": "stdout",
          "output_type": "stream",
          "text": [
            "1/1 [==============================] - 0s 28ms/step\n"
          ]
        },
        {
          "name": "stderr",
          "output_type": "stream",
          "text": [
            "\r 11%|█         | 19/171 [00:13<00:39,  3.85it/s]"
          ]
        },
        {
          "name": "stdout",
          "output_type": "stream",
          "text": [
            "1/1 [==============================] - 0s 27ms/step\n"
          ]
        },
        {
          "name": "stderr",
          "output_type": "stream",
          "text": [
            "\r 12%|█▏        | 20/171 [00:13<00:39,  3.84it/s]"
          ]
        },
        {
          "name": "stdout",
          "output_type": "stream",
          "text": [
            "1/1 [==============================] - 0s 27ms/step\n"
          ]
        },
        {
          "name": "stderr",
          "output_type": "stream",
          "text": [
            "\r 12%|█▏        | 21/171 [00:13<00:38,  3.91it/s]"
          ]
        },
        {
          "name": "stdout",
          "output_type": "stream",
          "text": [
            "1/1 [==============================] - 0s 49ms/step\n"
          ]
        },
        {
          "name": "stderr",
          "output_type": "stream",
          "text": [
            "\r 13%|█▎        | 22/171 [00:14<00:40,  3.70it/s]"
          ]
        },
        {
          "name": "stdout",
          "output_type": "stream",
          "text": [
            "1/1 [==============================] - 0s 34ms/step\n"
          ]
        },
        {
          "name": "stderr",
          "output_type": "stream",
          "text": [
            "\r 13%|█▎        | 23/171 [00:14<00:41,  3.59it/s]"
          ]
        },
        {
          "name": "stdout",
          "output_type": "stream",
          "text": [
            "1/1 [==============================] - 0s 38ms/step\n"
          ]
        },
        {
          "name": "stderr",
          "output_type": "stream",
          "text": [
            "\r 14%|█▍        | 24/171 [00:14<00:42,  3.43it/s]"
          ]
        },
        {
          "name": "stdout",
          "output_type": "stream",
          "text": [
            "1/1 [==============================] - 0s 38ms/step\n"
          ]
        },
        {
          "name": "stderr",
          "output_type": "stream",
          "text": [
            "\r 15%|█▍        | 25/171 [00:15<00:44,  3.29it/s]"
          ]
        },
        {
          "name": "stdout",
          "output_type": "stream",
          "text": [
            "1/1 [==============================] - 0s 41ms/step\n"
          ]
        },
        {
          "name": "stderr",
          "output_type": "stream",
          "text": [
            "\r 15%|█▌        | 26/171 [00:15<00:44,  3.29it/s]"
          ]
        },
        {
          "name": "stdout",
          "output_type": "stream",
          "text": [
            "1/1 [==============================] - 0s 40ms/step\n"
          ]
        },
        {
          "name": "stderr",
          "output_type": "stream",
          "text": [
            "\r 16%|█▌        | 27/171 [00:15<00:43,  3.31it/s]"
          ]
        },
        {
          "name": "stdout",
          "output_type": "stream",
          "text": [
            "1/1 [==============================] - 0s 44ms/step\n"
          ]
        },
        {
          "name": "stderr",
          "output_type": "stream",
          "text": [
            "\r 16%|█▋        | 28/171 [00:15<00:43,  3.29it/s]"
          ]
        },
        {
          "name": "stdout",
          "output_type": "stream",
          "text": [
            "1/1 [==============================] - 0s 41ms/step\n"
          ]
        },
        {
          "name": "stderr",
          "output_type": "stream",
          "text": [
            "\r 17%|█▋        | 29/171 [00:16<00:44,  3.22it/s]"
          ]
        },
        {
          "name": "stdout",
          "output_type": "stream",
          "text": [
            "1/1 [==============================] - 0s 34ms/step\n"
          ]
        },
        {
          "name": "stderr",
          "output_type": "stream",
          "text": [
            "\r 18%|█▊        | 30/171 [00:16<00:43,  3.22it/s]"
          ]
        },
        {
          "name": "stdout",
          "output_type": "stream",
          "text": [
            "1/1 [==============================] - 0s 42ms/step\n"
          ]
        },
        {
          "name": "stderr",
          "output_type": "stream",
          "text": [
            "\r 18%|█▊        | 31/171 [00:16<00:44,  3.16it/s]"
          ]
        },
        {
          "name": "stdout",
          "output_type": "stream",
          "text": [
            "1/1 [==============================] - 0s 43ms/step\n"
          ]
        },
        {
          "name": "stderr",
          "output_type": "stream",
          "text": [
            "\r 19%|█▊        | 32/171 [00:17<00:43,  3.18it/s]"
          ]
        },
        {
          "name": "stdout",
          "output_type": "stream",
          "text": [
            "1/1 [==============================] - 0s 38ms/step\n"
          ]
        },
        {
          "name": "stderr",
          "output_type": "stream",
          "text": [
            "\r 19%|█▉        | 33/171 [00:17<00:43,  3.14it/s]"
          ]
        },
        {
          "name": "stdout",
          "output_type": "stream",
          "text": [
            "1/1 [==============================] - 0s 28ms/step\n"
          ]
        },
        {
          "name": "stderr",
          "output_type": "stream",
          "text": [
            "\r 20%|█▉        | 34/171 [00:17<00:42,  3.22it/s]"
          ]
        },
        {
          "name": "stdout",
          "output_type": "stream",
          "text": [
            "1/1 [==============================] - 0s 27ms/step\n"
          ]
        },
        {
          "name": "stderr",
          "output_type": "stream",
          "text": [
            "\r 20%|██        | 35/171 [00:18<00:39,  3.41it/s]"
          ]
        },
        {
          "name": "stdout",
          "output_type": "stream",
          "text": [
            "1/1 [==============================] - 0s 28ms/step\n"
          ]
        },
        {
          "name": "stderr",
          "output_type": "stream",
          "text": [
            "\r 21%|██        | 36/171 [00:18<00:37,  3.57it/s]"
          ]
        },
        {
          "name": "stdout",
          "output_type": "stream",
          "text": [
            "1/1 [==============================] - 0s 28ms/step\n"
          ]
        },
        {
          "name": "stderr",
          "output_type": "stream",
          "text": [
            "\r 22%|██▏       | 37/171 [00:18<00:37,  3.62it/s]"
          ]
        },
        {
          "name": "stdout",
          "output_type": "stream",
          "text": [
            "1/1 [==============================] - 0s 28ms/step\n"
          ]
        },
        {
          "name": "stderr",
          "output_type": "stream",
          "text": [
            "\r 22%|██▏       | 38/171 [00:18<00:35,  3.71it/s]"
          ]
        },
        {
          "name": "stdout",
          "output_type": "stream",
          "text": [
            "1/1 [==============================] - 0s 29ms/step\n"
          ]
        },
        {
          "name": "stderr",
          "output_type": "stream",
          "text": [
            "\r 23%|██▎       | 39/171 [00:19<00:34,  3.80it/s]"
          ]
        },
        {
          "name": "stdout",
          "output_type": "stream",
          "text": [
            "1/1 [==============================] - 0s 27ms/step\n"
          ]
        },
        {
          "name": "stderr",
          "output_type": "stream",
          "text": [
            "\r 23%|██▎       | 40/171 [00:19<00:33,  3.86it/s]"
          ]
        },
        {
          "name": "stdout",
          "output_type": "stream",
          "text": [
            "1/1 [==============================] - 0s 30ms/step\n"
          ]
        },
        {
          "name": "stderr",
          "output_type": "stream",
          "text": [
            "\r 24%|██▍       | 41/171 [00:19<00:34,  3.79it/s]"
          ]
        },
        {
          "name": "stdout",
          "output_type": "stream",
          "text": [
            "1/1 [==============================] - 0s 28ms/step\n"
          ]
        },
        {
          "name": "stderr",
          "output_type": "stream",
          "text": [
            "\r 25%|██▍       | 42/171 [00:19<00:33,  3.84it/s]"
          ]
        },
        {
          "name": "stdout",
          "output_type": "stream",
          "text": [
            "1/1 [==============================] - 0s 29ms/step\n"
          ]
        },
        {
          "name": "stderr",
          "output_type": "stream",
          "text": [
            "\r 25%|██▌       | 43/171 [00:20<00:33,  3.84it/s]"
          ]
        },
        {
          "name": "stdout",
          "output_type": "stream",
          "text": [
            "1/1 [==============================] - 0s 25ms/step\n"
          ]
        },
        {
          "name": "stderr",
          "output_type": "stream",
          "text": [
            "\r 26%|██▌       | 44/171 [00:20<00:32,  3.90it/s]"
          ]
        },
        {
          "name": "stdout",
          "output_type": "stream",
          "text": [
            "1/1 [==============================] - 0s 30ms/step\n"
          ]
        },
        {
          "name": "stderr",
          "output_type": "stream",
          "text": [
            "\r 26%|██▋       | 45/171 [00:20<00:32,  3.87it/s]"
          ]
        },
        {
          "name": "stdout",
          "output_type": "stream",
          "text": [
            "1/1 [==============================] - 0s 28ms/step\n"
          ]
        },
        {
          "name": "stderr",
          "output_type": "stream",
          "text": [
            "\r 27%|██▋       | 46/171 [00:20<00:32,  3.89it/s]"
          ]
        },
        {
          "name": "stdout",
          "output_type": "stream",
          "text": [
            "1/1 [==============================] - 0s 30ms/step\n"
          ]
        },
        {
          "name": "stderr",
          "output_type": "stream",
          "text": [
            "\r 27%|██▋       | 47/171 [00:21<00:31,  3.94it/s]"
          ]
        },
        {
          "name": "stdout",
          "output_type": "stream",
          "text": [
            "1/1 [==============================] - 0s 27ms/step\n"
          ]
        },
        {
          "name": "stderr",
          "output_type": "stream",
          "text": [
            "\r 28%|██▊       | 48/171 [00:21<00:31,  3.96it/s]"
          ]
        },
        {
          "name": "stdout",
          "output_type": "stream",
          "text": [
            "1/1 [==============================] - 0s 28ms/step\n"
          ]
        },
        {
          "name": "stderr",
          "output_type": "stream",
          "text": [
            "\r 29%|██▊       | 49/171 [00:21<00:30,  3.95it/s]"
          ]
        },
        {
          "name": "stdout",
          "output_type": "stream",
          "text": [
            "1/1 [==============================] - 0s 30ms/step\n"
          ]
        },
        {
          "name": "stderr",
          "output_type": "stream",
          "text": [
            "\r 29%|██▉       | 50/171 [00:21<00:31,  3.88it/s]"
          ]
        },
        {
          "name": "stdout",
          "output_type": "stream",
          "text": [
            "1/1 [==============================] - 0s 33ms/step\n"
          ]
        },
        {
          "name": "stderr",
          "output_type": "stream",
          "text": [
            "\r 30%|██▉       | 51/171 [00:22<00:31,  3.85it/s]"
          ]
        },
        {
          "name": "stdout",
          "output_type": "stream",
          "text": [
            "1/1 [==============================] - 0s 29ms/step\n"
          ]
        },
        {
          "name": "stderr",
          "output_type": "stream",
          "text": [
            "\r 30%|███       | 52/171 [00:22<00:30,  3.91it/s]"
          ]
        },
        {
          "name": "stdout",
          "output_type": "stream",
          "text": [
            "1/1 [==============================] - 0s 26ms/step\n"
          ]
        },
        {
          "name": "stderr",
          "output_type": "stream",
          "text": [
            "\r 31%|███       | 53/171 [00:22<00:30,  3.89it/s]"
          ]
        },
        {
          "name": "stdout",
          "output_type": "stream",
          "text": [
            "1/1 [==============================] - 0s 28ms/step\n"
          ]
        },
        {
          "name": "stderr",
          "output_type": "stream",
          "text": [
            "\r 32%|███▏      | 54/171 [00:23<00:30,  3.83it/s]"
          ]
        },
        {
          "name": "stdout",
          "output_type": "stream",
          "text": [
            "1/1 [==============================] - 0s 28ms/step\n"
          ]
        },
        {
          "name": "stderr",
          "output_type": "stream",
          "text": [
            "\r 32%|███▏      | 55/171 [00:23<00:29,  3.88it/s]"
          ]
        },
        {
          "name": "stdout",
          "output_type": "stream",
          "text": [
            "1/1 [==============================] - 0s 28ms/step\n"
          ]
        },
        {
          "name": "stderr",
          "output_type": "stream",
          "text": [
            "\r 33%|███▎      | 56/171 [00:23<00:29,  3.93it/s]"
          ]
        },
        {
          "name": "stdout",
          "output_type": "stream",
          "text": [
            "1/1 [==============================] - 0s 27ms/step\n"
          ]
        },
        {
          "name": "stderr",
          "output_type": "stream",
          "text": [
            "\r 33%|███▎      | 57/171 [00:23<00:28,  4.01it/s]"
          ]
        },
        {
          "name": "stdout",
          "output_type": "stream",
          "text": [
            "1/1 [==============================] - 0s 26ms/step\n"
          ]
        },
        {
          "name": "stderr",
          "output_type": "stream",
          "text": [
            "\r 34%|███▍      | 58/171 [00:24<00:28,  3.92it/s]"
          ]
        },
        {
          "name": "stdout",
          "output_type": "stream",
          "text": [
            "1/1 [==============================] - 0s 28ms/step\n"
          ]
        },
        {
          "name": "stderr",
          "output_type": "stream",
          "text": [
            "\r 35%|███▍      | 59/171 [00:24<00:27,  4.00it/s]"
          ]
        },
        {
          "name": "stdout",
          "output_type": "stream",
          "text": [
            "1/1 [==============================] - 0s 28ms/step\n"
          ]
        },
        {
          "name": "stderr",
          "output_type": "stream",
          "text": [
            "\r 35%|███▌      | 60/171 [00:24<00:28,  3.95it/s]"
          ]
        },
        {
          "name": "stdout",
          "output_type": "stream",
          "text": [
            "1/1 [==============================] - 0s 27ms/step\n"
          ]
        },
        {
          "name": "stderr",
          "output_type": "stream",
          "text": [
            "\r 36%|███▌      | 61/171 [00:24<00:27,  3.99it/s]"
          ]
        },
        {
          "name": "stdout",
          "output_type": "stream",
          "text": [
            "1/1 [==============================] - 0s 28ms/step\n"
          ]
        },
        {
          "name": "stderr",
          "output_type": "stream",
          "text": [
            "\r 36%|███▋      | 62/171 [00:25<00:27,  3.98it/s]"
          ]
        },
        {
          "name": "stdout",
          "output_type": "stream",
          "text": [
            "1/1 [==============================] - 0s 30ms/step\n"
          ]
        },
        {
          "name": "stderr",
          "output_type": "stream",
          "text": [
            "\r 37%|███▋      | 63/171 [00:25<00:27,  3.93it/s]"
          ]
        },
        {
          "name": "stdout",
          "output_type": "stream",
          "text": [
            "1/1 [==============================] - 0s 34ms/step\n"
          ]
        },
        {
          "name": "stderr",
          "output_type": "stream",
          "text": [
            "\r 37%|███▋      | 64/171 [00:25<00:27,  3.95it/s]"
          ]
        },
        {
          "name": "stdout",
          "output_type": "stream",
          "text": [
            "1/1 [==============================] - 0s 26ms/step\n"
          ]
        },
        {
          "name": "stderr",
          "output_type": "stream",
          "text": [
            "\r 38%|███▊      | 65/171 [00:25<00:26,  3.96it/s]"
          ]
        },
        {
          "name": "stdout",
          "output_type": "stream",
          "text": [
            "1/1 [==============================] - 0s 28ms/step\n"
          ]
        },
        {
          "name": "stderr",
          "output_type": "stream",
          "text": [
            "\r 39%|███▊      | 66/171 [00:26<00:26,  3.95it/s]"
          ]
        },
        {
          "name": "stdout",
          "output_type": "stream",
          "text": [
            "1/1 [==============================] - 0s 27ms/step\n"
          ]
        },
        {
          "name": "stderr",
          "output_type": "stream",
          "text": [
            "\r 39%|███▉      | 67/171 [00:26<00:26,  3.98it/s]"
          ]
        },
        {
          "name": "stdout",
          "output_type": "stream",
          "text": [
            "1/1 [==============================] - 0s 28ms/step\n"
          ]
        },
        {
          "name": "stderr",
          "output_type": "stream",
          "text": [
            "\r 40%|███▉      | 68/171 [00:26<00:25,  3.98it/s]"
          ]
        },
        {
          "name": "stdout",
          "output_type": "stream",
          "text": [
            "1/1 [==============================] - 0s 28ms/step\n"
          ]
        },
        {
          "name": "stderr",
          "output_type": "stream",
          "text": [
            "\r 40%|████      | 69/171 [00:26<00:25,  3.95it/s]"
          ]
        },
        {
          "name": "stdout",
          "output_type": "stream",
          "text": [
            "1/1 [==============================] - 0s 26ms/step\n"
          ]
        },
        {
          "name": "stderr",
          "output_type": "stream",
          "text": [
            "\r 41%|████      | 70/171 [00:27<00:25,  3.99it/s]"
          ]
        },
        {
          "name": "stdout",
          "output_type": "stream",
          "text": [
            "1/1 [==============================] - 0s 30ms/step\n"
          ]
        },
        {
          "name": "stderr",
          "output_type": "stream",
          "text": [
            "\r 42%|████▏     | 71/171 [00:27<00:25,  3.98it/s]"
          ]
        },
        {
          "name": "stdout",
          "output_type": "stream",
          "text": [
            "1/1 [==============================] - 0s 27ms/step\n"
          ]
        },
        {
          "name": "stderr",
          "output_type": "stream",
          "text": [
            "\r 42%|████▏     | 72/171 [00:27<00:24,  4.00it/s]"
          ]
        },
        {
          "name": "stdout",
          "output_type": "stream",
          "text": [
            "1/1 [==============================] - 0s 28ms/step\n"
          ]
        },
        {
          "name": "stderr",
          "output_type": "stream",
          "text": [
            "\r 43%|████▎     | 73/171 [00:27<00:25,  3.87it/s]"
          ]
        },
        {
          "name": "stdout",
          "output_type": "stream",
          "text": [
            "1/1 [==============================] - 0s 44ms/step\n"
          ]
        },
        {
          "name": "stderr",
          "output_type": "stream",
          "text": [
            "\r 43%|████▎     | 74/171 [00:28<00:27,  3.55it/s]"
          ]
        },
        {
          "name": "stdout",
          "output_type": "stream",
          "text": [
            "1/1 [==============================] - 0s 36ms/step\n"
          ]
        },
        {
          "name": "stderr",
          "output_type": "stream",
          "text": [
            "\r 44%|████▍     | 75/171 [00:28<00:27,  3.49it/s]"
          ]
        },
        {
          "name": "stdout",
          "output_type": "stream",
          "text": [
            "1/1 [==============================] - 0s 42ms/step\n"
          ]
        },
        {
          "name": "stderr",
          "output_type": "stream",
          "text": [
            "\r 44%|████▍     | 76/171 [00:28<00:27,  3.43it/s]"
          ]
        },
        {
          "name": "stdout",
          "output_type": "stream",
          "text": [
            "1/1 [==============================] - 0s 41ms/step\n"
          ]
        },
        {
          "name": "stderr",
          "output_type": "stream",
          "text": [
            "\r 45%|████▌     | 77/171 [00:29<00:27,  3.38it/s]"
          ]
        },
        {
          "name": "stdout",
          "output_type": "stream",
          "text": [
            "1/1 [==============================] - 0s 50ms/step\n"
          ]
        },
        {
          "name": "stderr",
          "output_type": "stream",
          "text": [
            "\r 46%|████▌     | 78/171 [00:29<00:28,  3.27it/s]"
          ]
        },
        {
          "name": "stdout",
          "output_type": "stream",
          "text": [
            "1/1 [==============================] - 0s 41ms/step\n"
          ]
        },
        {
          "name": "stderr",
          "output_type": "stream",
          "text": [
            "\r 46%|████▌     | 79/171 [00:29<00:28,  3.25it/s]"
          ]
        },
        {
          "name": "stdout",
          "output_type": "stream",
          "text": [
            "1/1 [==============================] - 0s 55ms/step\n"
          ]
        },
        {
          "name": "stderr",
          "output_type": "stream",
          "text": [
            "\r 47%|████▋     | 80/171 [00:30<00:28,  3.19it/s]"
          ]
        },
        {
          "name": "stdout",
          "output_type": "stream",
          "text": [
            "1/1 [==============================] - 0s 49ms/step\n"
          ]
        },
        {
          "name": "stderr",
          "output_type": "stream",
          "text": [
            "\r 47%|████▋     | 81/171 [00:30<00:30,  2.98it/s]"
          ]
        },
        {
          "name": "stdout",
          "output_type": "stream",
          "text": [
            "1/1 [==============================] - 0s 39ms/step\n"
          ]
        },
        {
          "name": "stderr",
          "output_type": "stream",
          "text": [
            "\r 48%|████▊     | 82/171 [00:30<00:29,  3.00it/s]"
          ]
        },
        {
          "name": "stdout",
          "output_type": "stream",
          "text": [
            "1/1 [==============================] - 0s 43ms/step\n"
          ]
        },
        {
          "name": "stderr",
          "output_type": "stream",
          "text": [
            "\r 49%|████▊     | 83/171 [00:31<00:28,  3.04it/s]"
          ]
        },
        {
          "name": "stdout",
          "output_type": "stream",
          "text": [
            "1/1 [==============================] - 0s 49ms/step\n"
          ]
        },
        {
          "name": "stderr",
          "output_type": "stream",
          "text": [
            "\r 49%|████▉     | 84/171 [00:31<00:30,  2.88it/s]"
          ]
        },
        {
          "name": "stdout",
          "output_type": "stream",
          "text": [
            "1/1 [==============================] - 0s 28ms/step\n"
          ]
        },
        {
          "name": "stderr",
          "output_type": "stream",
          "text": [
            "\r 50%|████▉     | 85/171 [00:31<00:27,  3.15it/s]"
          ]
        },
        {
          "name": "stdout",
          "output_type": "stream",
          "text": [
            "1/1 [==============================] - 0s 29ms/step\n"
          ]
        },
        {
          "name": "stderr",
          "output_type": "stream",
          "text": [
            "\r 50%|█████     | 86/171 [00:31<00:24,  3.40it/s]"
          ]
        },
        {
          "name": "stdout",
          "output_type": "stream",
          "text": [
            "1/1 [==============================] - 0s 27ms/step\n"
          ]
        },
        {
          "name": "stderr",
          "output_type": "stream",
          "text": [
            "\r 51%|█████     | 87/171 [00:32<00:23,  3.53it/s]"
          ]
        },
        {
          "name": "stdout",
          "output_type": "stream",
          "text": [
            "1/1 [==============================] - 0s 31ms/step\n"
          ]
        },
        {
          "name": "stderr",
          "output_type": "stream",
          "text": [
            "\r 51%|█████▏    | 88/171 [00:32<00:23,  3.59it/s]"
          ]
        },
        {
          "name": "stdout",
          "output_type": "stream",
          "text": [
            "1/1 [==============================] - 0s 32ms/step\n"
          ]
        },
        {
          "name": "stderr",
          "output_type": "stream",
          "text": [
            "\r 52%|█████▏    | 89/171 [00:32<00:22,  3.61it/s]"
          ]
        },
        {
          "name": "stdout",
          "output_type": "stream",
          "text": [
            "1/1 [==============================] - 0s 29ms/step\n"
          ]
        },
        {
          "name": "stderr",
          "output_type": "stream",
          "text": [
            "\r 53%|█████▎    | 90/171 [00:33<00:22,  3.62it/s]"
          ]
        },
        {
          "name": "stdout",
          "output_type": "stream",
          "text": [
            "1/1 [==============================] - 0s 28ms/step\n"
          ]
        },
        {
          "name": "stderr",
          "output_type": "stream",
          "text": [
            "\r 53%|█████▎    | 91/171 [00:33<00:21,  3.65it/s]"
          ]
        },
        {
          "name": "stdout",
          "output_type": "stream",
          "text": [
            "1/1 [==============================] - 0s 28ms/step\n"
          ]
        },
        {
          "name": "stderr",
          "output_type": "stream",
          "text": [
            "\r 54%|█████▍    | 92/171 [00:33<00:20,  3.79it/s]"
          ]
        },
        {
          "name": "stdout",
          "output_type": "stream",
          "text": [
            "1/1 [==============================] - 0s 30ms/step\n"
          ]
        },
        {
          "name": "stderr",
          "output_type": "stream",
          "text": [
            "\r 54%|█████▍    | 93/171 [00:33<00:20,  3.80it/s]"
          ]
        },
        {
          "name": "stdout",
          "output_type": "stream",
          "text": [
            "1/1 [==============================] - 0s 27ms/step\n"
          ]
        },
        {
          "name": "stderr",
          "output_type": "stream",
          "text": [
            "\r 55%|█████▍    | 94/171 [00:34<00:20,  3.83it/s]"
          ]
        },
        {
          "name": "stdout",
          "output_type": "stream",
          "text": [
            "1/1 [==============================] - 0s 31ms/step\n"
          ]
        },
        {
          "name": "stderr",
          "output_type": "stream",
          "text": [
            "\r 56%|█████▌    | 95/171 [00:34<00:20,  3.79it/s]"
          ]
        },
        {
          "name": "stdout",
          "output_type": "stream",
          "text": [
            "1/1 [==============================] - 0s 27ms/step\n"
          ]
        },
        {
          "name": "stderr",
          "output_type": "stream",
          "text": [
            "\r 56%|█████▌    | 96/171 [00:34<00:19,  3.88it/s]"
          ]
        },
        {
          "name": "stdout",
          "output_type": "stream",
          "text": [
            "1/1 [==============================] - 0s 29ms/step\n"
          ]
        },
        {
          "name": "stderr",
          "output_type": "stream",
          "text": [
            "\r 57%|█████▋    | 97/171 [00:34<00:19,  3.87it/s]"
          ]
        },
        {
          "name": "stdout",
          "output_type": "stream",
          "text": [
            "1/1 [==============================] - 0s 26ms/step\n"
          ]
        },
        {
          "name": "stderr",
          "output_type": "stream",
          "text": [
            "\r 57%|█████▋    | 98/171 [00:35<00:18,  3.92it/s]"
          ]
        },
        {
          "name": "stdout",
          "output_type": "stream",
          "text": [
            "1/1 [==============================] - 0s 27ms/step\n"
          ]
        },
        {
          "name": "stderr",
          "output_type": "stream",
          "text": [
            "\r 58%|█████▊    | 99/171 [00:35<00:18,  3.94it/s]"
          ]
        },
        {
          "name": "stdout",
          "output_type": "stream",
          "text": [
            "1/1 [==============================] - 0s 28ms/step\n"
          ]
        },
        {
          "name": "stderr",
          "output_type": "stream",
          "text": [
            "\r 58%|█████▊    | 100/171 [00:35<00:17,  4.01it/s]"
          ]
        },
        {
          "name": "stdout",
          "output_type": "stream",
          "text": [
            "1/1 [==============================] - 0s 27ms/step\n"
          ]
        },
        {
          "name": "stderr",
          "output_type": "stream",
          "text": [
            "\r 59%|█████▉    | 101/171 [00:35<00:17,  4.00it/s]"
          ]
        },
        {
          "name": "stdout",
          "output_type": "stream",
          "text": [
            "1/1 [==============================] - 0s 27ms/step\n"
          ]
        },
        {
          "name": "stderr",
          "output_type": "stream",
          "text": [
            "\r 60%|█████▉    | 102/171 [00:36<00:17,  3.98it/s]"
          ]
        },
        {
          "name": "stdout",
          "output_type": "stream",
          "text": [
            "1/1 [==============================] - 0s 29ms/step\n"
          ]
        },
        {
          "name": "stderr",
          "output_type": "stream",
          "text": [
            "\r 60%|██████    | 103/171 [00:36<00:17,  3.94it/s]"
          ]
        },
        {
          "name": "stdout",
          "output_type": "stream",
          "text": [
            "1/1 [==============================] - 0s 29ms/step\n"
          ]
        },
        {
          "name": "stderr",
          "output_type": "stream",
          "text": [
            "\r 61%|██████    | 104/171 [00:36<00:16,  3.95it/s]"
          ]
        },
        {
          "name": "stdout",
          "output_type": "stream",
          "text": [
            "1/1 [==============================] - 0s 26ms/step\n"
          ]
        },
        {
          "name": "stderr",
          "output_type": "stream",
          "text": [
            "\r 61%|██████▏   | 105/171 [00:36<00:16,  3.99it/s]"
          ]
        },
        {
          "name": "stdout",
          "output_type": "stream",
          "text": [
            "1/1 [==============================] - 0s 28ms/step\n"
          ]
        },
        {
          "name": "stderr",
          "output_type": "stream",
          "text": [
            "\r 62%|██████▏   | 106/171 [00:37<00:16,  3.97it/s]"
          ]
        },
        {
          "name": "stdout",
          "output_type": "stream",
          "text": [
            "1/1 [==============================] - 0s 28ms/step\n"
          ]
        },
        {
          "name": "stderr",
          "output_type": "stream",
          "text": [
            "\r 63%|██████▎   | 107/171 [00:37<00:16,  3.95it/s]"
          ]
        },
        {
          "name": "stdout",
          "output_type": "stream",
          "text": [
            "1/1 [==============================] - 0s 28ms/step\n"
          ]
        },
        {
          "name": "stderr",
          "output_type": "stream",
          "text": [
            "\r 63%|██████▎   | 108/171 [00:37<00:16,  3.92it/s]"
          ]
        },
        {
          "name": "stdout",
          "output_type": "stream",
          "text": [
            "1/1 [==============================] - 0s 25ms/step\n"
          ]
        },
        {
          "name": "stderr",
          "output_type": "stream",
          "text": [
            "\r 64%|██████▎   | 109/171 [00:37<00:15,  3.93it/s]"
          ]
        },
        {
          "name": "stdout",
          "output_type": "stream",
          "text": [
            "1/1 [==============================] - 0s 30ms/step\n"
          ]
        },
        {
          "name": "stderr",
          "output_type": "stream",
          "text": [
            "\r 64%|██████▍   | 110/171 [00:38<00:15,  3.90it/s]"
          ]
        },
        {
          "name": "stdout",
          "output_type": "stream",
          "text": [
            "1/1 [==============================] - 0s 33ms/step\n"
          ]
        },
        {
          "name": "stderr",
          "output_type": "stream",
          "text": [
            "\r 65%|██████▍   | 111/171 [00:38<00:15,  3.89it/s]"
          ]
        },
        {
          "name": "stdout",
          "output_type": "stream",
          "text": [
            "1/1 [==============================] - 0s 32ms/step\n"
          ]
        },
        {
          "name": "stderr",
          "output_type": "stream",
          "text": [
            "\r 65%|██████▌   | 112/171 [00:38<00:15,  3.92it/s]"
          ]
        },
        {
          "name": "stdout",
          "output_type": "stream",
          "text": [
            "1/1 [==============================] - 0s 26ms/step\n"
          ]
        },
        {
          "name": "stderr",
          "output_type": "stream",
          "text": [
            "\r 66%|██████▌   | 113/171 [00:38<00:14,  3.99it/s]"
          ]
        },
        {
          "name": "stdout",
          "output_type": "stream",
          "text": [
            "1/1 [==============================] - 0s 27ms/step\n"
          ]
        },
        {
          "name": "stderr",
          "output_type": "stream",
          "text": [
            "\r 67%|██████▋   | 114/171 [00:39<00:14,  3.89it/s]"
          ]
        },
        {
          "name": "stdout",
          "output_type": "stream",
          "text": [
            "1/1 [==============================] - 0s 28ms/step\n"
          ]
        },
        {
          "name": "stderr",
          "output_type": "stream",
          "text": [
            "\r 67%|██████▋   | 115/171 [00:39<00:14,  3.84it/s]"
          ]
        },
        {
          "name": "stdout",
          "output_type": "stream",
          "text": [
            "1/1 [==============================] - 0s 28ms/step\n"
          ]
        },
        {
          "name": "stderr",
          "output_type": "stream",
          "text": [
            "\r 68%|██████▊   | 116/171 [00:39<00:14,  3.85it/s]"
          ]
        },
        {
          "name": "stdout",
          "output_type": "stream",
          "text": [
            "1/1 [==============================] - 0s 27ms/step\n"
          ]
        },
        {
          "name": "stderr",
          "output_type": "stream",
          "text": [
            "\r 68%|██████▊   | 117/171 [00:39<00:14,  3.82it/s]"
          ]
        },
        {
          "name": "stdout",
          "output_type": "stream",
          "text": [
            "1/1 [==============================] - 0s 31ms/step\n"
          ]
        },
        {
          "name": "stderr",
          "output_type": "stream",
          "text": [
            "\r 69%|██████▉   | 118/171 [00:40<00:13,  3.86it/s]"
          ]
        },
        {
          "name": "stdout",
          "output_type": "stream",
          "text": [
            "1/1 [==============================] - 0s 30ms/step\n"
          ]
        },
        {
          "name": "stderr",
          "output_type": "stream",
          "text": [
            "\r 70%|██████▉   | 119/171 [00:40<00:13,  3.82it/s]"
          ]
        },
        {
          "name": "stdout",
          "output_type": "stream",
          "text": [
            "1/1 [==============================] - 0s 28ms/step\n"
          ]
        },
        {
          "name": "stderr",
          "output_type": "stream",
          "text": [
            "\r 70%|███████   | 120/171 [00:40<00:13,  3.82it/s]"
          ]
        },
        {
          "name": "stdout",
          "output_type": "stream",
          "text": [
            "1/1 [==============================] - 0s 26ms/step\n"
          ]
        },
        {
          "name": "stderr",
          "output_type": "stream",
          "text": [
            "\r 71%|███████   | 121/171 [00:40<00:13,  3.82it/s]"
          ]
        },
        {
          "name": "stdout",
          "output_type": "stream",
          "text": [
            "1/1 [==============================] - 0s 33ms/step\n"
          ]
        },
        {
          "name": "stderr",
          "output_type": "stream",
          "text": [
            "\r 71%|███████▏  | 122/171 [00:41<00:12,  3.82it/s]"
          ]
        },
        {
          "name": "stdout",
          "output_type": "stream",
          "text": [
            "1/1 [==============================] - 0s 29ms/step\n"
          ]
        },
        {
          "name": "stderr",
          "output_type": "stream",
          "text": [
            "\r 72%|███████▏  | 123/171 [00:41<00:12,  3.82it/s]"
          ]
        },
        {
          "name": "stdout",
          "output_type": "stream",
          "text": [
            "1/1 [==============================] - 0s 43ms/step\n"
          ]
        },
        {
          "name": "stderr",
          "output_type": "stream",
          "text": [
            "\r 73%|███████▎  | 124/171 [00:41<00:13,  3.58it/s]"
          ]
        },
        {
          "name": "stdout",
          "output_type": "stream",
          "text": [
            "1/1 [==============================] - 0s 42ms/step\n"
          ]
        },
        {
          "name": "stderr",
          "output_type": "stream",
          "text": [
            "\r 73%|███████▎  | 125/171 [00:42<00:13,  3.46it/s]"
          ]
        },
        {
          "name": "stdout",
          "output_type": "stream",
          "text": [
            "1/1 [==============================] - 0s 40ms/step\n"
          ]
        },
        {
          "name": "stderr",
          "output_type": "stream",
          "text": [
            "\r 74%|███████▎  | 126/171 [00:42<00:13,  3.35it/s]"
          ]
        },
        {
          "name": "stdout",
          "output_type": "stream",
          "text": [
            "1/1 [==============================] - 0s 39ms/step\n"
          ]
        },
        {
          "name": "stderr",
          "output_type": "stream",
          "text": [
            "\r 74%|███████▍  | 127/171 [00:42<00:13,  3.31it/s]"
          ]
        },
        {
          "name": "stdout",
          "output_type": "stream",
          "text": [
            "1/1 [==============================] - 0s 35ms/step\n"
          ]
        },
        {
          "name": "stderr",
          "output_type": "stream",
          "text": [
            "\r 75%|███████▍  | 128/171 [00:43<00:13,  3.28it/s]"
          ]
        },
        {
          "name": "stdout",
          "output_type": "stream",
          "text": [
            "1/1 [==============================] - 0s 39ms/step\n"
          ]
        },
        {
          "name": "stderr",
          "output_type": "stream",
          "text": [
            "\r 75%|███████▌  | 129/171 [00:43<00:12,  3.27it/s]"
          ]
        },
        {
          "name": "stdout",
          "output_type": "stream",
          "text": [
            "1/1 [==============================] - 0s 42ms/step\n"
          ]
        },
        {
          "name": "stderr",
          "output_type": "stream",
          "text": [
            "\r 76%|███████▌  | 130/171 [00:43<00:12,  3.23it/s]"
          ]
        },
        {
          "name": "stdout",
          "output_type": "stream",
          "text": [
            "1/1 [==============================] - 0s 42ms/step\n"
          ]
        },
        {
          "name": "stderr",
          "output_type": "stream",
          "text": [
            "\r 77%|███████▋  | 131/171 [00:44<00:12,  3.21it/s]"
          ]
        },
        {
          "name": "stdout",
          "output_type": "stream",
          "text": [
            "1/1 [==============================] - 0s 40ms/step\n"
          ]
        },
        {
          "name": "stderr",
          "output_type": "stream",
          "text": [
            "\r 77%|███████▋  | 132/171 [00:44<00:12,  3.20it/s]"
          ]
        },
        {
          "name": "stdout",
          "output_type": "stream",
          "text": [
            "1/1 [==============================] - 0s 36ms/step\n"
          ]
        },
        {
          "name": "stderr",
          "output_type": "stream",
          "text": [
            "\r 78%|███████▊  | 133/171 [00:44<00:11,  3.18it/s]"
          ]
        },
        {
          "name": "stdout",
          "output_type": "stream",
          "text": [
            "1/1 [==============================] - 0s 40ms/step\n"
          ]
        },
        {
          "name": "stderr",
          "output_type": "stream",
          "text": [
            "\r 78%|███████▊  | 134/171 [00:44<00:11,  3.16it/s]"
          ]
        },
        {
          "name": "stdout",
          "output_type": "stream",
          "text": [
            "1/1 [==============================] - 0s 45ms/step\n"
          ]
        },
        {
          "name": "stderr",
          "output_type": "stream",
          "text": [
            "\r 79%|███████▉  | 135/171 [00:45<00:11,  3.15it/s]"
          ]
        },
        {
          "name": "stdout",
          "output_type": "stream",
          "text": [
            "1/1 [==============================] - 0s 26ms/step\n"
          ]
        },
        {
          "name": "stderr",
          "output_type": "stream",
          "text": [
            "\r 80%|███████▉  | 136/171 [00:45<00:10,  3.35it/s]"
          ]
        },
        {
          "name": "stdout",
          "output_type": "stream",
          "text": [
            "1/1 [==============================] - 0s 27ms/step\n"
          ]
        },
        {
          "name": "stderr",
          "output_type": "stream",
          "text": [
            "\r 80%|████████  | 137/171 [00:45<00:09,  3.54it/s]"
          ]
        },
        {
          "name": "stdout",
          "output_type": "stream",
          "text": [
            "1/1 [==============================] - 0s 28ms/step\n"
          ]
        },
        {
          "name": "stderr",
          "output_type": "stream",
          "text": [
            "\r 81%|████████  | 138/171 [00:46<00:09,  3.61it/s]"
          ]
        },
        {
          "name": "stdout",
          "output_type": "stream",
          "text": [
            "1/1 [==============================] - 0s 27ms/step\n"
          ]
        },
        {
          "name": "stderr",
          "output_type": "stream",
          "text": [
            "\r 81%|████████▏ | 139/171 [00:46<00:08,  3.67it/s]"
          ]
        },
        {
          "name": "stdout",
          "output_type": "stream",
          "text": [
            "1/1 [==============================] - 0s 27ms/step\n"
          ]
        },
        {
          "name": "stderr",
          "output_type": "stream",
          "text": [
            "\r 82%|████████▏ | 140/171 [00:46<00:08,  3.72it/s]"
          ]
        },
        {
          "name": "stdout",
          "output_type": "stream",
          "text": [
            "1/1 [==============================] - 0s 32ms/step\n"
          ]
        },
        {
          "name": "stderr",
          "output_type": "stream",
          "text": [
            "\r 82%|████████▏ | 141/171 [00:46<00:08,  3.72it/s]"
          ]
        },
        {
          "name": "stdout",
          "output_type": "stream",
          "text": [
            "1/1 [==============================] - 0s 28ms/step\n"
          ]
        },
        {
          "name": "stderr",
          "output_type": "stream",
          "text": [
            "\r 83%|████████▎ | 142/171 [00:47<00:07,  3.71it/s]"
          ]
        },
        {
          "name": "stdout",
          "output_type": "stream",
          "text": [
            "1/1 [==============================] - 0s 26ms/step\n"
          ]
        },
        {
          "name": "stderr",
          "output_type": "stream",
          "text": [
            "\r 84%|████████▎ | 143/171 [00:47<00:07,  3.75it/s]"
          ]
        },
        {
          "name": "stdout",
          "output_type": "stream",
          "text": [
            "1/1 [==============================] - 0s 31ms/step\n"
          ]
        },
        {
          "name": "stderr",
          "output_type": "stream",
          "text": [
            "\r 84%|████████▍ | 144/171 [00:47<00:07,  3.74it/s]"
          ]
        },
        {
          "name": "stdout",
          "output_type": "stream",
          "text": [
            "1/1 [==============================] - 0s 28ms/step\n"
          ]
        },
        {
          "name": "stderr",
          "output_type": "stream",
          "text": [
            "\r 85%|████████▍ | 145/171 [00:47<00:06,  3.86it/s]"
          ]
        },
        {
          "name": "stdout",
          "output_type": "stream",
          "text": [
            "1/1 [==============================] - 0s 28ms/step\n"
          ]
        },
        {
          "name": "stderr",
          "output_type": "stream",
          "text": [
            "\r 85%|████████▌ | 146/171 [00:48<00:06,  3.84it/s]"
          ]
        },
        {
          "name": "stdout",
          "output_type": "stream",
          "text": [
            "1/1 [==============================] - 0s 27ms/step\n"
          ]
        },
        {
          "name": "stderr",
          "output_type": "stream",
          "text": [
            "\r 86%|████████▌ | 147/171 [00:48<00:06,  3.80it/s]"
          ]
        },
        {
          "name": "stdout",
          "output_type": "stream",
          "text": [
            "1/1 [==============================] - 0s 29ms/step\n"
          ]
        },
        {
          "name": "stderr",
          "output_type": "stream",
          "text": [
            "\r 87%|████████▋ | 148/171 [00:48<00:06,  3.80it/s]"
          ]
        },
        {
          "name": "stdout",
          "output_type": "stream",
          "text": [
            "1/1 [==============================] - 0s 29ms/step\n"
          ]
        },
        {
          "name": "stderr",
          "output_type": "stream",
          "text": [
            "\r 87%|████████▋ | 149/171 [00:48<00:05,  3.84it/s]"
          ]
        },
        {
          "name": "stdout",
          "output_type": "stream",
          "text": [
            "1/1 [==============================] - 0s 27ms/step\n"
          ]
        },
        {
          "name": "stderr",
          "output_type": "stream",
          "text": [
            "\r 88%|████████▊ | 150/171 [00:49<00:05,  3.85it/s]"
          ]
        },
        {
          "name": "stdout",
          "output_type": "stream",
          "text": [
            "1/1 [==============================] - 0s 28ms/step\n"
          ]
        },
        {
          "name": "stderr",
          "output_type": "stream",
          "text": [
            "\r 88%|████████▊ | 151/171 [00:49<00:05,  3.91it/s]"
          ]
        },
        {
          "name": "stdout",
          "output_type": "stream",
          "text": [
            "1/1 [==============================] - 0s 28ms/step\n"
          ]
        },
        {
          "name": "stderr",
          "output_type": "stream",
          "text": [
            "\r 89%|████████▉ | 152/171 [00:49<00:04,  3.89it/s]"
          ]
        },
        {
          "name": "stdout",
          "output_type": "stream",
          "text": [
            "1/1 [==============================] - 0s 29ms/step\n"
          ]
        },
        {
          "name": "stderr",
          "output_type": "stream",
          "text": [
            "\r 89%|████████▉ | 153/171 [00:49<00:04,  3.87it/s]"
          ]
        },
        {
          "name": "stdout",
          "output_type": "stream",
          "text": [
            "1/1 [==============================] - 0s 29ms/step\n"
          ]
        },
        {
          "name": "stderr",
          "output_type": "stream",
          "text": [
            "\r 90%|█████████ | 154/171 [00:50<00:04,  3.92it/s]"
          ]
        },
        {
          "name": "stdout",
          "output_type": "stream",
          "text": [
            "1/1 [==============================] - 0s 26ms/step\n"
          ]
        },
        {
          "name": "stderr",
          "output_type": "stream",
          "text": [
            "\r 91%|█████████ | 155/171 [00:50<00:04,  3.87it/s]"
          ]
        },
        {
          "name": "stdout",
          "output_type": "stream",
          "text": [
            "1/1 [==============================] - 0s 27ms/step\n"
          ]
        },
        {
          "name": "stderr",
          "output_type": "stream",
          "text": [
            "\r 91%|█████████ | 156/171 [00:50<00:03,  3.85it/s]"
          ]
        },
        {
          "name": "stdout",
          "output_type": "stream",
          "text": [
            "1/1 [==============================] - 0s 30ms/step\n"
          ]
        },
        {
          "name": "stderr",
          "output_type": "stream",
          "text": [
            "\r 92%|█████████▏| 157/171 [00:50<00:03,  3.88it/s]"
          ]
        },
        {
          "name": "stdout",
          "output_type": "stream",
          "text": [
            "1/1 [==============================] - 0s 26ms/step\n"
          ]
        },
        {
          "name": "stderr",
          "output_type": "stream",
          "text": [
            "\r 92%|█████████▏| 158/171 [00:51<00:03,  3.94it/s]"
          ]
        },
        {
          "name": "stdout",
          "output_type": "stream",
          "text": [
            "1/1 [==============================] - 0s 28ms/step\n"
          ]
        },
        {
          "name": "stderr",
          "output_type": "stream",
          "text": [
            "\r 93%|█████████▎| 159/171 [00:51<00:03,  3.92it/s]"
          ]
        },
        {
          "name": "stdout",
          "output_type": "stream",
          "text": [
            "1/1 [==============================] - 0s 29ms/step\n"
          ]
        },
        {
          "name": "stderr",
          "output_type": "stream",
          "text": [
            "\r 94%|█████████▎| 160/171 [00:51<00:02,  3.97it/s]"
          ]
        },
        {
          "name": "stdout",
          "output_type": "stream",
          "text": [
            "1/1 [==============================] - 0s 30ms/step\n"
          ]
        },
        {
          "name": "stderr",
          "output_type": "stream",
          "text": [
            "\r 94%|█████████▍| 161/171 [00:51<00:02,  4.02it/s]"
          ]
        },
        {
          "name": "stdout",
          "output_type": "stream",
          "text": [
            "1/1 [==============================] - 0s 27ms/step\n"
          ]
        },
        {
          "name": "stderr",
          "output_type": "stream",
          "text": [
            "\r 95%|█████████▍| 162/171 [00:52<00:02,  3.96it/s]"
          ]
        },
        {
          "name": "stdout",
          "output_type": "stream",
          "text": [
            "1/1 [==============================] - 0s 26ms/step\n"
          ]
        },
        {
          "name": "stderr",
          "output_type": "stream",
          "text": [
            "\r 95%|█████████▌| 163/171 [00:52<00:02,  3.96it/s]"
          ]
        },
        {
          "name": "stdout",
          "output_type": "stream",
          "text": [
            "1/1 [==============================] - 0s 26ms/step\n"
          ]
        },
        {
          "name": "stderr",
          "output_type": "stream",
          "text": [
            "\r 96%|█████████▌| 164/171 [00:52<00:01,  3.92it/s]"
          ]
        },
        {
          "name": "stdout",
          "output_type": "stream",
          "text": [
            "1/1 [==============================] - 0s 28ms/step\n"
          ]
        },
        {
          "name": "stderr",
          "output_type": "stream",
          "text": [
            "\r 96%|█████████▋| 165/171 [00:52<00:01,  3.94it/s]"
          ]
        },
        {
          "name": "stdout",
          "output_type": "stream",
          "text": [
            "1/1 [==============================] - 0s 26ms/step\n"
          ]
        },
        {
          "name": "stderr",
          "output_type": "stream",
          "text": [
            "\r 97%|█████████▋| 166/171 [00:53<00:01,  3.94it/s]"
          ]
        },
        {
          "name": "stdout",
          "output_type": "stream",
          "text": [
            "1/1 [==============================] - 0s 32ms/step\n"
          ]
        },
        {
          "name": "stderr",
          "output_type": "stream",
          "text": [
            "\r 98%|█████████▊| 167/171 [00:53<00:01,  3.90it/s]"
          ]
        },
        {
          "name": "stdout",
          "output_type": "stream",
          "text": [
            "1/1 [==============================] - 0s 26ms/step\n"
          ]
        },
        {
          "name": "stderr",
          "output_type": "stream",
          "text": [
            "\r 98%|█████████▊| 168/171 [00:53<00:00,  3.95it/s]"
          ]
        },
        {
          "name": "stdout",
          "output_type": "stream",
          "text": [
            "1/1 [==============================] - 0s 28ms/step\n"
          ]
        },
        {
          "name": "stderr",
          "output_type": "stream",
          "text": [
            "\r 99%|█████████▉| 169/171 [00:54<00:00,  3.97it/s]"
          ]
        },
        {
          "name": "stdout",
          "output_type": "stream",
          "text": [
            "1/1 [==============================] - 0s 26ms/step\n"
          ]
        },
        {
          "name": "stderr",
          "output_type": "stream",
          "text": [
            "\r 99%|█████████▉| 170/171 [00:54<00:00,  3.93it/s]"
          ]
        },
        {
          "name": "stdout",
          "output_type": "stream",
          "text": [
            "1/1 [==============================] - 7s 7s/step\n"
          ]
        },
        {
          "name": "stderr",
          "output_type": "stream",
          "text": [
            "\r100%|██████████| 171/171 [01:06<00:00,  3.78s/it]"
          ]
        },
        {
          "name": "stdout",
          "output_type": "stream",
          "text": [
            "1/1 [==============================] - 0s 26ms/step\n"
          ]
        },
        {
          "name": "stderr",
          "output_type": "stream",
          "text": [
            "\r172it [01:06,  2.71s/it]                         "
          ]
        },
        {
          "name": "stdout",
          "output_type": "stream",
          "text": [
            "1/1 [==============================] - 0s 27ms/step\n"
          ]
        },
        {
          "name": "stderr",
          "output_type": "stream",
          "text": [
            "\r172it [01:06,  2.58it/s]"
          ]
        },
        {
          "name": "stdout",
          "output_type": "stream",
          "text": [
            "Precision: 0.0\n",
            "Recall: 0.0\n",
            "Binary Accuracy: 0.9781035\n",
            "True Positives: 0.0\n",
            "True Negatives: 5405.0\n",
            "False Positives: 1.0\n",
            "False Negatives: 120.0\n"
          ]
        },
        {
          "name": "stderr",
          "output_type": "stream",
          "text": [
            "\n"
          ]
        }
      ],
      "source": [
        "from tensorflow.keras.metrics import Precision, Recall, BinaryAccuracy, TruePositives, TrueNegatives, FalsePositives, FalseNegatives\n",
        "from tqdm import tqdm\n",
        "\n",
        "pre = Precision()\n",
        "re = Recall()\n",
        "acc = BinaryAccuracy()\n",
        "tp = TruePositives()\n",
        "tn = TrueNegatives()\n",
        "fp = FalsePositives()\n",
        "fn = FalseNegatives()\n",
        "\n",
        "for i, batch in tqdm(enumerate(test_generator), total=len(test_generator)):\n",
        "    X, y = batch\n",
        "    yhat = model.predict(X)\n",
        "    pre.update_state(y, yhat)\n",
        "    re.update_state(y, yhat)\n",
        "    acc.update_state(y, yhat)\n",
        "    tp.update_state(y, yhat)\n",
        "    tn.update_state(y, yhat)\n",
        "    fp.update_state(y, yhat)\n",
        "    fn.update_state(y, yhat)\n",
        "    if(i>len(test_generator)):\n",
        "     break\n",
        "\n",
        "print(\"Precision:\", pre.result().numpy())\n",
        "print(\"Recall:\", re.result().numpy())\n",
        "print(\"Binary Accuracy:\", acc.result().numpy())\n",
        "print(\"True Positives:\", tp.result().numpy())\n",
        "print(\"True Negatives:\", tn.result().numpy())\n",
        "print(\"False Positives:\", fp.result().numpy())\n",
        "print(\"False Negatives:\", fn.result().numpy())\n"
      ]
    },
    {
      "cell_type": "code",
      "execution_count": null,
      "metadata": {
        "id": "34tEpAiazhr9"
      },
      "outputs": [],
      "source": [
        "!cp /content/ResNet50LCC_model.h5 /content/drive/MyDrive/Licenta"
      ]
    },
    {
      "cell_type": "code",
      "execution_count": null,
      "metadata": {
        "id": "5olQkNZYBVvz"
      },
      "outputs": [],
      "source": [
        "import tensorflow as tf"
      ]
    },
    {
      "cell_type": "code",
      "execution_count": null,
      "metadata": {
        "colab": {
          "base_uri": "https://localhost:8080/"
        },
        "id": "k95Fjdj1zhqD",
        "outputId": "1a2b59d7-1c76-4d82-9835-61dacb6cfda5"
      },
      "outputs": [
        {
          "name": "stderr",
          "output_type": "stream",
          "text": [
            "\r  0%|          | 0/181 [00:00<?, ?it/s]"
          ]
        },
        {
          "name": "stdout",
          "output_type": "stream",
          "text": [
            "1/1 [==============================] - 6s 6s/step\n"
          ]
        },
        {
          "name": "stderr",
          "output_type": "stream",
          "text": [
            "\r  1%|          | 1/181 [00:06<20:13,  6.74s/it]"
          ]
        },
        {
          "name": "stdout",
          "output_type": "stream",
          "text": [
            "1/1 [==============================] - 3s 3s/step\n"
          ]
        },
        {
          "name": "stderr",
          "output_type": "stream",
          "text": [
            "\r  1%|          | 2/181 [00:10<14:25,  4.83s/it]"
          ]
        },
        {
          "name": "stdout",
          "output_type": "stream",
          "text": [
            "1/1 [==============================] - 3s 3s/step\n"
          ]
        },
        {
          "name": "stderr",
          "output_type": "stream",
          "text": [
            "\r  2%|▏         | 3/181 [00:13<12:22,  4.17s/it]"
          ]
        },
        {
          "name": "stdout",
          "output_type": "stream",
          "text": [
            "1/1 [==============================] - 5s 5s/step\n"
          ]
        },
        {
          "name": "stderr",
          "output_type": "stream",
          "text": [
            "\r  2%|▏         | 4/181 [00:19<14:07,  4.79s/it]"
          ]
        },
        {
          "name": "stdout",
          "output_type": "stream",
          "text": [
            "1/1 [==============================] - 3s 3s/step\n"
          ]
        },
        {
          "name": "stderr",
          "output_type": "stream",
          "text": [
            "\r  3%|▎         | 5/181 [00:22<12:35,  4.29s/it]"
          ]
        },
        {
          "name": "stdout",
          "output_type": "stream",
          "text": [
            "1/1 [==============================] - 3s 3s/step\n"
          ]
        },
        {
          "name": "stderr",
          "output_type": "stream",
          "text": [
            "\r  3%|▎         | 6/181 [00:26<11:31,  3.95s/it]"
          ]
        },
        {
          "name": "stdout",
          "output_type": "stream",
          "text": [
            "1/1 [==============================] - 3s 3s/step\n"
          ]
        },
        {
          "name": "stderr",
          "output_type": "stream",
          "text": [
            "\r  4%|▍         | 7/181 [00:29<11:02,  3.81s/it]"
          ]
        },
        {
          "name": "stdout",
          "output_type": "stream",
          "text": [
            "1/1 [==============================] - 5s 5s/step\n"
          ]
        },
        {
          "name": "stderr",
          "output_type": "stream",
          "text": [
            "\r  4%|▍         | 8/181 [00:35<12:31,  4.34s/it]"
          ]
        },
        {
          "name": "stdout",
          "output_type": "stream",
          "text": [
            "1/1 [==============================] - 3s 3s/step\n"
          ]
        },
        {
          "name": "stderr",
          "output_type": "stream",
          "text": [
            "\r  5%|▍         | 9/181 [00:38<11:36,  4.05s/it]"
          ]
        },
        {
          "name": "stdout",
          "output_type": "stream",
          "text": [
            "1/1 [==============================] - 3s 3s/step\n"
          ]
        },
        {
          "name": "stderr",
          "output_type": "stream",
          "text": [
            "\r  6%|▌         | 10/181 [00:41<11:01,  3.87s/it]"
          ]
        },
        {
          "name": "stdout",
          "output_type": "stream",
          "text": [
            "1/1 [==============================] - 4s 4s/step\n"
          ]
        },
        {
          "name": "stderr",
          "output_type": "stream",
          "text": [
            "\r  6%|▌         | 11/181 [00:45<11:04,  3.91s/it]"
          ]
        },
        {
          "name": "stdout",
          "output_type": "stream",
          "text": [
            "1/1 [==============================] - 5s 5s/step\n"
          ]
        },
        {
          "name": "stderr",
          "output_type": "stream",
          "text": [
            "\r  7%|▋         | 12/181 [00:50<11:51,  4.21s/it]"
          ]
        },
        {
          "name": "stdout",
          "output_type": "stream",
          "text": [
            "1/1 [==============================] - 3s 3s/step\n"
          ]
        },
        {
          "name": "stderr",
          "output_type": "stream",
          "text": [
            "\r  7%|▋         | 13/181 [00:54<11:04,  3.95s/it]"
          ]
        },
        {
          "name": "stdout",
          "output_type": "stream",
          "text": [
            "1/1 [==============================] - 3s 3s/step\n"
          ]
        },
        {
          "name": "stderr",
          "output_type": "stream",
          "text": [
            "\r  8%|▊         | 14/181 [00:57<10:38,  3.82s/it]"
          ]
        },
        {
          "name": "stdout",
          "output_type": "stream",
          "text": [
            "1/1 [==============================] - 5s 5s/step\n"
          ]
        },
        {
          "name": "stderr",
          "output_type": "stream",
          "text": [
            "\r  8%|▊         | 15/181 [01:03<11:51,  4.28s/it]"
          ]
        },
        {
          "name": "stdout",
          "output_type": "stream",
          "text": [
            "1/1 [==============================] - 4s 4s/step\n"
          ]
        },
        {
          "name": "stderr",
          "output_type": "stream",
          "text": [
            "\r  9%|▉         | 16/181 [01:07<11:45,  4.27s/it]"
          ]
        },
        {
          "name": "stdout",
          "output_type": "stream",
          "text": [
            "1/1 [==============================] - 3s 3s/step\n"
          ]
        },
        {
          "name": "stderr",
          "output_type": "stream",
          "text": [
            "\r  9%|▉         | 17/181 [01:10<11:02,  4.04s/it]"
          ]
        },
        {
          "name": "stdout",
          "output_type": "stream",
          "text": [
            "1/1 [==============================] - 3s 3s/step\n"
          ]
        },
        {
          "name": "stderr",
          "output_type": "stream",
          "text": [
            "\r 10%|▉         | 18/181 [01:14<10:28,  3.85s/it]"
          ]
        },
        {
          "name": "stdout",
          "output_type": "stream",
          "text": [
            "1/1 [==============================] - 5s 5s/step\n"
          ]
        },
        {
          "name": "stderr",
          "output_type": "stream",
          "text": [
            "\r 10%|█         | 19/181 [01:19<11:47,  4.36s/it]"
          ]
        },
        {
          "name": "stdout",
          "output_type": "stream",
          "text": [
            "1/1 [==============================] - 3s 3s/step\n"
          ]
        },
        {
          "name": "stderr",
          "output_type": "stream",
          "text": [
            "\r 11%|█         | 20/181 [01:23<10:57,  4.08s/it]"
          ]
        },
        {
          "name": "stdout",
          "output_type": "stream",
          "text": [
            "1/1 [==============================] - 3s 3s/step\n"
          ]
        },
        {
          "name": "stderr",
          "output_type": "stream",
          "text": [
            "\r 12%|█▏        | 21/181 [01:26<10:18,  3.87s/it]"
          ]
        },
        {
          "name": "stdout",
          "output_type": "stream",
          "text": [
            "1/1 [==============================] - 4s 4s/step\n"
          ]
        },
        {
          "name": "stderr",
          "output_type": "stream",
          "text": [
            "\r 12%|█▏        | 22/181 [01:31<11:26,  4.32s/it]"
          ]
        },
        {
          "name": "stdout",
          "output_type": "stream",
          "text": [
            "1/1 [==============================] - 4s 4s/step\n"
          ]
        },
        {
          "name": "stderr",
          "output_type": "stream",
          "text": [
            "\r 13%|█▎        | 23/181 [01:36<11:12,  4.26s/it]"
          ]
        },
        {
          "name": "stdout",
          "output_type": "stream",
          "text": [
            "1/1 [==============================] - 3s 3s/step\n"
          ]
        },
        {
          "name": "stderr",
          "output_type": "stream",
          "text": [
            "\r 13%|█▎        | 24/181 [01:39<10:30,  4.02s/it]"
          ]
        },
        {
          "name": "stdout",
          "output_type": "stream",
          "text": [
            "1/1 [==============================] - 3s 3s/step\n"
          ]
        },
        {
          "name": "stderr",
          "output_type": "stream",
          "text": [
            "\r 14%|█▍        | 25/181 [01:42<09:55,  3.82s/it]"
          ]
        },
        {
          "name": "stdout",
          "output_type": "stream",
          "text": [
            "1/1 [==============================] - 5s 5s/step\n"
          ]
        },
        {
          "name": "stderr",
          "output_type": "stream",
          "text": [
            "\r 14%|█▍        | 26/181 [01:48<11:00,  4.26s/it]"
          ]
        },
        {
          "name": "stdout",
          "output_type": "stream",
          "text": [
            "1/1 [==============================] - 3s 3s/step\n"
          ]
        },
        {
          "name": "stderr",
          "output_type": "stream",
          "text": [
            "\r 15%|█▍        | 27/181 [01:51<10:27,  4.07s/it]"
          ]
        },
        {
          "name": "stdout",
          "output_type": "stream",
          "text": [
            "1/1 [==============================] - 4s 4s/step\n"
          ]
        },
        {
          "name": "stderr",
          "output_type": "stream",
          "text": [
            "\r 15%|█▌        | 28/181 [01:55<10:27,  4.10s/it]"
          ]
        },
        {
          "name": "stdout",
          "output_type": "stream",
          "text": [
            "1/1 [==============================] - 3s 3s/step\n"
          ]
        },
        {
          "name": "stderr",
          "output_type": "stream",
          "text": [
            "\r 16%|█▌        | 29/181 [01:59<09:51,  3.89s/it]"
          ]
        },
        {
          "name": "stdout",
          "output_type": "stream",
          "text": [
            "1/1 [==============================] - 5s 5s/step\n"
          ]
        },
        {
          "name": "stderr",
          "output_type": "stream",
          "text": [
            "\r 17%|█▋        | 30/181 [02:04<10:59,  4.37s/it]"
          ]
        },
        {
          "name": "stdout",
          "output_type": "stream",
          "text": [
            "1/1 [==============================] - 3s 3s/step\n"
          ]
        },
        {
          "name": "stderr",
          "output_type": "stream",
          "text": [
            "\r 17%|█▋        | 31/181 [02:08<10:12,  4.08s/it]"
          ]
        },
        {
          "name": "stdout",
          "output_type": "stream",
          "text": [
            "1/1 [==============================] - 3s 3s/step\n"
          ]
        },
        {
          "name": "stderr",
          "output_type": "stream",
          "text": [
            "\r 18%|█▊        | 32/181 [02:13<11:05,  4.47s/it]"
          ]
        },
        {
          "name": "stdout",
          "output_type": "stream",
          "text": [
            "1/1 [==============================] - 5s 5s/step\n"
          ]
        },
        {
          "name": "stderr",
          "output_type": "stream",
          "text": [
            "\r 18%|█▊        | 33/181 [02:19<11:49,  4.80s/it]"
          ]
        },
        {
          "name": "stdout",
          "output_type": "stream",
          "text": [
            "1/1 [==============================] - 3s 3s/step\n"
          ]
        },
        {
          "name": "stderr",
          "output_type": "stream",
          "text": [
            "\r 19%|█▉        | 34/181 [02:22<10:49,  4.42s/it]"
          ]
        },
        {
          "name": "stdout",
          "output_type": "stream",
          "text": [
            "1/1 [==============================] - 3s 3s/step\n"
          ]
        },
        {
          "name": "stderr",
          "output_type": "stream",
          "text": [
            "\r 19%|█▉        | 35/181 [02:26<09:58,  4.10s/it]"
          ]
        },
        {
          "name": "stdout",
          "output_type": "stream",
          "text": [
            "1/1 [==============================] - 3s 3s/step\n"
          ]
        },
        {
          "name": "stderr",
          "output_type": "stream",
          "text": [
            "\r 20%|█▉        | 36/181 [02:31<10:49,  4.48s/it]"
          ]
        },
        {
          "name": "stdout",
          "output_type": "stream",
          "text": [
            "1/1 [==============================] - 4s 4s/step\n"
          ]
        },
        {
          "name": "stderr",
          "output_type": "stream",
          "text": [
            "\r 20%|██        | 37/181 [02:36<11:26,  4.76s/it]"
          ]
        },
        {
          "name": "stdout",
          "output_type": "stream",
          "text": [
            "1/1 [==============================] - 3s 3s/step\n"
          ]
        },
        {
          "name": "stderr",
          "output_type": "stream",
          "text": [
            "\r 21%|██        | 38/181 [02:40<10:23,  4.36s/it]"
          ]
        },
        {
          "name": "stdout",
          "output_type": "stream",
          "text": [
            "1/1 [==============================] - 3s 3s/step\n"
          ]
        },
        {
          "name": "stderr",
          "output_type": "stream",
          "text": [
            "\r 22%|██▏       | 39/181 [02:43<09:48,  4.14s/it]"
          ]
        },
        {
          "name": "stdout",
          "output_type": "stream",
          "text": [
            "1/1 [==============================] - 10s 10s/step\n"
          ]
        },
        {
          "name": "stderr",
          "output_type": "stream",
          "text": [
            "\r 22%|██▏       | 40/181 [02:54<14:14,  6.06s/it]"
          ]
        },
        {
          "name": "stdout",
          "output_type": "stream",
          "text": [
            "1/1 [==============================] - 3s 3s/step\n"
          ]
        },
        {
          "name": "stderr",
          "output_type": "stream",
          "text": [
            "\r 23%|██▎       | 41/181 [02:58<12:26,  5.33s/it]"
          ]
        },
        {
          "name": "stdout",
          "output_type": "stream",
          "text": [
            "1/1 [==============================] - 3s 3s/step\n"
          ]
        },
        {
          "name": "stderr",
          "output_type": "stream",
          "text": [
            "\r 23%|██▎       | 42/181 [03:01<11:00,  4.75s/it]"
          ]
        },
        {
          "name": "stdout",
          "output_type": "stream",
          "text": [
            "1/1 [==============================] - 5s 5s/step\n"
          ]
        },
        {
          "name": "stderr",
          "output_type": "stream",
          "text": [
            "\r 24%|██▍       | 43/181 [03:06<11:15,  4.89s/it]"
          ]
        },
        {
          "name": "stdout",
          "output_type": "stream",
          "text": [
            "1/1 [==============================] - 4s 4s/step\n"
          ]
        },
        {
          "name": "stderr",
          "output_type": "stream",
          "text": [
            "\r 24%|██▍       | 44/181 [03:10<10:27,  4.58s/it]"
          ]
        },
        {
          "name": "stdout",
          "output_type": "stream",
          "text": [
            "1/1 [==============================] - 3s 3s/step\n"
          ]
        },
        {
          "name": "stderr",
          "output_type": "stream",
          "text": [
            "\r 25%|██▍       | 45/181 [03:15<10:55,  4.82s/it]"
          ]
        },
        {
          "name": "stdout",
          "output_type": "stream",
          "text": [
            "1/1 [==============================] - 6s 6s/step\n"
          ]
        },
        {
          "name": "stderr",
          "output_type": "stream",
          "text": [
            "\r 25%|██▌       | 46/181 [03:26<14:44,  6.55s/it]"
          ]
        },
        {
          "name": "stdout",
          "output_type": "stream",
          "text": [
            "1/1 [==============================] - 3s 3s/step\n"
          ]
        },
        {
          "name": "stderr",
          "output_type": "stream",
          "text": [
            "\r 26%|██▌       | 47/181 [03:30<12:34,  5.63s/it]"
          ]
        },
        {
          "name": "stdout",
          "output_type": "stream",
          "text": [
            "1/1 [==============================] - 3s 3s/step\n"
          ]
        },
        {
          "name": "stderr",
          "output_type": "stream",
          "text": [
            "\r 27%|██▋       | 48/181 [03:33<10:59,  4.96s/it]"
          ]
        },
        {
          "name": "stdout",
          "output_type": "stream",
          "text": [
            "1/1 [==============================] - 5s 5s/step\n"
          ]
        },
        {
          "name": "stderr",
          "output_type": "stream",
          "text": [
            "\r 27%|██▋       | 49/181 [03:38<11:14,  5.11s/it]"
          ]
        },
        {
          "name": "stdout",
          "output_type": "stream",
          "text": [
            "1/1 [==============================] - 3s 3s/step\n"
          ]
        },
        {
          "name": "stderr",
          "output_type": "stream",
          "text": [
            "\r 28%|██▊       | 50/181 [03:42<10:05,  4.62s/it]"
          ]
        },
        {
          "name": "stdout",
          "output_type": "stream",
          "text": [
            "1/1 [==============================] - 3s 3s/step\n"
          ]
        },
        {
          "name": "stderr",
          "output_type": "stream",
          "text": [
            "\r 28%|██▊       | 51/181 [03:45<09:12,  4.25s/it]"
          ]
        },
        {
          "name": "stdout",
          "output_type": "stream",
          "text": [
            "1/1 [==============================] - 3s 3s/step\n"
          ]
        },
        {
          "name": "stderr",
          "output_type": "stream",
          "text": [
            "\r 29%|██▊       | 52/181 [03:49<08:33,  3.98s/it]"
          ]
        },
        {
          "name": "stdout",
          "output_type": "stream",
          "text": [
            "1/1 [==============================] - 6s 6s/step\n"
          ]
        },
        {
          "name": "stderr",
          "output_type": "stream",
          "text": [
            "\r 29%|██▉       | 53/181 [03:54<09:37,  4.51s/it]"
          ]
        },
        {
          "name": "stdout",
          "output_type": "stream",
          "text": [
            "1/1 [==============================] - 3s 3s/step\n"
          ]
        },
        {
          "name": "stderr",
          "output_type": "stream",
          "text": [
            "\r 30%|██▉       | 54/181 [03:58<08:47,  4.16s/it]"
          ]
        },
        {
          "name": "stdout",
          "output_type": "stream",
          "text": [
            "1/1 [==============================] - 3s 3s/step\n"
          ]
        },
        {
          "name": "stderr",
          "output_type": "stream",
          "text": [
            "\r 30%|███       | 55/181 [04:01<08:13,  3.92s/it]"
          ]
        },
        {
          "name": "stdout",
          "output_type": "stream",
          "text": [
            "1/1 [==============================] - 3s 3s/step\n"
          ]
        },
        {
          "name": "stderr",
          "output_type": "stream",
          "text": [
            "\r 31%|███       | 56/181 [04:05<07:58,  3.83s/it]"
          ]
        },
        {
          "name": "stdout",
          "output_type": "stream",
          "text": [
            "1/1 [==============================] - 5s 5s/step\n"
          ]
        },
        {
          "name": "stderr",
          "output_type": "stream",
          "text": [
            "\r 31%|███▏      | 57/181 [04:10<08:57,  4.34s/it]"
          ]
        },
        {
          "name": "stdout",
          "output_type": "stream",
          "text": [
            "1/1 [==============================] - 3s 3s/step\n"
          ]
        },
        {
          "name": "stderr",
          "output_type": "stream",
          "text": [
            "\r 32%|███▏      | 58/181 [04:14<08:19,  4.06s/it]"
          ]
        },
        {
          "name": "stdout",
          "output_type": "stream",
          "text": [
            "1/1 [==============================] - 3s 3s/step\n"
          ]
        },
        {
          "name": "stderr",
          "output_type": "stream",
          "text": [
            "\r 33%|███▎      | 59/181 [04:17<07:50,  3.86s/it]"
          ]
        },
        {
          "name": "stdout",
          "output_type": "stream",
          "text": [
            "1/1 [==============================] - 4s 4s/step\n"
          ]
        },
        {
          "name": "stderr",
          "output_type": "stream",
          "text": [
            "\r 33%|███▎      | 60/181 [04:21<07:54,  3.92s/it]"
          ]
        },
        {
          "name": "stdout",
          "output_type": "stream",
          "text": [
            "1/1 [==============================] - 5s 5s/step\n"
          ]
        },
        {
          "name": "stderr",
          "output_type": "stream",
          "text": [
            "\r 34%|███▎      | 61/181 [04:26<08:24,  4.21s/it]"
          ]
        },
        {
          "name": "stdout",
          "output_type": "stream",
          "text": [
            "1/1 [==============================] - 3s 3s/step\n"
          ]
        },
        {
          "name": "stderr",
          "output_type": "stream",
          "text": [
            "\r 34%|███▍      | 62/181 [04:29<07:49,  3.94s/it]"
          ]
        },
        {
          "name": "stdout",
          "output_type": "stream",
          "text": [
            "1/1 [==============================] - 3s 3s/step\n"
          ]
        },
        {
          "name": "stderr",
          "output_type": "stream",
          "text": [
            "\r 35%|███▍      | 63/181 [04:33<07:22,  3.75s/it]"
          ]
        },
        {
          "name": "stdout",
          "output_type": "stream",
          "text": [
            "1/1 [==============================] - 4s 4s/step\n"
          ]
        },
        {
          "name": "stderr",
          "output_type": "stream",
          "text": [
            "\r 35%|███▌      | 64/181 [04:37<07:44,  3.97s/it]"
          ]
        },
        {
          "name": "stdout",
          "output_type": "stream",
          "text": [
            "1/1 [==============================] - 4s 4s/step\n"
          ]
        },
        {
          "name": "stderr",
          "output_type": "stream",
          "text": [
            "\r 36%|███▌      | 65/181 [04:41<07:57,  4.11s/it]"
          ]
        },
        {
          "name": "stdout",
          "output_type": "stream",
          "text": [
            "1/1 [==============================] - 3s 3s/step\n"
          ]
        },
        {
          "name": "stderr",
          "output_type": "stream",
          "text": [
            "\r 36%|███▋      | 66/181 [04:45<07:27,  3.90s/it]"
          ]
        },
        {
          "name": "stdout",
          "output_type": "stream",
          "text": [
            "1/1 [==============================] - 3s 3s/step\n"
          ]
        },
        {
          "name": "stderr",
          "output_type": "stream",
          "text": [
            "\r 37%|███▋      | 67/181 [04:48<07:04,  3.73s/it]"
          ]
        },
        {
          "name": "stdout",
          "output_type": "stream",
          "text": [
            "1/1 [==============================] - 5s 5s/step\n"
          ]
        },
        {
          "name": "stderr",
          "output_type": "stream",
          "text": [
            "\r 38%|███▊      | 68/181 [04:53<07:43,  4.11s/it]"
          ]
        },
        {
          "name": "stdout",
          "output_type": "stream",
          "text": [
            "1/1 [==============================] - 4s 4s/step\n"
          ]
        },
        {
          "name": "stderr",
          "output_type": "stream",
          "text": [
            "\r 38%|███▊      | 69/181 [04:57<07:34,  4.06s/it]"
          ]
        },
        {
          "name": "stdout",
          "output_type": "stream",
          "text": [
            "1/1 [==============================] - 3s 3s/step\n"
          ]
        },
        {
          "name": "stderr",
          "output_type": "stream",
          "text": [
            "\r 39%|███▊      | 70/181 [05:01<07:07,  3.85s/it]"
          ]
        },
        {
          "name": "stdout",
          "output_type": "stream",
          "text": [
            "1/1 [==============================] - 3s 3s/step\n"
          ]
        },
        {
          "name": "stderr",
          "output_type": "stream",
          "text": [
            "\r 39%|███▉      | 71/181 [05:04<06:47,  3.70s/it]"
          ]
        },
        {
          "name": "stdout",
          "output_type": "stream",
          "text": [
            "1/1 [==============================] - 5s 5s/step\n"
          ]
        },
        {
          "name": "stderr",
          "output_type": "stream",
          "text": [
            "\r 40%|███▉      | 72/181 [05:09<07:36,  4.19s/it]"
          ]
        },
        {
          "name": "stdout",
          "output_type": "stream",
          "text": [
            "1/1 [==============================] - 3s 3s/step\n"
          ]
        },
        {
          "name": "stderr",
          "output_type": "stream",
          "text": [
            "\r 40%|████      | 73/181 [05:13<07:14,  4.02s/it]"
          ]
        },
        {
          "name": "stdout",
          "output_type": "stream",
          "text": [
            "1/1 [==============================] - 3s 3s/step\n"
          ]
        },
        {
          "name": "stderr",
          "output_type": "stream",
          "text": [
            "\r 41%|████      | 74/181 [05:16<06:48,  3.82s/it]"
          ]
        },
        {
          "name": "stdout",
          "output_type": "stream",
          "text": [
            "1/1 [==============================] - 3s 3s/step\n"
          ]
        },
        {
          "name": "stderr",
          "output_type": "stream",
          "text": [
            "\r 41%|████▏     | 75/181 [05:20<06:30,  3.68s/it]"
          ]
        },
        {
          "name": "stdout",
          "output_type": "stream",
          "text": [
            "1/1 [==============================] - 5s 5s/step\n"
          ]
        },
        {
          "name": "stderr",
          "output_type": "stream",
          "text": [
            "\r 42%|████▏     | 76/181 [05:25<07:23,  4.23s/it]"
          ]
        },
        {
          "name": "stdout",
          "output_type": "stream",
          "text": [
            "1/1 [==============================] - 3s 3s/step\n"
          ]
        },
        {
          "name": "stderr",
          "output_type": "stream",
          "text": [
            "\r 43%|████▎     | 77/181 [05:28<06:55,  4.00s/it]"
          ]
        },
        {
          "name": "stdout",
          "output_type": "stream",
          "text": [
            "1/1 [==============================] - 3s 3s/step\n"
          ]
        },
        {
          "name": "stderr",
          "output_type": "stream",
          "text": [
            "\r 43%|████▎     | 78/181 [05:32<06:31,  3.81s/it]"
          ]
        },
        {
          "name": "stdout",
          "output_type": "stream",
          "text": [
            "1/1 [==============================] - 3s 3s/step\n"
          ]
        },
        {
          "name": "stderr",
          "output_type": "stream",
          "text": [
            "\r 44%|████▎     | 79/181 [05:35<06:13,  3.66s/it]"
          ]
        },
        {
          "name": "stdout",
          "output_type": "stream",
          "text": [
            "1/1 [==============================] - 5s 5s/step\n"
          ]
        },
        {
          "name": "stderr",
          "output_type": "stream",
          "text": [
            "\r 44%|████▍     | 80/181 [05:41<07:08,  4.24s/it]"
          ]
        },
        {
          "name": "stdout",
          "output_type": "stream",
          "text": [
            "1/1 [==============================] - 3s 3s/step\n"
          ]
        },
        {
          "name": "stderr",
          "output_type": "stream",
          "text": [
            "\r 45%|████▍     | 81/181 [05:44<06:37,  3.97s/it]"
          ]
        },
        {
          "name": "stdout",
          "output_type": "stream",
          "text": [
            "1/1 [==============================] - 3s 3s/step\n"
          ]
        },
        {
          "name": "stderr",
          "output_type": "stream",
          "text": [
            "\r 45%|████▌     | 82/181 [05:47<06:15,  3.79s/it]"
          ]
        },
        {
          "name": "stdout",
          "output_type": "stream",
          "text": [
            "1/1 [==============================] - 3s 3s/step\n"
          ]
        },
        {
          "name": "stderr",
          "output_type": "stream",
          "text": [
            "\r 46%|████▌     | 83/181 [05:51<05:59,  3.67s/it]"
          ]
        },
        {
          "name": "stdout",
          "output_type": "stream",
          "text": [
            "1/1 [==============================] - 5s 5s/step\n"
          ]
        },
        {
          "name": "stderr",
          "output_type": "stream",
          "text": [
            "\r 46%|████▋     | 84/181 [05:57<06:53,  4.26s/it]"
          ]
        },
        {
          "name": "stdout",
          "output_type": "stream",
          "text": [
            "1/1 [==============================] - 3s 3s/step\n"
          ]
        },
        {
          "name": "stderr",
          "output_type": "stream",
          "text": [
            "\r 47%|████▋     | 85/181 [06:00<06:23,  3.99s/it]"
          ]
        },
        {
          "name": "stdout",
          "output_type": "stream",
          "text": [
            "1/1 [==============================] - 3s 3s/step\n"
          ]
        },
        {
          "name": "stderr",
          "output_type": "stream",
          "text": [
            "\r 48%|████▊     | 86/181 [06:03<06:00,  3.80s/it]"
          ]
        },
        {
          "name": "stdout",
          "output_type": "stream",
          "text": [
            "1/1 [==============================] - 4s 4s/step\n"
          ]
        },
        {
          "name": "stderr",
          "output_type": "stream",
          "text": [
            "\r 48%|████▊     | 87/181 [06:07<05:57,  3.81s/it]"
          ]
        },
        {
          "name": "stdout",
          "output_type": "stream",
          "text": [
            "1/1 [==============================] - 5s 5s/step\n"
          ]
        },
        {
          "name": "stderr",
          "output_type": "stream",
          "text": [
            "\r 49%|████▊     | 88/181 [06:12<06:30,  4.20s/it]"
          ]
        },
        {
          "name": "stdout",
          "output_type": "stream",
          "text": [
            "1/1 [==============================] - 3s 3s/step\n"
          ]
        },
        {
          "name": "stderr",
          "output_type": "stream",
          "text": [
            "\r 49%|████▉     | 89/181 [06:16<06:05,  3.98s/it]"
          ]
        },
        {
          "name": "stdout",
          "output_type": "stream",
          "text": [
            "1/1 [==============================] - 3s 3s/step\n"
          ]
        },
        {
          "name": "stderr",
          "output_type": "stream",
          "text": [
            "\r 50%|████▉     | 90/181 [06:19<05:46,  3.80s/it]"
          ]
        },
        {
          "name": "stdout",
          "output_type": "stream",
          "text": [
            "1/1 [==============================] - 4s 4s/step\n"
          ]
        },
        {
          "name": "stderr",
          "output_type": "stream",
          "text": [
            "\r 50%|█████     | 91/181 [06:23<05:59,  3.99s/it]"
          ]
        },
        {
          "name": "stdout",
          "output_type": "stream",
          "text": [
            "1/1 [==============================] - 4s 4s/step\n"
          ]
        },
        {
          "name": "stderr",
          "output_type": "stream",
          "text": [
            "\r 51%|█████     | 92/181 [06:28<06:09,  4.15s/it]"
          ]
        },
        {
          "name": "stdout",
          "output_type": "stream",
          "text": [
            "1/1 [==============================] - 3s 3s/step\n"
          ]
        },
        {
          "name": "stderr",
          "output_type": "stream",
          "text": [
            "\r 51%|█████▏    | 93/181 [06:31<05:44,  3.91s/it]"
          ]
        },
        {
          "name": "stdout",
          "output_type": "stream",
          "text": [
            "1/1 [==============================] - 3s 3s/step\n"
          ]
        },
        {
          "name": "stderr",
          "output_type": "stream",
          "text": [
            "\r 52%|█████▏    | 94/181 [06:35<05:26,  3.75s/it]"
          ]
        },
        {
          "name": "stdout",
          "output_type": "stream",
          "text": [
            "1/1 [==============================] - 5s 5s/step\n"
          ]
        },
        {
          "name": "stderr",
          "output_type": "stream",
          "text": [
            "\r 52%|█████▏    | 95/181 [06:40<06:04,  4.24s/it]"
          ]
        },
        {
          "name": "stdout",
          "output_type": "stream",
          "text": [
            "1/1 [==============================] - 3s 3s/step\n"
          ]
        },
        {
          "name": "stderr",
          "output_type": "stream",
          "text": [
            "\r 53%|█████▎    | 96/181 [06:44<05:47,  4.09s/it]"
          ]
        },
        {
          "name": "stdout",
          "output_type": "stream",
          "text": [
            "1/1 [==============================] - 3s 3s/step\n"
          ]
        },
        {
          "name": "stderr",
          "output_type": "stream",
          "text": [
            "\r 54%|█████▎    | 97/181 [06:47<05:24,  3.87s/it]"
          ]
        },
        {
          "name": "stdout",
          "output_type": "stream",
          "text": [
            "1/1 [==============================] - 3s 3s/step\n"
          ]
        },
        {
          "name": "stderr",
          "output_type": "stream",
          "text": [
            "\r 54%|█████▍    | 98/181 [06:53<05:58,  4.32s/it]"
          ]
        },
        {
          "name": "stdout",
          "output_type": "stream",
          "text": [
            "1/1 [==============================] - 4s 4s/step\n"
          ]
        },
        {
          "name": "stderr",
          "output_type": "stream",
          "text": [
            "\r 55%|█████▍    | 99/181 [06:57<05:52,  4.30s/it]"
          ]
        },
        {
          "name": "stdout",
          "output_type": "stream",
          "text": [
            "1/1 [==============================] - 3s 3s/step\n"
          ]
        },
        {
          "name": "stderr",
          "output_type": "stream",
          "text": [
            "\r 55%|█████▌    | 100/181 [07:00<05:26,  4.02s/it]"
          ]
        },
        {
          "name": "stdout",
          "output_type": "stream",
          "text": [
            "1/1 [==============================] - 3s 3s/step\n"
          ]
        },
        {
          "name": "stderr",
          "output_type": "stream",
          "text": [
            "\r 56%|█████▌    | 101/181 [07:04<05:08,  3.86s/it]"
          ]
        },
        {
          "name": "stdout",
          "output_type": "stream",
          "text": [
            "1/1 [==============================] - 5s 5s/step\n"
          ]
        },
        {
          "name": "stderr",
          "output_type": "stream",
          "text": [
            "\r 56%|█████▋    | 102/181 [07:09<05:38,  4.29s/it]"
          ]
        },
        {
          "name": "stdout",
          "output_type": "stream",
          "text": [
            "1/1 [==============================] - 3s 3s/step\n"
          ]
        },
        {
          "name": "stderr",
          "output_type": "stream",
          "text": [
            "\r 57%|█████▋    | 103/181 [07:13<05:22,  4.14s/it]"
          ]
        },
        {
          "name": "stdout",
          "output_type": "stream",
          "text": [
            "1/1 [==============================] - 3s 3s/step\n"
          ]
        },
        {
          "name": "stderr",
          "output_type": "stream",
          "text": [
            "\r 57%|█████▋    | 104/181 [07:16<05:01,  3.91s/it]"
          ]
        },
        {
          "name": "stdout",
          "output_type": "stream",
          "text": [
            "1/1 [==============================] - 3s 3s/step\n"
          ]
        },
        {
          "name": "stderr",
          "output_type": "stream",
          "text": [
            "\r 58%|█████▊    | 105/181 [07:19<04:44,  3.75s/it]"
          ]
        },
        {
          "name": "stdout",
          "output_type": "stream",
          "text": [
            "1/1 [==============================] - 5s 5s/step\n"
          ]
        },
        {
          "name": "stderr",
          "output_type": "stream",
          "text": [
            "\r 59%|█████▊    | 106/181 [07:25<05:23,  4.32s/it]"
          ]
        },
        {
          "name": "stdout",
          "output_type": "stream",
          "text": [
            "1/1 [==============================] - 3s 3s/step\n"
          ]
        },
        {
          "name": "stderr",
          "output_type": "stream",
          "text": [
            "\r 59%|█████▉    | 107/181 [07:29<04:59,  4.05s/it]"
          ]
        },
        {
          "name": "stdout",
          "output_type": "stream",
          "text": [
            "1/1 [==============================] - 3s 3s/step\n"
          ]
        },
        {
          "name": "stderr",
          "output_type": "stream",
          "text": [
            "\r 60%|█████▉    | 108/181 [07:32<04:40,  3.84s/it]"
          ]
        },
        {
          "name": "stdout",
          "output_type": "stream",
          "text": [
            "1/1 [==============================] - 3s 3s/step\n"
          ]
        },
        {
          "name": "stderr",
          "output_type": "stream",
          "text": [
            "\r 60%|██████    | 109/181 [07:35<04:26,  3.70s/it]"
          ]
        },
        {
          "name": "stdout",
          "output_type": "stream",
          "text": [
            "1/1 [==============================] - 5s 5s/step\n"
          ]
        },
        {
          "name": "stderr",
          "output_type": "stream",
          "text": [
            "\r 61%|██████    | 110/181 [07:41<05:04,  4.29s/it]"
          ]
        },
        {
          "name": "stdout",
          "output_type": "stream",
          "text": [
            "1/1 [==============================] - 3s 3s/step\n"
          ]
        },
        {
          "name": "stderr",
          "output_type": "stream",
          "text": [
            "\r 61%|██████▏   | 111/181 [07:44<04:39,  3.99s/it]"
          ]
        },
        {
          "name": "stdout",
          "output_type": "stream",
          "text": [
            "1/1 [==============================] - 3s 3s/step\n"
          ]
        },
        {
          "name": "stderr",
          "output_type": "stream",
          "text": [
            "\r 62%|██████▏   | 112/181 [07:48<04:23,  3.82s/it]"
          ]
        },
        {
          "name": "stdout",
          "output_type": "stream",
          "text": [
            "1/1 [==============================] - 3s 3s/step\n"
          ]
        },
        {
          "name": "stderr",
          "output_type": "stream",
          "text": [
            "\r 62%|██████▏   | 113/181 [07:51<04:15,  3.76s/it]"
          ]
        },
        {
          "name": "stdout",
          "output_type": "stream",
          "text": [
            "1/1 [==============================] - 6s 6s/step\n"
          ]
        },
        {
          "name": "stderr",
          "output_type": "stream",
          "text": [
            "\r 63%|██████▎   | 114/181 [07:58<05:04,  4.54s/it]"
          ]
        },
        {
          "name": "stdout",
          "output_type": "stream",
          "text": [
            "1/1 [==============================] - 4s 4s/step\n"
          ]
        },
        {
          "name": "stderr",
          "output_type": "stream",
          "text": [
            "\r 64%|██████▎   | 115/181 [08:02<05:02,  4.59s/it]"
          ]
        },
        {
          "name": "stdout",
          "output_type": "stream",
          "text": [
            "1/1 [==============================] - 3s 3s/step\n"
          ]
        },
        {
          "name": "stderr",
          "output_type": "stream",
          "text": [
            "\r 64%|██████▍   | 116/181 [08:06<04:35,  4.23s/it]"
          ]
        },
        {
          "name": "stdout",
          "output_type": "stream",
          "text": [
            "1/1 [==============================] - 4s 4s/step\n"
          ]
        },
        {
          "name": "stderr",
          "output_type": "stream",
          "text": [
            "\r 65%|██████▍   | 117/181 [08:10<04:33,  4.28s/it]"
          ]
        },
        {
          "name": "stdout",
          "output_type": "stream",
          "text": [
            "1/1 [==============================] - 4s 4s/step\n"
          ]
        },
        {
          "name": "stderr",
          "output_type": "stream",
          "text": [
            "\r 65%|██████▌   | 118/181 [08:15<04:34,  4.36s/it]"
          ]
        },
        {
          "name": "stdout",
          "output_type": "stream",
          "text": [
            "1/1 [==============================] - 3s 3s/step\n"
          ]
        },
        {
          "name": "stderr",
          "output_type": "stream",
          "text": [
            "\r 66%|██████▌   | 119/181 [08:18<04:11,  4.06s/it]"
          ]
        },
        {
          "name": "stdout",
          "output_type": "stream",
          "text": [
            "1/1 [==============================] - 3s 3s/step\n"
          ]
        },
        {
          "name": "stderr",
          "output_type": "stream",
          "text": [
            "\r 66%|██████▋   | 120/181 [08:21<03:55,  3.86s/it]"
          ]
        },
        {
          "name": "stdout",
          "output_type": "stream",
          "text": [
            "1/1 [==============================] - 5s 5s/step\n"
          ]
        },
        {
          "name": "stderr",
          "output_type": "stream",
          "text": [
            "\r 67%|██████▋   | 121/181 [08:27<04:18,  4.31s/it]"
          ]
        },
        {
          "name": "stdout",
          "output_type": "stream",
          "text": [
            "1/1 [==============================] - 3s 3s/step\n"
          ]
        },
        {
          "name": "stderr",
          "output_type": "stream",
          "text": [
            "\r 67%|██████▋   | 122/181 [08:30<04:03,  4.13s/it]"
          ]
        },
        {
          "name": "stdout",
          "output_type": "stream",
          "text": [
            "1/1 [==============================] - 3s 3s/step\n"
          ]
        },
        {
          "name": "stderr",
          "output_type": "stream",
          "text": [
            "\r 68%|██████▊   | 123/181 [08:34<03:46,  3.90s/it]"
          ]
        },
        {
          "name": "stdout",
          "output_type": "stream",
          "text": [
            "1/1 [==============================] - 3s 3s/step\n"
          ]
        },
        {
          "name": "stderr",
          "output_type": "stream",
          "text": [
            "\r 69%|██████▊   | 124/181 [08:37<03:32,  3.73s/it]"
          ]
        },
        {
          "name": "stdout",
          "output_type": "stream",
          "text": [
            "1/1 [==============================] - 5s 5s/step\n"
          ]
        },
        {
          "name": "stderr",
          "output_type": "stream",
          "text": [
            "\r 69%|██████▉   | 125/181 [08:43<04:01,  4.30s/it]"
          ]
        },
        {
          "name": "stdout",
          "output_type": "stream",
          "text": [
            "1/1 [==============================] - 3s 3s/step\n"
          ]
        },
        {
          "name": "stderr",
          "output_type": "stream",
          "text": [
            "\r 70%|██████▉   | 126/181 [08:46<03:41,  4.02s/it]"
          ]
        },
        {
          "name": "stdout",
          "output_type": "stream",
          "text": [
            "1/1 [==============================] - 3s 3s/step\n"
          ]
        },
        {
          "name": "stderr",
          "output_type": "stream",
          "text": [
            "\r 70%|███████   | 127/181 [08:50<03:26,  3.83s/it]"
          ]
        },
        {
          "name": "stdout",
          "output_type": "stream",
          "text": [
            "1/1 [==============================] - 3s 3s/step\n"
          ]
        },
        {
          "name": "stderr",
          "output_type": "stream",
          "text": [
            "\r 71%|███████   | 128/181 [08:53<03:15,  3.68s/it]"
          ]
        },
        {
          "name": "stdout",
          "output_type": "stream",
          "text": [
            "1/1 [==============================] - 5s 5s/step\n"
          ]
        },
        {
          "name": "stderr",
          "output_type": "stream",
          "text": [
            "\r 71%|███████▏  | 129/181 [08:58<03:41,  4.25s/it]"
          ]
        },
        {
          "name": "stdout",
          "output_type": "stream",
          "text": [
            "1/1 [==============================] - 3s 3s/step\n"
          ]
        },
        {
          "name": "stderr",
          "output_type": "stream",
          "text": [
            "\r 72%|███████▏  | 130/181 [09:02<03:23,  3.99s/it]"
          ]
        },
        {
          "name": "stdout",
          "output_type": "stream",
          "text": [
            "1/1 [==============================] - 3s 3s/step\n"
          ]
        },
        {
          "name": "stderr",
          "output_type": "stream",
          "text": [
            "\r 72%|███████▏  | 131/181 [09:05<03:10,  3.81s/it]"
          ]
        },
        {
          "name": "stdout",
          "output_type": "stream",
          "text": [
            "1/1 [==============================] - 4s 4s/step\n"
          ]
        },
        {
          "name": "stderr",
          "output_type": "stream",
          "text": [
            "\r 73%|███████▎  | 132/181 [09:09<03:06,  3.80s/it]"
          ]
        },
        {
          "name": "stdout",
          "output_type": "stream",
          "text": [
            "1/1 [==============================] - 5s 5s/step\n"
          ]
        },
        {
          "name": "stderr",
          "output_type": "stream",
          "text": [
            "\r 73%|███████▎  | 133/181 [09:14<03:21,  4.20s/it]"
          ]
        },
        {
          "name": "stdout",
          "output_type": "stream",
          "text": [
            "1/1 [==============================] - 3s 3s/step\n"
          ]
        },
        {
          "name": "stderr",
          "output_type": "stream",
          "text": [
            "\r 74%|███████▍  | 134/181 [09:18<03:05,  3.94s/it]"
          ]
        },
        {
          "name": "stdout",
          "output_type": "stream",
          "text": [
            "1/1 [==============================] - 3s 3s/step\n"
          ]
        },
        {
          "name": "stderr",
          "output_type": "stream",
          "text": [
            "\r 75%|███████▍  | 135/181 [09:21<02:54,  3.79s/it]"
          ]
        },
        {
          "name": "stdout",
          "output_type": "stream",
          "text": [
            "1/1 [==============================] - 4s 4s/step\n"
          ]
        },
        {
          "name": "stderr",
          "output_type": "stream",
          "text": [
            "\r 75%|███████▌  | 136/181 [09:25<02:57,  3.94s/it]"
          ]
        },
        {
          "name": "stdout",
          "output_type": "stream",
          "text": [
            "1/1 [==============================] - 4s 4s/step\n"
          ]
        },
        {
          "name": "stderr",
          "output_type": "stream",
          "text": [
            "\r 76%|███████▌  | 137/181 [09:30<03:03,  4.17s/it]"
          ]
        },
        {
          "name": "stdout",
          "output_type": "stream",
          "text": [
            "1/1 [==============================] - 3s 3s/step\n"
          ]
        },
        {
          "name": "stderr",
          "output_type": "stream",
          "text": [
            "\r 76%|███████▌  | 138/181 [09:33<02:48,  3.92s/it]"
          ]
        },
        {
          "name": "stdout",
          "output_type": "stream",
          "text": [
            "1/1 [==============================] - 3s 3s/step\n"
          ]
        },
        {
          "name": "stderr",
          "output_type": "stream",
          "text": [
            "\r 77%|███████▋  | 139/181 [09:37<02:37,  3.75s/it]"
          ]
        },
        {
          "name": "stdout",
          "output_type": "stream",
          "text": [
            "1/1 [==============================] - 4s 4s/step\n"
          ]
        },
        {
          "name": "stderr",
          "output_type": "stream",
          "text": [
            "\r 77%|███████▋  | 140/181 [09:41<02:42,  3.97s/it]"
          ]
        },
        {
          "name": "stdout",
          "output_type": "stream",
          "text": [
            "1/1 [==============================] - 4s 4s/step\n"
          ]
        },
        {
          "name": "stderr",
          "output_type": "stream",
          "text": [
            "\r 78%|███████▊  | 141/181 [09:46<02:44,  4.10s/it]"
          ]
        },
        {
          "name": "stdout",
          "output_type": "stream",
          "text": [
            "1/1 [==============================] - 3s 3s/step\n"
          ]
        },
        {
          "name": "stderr",
          "output_type": "stream",
          "text": [
            "\r 78%|███████▊  | 142/181 [09:49<02:31,  3.88s/it]"
          ]
        },
        {
          "name": "stdout",
          "output_type": "stream",
          "text": [
            "1/1 [==============================] - 3s 3s/step\n"
          ]
        },
        {
          "name": "stderr",
          "output_type": "stream",
          "text": [
            "\r 79%|███████▉  | 143/181 [09:52<02:21,  3.73s/it]"
          ]
        },
        {
          "name": "stdout",
          "output_type": "stream",
          "text": [
            "1/1 [==============================] - 5s 5s/step\n"
          ]
        },
        {
          "name": "stderr",
          "output_type": "stream",
          "text": [
            "\r 80%|███████▉  | 144/181 [09:58<02:35,  4.21s/it]"
          ]
        },
        {
          "name": "stdout",
          "output_type": "stream",
          "text": [
            "1/1 [==============================] - 3s 3s/step\n"
          ]
        },
        {
          "name": "stderr",
          "output_type": "stream",
          "text": [
            "\r 80%|████████  | 145/181 [10:01<02:26,  4.07s/it]"
          ]
        },
        {
          "name": "stdout",
          "output_type": "stream",
          "text": [
            "1/1 [==============================] - 3s 3s/step\n"
          ]
        },
        {
          "name": "stderr",
          "output_type": "stream",
          "text": [
            "\r 81%|████████  | 146/181 [10:05<02:15,  3.86s/it]"
          ]
        },
        {
          "name": "stdout",
          "output_type": "stream",
          "text": [
            "1/1 [==============================] - 3s 3s/step\n"
          ]
        },
        {
          "name": "stderr",
          "output_type": "stream",
          "text": [
            "\r 81%|████████  | 147/181 [10:08<02:05,  3.70s/it]"
          ]
        },
        {
          "name": "stdout",
          "output_type": "stream",
          "text": [
            "1/1 [==============================] - 5s 5s/step\n"
          ]
        },
        {
          "name": "stderr",
          "output_type": "stream",
          "text": [
            "\r 82%|████████▏ | 148/181 [10:14<02:20,  4.26s/it]"
          ]
        },
        {
          "name": "stdout",
          "output_type": "stream",
          "text": [
            "1/1 [==============================] - 3s 3s/step\n"
          ]
        },
        {
          "name": "stderr",
          "output_type": "stream",
          "text": [
            "\r 82%|████████▏ | 149/181 [10:19<02:27,  4.60s/it]"
          ]
        },
        {
          "name": "stdout",
          "output_type": "stream",
          "text": [
            "1/1 [==============================] - 3s 3s/step\n"
          ]
        },
        {
          "name": "stderr",
          "output_type": "stream",
          "text": [
            "\r 83%|████████▎ | 150/181 [10:22<02:10,  4.21s/it]"
          ]
        },
        {
          "name": "stdout",
          "output_type": "stream",
          "text": [
            "1/1 [==============================] - 5s 5s/step\n"
          ]
        },
        {
          "name": "stderr",
          "output_type": "stream",
          "text": [
            "\r 83%|████████▎ | 151/181 [10:27<02:11,  4.38s/it]"
          ]
        },
        {
          "name": "stdout",
          "output_type": "stream",
          "text": [
            "1/1 [==============================] - 4s 4s/step\n"
          ]
        },
        {
          "name": "stderr",
          "output_type": "stream",
          "text": [
            "\r 84%|████████▍ | 152/181 [10:31<02:04,  4.30s/it]"
          ]
        },
        {
          "name": "stdout",
          "output_type": "stream",
          "text": [
            "1/1 [==============================] - 3s 3s/step\n"
          ]
        },
        {
          "name": "stderr",
          "output_type": "stream",
          "text": [
            "\r 85%|████████▍ | 153/181 [10:35<01:53,  4.04s/it]"
          ]
        },
        {
          "name": "stdout",
          "output_type": "stream",
          "text": [
            "1/1 [==============================] - 3s 3s/step\n"
          ]
        },
        {
          "name": "stderr",
          "output_type": "stream",
          "text": [
            "\r 85%|████████▌ | 154/181 [10:38<01:43,  3.83s/it]"
          ]
        },
        {
          "name": "stdout",
          "output_type": "stream",
          "text": [
            "1/1 [==============================] - 5s 5s/step\n"
          ]
        },
        {
          "name": "stderr",
          "output_type": "stream",
          "text": [
            "\r 86%|████████▌ | 155/181 [10:43<01:51,  4.27s/it]"
          ]
        },
        {
          "name": "stdout",
          "output_type": "stream",
          "text": [
            "1/1 [==============================] - 3s 3s/step\n"
          ]
        },
        {
          "name": "stderr",
          "output_type": "stream",
          "text": [
            "\r 86%|████████▌ | 156/181 [10:47<01:42,  4.11s/it]"
          ]
        },
        {
          "name": "stdout",
          "output_type": "stream",
          "text": [
            "1/1 [==============================] - 3s 3s/step\n"
          ]
        },
        {
          "name": "stderr",
          "output_type": "stream",
          "text": [
            "\r 87%|████████▋ | 157/181 [10:50<01:32,  3.87s/it]"
          ]
        },
        {
          "name": "stdout",
          "output_type": "stream",
          "text": [
            "1/1 [==============================] - 3s 3s/step\n"
          ]
        },
        {
          "name": "stderr",
          "output_type": "stream",
          "text": [
            "\r 87%|████████▋ | 158/181 [10:54<01:25,  3.72s/it]"
          ]
        },
        {
          "name": "stdout",
          "output_type": "stream",
          "text": [
            "1/1 [==============================] - 5s 5s/step\n"
          ]
        },
        {
          "name": "stderr",
          "output_type": "stream",
          "text": [
            "\r 88%|████████▊ | 159/181 [10:59<01:34,  4.31s/it]"
          ]
        },
        {
          "name": "stdout",
          "output_type": "stream",
          "text": [
            "1/1 [==============================] - 3s 3s/step\n"
          ]
        },
        {
          "name": "stderr",
          "output_type": "stream",
          "text": [
            "\r 88%|████████▊ | 160/181 [11:05<01:36,  4.62s/it]"
          ]
        },
        {
          "name": "stdout",
          "output_type": "stream",
          "text": [
            "1/1 [==============================] - 3s 3s/step\n"
          ]
        },
        {
          "name": "stderr",
          "output_type": "stream",
          "text": [
            "\r 89%|████████▉ | 161/181 [11:08<01:24,  4.24s/it]"
          ]
        },
        {
          "name": "stdout",
          "output_type": "stream",
          "text": [
            "1/1 [==============================] - 5s 5s/step\n"
          ]
        },
        {
          "name": "stderr",
          "output_type": "stream",
          "text": [
            "\r 90%|████████▉ | 162/181 [11:13<01:25,  4.49s/it]"
          ]
        },
        {
          "name": "stdout",
          "output_type": "stream",
          "text": [
            "1/1 [==============================] - 4s 4s/step\n"
          ]
        },
        {
          "name": "stderr",
          "output_type": "stream",
          "text": [
            "\r 90%|█████████ | 163/181 [11:17<01:17,  4.30s/it]"
          ]
        },
        {
          "name": "stdout",
          "output_type": "stream",
          "text": [
            "1/1 [==============================] - 3s 3s/step\n"
          ]
        },
        {
          "name": "stderr",
          "output_type": "stream",
          "text": [
            "\r 91%|█████████ | 164/181 [11:20<01:08,  4.02s/it]"
          ]
        },
        {
          "name": "stdout",
          "output_type": "stream",
          "text": [
            "1/1 [==============================] - 3s 3s/step\n"
          ]
        },
        {
          "name": "stderr",
          "output_type": "stream",
          "text": [
            "\r 91%|█████████ | 165/181 [11:24<01:01,  3.82s/it]"
          ]
        },
        {
          "name": "stdout",
          "output_type": "stream",
          "text": [
            "1/1 [==============================] - 5s 5s/step\n"
          ]
        },
        {
          "name": "stderr",
          "output_type": "stream",
          "text": [
            "\r 92%|█████████▏| 166/181 [11:29<01:03,  4.25s/it]"
          ]
        },
        {
          "name": "stdout",
          "output_type": "stream",
          "text": [
            "1/1 [==============================] - 3s 3s/step\n"
          ]
        },
        {
          "name": "stderr",
          "output_type": "stream",
          "text": [
            "\r 92%|█████████▏| 167/181 [11:33<00:56,  4.05s/it]"
          ]
        },
        {
          "name": "stdout",
          "output_type": "stream",
          "text": [
            "1/1 [==============================] - 3s 3s/step\n"
          ]
        },
        {
          "name": "stderr",
          "output_type": "stream",
          "text": [
            "\r 93%|█████████▎| 168/181 [11:36<00:49,  3.83s/it]"
          ]
        },
        {
          "name": "stdout",
          "output_type": "stream",
          "text": [
            "1/1 [==============================] - 3s 3s/step\n"
          ]
        },
        {
          "name": "stderr",
          "output_type": "stream",
          "text": [
            "\r 93%|█████████▎| 169/181 [11:39<00:44,  3.69s/it]"
          ]
        },
        {
          "name": "stdout",
          "output_type": "stream",
          "text": [
            "1/1 [==============================] - 5s 5s/step\n"
          ]
        },
        {
          "name": "stderr",
          "output_type": "stream",
          "text": [
            "\r 94%|█████████▍| 170/181 [11:45<00:47,  4.29s/it]"
          ]
        },
        {
          "name": "stdout",
          "output_type": "stream",
          "text": [
            "1/1 [==============================] - 3s 3s/step\n"
          ]
        },
        {
          "name": "stderr",
          "output_type": "stream",
          "text": [
            "\r 94%|█████████▍| 171/181 [11:48<00:40,  4.00s/it]"
          ]
        },
        {
          "name": "stdout",
          "output_type": "stream",
          "text": [
            "1/1 [==============================] - 3s 3s/step\n"
          ]
        },
        {
          "name": "stderr",
          "output_type": "stream",
          "text": [
            "\r 95%|█████████▌| 172/181 [11:52<00:34,  3.81s/it]"
          ]
        },
        {
          "name": "stdout",
          "output_type": "stream",
          "text": [
            "1/1 [==============================] - 3s 3s/step\n"
          ]
        },
        {
          "name": "stderr",
          "output_type": "stream",
          "text": [
            "\r 96%|█████████▌| 173/181 [11:55<00:29,  3.69s/it]"
          ]
        },
        {
          "name": "stdout",
          "output_type": "stream",
          "text": [
            "1/1 [==============================] - 5s 5s/step\n"
          ]
        },
        {
          "name": "stderr",
          "output_type": "stream",
          "text": [
            "\r 96%|█████████▌| 174/181 [12:01<00:29,  4.25s/it]"
          ]
        },
        {
          "name": "stdout",
          "output_type": "stream",
          "text": [
            "1/1 [==============================] - 3s 3s/step\n"
          ]
        },
        {
          "name": "stderr",
          "output_type": "stream",
          "text": [
            "\r 97%|█████████▋| 175/181 [12:04<00:23,  3.96s/it]"
          ]
        },
        {
          "name": "stdout",
          "output_type": "stream",
          "text": [
            "1/1 [==============================] - 3s 3s/step\n"
          ]
        },
        {
          "name": "stderr",
          "output_type": "stream",
          "text": [
            "\r 97%|█████████▋| 176/181 [12:07<00:18,  3.76s/it]"
          ]
        },
        {
          "name": "stdout",
          "output_type": "stream",
          "text": [
            "1/1 [==============================] - 3s 3s/step\n"
          ]
        },
        {
          "name": "stderr",
          "output_type": "stream",
          "text": [
            "\r 98%|█████████▊| 177/181 [12:11<00:14,  3.72s/it]"
          ]
        },
        {
          "name": "stdout",
          "output_type": "stream",
          "text": [
            "1/1 [==============================] - 5s 5s/step\n"
          ]
        },
        {
          "name": "stderr",
          "output_type": "stream",
          "text": [
            "\r 98%|█████████▊| 178/181 [12:16<00:12,  4.17s/it]"
          ]
        },
        {
          "name": "stdout",
          "output_type": "stream",
          "text": [
            "1/1 [==============================] - 3s 3s/step\n"
          ]
        },
        {
          "name": "stderr",
          "output_type": "stream",
          "text": [
            "\r 99%|█████████▉| 179/181 [12:19<00:07,  3.91s/it]"
          ]
        },
        {
          "name": "stdout",
          "output_type": "stream",
          "text": [
            "1/1 [==============================] - 3s 3s/step\n"
          ]
        },
        {
          "name": "stderr",
          "output_type": "stream",
          "text": [
            "\r 99%|█████████▉| 180/181 [12:23<00:03,  3.74s/it]"
          ]
        },
        {
          "name": "stdout",
          "output_type": "stream",
          "text": [
            "1/1 [==============================] - 1s 1s/step\n"
          ]
        },
        {
          "name": "stderr",
          "output_type": "stream",
          "text": [
            "\r100%|██████████| 181/181 [12:24<00:00,  3.06s/it]"
          ]
        },
        {
          "name": "stdout",
          "output_type": "stream",
          "text": [
            "1/1 [==============================] - 5s 5s/step\n"
          ]
        },
        {
          "name": "stderr",
          "output_type": "stream",
          "text": [
            "\r182it [12:29,  3.63s/it]                         "
          ]
        },
        {
          "name": "stdout",
          "output_type": "stream",
          "text": [
            "1/1 [==============================] - 4s 4s/step\n"
          ]
        },
        {
          "name": "stderr",
          "output_type": "stream",
          "text": [
            "\r182it [12:33,  4.14s/it]"
          ]
        },
        {
          "name": "stdout",
          "output_type": "stream",
          "text": [
            "Precision: 0.15882353\n",
            "Recall: 0.06013363\n",
            "Binary Accuracy: 0.9031207\n",
            "True Positives: 27.0\n",
            "True Negatives: 5240.0\n",
            "False Positives: 143.0\n",
            "False Negatives: 422.0\n"
          ]
        },
        {
          "name": "stderr",
          "output_type": "stream",
          "text": [
            "\n"
          ]
        }
      ],
      "source": [
        "from tensorflow.keras.metrics import Precision, Recall, BinaryAccuracy, TruePositives, TrueNegatives, FalsePositives, FalseNegatives\n",
        "from tqdm import tqdm\n",
        "\n",
        "from tensorflow.keras.metrics import Precision, Recall, BinaryAccuracy, TruePositives, TrueNegatives, FalsePositives, FalseNegatives\n",
        "from tqdm import tqdm\n",
        "\n",
        "model = tf.keras.models.load_model('/content/drive/MyDrive/Licenta/model_fold_1.h5')\n",
        "\n",
        "pre = Precision()\n",
        "re = Recall()\n",
        "acc = BinaryAccuracy()\n",
        "tp = TruePositives()\n",
        "tn = TrueNegatives()\n",
        "fp = FalsePositives()\n",
        "fn = FalseNegatives()\n",
        "\n",
        "for i, batch in tqdm(enumerate(test_generator), total=len(test_generator)):\n",
        "    X, y = batch\n",
        "    yhat = model.predict(X)\n",
        "    pre.update_state(y, yhat)\n",
        "    re.update_state(y, yhat)\n",
        "    acc.update_state(y, yhat)\n",
        "    tp.update_state(y, yhat)\n",
        "    tn.update_state(y, yhat)\n",
        "    fp.update_state(y, yhat)\n",
        "    fn.update_state(y, yhat)\n",
        "    if(i>len(test_generator)):\n",
        "     break\n",
        "\n",
        "print(\"Precision:\", pre.result().numpy())\n",
        "print(\"Recall:\", re.result().numpy())\n",
        "print(\"Binary Accuracy:\", acc.result().numpy())\n",
        "print(\"True Positives:\", tp.result().numpy())\n",
        "print(\"True Negatives:\", tn.result().numpy())\n",
        "print(\"False Positives:\", fp.result().numpy())\n",
        "print(\"False Negatives:\", fn.result().numpy())\n"
      ]
    },
    {
      "cell_type": "code",
      "execution_count": null,
      "metadata": {
        "colab": {
          "base_uri": "https://localhost:8080/"
        },
        "id": "8Fd9QuZkzhnz",
        "outputId": "da6648bf-13c0-40b0-d681-9a87babddd8a"
      },
      "outputs": [
        {
          "name": "stderr",
          "output_type": "stream",
          "text": [
            "\r  0%|          | 0/181 [00:00<?, ?it/s]"
          ]
        },
        {
          "name": "stdout",
          "output_type": "stream",
          "text": [
            "1/1 [==============================] - 6s 6s/step\n"
          ]
        },
        {
          "name": "stderr",
          "output_type": "stream",
          "text": [
            "\r  1%|          | 1/181 [00:10<32:42, 10.90s/it]"
          ]
        },
        {
          "name": "stdout",
          "output_type": "stream",
          "text": [
            "1/1 [==============================] - 3s 3s/step\n"
          ]
        },
        {
          "name": "stderr",
          "output_type": "stream",
          "text": [
            "\r  1%|          | 2/181 [00:14<19:08,  6.42s/it]"
          ]
        },
        {
          "name": "stdout",
          "output_type": "stream",
          "text": [
            "1/1 [==============================] - 4s 4s/step\n"
          ]
        },
        {
          "name": "stderr",
          "output_type": "stream",
          "text": [
            "\r  2%|▏         | 3/181 [00:19<17:32,  5.91s/it]"
          ]
        },
        {
          "name": "stdout",
          "output_type": "stream",
          "text": [
            "1/1 [==============================] - 4s 4s/step\n"
          ]
        },
        {
          "name": "stderr",
          "output_type": "stream",
          "text": [
            "\r  2%|▏         | 4/181 [00:23<15:00,  5.09s/it]"
          ]
        },
        {
          "name": "stdout",
          "output_type": "stream",
          "text": [
            "1/1 [==============================] - 3s 3s/step\n"
          ]
        },
        {
          "name": "stderr",
          "output_type": "stream",
          "text": [
            "\r  3%|▎         | 5/181 [00:26<12:59,  4.43s/it]"
          ]
        },
        {
          "name": "stdout",
          "output_type": "stream",
          "text": [
            "1/1 [==============================] - 3s 3s/step\n"
          ]
        },
        {
          "name": "stderr",
          "output_type": "stream",
          "text": [
            "\r  3%|▎         | 6/181 [00:31<13:45,  4.72s/it]"
          ]
        },
        {
          "name": "stdout",
          "output_type": "stream",
          "text": [
            "1/1 [==============================] - 5s 5s/step\n"
          ]
        },
        {
          "name": "stderr",
          "output_type": "stream",
          "text": [
            "\r  4%|▍         | 7/181 [00:37<14:16,  4.92s/it]"
          ]
        },
        {
          "name": "stdout",
          "output_type": "stream",
          "text": [
            "1/1 [==============================] - 3s 3s/step\n"
          ]
        },
        {
          "name": "stderr",
          "output_type": "stream",
          "text": [
            "\r  4%|▍         | 8/181 [00:40<12:40,  4.40s/it]"
          ]
        },
        {
          "name": "stdout",
          "output_type": "stream",
          "text": [
            "1/1 [==============================] - 3s 3s/step\n"
          ]
        },
        {
          "name": "stderr",
          "output_type": "stream",
          "text": [
            "\r  5%|▍         | 9/181 [00:43<11:34,  4.03s/it]"
          ]
        },
        {
          "name": "stdout",
          "output_type": "stream",
          "text": [
            "1/1 [==============================] - 4s 4s/step\n"
          ]
        },
        {
          "name": "stderr",
          "output_type": "stream",
          "text": [
            "\r  6%|▌         | 10/181 [00:48<12:00,  4.21s/it]"
          ]
        },
        {
          "name": "stdout",
          "output_type": "stream",
          "text": [
            "1/1 [==============================] - 4s 4s/step\n"
          ]
        },
        {
          "name": "stderr",
          "output_type": "stream",
          "text": [
            "\r  6%|▌         | 11/181 [00:52<11:56,  4.22s/it]"
          ]
        },
        {
          "name": "stdout",
          "output_type": "stream",
          "text": [
            "1/1 [==============================] - 3s 3s/step\n"
          ]
        },
        {
          "name": "stderr",
          "output_type": "stream",
          "text": [
            "\r  7%|▋         | 12/181 [00:57<12:49,  4.55s/it]"
          ]
        },
        {
          "name": "stdout",
          "output_type": "stream",
          "text": [
            "1/1 [==============================] - 4s 4s/step\n"
          ]
        },
        {
          "name": "stderr",
          "output_type": "stream",
          "text": [
            "\r  7%|▋         | 13/181 [01:03<13:22,  4.78s/it]"
          ]
        },
        {
          "name": "stdout",
          "output_type": "stream",
          "text": [
            "1/1 [==============================] - 3s 3s/step\n"
          ]
        },
        {
          "name": "stderr",
          "output_type": "stream",
          "text": [
            "\r  8%|▊         | 14/181 [01:08<13:47,  4.96s/it]"
          ]
        },
        {
          "name": "stdout",
          "output_type": "stream",
          "text": [
            "1/1 [==============================] - 3s 3s/step\n"
          ]
        },
        {
          "name": "stderr",
          "output_type": "stream",
          "text": [
            "\r  8%|▊         | 15/181 [01:11<12:16,  4.43s/it]"
          ]
        },
        {
          "name": "stdout",
          "output_type": "stream",
          "text": [
            "1/1 [==============================] - 4s 4s/step\n"
          ]
        },
        {
          "name": "stderr",
          "output_type": "stream",
          "text": [
            "\r  9%|▉         | 16/181 [01:17<12:54,  4.69s/it]"
          ]
        },
        {
          "name": "stdout",
          "output_type": "stream",
          "text": [
            "1/1 [==============================] - 3s 3s/step\n"
          ]
        },
        {
          "name": "stderr",
          "output_type": "stream",
          "text": [
            "\r  9%|▉         | 17/181 [01:22<13:22,  4.89s/it]"
          ]
        },
        {
          "name": "stdout",
          "output_type": "stream",
          "text": [
            "1/1 [==============================] - 3s 3s/step\n"
          ]
        },
        {
          "name": "stderr",
          "output_type": "stream",
          "text": [
            "\r 10%|▉         | 18/181 [01:25<11:54,  4.38s/it]"
          ]
        },
        {
          "name": "stdout",
          "output_type": "stream",
          "text": [
            "1/1 [==============================] - 4s 4s/step\n"
          ]
        },
        {
          "name": "stderr",
          "output_type": "stream",
          "text": [
            "\r 10%|█         | 19/181 [01:30<12:35,  4.66s/it]"
          ]
        },
        {
          "name": "stdout",
          "output_type": "stream",
          "text": [
            "1/1 [==============================] - 4s 4s/step\n"
          ]
        },
        {
          "name": "stderr",
          "output_type": "stream",
          "text": [
            "\r 11%|█         | 20/181 [01:36<13:05,  4.88s/it]"
          ]
        },
        {
          "name": "stdout",
          "output_type": "stream",
          "text": [
            "1/1 [==============================] - 4s 4s/step\n"
          ]
        },
        {
          "name": "stderr",
          "output_type": "stream",
          "text": [
            "\r 12%|█▏        | 21/181 [01:40<12:19,  4.62s/it]"
          ]
        },
        {
          "name": "stdout",
          "output_type": "stream",
          "text": [
            "1/1 [==============================] - 4s 4s/step\n"
          ]
        },
        {
          "name": "stderr",
          "output_type": "stream",
          "text": [
            "\r 12%|█▏        | 22/181 [01:45<12:48,  4.83s/it]"
          ]
        },
        {
          "name": "stdout",
          "output_type": "stream",
          "text": [
            "1/1 [==============================] - 3s 3s/step\n"
          ]
        },
        {
          "name": "stderr",
          "output_type": "stream",
          "text": [
            "\r 13%|█▎        | 23/181 [01:51<13:09,  5.00s/it]"
          ]
        },
        {
          "name": "stdout",
          "output_type": "stream",
          "text": [
            "1/1 [==============================] - 3s 3s/step\n"
          ]
        },
        {
          "name": "stderr",
          "output_type": "stream",
          "text": [
            "\r 13%|█▎        | 24/181 [01:54<11:43,  4.48s/it]"
          ]
        },
        {
          "name": "stdout",
          "output_type": "stream",
          "text": [
            "1/1 [==============================] - 4s 4s/step\n"
          ]
        },
        {
          "name": "stderr",
          "output_type": "stream",
          "text": [
            "\r 14%|█▍        | 25/181 [01:59<12:16,  4.72s/it]"
          ]
        },
        {
          "name": "stdout",
          "output_type": "stream",
          "text": [
            "1/1 [==============================] - 3s 3s/step\n"
          ]
        },
        {
          "name": "stderr",
          "output_type": "stream",
          "text": [
            "\r 14%|█▍        | 26/181 [02:04<12:41,  4.91s/it]"
          ]
        },
        {
          "name": "stdout",
          "output_type": "stream",
          "text": [
            "1/1 [==============================] - 3s 3s/step\n"
          ]
        },
        {
          "name": "stderr",
          "output_type": "stream",
          "text": [
            "\r 15%|█▍        | 27/181 [02:08<11:21,  4.43s/it]"
          ]
        },
        {
          "name": "stdout",
          "output_type": "stream",
          "text": [
            "1/1 [==============================] - 4s 4s/step\n"
          ]
        },
        {
          "name": "stderr",
          "output_type": "stream",
          "text": [
            "\r 15%|█▌        | 28/181 [02:12<11:11,  4.39s/it]"
          ]
        },
        {
          "name": "stdout",
          "output_type": "stream",
          "text": [
            "1/1 [==============================] - 5s 5s/step\n"
          ]
        },
        {
          "name": "stderr",
          "output_type": "stream",
          "text": [
            "\r 16%|█▌        | 29/181 [02:17<11:51,  4.68s/it]"
          ]
        },
        {
          "name": "stdout",
          "output_type": "stream",
          "text": [
            "1/1 [==============================] - 3s 3s/step\n"
          ]
        },
        {
          "name": "stderr",
          "output_type": "stream",
          "text": [
            "\r 17%|█▋        | 30/181 [02:21<10:45,  4.28s/it]"
          ]
        },
        {
          "name": "stdout",
          "output_type": "stream",
          "text": [
            "1/1 [==============================] - 3s 3s/step\n"
          ]
        },
        {
          "name": "stderr",
          "output_type": "stream",
          "text": [
            "\r 17%|█▋        | 31/181 [02:26<11:27,  4.59s/it]"
          ]
        },
        {
          "name": "stdout",
          "output_type": "stream",
          "text": [
            "1/1 [==============================] - 5s 5s/step\n"
          ]
        },
        {
          "name": "stderr",
          "output_type": "stream",
          "text": [
            "\r 18%|█▊        | 32/181 [02:31<11:57,  4.82s/it]"
          ]
        },
        {
          "name": "stdout",
          "output_type": "stream",
          "text": [
            "1/1 [==============================] - 3s 3s/step\n"
          ]
        },
        {
          "name": "stderr",
          "output_type": "stream",
          "text": [
            "\r 18%|█▊        | 33/181 [02:37<12:14,  4.96s/it]"
          ]
        },
        {
          "name": "stdout",
          "output_type": "stream",
          "text": [
            "1/1 [==============================] - 3s 3s/step\n"
          ]
        },
        {
          "name": "stderr",
          "output_type": "stream",
          "text": [
            "\r 19%|█▉        | 34/181 [02:42<12:27,  5.08s/it]"
          ]
        },
        {
          "name": "stdout",
          "output_type": "stream",
          "text": [
            "1/1 [==============================] - 8s 8s/step\n"
          ]
        },
        {
          "name": "stderr",
          "output_type": "stream",
          "text": [
            "\r 19%|█▉        | 35/181 [02:53<16:22,  6.73s/it]"
          ]
        },
        {
          "name": "stdout",
          "output_type": "stream",
          "text": [
            "1/1 [==============================] - 4s 4s/step\n"
          ]
        },
        {
          "name": "stderr",
          "output_type": "stream",
          "text": [
            "\r 20%|█▉        | 36/181 [02:58<15:13,  6.30s/it]"
          ]
        },
        {
          "name": "stdout",
          "output_type": "stream",
          "text": [
            "1/1 [==============================] - 4s 4s/step\n"
          ]
        },
        {
          "name": "stderr",
          "output_type": "stream",
          "text": [
            "\r 20%|██        | 37/181 [03:02<13:31,  5.64s/it]"
          ]
        },
        {
          "name": "stdout",
          "output_type": "stream",
          "text": [
            "1/1 [==============================] - 3s 3s/step\n"
          ]
        },
        {
          "name": "stderr",
          "output_type": "stream",
          "text": [
            "\r 21%|██        | 38/181 [03:07<13:11,  5.53s/it]"
          ]
        },
        {
          "name": "stdout",
          "output_type": "stream",
          "text": [
            "1/1 [==============================] - 4s 4s/step\n"
          ]
        },
        {
          "name": "stderr",
          "output_type": "stream",
          "text": [
            "\r 22%|██▏       | 39/181 [03:11<11:58,  5.06s/it]"
          ]
        },
        {
          "name": "stdout",
          "output_type": "stream",
          "text": [
            "1/1 [==============================] - 5s 5s/step\n"
          ]
        },
        {
          "name": "stderr",
          "output_type": "stream",
          "text": [
            "\r 22%|██▏       | 40/181 [03:17<12:06,  5.15s/it]"
          ]
        },
        {
          "name": "stdout",
          "output_type": "stream",
          "text": [
            "1/1 [==============================] - 3s 3s/step\n"
          ]
        },
        {
          "name": "stderr",
          "output_type": "stream",
          "text": [
            "\r 23%|██▎       | 41/181 [03:20<10:41,  4.58s/it]"
          ]
        },
        {
          "name": "stdout",
          "output_type": "stream",
          "text": [
            "1/1 [==============================] - 3s 3s/step\n"
          ]
        },
        {
          "name": "stderr",
          "output_type": "stream",
          "text": [
            "\r 23%|██▎       | 42/181 [03:23<09:42,  4.19s/it]"
          ]
        },
        {
          "name": "stdout",
          "output_type": "stream",
          "text": [
            "1/1 [==============================] - 5s 5s/step\n"
          ]
        },
        {
          "name": "stderr",
          "output_type": "stream",
          "text": [
            "\r 24%|██▍       | 43/181 [03:28<10:06,  4.40s/it]"
          ]
        },
        {
          "name": "stdout",
          "output_type": "stream",
          "text": [
            "1/1 [==============================] - 4s 4s/step\n"
          ]
        },
        {
          "name": "stderr",
          "output_type": "stream",
          "text": [
            "\r 24%|██▍       | 44/181 [03:32<09:51,  4.32s/it]"
          ]
        },
        {
          "name": "stdout",
          "output_type": "stream",
          "text": [
            "1/1 [==============================] - 3s 3s/step\n"
          ]
        },
        {
          "name": "stderr",
          "output_type": "stream",
          "text": [
            "\r 25%|██▍       | 45/181 [03:36<09:09,  4.04s/it]"
          ]
        },
        {
          "name": "stdout",
          "output_type": "stream",
          "text": [
            "1/1 [==============================] - 3s 3s/step\n"
          ]
        },
        {
          "name": "stderr",
          "output_type": "stream",
          "text": [
            "\r 25%|██▌       | 46/181 [03:41<09:55,  4.41s/it]"
          ]
        },
        {
          "name": "stdout",
          "output_type": "stream",
          "text": [
            "1/1 [==============================] - 5s 5s/step\n"
          ]
        },
        {
          "name": "stderr",
          "output_type": "stream",
          "text": [
            "\r 26%|██▌       | 47/181 [03:46<10:29,  4.70s/it]"
          ]
        },
        {
          "name": "stdout",
          "output_type": "stream",
          "text": [
            "1/1 [==============================] - 3s 3s/step\n"
          ]
        },
        {
          "name": "stderr",
          "output_type": "stream",
          "text": [
            "\r 27%|██▋       | 48/181 [03:52<10:48,  4.88s/it]"
          ]
        },
        {
          "name": "stdout",
          "output_type": "stream",
          "text": [
            "1/1 [==============================] - 3s 3s/step\n"
          ]
        },
        {
          "name": "stderr",
          "output_type": "stream",
          "text": [
            "\r 27%|██▋       | 49/181 [03:55<09:51,  4.48s/it]"
          ]
        },
        {
          "name": "stdout",
          "output_type": "stream",
          "text": [
            "1/1 [==============================] - 5s 5s/step\n"
          ]
        },
        {
          "name": "stderr",
          "output_type": "stream",
          "text": [
            "\r 28%|██▊       | 50/181 [04:00<10:21,  4.74s/it]"
          ]
        },
        {
          "name": "stdout",
          "output_type": "stream",
          "text": [
            "1/1 [==============================] - 3s 3s/step\n"
          ]
        },
        {
          "name": "stderr",
          "output_type": "stream",
          "text": [
            "\r 28%|██▊       | 51/181 [04:06<10:38,  4.91s/it]"
          ]
        },
        {
          "name": "stdout",
          "output_type": "stream",
          "text": [
            "1/1 [==============================] - 3s 3s/step\n"
          ]
        },
        {
          "name": "stderr",
          "output_type": "stream",
          "text": [
            "\r 29%|██▊       | 52/181 [04:09<09:31,  4.43s/it]"
          ]
        },
        {
          "name": "stdout",
          "output_type": "stream",
          "text": [
            "1/1 [==============================] - 5s 5s/step\n"
          ]
        },
        {
          "name": "stderr",
          "output_type": "stream",
          "text": [
            "\r 29%|██▉       | 53/181 [04:19<13:16,  6.22s/it]"
          ]
        },
        {
          "name": "stdout",
          "output_type": "stream",
          "text": [
            "1/1 [==============================] - 3s 3s/step\n"
          ]
        },
        {
          "name": "stderr",
          "output_type": "stream",
          "text": [
            "\r 30%|██▉       | 54/181 [04:25<12:37,  5.96s/it]"
          ]
        },
        {
          "name": "stdout",
          "output_type": "stream",
          "text": [
            "1/1 [==============================] - 5s 5s/step\n"
          ]
        },
        {
          "name": "stderr",
          "output_type": "stream",
          "text": [
            "\r 30%|███       | 55/181 [04:30<12:18,  5.86s/it]"
          ]
        },
        {
          "name": "stdout",
          "output_type": "stream",
          "text": [
            "1/1 [==============================] - 3s 3s/step\n"
          ]
        },
        {
          "name": "stderr",
          "output_type": "stream",
          "text": [
            "\r 31%|███       | 56/181 [04:36<11:51,  5.69s/it]"
          ]
        },
        {
          "name": "stdout",
          "output_type": "stream",
          "text": [
            "1/1 [==============================] - 3s 3s/step\n"
          ]
        },
        {
          "name": "stderr",
          "output_type": "stream",
          "text": [
            "\r 31%|███▏      | 57/181 [04:41<11:31,  5.58s/it]"
          ]
        },
        {
          "name": "stdout",
          "output_type": "stream",
          "text": [
            "1/1 [==============================] - 4s 4s/step\n"
          ]
        },
        {
          "name": "stderr",
          "output_type": "stream",
          "text": [
            "\r 32%|███▏      | 58/181 [04:46<10:50,  5.29s/it]"
          ]
        },
        {
          "name": "stdout",
          "output_type": "stream",
          "text": [
            "1/1 [==============================] - 3s 3s/step\n"
          ]
        },
        {
          "name": "stderr",
          "output_type": "stream",
          "text": [
            "\r 33%|███▎      | 59/181 [04:49<09:33,  4.70s/it]"
          ]
        },
        {
          "name": "stdout",
          "output_type": "stream",
          "text": [
            "1/1 [==============================] - 3s 3s/step\n"
          ]
        },
        {
          "name": "stderr",
          "output_type": "stream",
          "text": [
            "\r 33%|███▎      | 60/181 [04:54<09:50,  4.88s/it]"
          ]
        },
        {
          "name": "stdout",
          "output_type": "stream",
          "text": [
            "1/1 [==============================] - 5s 5s/step\n"
          ]
        },
        {
          "name": "stderr",
          "output_type": "stream",
          "text": [
            "\r 34%|███▎      | 61/181 [05:00<10:02,  5.02s/it]"
          ]
        },
        {
          "name": "stdout",
          "output_type": "stream",
          "text": [
            "1/1 [==============================] - 3s 3s/step\n"
          ]
        },
        {
          "name": "stderr",
          "output_type": "stream",
          "text": [
            "\r 34%|███▍      | 62/181 [05:05<10:06,  5.10s/it]"
          ]
        },
        {
          "name": "stdout",
          "output_type": "stream",
          "text": [
            "1/1 [==============================] - 3s 3s/step\n"
          ]
        },
        {
          "name": "stderr",
          "output_type": "stream",
          "text": [
            "\r 35%|███▍      | 63/181 [05:10<10:09,  5.16s/it]"
          ]
        },
        {
          "name": "stdout",
          "output_type": "stream",
          "text": [
            "1/1 [==============================] - 4s 4s/step\n"
          ]
        },
        {
          "name": "stderr",
          "output_type": "stream",
          "text": [
            "\r 35%|███▌      | 64/181 [05:15<09:36,  4.92s/it]"
          ]
        },
        {
          "name": "stdout",
          "output_type": "stream",
          "text": [
            "1/1 [==============================] - 3s 3s/step\n"
          ]
        },
        {
          "name": "stderr",
          "output_type": "stream",
          "text": [
            "\r 36%|███▌      | 65/181 [05:20<09:45,  5.05s/it]"
          ]
        },
        {
          "name": "stdout",
          "output_type": "stream",
          "text": [
            "1/1 [==============================] - 3s 3s/step\n"
          ]
        },
        {
          "name": "stderr",
          "output_type": "stream",
          "text": [
            "\r 36%|███▋      | 66/181 [05:25<09:49,  5.12s/it]"
          ]
        },
        {
          "name": "stdout",
          "output_type": "stream",
          "text": [
            "1/1 [==============================] - 3s 3s/step\n"
          ]
        },
        {
          "name": "stderr",
          "output_type": "stream",
          "text": [
            "\r 37%|███▋      | 67/181 [05:29<08:56,  4.71s/it]"
          ]
        },
        {
          "name": "stdout",
          "output_type": "stream",
          "text": [
            "1/1 [==============================] - 3s 3s/step\n"
          ]
        },
        {
          "name": "stderr",
          "output_type": "stream",
          "text": [
            "\r 38%|███▊      | 68/181 [05:34<09:12,  4.89s/it]"
          ]
        },
        {
          "name": "stdout",
          "output_type": "stream",
          "text": [
            "1/1 [==============================] - 4s 4s/step\n"
          ]
        },
        {
          "name": "stderr",
          "output_type": "stream",
          "text": [
            "\r 38%|███▊      | 69/181 [05:40<09:22,  5.02s/it]"
          ]
        },
        {
          "name": "stdout",
          "output_type": "stream",
          "text": [
            "1/1 [==============================] - 4s 4s/step\n"
          ]
        },
        {
          "name": "stderr",
          "output_type": "stream",
          "text": [
            "\r 39%|███▊      | 70/181 [05:44<08:42,  4.70s/it]"
          ]
        },
        {
          "name": "stdout",
          "output_type": "stream",
          "text": [
            "1/1 [==============================] - 3s 3s/step\n"
          ]
        },
        {
          "name": "stderr",
          "output_type": "stream",
          "text": [
            "\r 39%|███▉      | 71/181 [05:47<07:51,  4.28s/it]"
          ]
        },
        {
          "name": "stdout",
          "output_type": "stream",
          "text": [
            "1/1 [==============================] - 3s 3s/step\n"
          ]
        },
        {
          "name": "stderr",
          "output_type": "stream",
          "text": [
            "\r 40%|███▉      | 72/181 [05:50<07:17,  4.01s/it]"
          ]
        },
        {
          "name": "stdout",
          "output_type": "stream",
          "text": [
            "1/1 [==============================] - 5s 5s/step\n"
          ]
        },
        {
          "name": "stderr",
          "output_type": "stream",
          "text": [
            "\r 40%|████      | 73/181 [06:01<10:41,  5.94s/it]"
          ]
        },
        {
          "name": "stdout",
          "output_type": "stream",
          "text": [
            "1/1 [==============================] - 3s 3s/step\n"
          ]
        },
        {
          "name": "stderr",
          "output_type": "stream",
          "text": [
            "\r 41%|████      | 74/181 [06:06<10:16,  5.76s/it]"
          ]
        },
        {
          "name": "stdout",
          "output_type": "stream",
          "text": [
            "1/1 [==============================] - 5s 5s/step\n"
          ]
        },
        {
          "name": "stderr",
          "output_type": "stream",
          "text": [
            "\r 41%|████▏     | 75/181 [06:17<12:41,  7.18s/it]"
          ]
        },
        {
          "name": "stdout",
          "output_type": "stream",
          "text": [
            "1/1 [==============================] - 3s 3s/step\n"
          ]
        },
        {
          "name": "stderr",
          "output_type": "stream",
          "text": [
            "\r 42%|████▏     | 76/181 [06:20<10:32,  6.02s/it]"
          ]
        },
        {
          "name": "stdout",
          "output_type": "stream",
          "text": [
            "1/1 [==============================] - 5s 5s/step\n"
          ]
        },
        {
          "name": "stderr",
          "output_type": "stream",
          "text": [
            "\r 43%|████▎     | 77/181 [06:25<09:47,  5.64s/it]"
          ]
        },
        {
          "name": "stdout",
          "output_type": "stream",
          "text": [
            "1/1 [==============================] - 4s 4s/step\n"
          ]
        },
        {
          "name": "stderr",
          "output_type": "stream",
          "text": [
            "\r 43%|████▎     | 78/181 [06:29<08:54,  5.19s/it]"
          ]
        },
        {
          "name": "stdout",
          "output_type": "stream",
          "text": [
            "1/1 [==============================] - 3s 3s/step\n"
          ]
        },
        {
          "name": "stderr",
          "output_type": "stream",
          "text": [
            "\r 44%|████▎     | 79/181 [06:34<08:52,  5.22s/it]"
          ]
        },
        {
          "name": "stdout",
          "output_type": "stream",
          "text": [
            "1/1 [==============================] - 4s 4s/step\n"
          ]
        },
        {
          "name": "stderr",
          "output_type": "stream",
          "text": [
            "\r 44%|████▍     | 80/181 [06:38<08:14,  4.89s/it]"
          ]
        },
        {
          "name": "stdout",
          "output_type": "stream",
          "text": [
            "1/1 [==============================] - 5s 5s/step\n"
          ]
        },
        {
          "name": "stderr",
          "output_type": "stream",
          "text": [
            "\r 45%|████▍     | 81/181 [06:43<08:23,  5.03s/it]"
          ]
        },
        {
          "name": "stdout",
          "output_type": "stream",
          "text": [
            "1/1 [==============================] - 3s 3s/step\n"
          ]
        },
        {
          "name": "stderr",
          "output_type": "stream",
          "text": [
            "\r 45%|████▌     | 82/181 [06:47<07:27,  4.52s/it]"
          ]
        },
        {
          "name": "stdout",
          "output_type": "stream",
          "text": [
            "1/1 [==============================] - 3s 3s/step\n"
          ]
        },
        {
          "name": "stderr",
          "output_type": "stream",
          "text": [
            "\r 46%|████▌     | 83/181 [06:50<06:46,  4.15s/it]"
          ]
        },
        {
          "name": "stdout",
          "output_type": "stream",
          "text": [
            "1/1 [==============================] - 5s 5s/step\n"
          ]
        },
        {
          "name": "stderr",
          "output_type": "stream",
          "text": [
            "\r 46%|████▋     | 84/181 [06:55<07:17,  4.51s/it]"
          ]
        },
        {
          "name": "stdout",
          "output_type": "stream",
          "text": [
            "1/1 [==============================] - 4s 4s/step\n"
          ]
        },
        {
          "name": "stderr",
          "output_type": "stream",
          "text": [
            "\r 47%|████▋     | 85/181 [07:01<07:38,  4.77s/it]"
          ]
        },
        {
          "name": "stdout",
          "output_type": "stream",
          "text": [
            "1/1 [==============================] - 3s 3s/step\n"
          ]
        },
        {
          "name": "stderr",
          "output_type": "stream",
          "text": [
            "\r 48%|████▊     | 86/181 [07:06<07:48,  4.93s/it]"
          ]
        },
        {
          "name": "stdout",
          "output_type": "stream",
          "text": [
            "1/1 [==============================] - 6s 6s/step\n"
          ]
        },
        {
          "name": "stderr",
          "output_type": "stream",
          "text": [
            "\r 48%|████▊     | 87/181 [07:17<10:18,  6.58s/it]"
          ]
        },
        {
          "name": "stdout",
          "output_type": "stream",
          "text": [
            "1/1 [==============================] - 3s 3s/step\n"
          ]
        },
        {
          "name": "stderr",
          "output_type": "stream",
          "text": [
            "\r 49%|████▊     | 88/181 [07:22<09:36,  6.20s/it]"
          ]
        },
        {
          "name": "stdout",
          "output_type": "stream",
          "text": [
            "1/1 [==============================] - 5s 5s/step\n"
          ]
        },
        {
          "name": "stderr",
          "output_type": "stream",
          "text": [
            "\r 49%|████▉     | 89/181 [07:27<09:10,  5.99s/it]"
          ]
        },
        {
          "name": "stdout",
          "output_type": "stream",
          "text": [
            "1/1 [==============================] - 3s 3s/step\n"
          ]
        },
        {
          "name": "stderr",
          "output_type": "stream",
          "text": [
            "\r 50%|████▉     | 90/181 [07:33<08:46,  5.78s/it]"
          ]
        },
        {
          "name": "stdout",
          "output_type": "stream",
          "text": [
            "1/1 [==============================] - 3s 3s/step\n"
          ]
        },
        {
          "name": "stderr",
          "output_type": "stream",
          "text": [
            "\r 50%|█████     | 91/181 [07:36<07:35,  5.06s/it]"
          ]
        },
        {
          "name": "stdout",
          "output_type": "stream",
          "text": [
            "1/1 [==============================] - 5s 5s/step\n"
          ]
        },
        {
          "name": "stderr",
          "output_type": "stream",
          "text": [
            "\r 51%|█████     | 92/181 [07:46<09:53,  6.67s/it]"
          ]
        },
        {
          "name": "stdout",
          "output_type": "stream",
          "text": [
            "1/1 [==============================] - 3s 3s/step\n"
          ]
        },
        {
          "name": "stderr",
          "output_type": "stream",
          "text": [
            "\r 51%|█████▏    | 93/181 [07:50<08:21,  5.70s/it]"
          ]
        },
        {
          "name": "stdout",
          "output_type": "stream",
          "text": [
            "1/1 [==============================] - 4s 4s/step\n"
          ]
        },
        {
          "name": "stderr",
          "output_type": "stream",
          "text": [
            "\r 52%|█████▏    | 94/181 [07:55<08:05,  5.58s/it]"
          ]
        },
        {
          "name": "stdout",
          "output_type": "stream",
          "text": [
            "1/1 [==============================] - 3s 3s/step\n"
          ]
        },
        {
          "name": "stderr",
          "output_type": "stream",
          "text": [
            "\r 52%|█████▏    | 95/181 [08:01<07:54,  5.52s/it]"
          ]
        },
        {
          "name": "stdout",
          "output_type": "stream",
          "text": [
            "1/1 [==============================] - 3s 3s/step\n"
          ]
        },
        {
          "name": "stderr",
          "output_type": "stream",
          "text": [
            "\r 53%|█████▎    | 96/181 [08:06<07:43,  5.46s/it]"
          ]
        },
        {
          "name": "stdout",
          "output_type": "stream",
          "text": [
            "1/1 [==============================] - 5s 5s/step\n"
          ]
        },
        {
          "name": "stderr",
          "output_type": "stream",
          "text": [
            "\r 54%|█████▎    | 97/181 [08:11<07:40,  5.49s/it]"
          ]
        },
        {
          "name": "stdout",
          "output_type": "stream",
          "text": [
            "1/1 [==============================] - 3s 3s/step\n"
          ]
        },
        {
          "name": "stderr",
          "output_type": "stream",
          "text": [
            "\r 54%|█████▍    | 98/181 [08:17<07:31,  5.44s/it]"
          ]
        },
        {
          "name": "stdout",
          "output_type": "stream",
          "text": [
            "1/1 [==============================] - 3s 3s/step\n"
          ]
        },
        {
          "name": "stderr",
          "output_type": "stream",
          "text": [
            "\r 55%|█████▍    | 99/181 [08:22<07:23,  5.41s/it]"
          ]
        },
        {
          "name": "stdout",
          "output_type": "stream",
          "text": [
            "1/1 [==============================] - 5s 5s/step\n"
          ]
        },
        {
          "name": "stderr",
          "output_type": "stream",
          "text": [
            "\r 55%|█████▌    | 100/181 [08:27<07:11,  5.33s/it]"
          ]
        },
        {
          "name": "stdout",
          "output_type": "stream",
          "text": [
            "1/1 [==============================] - 3s 3s/step\n"
          ]
        },
        {
          "name": "stderr",
          "output_type": "stream",
          "text": [
            "\r 56%|█████▌    | 101/181 [08:33<07:04,  5.31s/it]"
          ]
        },
        {
          "name": "stdout",
          "output_type": "stream",
          "text": [
            "1/1 [==============================] - 3s 3s/step\n"
          ]
        },
        {
          "name": "stderr",
          "output_type": "stream",
          "text": [
            "\r 56%|█████▋    | 102/181 [08:38<06:59,  5.31s/it]"
          ]
        },
        {
          "name": "stdout",
          "output_type": "stream",
          "text": [
            "1/1 [==============================] - 4s 4s/step\n"
          ]
        },
        {
          "name": "stderr",
          "output_type": "stream",
          "text": [
            "\r 57%|█████▋    | 103/181 [08:42<06:29,  4.99s/it]"
          ]
        },
        {
          "name": "stdout",
          "output_type": "stream",
          "text": [
            "1/1 [==============================] - 3s 3s/step\n"
          ]
        },
        {
          "name": "stderr",
          "output_type": "stream",
          "text": [
            "\r 57%|█████▋    | 104/181 [08:45<05:44,  4.47s/it]"
          ]
        },
        {
          "name": "stdout",
          "output_type": "stream",
          "text": [
            "1/1 [==============================] - 3s 3s/step\n"
          ]
        },
        {
          "name": "stderr",
          "output_type": "stream",
          "text": [
            "\r 58%|█████▊    | 105/181 [08:51<05:59,  4.73s/it]"
          ]
        },
        {
          "name": "stdout",
          "output_type": "stream",
          "text": [
            "1/1 [==============================] - 5s 5s/step\n"
          ]
        },
        {
          "name": "stderr",
          "output_type": "stream",
          "text": [
            "\r 59%|█████▊    | 106/181 [08:56<06:08,  4.91s/it]"
          ]
        },
        {
          "name": "stdout",
          "output_type": "stream",
          "text": [
            "1/1 [==============================] - 3s 3s/step\n"
          ]
        },
        {
          "name": "stderr",
          "output_type": "stream",
          "text": [
            "\r 59%|█████▉    | 107/181 [09:01<06:11,  5.03s/it]"
          ]
        },
        {
          "name": "stdout",
          "output_type": "stream",
          "text": [
            "1/1 [==============================] - 3s 3s/step\n"
          ]
        },
        {
          "name": "stderr",
          "output_type": "stream",
          "text": [
            "\r 60%|█████▉    | 108/181 [09:07<06:13,  5.12s/it]"
          ]
        },
        {
          "name": "stdout",
          "output_type": "stream",
          "text": [
            "1/1 [==============================] - 4s 4s/step\n"
          ]
        },
        {
          "name": "stderr",
          "output_type": "stream",
          "text": [
            "\r 60%|██████    | 109/181 [09:12<06:14,  5.20s/it]"
          ]
        },
        {
          "name": "stdout",
          "output_type": "stream",
          "text": [
            "1/1 [==============================] - 3s 3s/step\n"
          ]
        },
        {
          "name": "stderr",
          "output_type": "stream",
          "text": [
            "\r 61%|██████    | 110/181 [09:17<06:11,  5.23s/it]"
          ]
        },
        {
          "name": "stdout",
          "output_type": "stream",
          "text": [
            "1/1 [==============================] - 5s 5s/step\n"
          ]
        },
        {
          "name": "stderr",
          "output_type": "stream",
          "text": [
            "\r 61%|██████▏   | 111/181 [09:28<07:54,  6.78s/it]"
          ]
        },
        {
          "name": "stdout",
          "output_type": "stream",
          "text": [
            "1/1 [==============================] - 3s 3s/step\n"
          ]
        },
        {
          "name": "stderr",
          "output_type": "stream",
          "text": [
            "\r 62%|██████▏   | 112/181 [09:33<07:17,  6.34s/it]"
          ]
        },
        {
          "name": "stdout",
          "output_type": "stream",
          "text": [
            "1/1 [==============================] - 5s 5s/step\n"
          ]
        },
        {
          "name": "stderr",
          "output_type": "stream",
          "text": [
            "\r 62%|██████▏   | 113/181 [09:44<08:35,  7.58s/it]"
          ]
        },
        {
          "name": "stdout",
          "output_type": "stream",
          "text": [
            "1/1 [==============================] - 3s 3s/step\n"
          ]
        },
        {
          "name": "stderr",
          "output_type": "stream",
          "text": [
            "\r 63%|██████▎   | 114/181 [09:47<07:02,  6.30s/it]"
          ]
        },
        {
          "name": "stdout",
          "output_type": "stream",
          "text": [
            "1/1 [==============================] - 5s 5s/step\n"
          ]
        },
        {
          "name": "stderr",
          "output_type": "stream",
          "text": [
            "\r 64%|██████▎   | 115/181 [09:52<06:30,  5.91s/it]"
          ]
        },
        {
          "name": "stdout",
          "output_type": "stream",
          "text": [
            "1/1 [==============================] - 4s 4s/step\n"
          ]
        },
        {
          "name": "stderr",
          "output_type": "stream",
          "text": [
            "\r 64%|██████▍   | 116/181 [09:56<05:43,  5.28s/it]"
          ]
        },
        {
          "name": "stdout",
          "output_type": "stream",
          "text": [
            "1/1 [==============================] - 3s 3s/step\n"
          ]
        },
        {
          "name": "stderr",
          "output_type": "stream",
          "text": [
            "\r 65%|██████▍   | 117/181 [09:59<04:58,  4.67s/it]"
          ]
        },
        {
          "name": "stdout",
          "output_type": "stream",
          "text": [
            "1/1 [==============================] - 3s 3s/step\n"
          ]
        },
        {
          "name": "stderr",
          "output_type": "stream",
          "text": [
            "\r 65%|██████▌   | 118/181 [10:02<04:28,  4.26s/it]"
          ]
        },
        {
          "name": "stdout",
          "output_type": "stream",
          "text": [
            "1/1 [==============================] - 5s 5s/step\n"
          ]
        },
        {
          "name": "stderr",
          "output_type": "stream",
          "text": [
            "\r 66%|██████▌   | 119/181 [10:08<04:43,  4.57s/it]"
          ]
        },
        {
          "name": "stdout",
          "output_type": "stream",
          "text": [
            "1/1 [==============================] - 3s 3s/step\n"
          ]
        },
        {
          "name": "stderr",
          "output_type": "stream",
          "text": [
            "\r 66%|██████▋   | 120/181 [10:13<04:54,  4.83s/it]"
          ]
        },
        {
          "name": "stdout",
          "output_type": "stream",
          "text": [
            "1/1 [==============================] - 3s 3s/step\n"
          ]
        },
        {
          "name": "stderr",
          "output_type": "stream",
          "text": [
            "\r 67%|██████▋   | 121/181 [10:16<04:23,  4.40s/it]"
          ]
        },
        {
          "name": "stdout",
          "output_type": "stream",
          "text": [
            "1/1 [==============================] - 4s 4s/step\n"
          ]
        },
        {
          "name": "stderr",
          "output_type": "stream",
          "text": [
            "\r 67%|██████▋   | 122/181 [10:22<04:35,  4.67s/it]"
          ]
        },
        {
          "name": "stdout",
          "output_type": "stream",
          "text": [
            "1/1 [==============================] - 3s 3s/step\n"
          ]
        },
        {
          "name": "stderr",
          "output_type": "stream",
          "text": [
            "\r 68%|██████▊   | 123/181 [10:27<04:42,  4.87s/it]"
          ]
        },
        {
          "name": "stdout",
          "output_type": "stream",
          "text": [
            "1/1 [==============================] - 3s 3s/step\n"
          ]
        },
        {
          "name": "stderr",
          "output_type": "stream",
          "text": [
            "\r 69%|██████▊   | 124/181 [10:32<04:44,  5.00s/it]"
          ]
        },
        {
          "name": "stdout",
          "output_type": "stream",
          "text": [
            "1/1 [==============================] - 5s 5s/step\n"
          ]
        },
        {
          "name": "stderr",
          "output_type": "stream",
          "text": [
            "\r 69%|██████▉   | 125/181 [10:38<04:50,  5.20s/it]"
          ]
        },
        {
          "name": "stdout",
          "output_type": "stream",
          "text": [
            "1/1 [==============================] - 3s 3s/step\n"
          ]
        },
        {
          "name": "stderr",
          "output_type": "stream",
          "text": [
            "\r 70%|██████▉   | 126/181 [10:43<04:47,  5.23s/it]"
          ]
        },
        {
          "name": "stdout",
          "output_type": "stream",
          "text": [
            "1/1 [==============================] - 3s 3s/step\n"
          ]
        },
        {
          "name": "stderr",
          "output_type": "stream",
          "text": [
            "\r 70%|███████   | 127/181 [10:49<04:43,  5.25s/it]"
          ]
        },
        {
          "name": "stdout",
          "output_type": "stream",
          "text": [
            "1/1 [==============================] - 5s 5s/step\n"
          ]
        },
        {
          "name": "stderr",
          "output_type": "stream",
          "text": [
            "\r 71%|███████   | 128/181 [10:54<04:40,  5.29s/it]"
          ]
        },
        {
          "name": "stdout",
          "output_type": "stream",
          "text": [
            "1/1 [==============================] - 5s 5s/step\n"
          ]
        },
        {
          "name": "stderr",
          "output_type": "stream",
          "text": [
            "\r 71%|███████▏  | 129/181 [10:59<04:35,  5.30s/it]"
          ]
        },
        {
          "name": "stdout",
          "output_type": "stream",
          "text": [
            "1/1 [==============================] - 3s 3s/step\n"
          ]
        },
        {
          "name": "stderr",
          "output_type": "stream",
          "text": [
            "\r 72%|███████▏  | 130/181 [11:05<04:30,  5.31s/it]"
          ]
        },
        {
          "name": "stdout",
          "output_type": "stream",
          "text": [
            "1/1 [==============================] - 4s 4s/step\n"
          ]
        },
        {
          "name": "stderr",
          "output_type": "stream",
          "text": [
            "\r 72%|███████▏  | 131/181 [11:10<04:26,  5.33s/it]"
          ]
        },
        {
          "name": "stdout",
          "output_type": "stream",
          "text": [
            "1/1 [==============================] - 3s 3s/step\n"
          ]
        },
        {
          "name": "stderr",
          "output_type": "stream",
          "text": [
            "\r 73%|███████▎  | 132/181 [11:15<04:20,  5.32s/it]"
          ]
        },
        {
          "name": "stdout",
          "output_type": "stream",
          "text": [
            "1/1 [==============================] - 5s 5s/step\n"
          ]
        },
        {
          "name": "stderr",
          "output_type": "stream",
          "text": [
            "\r 73%|███████▎  | 133/181 [11:26<05:28,  6.85s/it]"
          ]
        },
        {
          "name": "stdout",
          "output_type": "stream",
          "text": [
            "1/1 [==============================] - 3s 3s/step\n"
          ]
        },
        {
          "name": "stderr",
          "output_type": "stream",
          "text": [
            "\r 74%|███████▍  | 134/181 [11:31<04:59,  6.38s/it]"
          ]
        },
        {
          "name": "stdout",
          "output_type": "stream",
          "text": [
            "1/1 [==============================] - 5s 5s/step\n"
          ]
        },
        {
          "name": "stderr",
          "output_type": "stream",
          "text": [
            "\r 75%|███████▍  | 135/181 [11:41<05:50,  7.61s/it]"
          ]
        },
        {
          "name": "stdout",
          "output_type": "stream",
          "text": [
            "1/1 [==============================] - 3s 3s/step\n"
          ]
        },
        {
          "name": "stderr",
          "output_type": "stream",
          "text": [
            "\r 75%|███████▌  | 136/181 [11:47<05:11,  6.92s/it]"
          ]
        },
        {
          "name": "stdout",
          "output_type": "stream",
          "text": [
            "1/1 [==============================] - 5s 5s/step\n"
          ]
        },
        {
          "name": "stderr",
          "output_type": "stream",
          "text": [
            "\r 76%|███████▌  | 137/181 [11:52<04:44,  6.45s/it]"
          ]
        },
        {
          "name": "stdout",
          "output_type": "stream",
          "text": [
            "1/1 [==============================] - 3s 3s/step\n"
          ]
        },
        {
          "name": "stderr",
          "output_type": "stream",
          "text": [
            "\r 76%|███████▌  | 138/181 [11:57<04:22,  6.10s/it]"
          ]
        },
        {
          "name": "stdout",
          "output_type": "stream",
          "text": [
            "1/1 [==============================] - 3s 3s/step\n"
          ]
        },
        {
          "name": "stderr",
          "output_type": "stream",
          "text": [
            "\r 77%|███████▋  | 139/181 [12:03<04:06,  5.86s/it]"
          ]
        },
        {
          "name": "stdout",
          "output_type": "stream",
          "text": [
            "1/1 [==============================] - 4s 4s/step\n"
          ]
        },
        {
          "name": "stderr",
          "output_type": "stream",
          "text": [
            "\r 77%|███████▋  | 140/181 [12:08<03:54,  5.71s/it]"
          ]
        },
        {
          "name": "stdout",
          "output_type": "stream",
          "text": [
            "1/1 [==============================] - 3s 3s/step\n"
          ]
        },
        {
          "name": "stderr",
          "output_type": "stream",
          "text": [
            "\r 78%|███████▊  | 141/181 [12:13<03:43,  5.59s/it]"
          ]
        },
        {
          "name": "stdout",
          "output_type": "stream",
          "text": [
            "1/1 [==============================] - 5s 5s/step\n"
          ]
        },
        {
          "name": "stderr",
          "output_type": "stream",
          "text": [
            "\r 78%|███████▊  | 142/181 [12:19<03:36,  5.55s/it]"
          ]
        },
        {
          "name": "stdout",
          "output_type": "stream",
          "text": [
            "1/1 [==============================] - 3s 3s/step\n"
          ]
        },
        {
          "name": "stderr",
          "output_type": "stream",
          "text": [
            "\r 79%|███████▉  | 143/181 [12:24<03:28,  5.49s/it]"
          ]
        },
        {
          "name": "stdout",
          "output_type": "stream",
          "text": [
            "1/1 [==============================] - 3s 3s/step\n"
          ]
        },
        {
          "name": "stderr",
          "output_type": "stream",
          "text": [
            "\r 80%|███████▉  | 144/181 [12:29<03:21,  5.44s/it]"
          ]
        },
        {
          "name": "stdout",
          "output_type": "stream",
          "text": [
            "1/1 [==============================] - 5s 5s/step\n"
          ]
        },
        {
          "name": "stderr",
          "output_type": "stream",
          "text": [
            "\r 80%|████████  | 145/181 [12:35<03:15,  5.43s/it]"
          ]
        },
        {
          "name": "stdout",
          "output_type": "stream",
          "text": [
            "1/1 [==============================] - 3s 3s/step\n"
          ]
        },
        {
          "name": "stderr",
          "output_type": "stream",
          "text": [
            "\r 81%|████████  | 146/181 [12:38<02:47,  4.79s/it]"
          ]
        },
        {
          "name": "stdout",
          "output_type": "stream",
          "text": [
            "1/1 [==============================] - 3s 3s/step\n"
          ]
        },
        {
          "name": "stderr",
          "output_type": "stream",
          "text": [
            "\r 81%|████████  | 147/181 [12:42<02:28,  4.37s/it]"
          ]
        },
        {
          "name": "stdout",
          "output_type": "stream",
          "text": [
            "1/1 [==============================] - 4s 4s/step\n"
          ]
        },
        {
          "name": "stderr",
          "output_type": "stream",
          "text": [
            "\r 82%|████████▏ | 148/181 [12:47<02:33,  4.65s/it]"
          ]
        },
        {
          "name": "stdout",
          "output_type": "stream",
          "text": [
            "1/1 [==============================] - 3s 3s/step\n"
          ]
        },
        {
          "name": "stderr",
          "output_type": "stream",
          "text": [
            "\r 82%|████████▏ | 149/181 [12:52<02:35,  4.86s/it]"
          ]
        },
        {
          "name": "stdout",
          "output_type": "stream",
          "text": [
            "1/1 [==============================] - 8s 8s/step\n"
          ]
        },
        {
          "name": "stderr",
          "output_type": "stream",
          "text": [
            "\r 83%|████████▎ | 150/181 [13:03<03:23,  6.56s/it]"
          ]
        },
        {
          "name": "stdout",
          "output_type": "stream",
          "text": [
            "1/1 [==============================] - 4s 4s/step\n"
          ]
        },
        {
          "name": "stderr",
          "output_type": "stream",
          "text": [
            "\r 83%|████████▎ | 151/181 [13:07<02:54,  5.81s/it]"
          ]
        },
        {
          "name": "stdout",
          "output_type": "stream",
          "text": [
            "1/1 [==============================] - 3s 3s/step\n"
          ]
        },
        {
          "name": "stderr",
          "output_type": "stream",
          "text": [
            "\r 84%|████████▍ | 152/181 [13:10<02:27,  5.09s/it]"
          ]
        },
        {
          "name": "stdout",
          "output_type": "stream",
          "text": [
            "1/1 [==============================] - 3s 3s/step\n"
          ]
        },
        {
          "name": "stderr",
          "output_type": "stream",
          "text": [
            "\r 85%|████████▍ | 153/181 [13:16<02:24,  5.16s/it]"
          ]
        },
        {
          "name": "stdout",
          "output_type": "stream",
          "text": [
            "1/1 [==============================] - 4s 4s/step\n"
          ]
        },
        {
          "name": "stderr",
          "output_type": "stream",
          "text": [
            "\r 85%|████████▌ | 154/181 [13:20<02:11,  4.88s/it]"
          ]
        },
        {
          "name": "stdout",
          "output_type": "stream",
          "text": [
            "1/1 [==============================] - 3s 3s/step\n"
          ]
        },
        {
          "name": "stderr",
          "output_type": "stream",
          "text": [
            "\r 86%|████████▌ | 155/181 [13:25<02:10,  5.02s/it]"
          ]
        },
        {
          "name": "stdout",
          "output_type": "stream",
          "text": [
            "1/1 [==============================] - 4s 4s/step\n"
          ]
        },
        {
          "name": "stderr",
          "output_type": "stream",
          "text": [
            "\r 86%|████████▌ | 156/181 [13:30<02:08,  5.13s/it]"
          ]
        },
        {
          "name": "stdout",
          "output_type": "stream",
          "text": [
            "1/1 [==============================] - 4s 4s/step\n"
          ]
        },
        {
          "name": "stderr",
          "output_type": "stream",
          "text": [
            "\r 87%|████████▋ | 157/181 [13:36<02:05,  5.22s/it]"
          ]
        },
        {
          "name": "stdout",
          "output_type": "stream",
          "text": [
            "1/1 [==============================] - 3s 3s/step\n"
          ]
        },
        {
          "name": "stderr",
          "output_type": "stream",
          "text": [
            "\r 87%|████████▋ | 158/181 [13:39<01:48,  4.70s/it]"
          ]
        },
        {
          "name": "stdout",
          "output_type": "stream",
          "text": [
            "1/1 [==============================] - 4s 4s/step\n"
          ]
        },
        {
          "name": "stderr",
          "output_type": "stream",
          "text": [
            "\r 88%|████████▊ | 159/181 [13:44<01:41,  4.62s/it]"
          ]
        },
        {
          "name": "stdout",
          "output_type": "stream",
          "text": [
            "1/1 [==============================] - 4s 4s/step\n"
          ]
        },
        {
          "name": "stderr",
          "output_type": "stream",
          "text": [
            "\r 88%|████████▊ | 160/181 [13:49<01:41,  4.86s/it]"
          ]
        },
        {
          "name": "stdout",
          "output_type": "stream",
          "text": [
            "1/1 [==============================] - 3s 3s/step\n"
          ]
        },
        {
          "name": "stderr",
          "output_type": "stream",
          "text": [
            "\r 89%|████████▉ | 161/181 [13:55<01:40,  5.01s/it]"
          ]
        },
        {
          "name": "stdout",
          "output_type": "stream",
          "text": [
            "1/1 [==============================] - 4s 4s/step\n"
          ]
        },
        {
          "name": "stderr",
          "output_type": "stream",
          "text": [
            "\r 90%|████████▉ | 162/181 [14:00<01:37,  5.11s/it]"
          ]
        },
        {
          "name": "stdout",
          "output_type": "stream",
          "text": [
            "1/1 [==============================] - 3s 3s/step\n"
          ]
        },
        {
          "name": "stderr",
          "output_type": "stream",
          "text": [
            "\r 90%|█████████ | 163/181 [14:05<01:33,  5.19s/it]"
          ]
        },
        {
          "name": "stdout",
          "output_type": "stream",
          "text": [
            "1/1 [==============================] - 3s 3s/step\n"
          ]
        },
        {
          "name": "stderr",
          "output_type": "stream",
          "text": [
            "\r 91%|█████████ | 164/181 [14:09<01:19,  4.65s/it]"
          ]
        },
        {
          "name": "stdout",
          "output_type": "stream",
          "text": [
            "1/1 [==============================] - 4s 4s/step\n"
          ]
        },
        {
          "name": "stderr",
          "output_type": "stream",
          "text": [
            "\r 91%|█████████ | 165/181 [14:13<01:11,  4.48s/it]"
          ]
        },
        {
          "name": "stdout",
          "output_type": "stream",
          "text": [
            "1/1 [==============================] - 5s 5s/step\n"
          ]
        },
        {
          "name": "stderr",
          "output_type": "stream",
          "text": [
            "\r 92%|█████████▏| 166/181 [14:18<01:11,  4.75s/it]"
          ]
        },
        {
          "name": "stdout",
          "output_type": "stream",
          "text": [
            "1/1 [==============================] - 3s 3s/step\n"
          ]
        },
        {
          "name": "stderr",
          "output_type": "stream",
          "text": [
            "\r 92%|█████████▏| 167/181 [14:22<01:00,  4.32s/it]"
          ]
        },
        {
          "name": "stdout",
          "output_type": "stream",
          "text": [
            "1/1 [==============================] - 3s 3s/step\n"
          ]
        },
        {
          "name": "stderr",
          "output_type": "stream",
          "text": [
            "\r 93%|█████████▎| 168/181 [14:27<01:00,  4.62s/it]"
          ]
        },
        {
          "name": "stdout",
          "output_type": "stream",
          "text": [
            "1/1 [==============================] - 5s 5s/step\n"
          ]
        },
        {
          "name": "stderr",
          "output_type": "stream",
          "text": [
            "\r 93%|█████████▎| 169/181 [14:32<00:57,  4.77s/it]"
          ]
        },
        {
          "name": "stdout",
          "output_type": "stream",
          "text": [
            "1/1 [==============================] - 3s 3s/step\n"
          ]
        },
        {
          "name": "stderr",
          "output_type": "stream",
          "text": [
            "\r 94%|█████████▍| 170/181 [14:35<00:47,  4.35s/it]"
          ]
        },
        {
          "name": "stdout",
          "output_type": "stream",
          "text": [
            "1/1 [==============================] - 3s 3s/step\n"
          ]
        },
        {
          "name": "stderr",
          "output_type": "stream",
          "text": [
            "\r 94%|█████████▍| 171/181 [14:41<00:46,  4.65s/it]"
          ]
        },
        {
          "name": "stdout",
          "output_type": "stream",
          "text": [
            "1/1 [==============================] - 6s 6s/step\n"
          ]
        },
        {
          "name": "stderr",
          "output_type": "stream",
          "text": [
            "\r 95%|█████████▌| 172/181 [14:51<00:57,  6.40s/it]"
          ]
        },
        {
          "name": "stdout",
          "output_type": "stream",
          "text": [
            "1/1 [==============================] - 3s 3s/step\n"
          ]
        },
        {
          "name": "stderr",
          "output_type": "stream",
          "text": [
            "\r 96%|█████████▌| 173/181 [14:57<00:48,  6.10s/it]"
          ]
        },
        {
          "name": "stdout",
          "output_type": "stream",
          "text": [
            "1/1 [==============================] - 5s 5s/step\n"
          ]
        },
        {
          "name": "stderr",
          "output_type": "stream",
          "text": [
            "\r 96%|█████████▌| 174/181 [15:02<00:41,  5.87s/it]"
          ]
        },
        {
          "name": "stdout",
          "output_type": "stream",
          "text": [
            "1/1 [==============================] - 3s 3s/step\n"
          ]
        },
        {
          "name": "stderr",
          "output_type": "stream",
          "text": [
            "\r 97%|█████████▋| 175/181 [15:05<00:30,  5.10s/it]"
          ]
        },
        {
          "name": "stdout",
          "output_type": "stream",
          "text": [
            "1/1 [==============================] - 3s 3s/step\n"
          ]
        },
        {
          "name": "stderr",
          "output_type": "stream",
          "text": [
            "\r 97%|█████████▋| 176/181 [15:11<00:25,  5.17s/it]"
          ]
        },
        {
          "name": "stdout",
          "output_type": "stream",
          "text": [
            "1/1 [==============================] - 6s 6s/step\n"
          ]
        },
        {
          "name": "stderr",
          "output_type": "stream",
          "text": [
            "\r 98%|█████████▊| 177/181 [15:21<00:27,  6.76s/it]"
          ]
        },
        {
          "name": "stdout",
          "output_type": "stream",
          "text": [
            "1/1 [==============================] - 3s 3s/step\n"
          ]
        },
        {
          "name": "stderr",
          "output_type": "stream",
          "text": [
            "\r 98%|█████████▊| 178/181 [15:26<00:19,  6.34s/it]"
          ]
        },
        {
          "name": "stdout",
          "output_type": "stream",
          "text": [
            "1/1 [==============================] - 2s 2s/step\n"
          ]
        },
        {
          "name": "stderr",
          "output_type": "stream",
          "text": [
            "\r 99%|█████████▉| 179/181 [15:29<00:10,  5.20s/it]"
          ]
        },
        {
          "name": "stdout",
          "output_type": "stream",
          "text": [
            "1/1 [==============================] - 4s 4s/step\n"
          ]
        },
        {
          "name": "stderr",
          "output_type": "stream",
          "text": [
            "\r 99%|█████████▉| 180/181 [15:34<00:05,  5.25s/it]"
          ]
        },
        {
          "name": "stdout",
          "output_type": "stream",
          "text": [
            "1/1 [==============================] - 4s 4s/step\n"
          ]
        },
        {
          "name": "stderr",
          "output_type": "stream",
          "text": [
            "\r100%|██████████| 181/181 [15:40<00:00,  5.26s/it]"
          ]
        },
        {
          "name": "stdout",
          "output_type": "stream",
          "text": [
            "1/1 [==============================] - 5s 5s/step\n"
          ]
        },
        {
          "name": "stderr",
          "output_type": "stream",
          "text": [
            "\r182it [15:45,  5.29s/it]                         "
          ]
        },
        {
          "name": "stdout",
          "output_type": "stream",
          "text": [
            "1/1 [==============================] - 4s 4s/step\n"
          ]
        },
        {
          "name": "stderr",
          "output_type": "stream",
          "text": [
            "\r182it [15:50,  5.22s/it]"
          ]
        },
        {
          "name": "stdout",
          "output_type": "stream",
          "text": [
            "Precision: 0.96198833\n",
            "Recall: 0.74603176\n",
            "Binary Accuracy: 0.9785665\n",
            "True Positives: 329.0\n",
            "True Negatives: 5378.0\n",
            "False Positives: 13.0\n",
            "False Negatives: 112.0\n"
          ]
        },
        {
          "name": "stderr",
          "output_type": "stream",
          "text": [
            "\n"
          ]
        }
      ],
      "source": [
        "from tensorflow.keras.metrics import Precision, Recall, BinaryAccuracy, TruePositives, TrueNegatives, FalsePositives, FalseNegatives\n",
        "from tqdm import tqdm\n",
        "\n",
        "from tensorflow.keras.metrics import Precision, Recall, BinaryAccuracy, TruePositives, TrueNegatives, FalsePositives, FalseNegatives\n",
        "from tqdm import tqdm\n",
        "\n",
        "model = tf.keras.models.load_model('/content/content/ModelTest')\n",
        "\n",
        "pre = Precision()\n",
        "re = Recall()\n",
        "acc = BinaryAccuracy()\n",
        "tp = TruePositives()\n",
        "tn = TrueNegatives()\n",
        "fp = FalsePositives()\n",
        "fn = FalseNegatives()\n",
        "\n",
        "for i, batch in tqdm(enumerate(test_generator), total=len(test_generator)):\n",
        "    X, y = batch\n",
        "    yhat = model.predict(X)\n",
        "    pre.update_state(y, yhat)\n",
        "    re.update_state(y, yhat)\n",
        "    acc.update_state(y, yhat)\n",
        "    tp.update_state(y, yhat)\n",
        "    tn.update_state(y, yhat)\n",
        "    fp.update_state(y, yhat)\n",
        "    fn.update_state(y, yhat)\n",
        "    if(i>len(test_generator)):\n",
        "     break\n",
        "\n",
        "print(\"Precision:\", pre.result().numpy())\n",
        "print(\"Recall:\", re.result().numpy())\n",
        "print(\"Binary Accuracy:\", acc.result().numpy())\n",
        "print(\"True Positives:\", tp.result().numpy())\n",
        "print(\"True Negatives:\", tn.result().numpy())\n",
        "print(\"False Positives:\", fp.result().numpy())\n",
        "print(\"False Negatives:\", fn.result().numpy())\n"
      ]
    },
    {
      "cell_type": "code",
      "execution_count": null,
      "metadata": {
        "colab": {
          "base_uri": "https://localhost:8080/"
        },
        "id": "eIC719oDzhl0",
        "outputId": "3b9db345-2920-411a-fbd2-032b2f8b5936"
      },
      "outputs": [
        {
          "name": "stdout",
          "output_type": "stream",
          "text": [
            "Archive:  /content/drive/MyDrive/Licenta/ModelTest.zip\n",
            "   creating: /content/content/ModelTest/assets/\n",
            " extracting: /content/content/ModelTest/fingerprint.pb  \n",
            "  inflating: /content/content/ModelTest/keras_metadata.pb  \n",
            "  inflating: /content/content/ModelTest/saved_model.pb  \n",
            "   creating: /content/content/ModelTest/variables/\n",
            "  inflating: /content/content/ModelTest/variables/variables.data-00000-of-00001  \n",
            "  inflating: /content/content/ModelTest/variables/variables.index  \n"
          ]
        }
      ],
      "source": [
        "!unzip /content/drive/MyDrive/Licenta/ModelTest.zip -d /content/content"
      ]
    },
    {
      "cell_type": "code",
      "execution_count": null,
      "metadata": {
        "id": "-k_hxD6CzhfE"
      },
      "outputs": [],
      "source": []
    },
    {
      "cell_type": "code",
      "execution_count": null,
      "metadata": {
        "id": "mwGKuLfMzhct"
      },
      "outputs": [],
      "source": []
    }
  ],
  "metadata": {
    "accelerator": "GPU",
    "colab": {
      "provenance": []
    },
    "kernelspec": {
      "display_name": "Python 3",
      "name": "python3"
    },
    "language_info": {
      "name": "python"
    }
  },
  "nbformat": 4,
  "nbformat_minor": 0
}
